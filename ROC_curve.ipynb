{
  "nbformat": 4,
  "nbformat_minor": 0,
  "metadata": {
    "colab": {
      "name": "ROC_curve.ipynb",
      "provenance": [],
      "collapsed_sections": []
    },
    "kernelspec": {
      "name": "python3",
      "display_name": "Python 3"
    },
    "language_info": {
      "name": "python"
    }
  },
  "cells": [
    {
      "cell_type": "code",
      "metadata": {
        "id": "yaBXVvBEETbi"
      },
      "source": [
        "# 필요한 라이브러리 로딩\n",
        "import pandas as pd\n",
        "import numpy as np\n",
        "\n",
        "from sklearn.preprocessing import StandardScaler\n",
        "from sklearn.model_selection import train_test_split\n",
        "from sklearn.linear_model import LogisticRegression\n",
        "\n",
        "# URL 통해서 캐글의 자전거 대여 수요 데이터셋 다운로드\n",
        "url = 'https://codepresso-online-platform-public.s3.ap-northeast-2.amazonaws.com/learning-resourse/python-machine-learning-20210326/bike-demand.csv'\n",
        "df_bike = pd.read_csv(url)"
      ],
      "execution_count": 24,
      "outputs": []
    },
    {
      "cell_type": "code",
      "metadata": {
        "id": "Wsq2b1XvEUVm"
      },
      "source": [
        "# 독립변수 데이터 생성\n",
        "# temp, atemp, humidity, windspeed\t컬럼 데이터만 저장\n",
        "X_df_bike = df_bike.iloc[:, 5:9]\n",
        "# print(X_df_bike.head(5))\n",
        "\n",
        "# 종속변수 데이터를 위한 파생변수 생성\n",
        "# 총 대여건수(count) 가 500 이상인 경우 1, 미만인 경우 0\n",
        "df_bike['y'] = 1\n",
        "df_bike.loc[df_bike['count'] < 500, 'y'] = 0\n",
        "y = df_bike['y'] \n"
      ],
      "execution_count": 25,
      "outputs": []
    },
    {
      "cell_type": "code",
      "metadata": {
        "id": "FW1ZEtJpEUYG"
      },
      "source": [
        "# StandardScaler 이용한 스케일링\n",
        "scaler = StandardScaler()\n",
        "scaler.fit(X_df_bike)\n",
        "result = scaler.transform(X_df_bike)\n",
        "\n",
        "# 스케일된 결과 데이터를 DataFrame 으로 저장\n",
        "X_scaled_bike = pd.DataFrame(data=result, \n",
        "                             columns=X_df_bike.columns)\n"
      ],
      "execution_count": 26,
      "outputs": []
    },
    {
      "cell_type": "code",
      "metadata": {
        "id": "FSS7FoKqEUa4"
      },
      "source": [
        "# 데이터셋 분리\n",
        "x_train, x_test, y_train, y_test = train_test_split(X_scaled_bike, \n",
        "                                                    y, \n",
        "                                                    test_size=0.3, \n",
        "                                                    random_state=12)"
      ],
      "execution_count": 27,
      "outputs": []
    },
    {
      "cell_type": "code",
      "metadata": {
        "colab": {
          "base_uri": "https://localhost:8080/"
        },
        "id": "QoN8yIdEEbhZ",
        "outputId": "d78c95af-8720-4a25-cf34-02fa406f80d9"
      },
      "source": [
        "# LogisticRegression 모델 객체 생성\n",
        "clf = LogisticRegression()\n",
        "\n",
        "# 훈련 데이터를 통한 학습\n",
        "clf.fit(x_train, y_train)"
      ],
      "execution_count": 28,
      "outputs": [
        {
          "output_type": "execute_result",
          "data": {
            "text/plain": [
              "LogisticRegression(C=1.0, class_weight=None, dual=False, fit_intercept=True,\n",
              "                   intercept_scaling=1, l1_ratio=None, max_iter=100,\n",
              "                   multi_class='auto', n_jobs=None, penalty='l2',\n",
              "                   random_state=None, solver='lbfgs', tol=0.0001, verbose=0,\n",
              "                   warm_start=False)"
            ]
          },
          "metadata": {},
          "execution_count": 28
        }
      ]
    },
    {
      "cell_type": "code",
      "metadata": {
        "id": "1KKtOWX_Ec4m"
      },
      "source": [
        "# roc_curve() 메소드 로딩\n",
        "from sklearn.metrics import roc_curve"
      ],
      "execution_count": 29,
      "outputs": []
    },
    {
      "cell_type": "code",
      "metadata": {
        "colab": {
          "base_uri": "https://localhost:8080/"
        },
        "id": "L5TR3NgxEecz",
        "outputId": "797ef41f-fe23-464f-b6df-807ec8b8d9f4"
      },
      "source": [
        "# 학습된 모델에서 클래스 별 확률 예측값 생성\n",
        "predict_prob = clf.predict_proba(x_test)\n",
        "print('Predicted class probability(1st Data)', np.round(predict_prob[0], 3))\n",
        "print('Target data index(1st Data)', y_test.values[0])"
      ],
      "execution_count": 30,
      "outputs": [
        {
          "output_type": "stream",
          "name": "stdout",
          "text": [
            "Predicted class probability(1st Data) [0.887 0.113]\n",
            "Target data index(1st Data) 0\n"
          ]
        }
      ]
    },
    {
      "cell_type": "code",
      "metadata": {
        "colab": {
          "base_uri": "https://localhost:8080/"
        },
        "id": "U-bfvmXaEegl",
        "outputId": "7c318a52-5f89-464e-e8ff-0125a6041fe6"
      },
      "source": [
        "# roc_curve 메소드를 통한 FPR, TPR 계산 값과 이를 위한 Threshold 값 생성\n",
        "fprs , tprs , thresholds = roc_curve(y_test,predict_prob[:,1])\n",
        "\n",
        "# FPR, TPR 계산 값 Threshold 값을 10건 만 샘플링\n",
        "thr_index = np.arange(0, thresholds.shape[0], 110)\n",
        "print(thresholds.shape)\n",
        "print('Sample Threshold Index(n=10):', thr_index)\n",
        "print('Sample Threshold Value(n=10): ', np.round(thresholds[thr_index], 2))\n",
        "print('Sample Threshold FPR(n=10): ', np.round(fprs[thr_index], 3))\n",
        "print('Sample Threshold TPR(n=10): ', np.round(tprs[thr_index], 3))"
      ],
      "execution_count": 31,
      "outputs": [
        {
          "output_type": "stream",
          "name": "stdout",
          "text": [
            "(1178,)\n",
            "Sample Threshold Index(n=10): [   0  110  220  330  440  550  660  770  880  990 1100]\n",
            "Sample Threshold Value(n=10):  [1.48 0.18 0.14 0.1  0.08 0.06 0.05 0.04 0.03 0.02 0.02]\n",
            "Sample Threshold FPR(n=10):  [0.    0.056 0.114 0.192 0.281 0.387 0.487 0.593 0.699 0.802 0.922]\n",
            "Sample Threshold TPR(n=10):  [0.    0.258 0.48  0.625 0.702 0.786 0.847 0.887 0.944 0.984 0.992]\n"
          ]
        }
      ]
    },
    {
      "cell_type": "code",
      "metadata": {
        "colab": {
          "base_uri": "https://localhost:8080/",
          "height": 302
        },
        "id": "sSIoRhXAEQZK",
        "outputId": "a497f9da-3172-4e58-faf5-8ec4e2675eaa"
      },
      "source": [
        "# ROC Curve를 그리기 위한 함수\n",
        "def roc_curve_plot(y_test , pred_proba_c1):\n",
        "    import matplotlib.pyplot as plt\n",
        "    fprs , tprs , thresholds = roc_curve(y_test ,pred_proba_c1)\n",
        "\n",
        "    plt.plot(fprs , tprs, label='ROC')\n",
        "    plt.plot([0, 1], [0, 1], 'b--', label='Random')\n",
        "    \n",
        "    start, end = plt.xlim()\n",
        "    plt.xticks(np.round(np.arange(start, end, 0.1),2))\n",
        "    plt.xlim(0,1); plt.ylim(0,1)\n",
        "    plt.xlabel('FPR'); plt.ylabel('TPR( Recall )')\n",
        "    plt.legend()\n",
        "    plt.show()\n",
        "\n",
        " # roc_curve_plot 함수를 이용하여 ROC Curve 생성\n",
        "roc_curve_plot(y_test,clf.predict_proba(x_test)[:,1])\n",
        "\n",
        "# roc_auc_score() 메소드 로딩\n",
        "from sklearn.metrics import roc_auc_score\n",
        "\n",
        "# roc_auc_score() 메소드를 통한 AUC 측정\n",
        "roc_score = roc_auc_score(y_test.values,predict_prob[:,1])\n",
        "print('Testing Data AUC: {:0.3f}'.format(roc_score))"
      ],
      "execution_count": 32,
      "outputs": [
        {
          "output_type": "display_data",
          "data": {
            "image/png": "[encoded data removed]",
            "text/plain": [
              "<Figure size 432x288 with 1 Axes>"
            ]
          },
          "metadata": {
            "needs_background": "light"
          }
        },
        {
          "output_type": "stream",
          "name": "stdout",
          "text": [
            "Testing Data AUC: 0.777\n"
          ]
        }
      ]
    }
  ]
}