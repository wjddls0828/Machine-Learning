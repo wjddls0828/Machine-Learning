{
  "nbformat": 4,
  "nbformat_minor": 0,
  "metadata": {
    "colab": {
      "name": "LinearRegression_boston.ipynb",
      "provenance": [],
      "collapsed_sections": []
    },
    "kernelspec": {
      "name": "python3",
      "display_name": "Python 3"
    },
    "language_info": {
      "name": "python"
    }
  },
  "cells": [
    {
      "cell_type": "code",
      "metadata": {
        "id": "TAQRS9dVKsCH"
      },
      "source": [
        "# 필요한 라이브러리 로딩\n",
        "import numpy as np\n",
        "import pandas as pd\n",
        "\n",
        "from sklearn.datasets import load_boston\n",
        "from sklearn.model_selection import train_test_split\n",
        "from sklearn.linear_model import LinearRegression\n",
        "\n",
        "# 모델 성능 평가를 위한 metrics 모듈 로딩\n",
        "from sklearn import metrics\n",
        "\n",
        "# 데이터셋 로딩\n",
        "boston = load_boston()\n",
        "\n",
        "# 데이터셋 분할\n",
        "# random_state 값은 강의와 동일하게 지정하세요.\n",
        "x_train, x_test, y_train, y_test = train_test_split(boston.data, boston.target,test_size=0.3,random_state=12)"
      ],
      "execution_count": 1,
      "outputs": []
    },
    {
      "cell_type": "code",
      "metadata": {
        "id": "8LJEheA0K3Lo"
      },
      "source": [
        "# LinearRegression 객체 생성\n",
        "regression = LinearRegression()\n",
        "\n",
        "# 학습데이터 연결 및 학습 수행\n",
        "regression.fit(x_train,y_train)\n",
        "\n",
        "# 모델 예측\n",
        "y_pred = regression.predict(x_test)"
      ],
      "execution_count": 2,
      "outputs": []
    },
    {
      "cell_type": "code",
      "metadata": {
        "colab": {
          "base_uri": "https://localhost:8080/"
        },
        "id": "kVIBfRHzK552",
        "outputId": "f5ba4691-48a6-4b58-fd00-d4cf683abff8"
      },
      "source": [
        "# 회귀 계수 출력\n",
        "weight = np.round_(regression.coef_,1)\n",
        "bias = np.round_(regression.intercept_,2)\n",
        "print('Weight:', weight)\n",
        "print('Bias:', bias)\n"
      ],
      "execution_count": 3,
      "outputs": [
        {
          "output_type": "stream",
          "name": "stdout",
          "text": [
            "Weight: [ -0.1   0.1   0.1   3.3 -17.2   3.6   0.   -1.4   0.3  -0.   -0.8   0.\n",
            "  -0.6]\n",
            "Bias: 33.18\n"
          ]
        }
      ]
    },
    {
      "cell_type": "code",
      "metadata": {
        "id": "LWAa9mJELAig"
      },
      "source": [
        "# 컬럼별 회귀계수 출력\n",
        "coef_table = pd.Series(data=weight,\n",
        "                        index=boston.feature_names)"
      ],
      "execution_count": 5,
      "outputs": []
    },
    {
      "cell_type": "code",
      "metadata": {
        "colab": {
          "base_uri": "https://localhost:8080/"
        },
        "id": "o7J7daUXLCwZ",
        "outputId": "7b939846-b0be-4226-9f93-3ca35bfdd9da"
      },
      "source": [
        "print('Regression Coefficients :')\n",
        "print(coef_table.sort_values(ascending=False))"
      ],
      "execution_count": 6,
      "outputs": [
        {
          "output_type": "stream",
          "name": "stdout",
          "text": [
            "Regression Coefficients :\n",
            "RM          3.6\n",
            "CHAS        3.3\n",
            "RAD         0.3\n",
            "INDUS       0.1\n",
            "ZN          0.1\n",
            "B           0.0\n",
            "TAX        -0.0\n",
            "AGE         0.0\n",
            "CRIM       -0.1\n",
            "LSTAT      -0.6\n",
            "PTRATIO    -0.8\n",
            "DIS        -1.4\n",
            "NOX       -17.2\n",
            "dtype: float64\n"
          ]
        }
      ]
    },
    {
      "cell_type": "code",
      "metadata": {
        "colab": {
          "base_uri": "https://localhost:8080/"
        },
        "id": "7txfN62kLJbR",
        "outputId": "d801fe11-1bce-457a-950a-af745d6c235e"
      },
      "source": [
        "# 회귀 분석 모델을 위한 평가 지표 계산\n",
        "mse = metrics.mean_squared_error(y_test,y_pred)\n",
        "mae = metrics.mean_absolute_error(y_test,y_pred)\n",
        "rmse = np.sqrt(metrics.mean_squared_error(y_test,y_pred))\n",
        "#mape = metrics.mean_absolute_percentage_error(y_test,y_pred)\n",
        "\n",
        "print('MSE  : {0:.3f}'.format(mse))\n",
        "print('MAE  : {0:.3f}'.format(mae))\n",
        "print('RMSE : {0:.3f}'.format(rmse))\n",
        "#print('MAPE : {0:.3f}'.format(mape))\n"
      ],
      "execution_count": 14,
      "outputs": [
        {
          "output_type": "stream",
          "name": "stdout",
          "text": [
            "MSE  : 25.549\n",
            "MAE  : 3.606\n",
            "RMSE : 5.055\n"
          ]
        }
      ]
    },
    {
      "cell_type": "code",
      "metadata": {
        "colab": {
          "base_uri": "https://localhost:8080/"
        },
        "id": "ynuHLbjIJaKS",
        "outputId": "bc65a96c-7536-4201-c5c0-9cca30b84734"
      },
      "source": [
        "# R-squared 를 통한 모델의 설명력 평가\n",
        "r2_score = regression.score(x_test,y_test)\n",
        "r2_metric = metrics.r2_score(y_test,y_pred)\n",
        "\n",
        "print('\\nR-squared(r2_score) : {0:.3f}'.format(r2_score))\n",
        "print('R-squared(r2_metric) : {0:.3f}'.format(r2_metric))"
      ],
      "execution_count": 9,
      "outputs": [
        {
          "output_type": "stream",
          "name": "stdout",
          "text": [
            "\n",
            "R-squared(r2_score) : 0.709\n",
            "R-squared(r2_metric) : 0.709\n"
          ]
        }
      ]
    }
  ]
}