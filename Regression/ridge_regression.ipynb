{
  "nbformat": 4,
  "nbformat_minor": 0,
  "metadata": {
    "colab": {
      "name": "ridge_regression.ipynb",
      "provenance": [],
      "collapsed_sections": []
    },
    "kernelspec": {
      "name": "python3",
      "display_name": "Python 3"
    },
    "language_info": {
      "name": "python"
    }
  },
  "cells": [
    {
      "cell_type": "code",
      "metadata": {
        "id": "-3V87ZxF8R3z"
      },
      "source": [
        "# 필요한 라이브러리 로딩\n",
        "import pandas as pd\n",
        "import numpy as np\n",
        "import matplotlib.pyplot as plt\n",
        "\n",
        "from sklearn.datasets import load_boston\n",
        "from sklearn.model_selection import train_test_split\n",
        "# 릿지 회귀 모델 적용을 위해 Ridge 로딩\n",
        "from sklearn.linear_model import Ridge"
      ],
      "execution_count": 1,
      "outputs": []
    },
    {
      "cell_type": "code",
      "metadata": {
        "id": "pw7utZO48Scl"
      },
      "source": [
        "# 데이터셋 로딩\n",
        "boston =load_boston()\n",
        "\n",
        "# 데이터셋 분할\n",
        "# random_state 값은 강의와 동일하게 지정하세요.\n",
        "x_train, x_test, y_train, y_test = train_test_split(boston.data,boston.target,test_size=0.3,random_state=12)"
      ],
      "execution_count": 2,
      "outputs": []
    },
    {
      "cell_type": "code",
      "metadata": {
        "id": "h8bfuNle8SfR"
      },
      "source": [
        "# 규제를 위한 alpha 값 초기화\n",
        "alpha = 0.1\n",
        "\n",
        "# Rigde 클래스 객체 생성\n",
        "ridge = Ridge(alpha=alpha)\n",
        "\n",
        "# 규제 학습 수행\n",
        "ridge.fit(x_train,y_train)\n",
        "\n",
        "# 모델을 통한 예측\n",
        "ridge_pred = ridge.predict(x_test)"
      ],
      "execution_count": 3,
      "outputs": []
    },
    {
      "cell_type": "code",
      "metadata": {
        "colab": {
          "base_uri": "https://localhost:8080/",
          "height": 0
        },
        "id": "vpByS9aQ8gnY",
        "outputId": "fdcf57c8-d344-4322-c127-22f35f525b36"
      },
      "source": [
        "# 학습된 모델에 대한 R^2 계산\n",
        "r2_train = ridge.score(x_train,y_train)\n",
        "r2_test = ridge.score(x_test,y_test)\n",
        "print('Training-datasset R2 : {0:.3f}'.format(r2_train))\n",
        "print('Test-datasset R2 : {0:.3f}'.format(r2_test))"
      ],
      "execution_count": 4,
      "outputs": [
        {
          "output_type": "stream",
          "name": "stdout",
          "text": [
            "Training-datasset R2 : 0.748\n",
            "Test-datasset R2 : 0.708\n"
          ]
        }
      ]
    },
    {
      "cell_type": "code",
      "metadata": {
        "colab": {
          "base_uri": "https://localhost:8080/",
          "height": 0
        },
        "id": "r6RRT7R_8I1h",
        "outputId": "c9e5e716-6a91-4003-b354-e74dc1330527"
      },
      "source": [
        "# 컬럼별 회귀계수 저장한 Series 객체 생성 및 출력              \n",
        "ridge_coef_table = pd.Series(data=np.round(ridge.coef_,1),index=boston.feature_names)\n",
        "print('Ridge Regression Coefficients :')\n",
        "print(ridge_coef_table.sort_values(ascending=False))"
      ],
      "execution_count": 5,
      "outputs": [
        {
          "output_type": "stream",
          "name": "stdout",
          "text": [
            "Ridge Regression Coefficients :\n",
            "RM          3.6\n",
            "CHAS        3.3\n",
            "RAD         0.3\n",
            "INDUS       0.1\n",
            "ZN          0.1\n",
            "B           0.0\n",
            "TAX        -0.0\n",
            "AGE         0.0\n",
            "CRIM       -0.1\n",
            "LSTAT      -0.6\n",
            "PTRATIO    -0.8\n",
            "DIS        -1.3\n",
            "NOX       -15.7\n",
            "dtype: float64\n"
          ]
        }
      ]
    },
    {
      "cell_type": "code",
      "metadata": {
        "colab": {
          "base_uri": "https://localhost:8080/",
          "height": 351
        },
        "id": "Vgx0_icV8kXY",
        "outputId": "d27c17e1-2bf9-4eba-fb6b-8f52c4567d62"
      },
      "source": [
        "# 막대그래프 시각화 \n",
        "plt.figure(figsize=(10,5))\n",
        "ridge_coef_table.plot(kind='bar')\n",
        "plt.ylim(-12,5)\n",
        "plt.show()"
      ],
      "execution_count": 6,
      "outputs": [
        {
          "output_type": "display_data",
          "data": {
            "image/png": "[encoded data removed]",
            "text/plain": [
              "<Figure size 720x360 with 1 Axes>"
            ]
          },
          "metadata": {
            "needs_background": "light"
          }
        }
      ]
    },
    {
      "cell_type": "code",
      "metadata": {
        "id": "KSdd0e8M862o"
      },
      "source": [
        ""
      ],
      "execution_count": null,
      "outputs": []
    }
  ]
}