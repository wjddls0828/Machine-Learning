{
  "nbformat": 4,
  "nbformat_minor": 0,
  "metadata": {
    "colab": {
      "name": "lasso_regression.ipynb",
      "provenance": [],
      "collapsed_sections": []
    },
    "kernelspec": {
      "name": "python3",
      "display_name": "Python 3"
    },
    "language_info": {
      "name": "python"
    }
  },
  "cells": [
    {
      "cell_type": "code",
      "metadata": {
        "id": "rjggNLxk9MOl"
      },
      "source": [
        "# 필요한 라이브러리 로딩\n",
        "import pandas as pd\n",
        "import numpy as np\n",
        "import matplotlib.pyplot as plt\n",
        "\n",
        "from sklearn.datasets import load_boston\n",
        "from sklearn.model_selection import train_test_split\n",
        "# sklearn.linear_model 모듈의 Lasso 클래스 로딩\n",
        "from sklearn.linear_model import Lasso\n",
        "\n",
        "# 데이터셋 로딩\n",
        "boston = load_boston()\n",
        "\n",
        "# 데이터셋 분할\n",
        "# test_size=0.3, random_state=12 로 지정하세요.\n",
        "x_train, x_test, y_train, y_test = train_test_split(boston.data, boston.target, test_size=0.3, random_state=12)"
      ],
      "execution_count": 1,
      "outputs": []
    },
    {
      "cell_type": "code",
      "metadata": {
        "id": "S3Bfd3JB9WGM"
      },
      "source": [
        "# 규제를 위한 alpha 값 초기화\n",
        "alpha = 0.1\n",
        "\n",
        "# Lasso 클래스 객체 생성\n",
        "lasso = Lasso(alpha=alpha)\n",
        "\n",
        "# fit() 을 통한 규제 학습 수행\n",
        "lasso.fit(x_train, y_train)\n",
        "\n",
        "# predict() 를 통한 학습된 모델 기반 예측\n",
        "lasso_pred = lasso.predict(x_test)"
      ],
      "execution_count": 2,
      "outputs": []
    },
    {
      "cell_type": "code",
      "metadata": {
        "colab": {
          "base_uri": "https://localhost:8080/"
        },
        "id": "tGllQtmX9Wrq",
        "outputId": "1f1cd48f-4782-46c1-e251-447c3d20abff"
      },
      "source": [
        "# score() 를 통해 회귀 모델의 R^2 출력\n",
        "# 학습된 모델에 대한 R^2 계산\n",
        "r2_train = lasso.score(x_train, y_train)\n",
        "r2_test = lasso.score(x_test, y_test)\n",
        "print('Training-datasset R2 : {0:.3f}'.format(r2_train))\n",
        "print('Test-datasset R2 : {0:.3f}'.format(r2_test))"
      ],
      "execution_count": 3,
      "outputs": [
        {
          "output_type": "stream",
          "name": "stdout",
          "text": [
            "Training-datasset R2 : 0.736\n",
            "Test-datasset R2 : 0.693\n"
          ]
        }
      ]
    },
    {
      "cell_type": "code",
      "metadata": {
        "colab": {
          "base_uri": "https://localhost:8080/"
        },
        "id": "0jW91Arm9bP-",
        "outputId": "7cb2bb54-f53e-4956-e364-ddf8193b7a6e"
      },
      "source": [
        "# 회귀 계수 저장을 위한 Seriess 객체 생성 및 출력\n",
        "lasso_coef_table = pd.Series(data=np.round(lasso.coef_,1), index=boston.feature_names)\n",
        "print('Lasso Regression Coefficients :')\n",
        "print(lasso_coef_table.sort_values(ascending=False))"
      ],
      "execution_count": 4,
      "outputs": [
        {
          "output_type": "stream",
          "name": "stdout",
          "text": [
            "Lasso Regression Coefficients :\n",
            "RM         3.4\n",
            "CHAS       1.8\n",
            "RAD        0.3\n",
            "ZN         0.1\n",
            "B          0.0\n",
            "TAX       -0.0\n",
            "AGE        0.0\n",
            "NOX       -0.0\n",
            "INDUS      0.0\n",
            "CRIM      -0.1\n",
            "PTRATIO   -0.6\n",
            "LSTAT     -0.7\n",
            "DIS       -1.1\n",
            "dtype: float64\n"
          ]
        }
      ]
    },
    {
      "cell_type": "code",
      "metadata": {
        "colab": {
          "base_uri": "https://localhost:8080/",
          "height": 355
        },
        "id": "K5FzyN709Dsb",
        "outputId": "2d18a2e3-388f-40c3-cf97-5bc1f425d6da"
      },
      "source": [
        "# 막대그래프 시각화 \n",
        "plt.figure(figsize=(10,5))\n",
        "lasso_coef_table.plot(kind='bar')\n",
        "plt.ylim(-10, 4)\n",
        "plt.show()"
      ],
      "execution_count": 5,
      "outputs": [
        {
          "output_type": "display_data",
          "data": {
            "image/png": "[encoded data removed]",
            "text/plain": [
              "<Figure size 720x360 with 1 Axes>"
            ]
          },
          "metadata": {
            "needs_background": "light"
          }
        }
      ]
    }
  ]
}