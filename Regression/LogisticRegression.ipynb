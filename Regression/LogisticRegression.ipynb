{
  "nbformat": 4,
  "nbformat_minor": 0,
  "metadata": {
    "colab": {
      "name": "LogisticRegression.ipynb",
      "provenance": [],
      "collapsed_sections": []
    },
    "kernelspec": {
      "name": "python3",
      "display_name": "Python 3"
    },
    "language_info": {
      "name": "python"
    }
  },
  "cells": [
    {
      "cell_type": "code",
      "metadata": {
        "id": "Kc7EfwVj9x2n"
      },
      "source": [
        "# 필요한 라이브러리 로딩\n",
        "import pandas as pd\n",
        "import numpy as np\n",
        "\n",
        "# StandardScaler, train_test_split, LogisticRegression 로딩\n",
        "from sklearn.preprocessing import StandardScaler\n",
        "from sklearn.model_selection import train_test_split\n",
        "from sklearn.linear_model import LogisticRegression\n",
        "\n",
        "# 분류 모델을 위한 성능 지표 함수 로딩\n",
        "from sklearn.metrics import confusion_matrix\n",
        "from sklearn.metrics import accuracy_score\n",
        "from sklearn.metrics import precision_score\n",
        "from sklearn.metrics import recall_score"
      ],
      "execution_count": 1,
      "outputs": []
    },
    {
      "cell_type": "code",
      "metadata": {
        "id": "g6clMsFc9ylw"
      },
      "source": [
        "# URL 통해서 캐글의 자전거 대여 수요 데이터셋 다운로드\n",
        "url = 'https://codepresso-online-platform-public.s3.ap-northeast-2.amazonaws.com/learning-resourse/python-machine-learning-20210326/bike-demand.csv'\n",
        "df_bike = pd.read_csv(url)"
      ],
      "execution_count": 2,
      "outputs": []
    },
    {
      "cell_type": "code",
      "metadata": {
        "colab": {
          "base_uri": "https://localhost:8080/"
        },
        "id": "WT6gPDOW9yoy",
        "outputId": "248822e4-0650-465e-efbb-14724367e8a0"
      },
      "source": [
        "print(df_bike)\n",
        "print(type(df_bike))"
      ],
      "execution_count": 3,
      "outputs": [
        {
          "output_type": "stream",
          "name": "stdout",
          "text": [
            "                  datetime  season  holiday  ...  casual  registered  count\n",
            "0      2011-01-01 00:00:00       1        0  ...       3          13     16\n",
            "1      2011-01-01 01:00:00       1        0  ...       8          32     40\n",
            "2      2011-01-01 02:00:00       1        0  ...       5          27     32\n",
            "3      2011-01-01 03:00:00       1        0  ...       3          10     13\n",
            "4      2011-01-01 04:00:00       1        0  ...       0           1      1\n",
            "...                    ...     ...      ...  ...     ...         ...    ...\n",
            "10881  2012-12-19 19:00:00       4        0  ...       7         329    336\n",
            "10882  2012-12-19 20:00:00       4        0  ...      10         231    241\n",
            "10883  2012-12-19 21:00:00       4        0  ...       4         164    168\n",
            "10884  2012-12-19 22:00:00       4        0  ...      12         117    129\n",
            "10885  2012-12-19 23:00:00       4        0  ...       4          84     88\n",
            "\n",
            "[10886 rows x 12 columns]\n",
            "<class 'pandas.core.frame.DataFrame'>\n"
          ]
        }
      ]
    },
    {
      "cell_type": "code",
      "metadata": {
        "colab": {
          "base_uri": "https://localhost:8080/"
        },
        "id": "1LO5zz8A-A1F",
        "outputId": "d99b16a4-e57d-4338-b2c1-68d749fd5bbf"
      },
      "source": [
        "# 독립변수 데이터 생성\n",
        "# temp, atemp, humidity, windspeed\t컬럼 데이터만 저장\n",
        "X_df_bike = df_bike.iloc[:, 5:9]\n",
        "print(X_df_bike.head(5))"
      ],
      "execution_count": 4,
      "outputs": [
        {
          "output_type": "stream",
          "name": "stdout",
          "text": [
            "   temp   atemp  humidity  windspeed\n",
            "0  9.84  14.395        81        0.0\n",
            "1  9.02  13.635        80        0.0\n",
            "2  9.02  13.635        80        0.0\n",
            "3  9.84  14.395        75        0.0\n",
            "4  9.84  14.395        75        0.0\n"
          ]
        }
      ]
    },
    {
      "cell_type": "code",
      "metadata": {
        "id": "n8vV4lmY-A5a"
      },
      "source": [
        "# 종속변수 데이터를 위한 파생변수 생성\n",
        "# 총 대여건수(count) 가 500 이상인 경우 1, 미만인 경우 0\n",
        "df_bike['y'] = 1\n",
        "df_bike.loc[df_bike['count'] < 500, 'y'] = 0\n",
        "y = df_bike['y'] "
      ],
      "execution_count": 5,
      "outputs": []
    },
    {
      "cell_type": "code",
      "metadata": {
        "id": "jKwYa-uW-A8p"
      },
      "source": [
        "# StandardScaler 이용한 스케일링\n",
        "scaler = StandardScaler()\n",
        "scaler.fit(X_df_bike)\n",
        "result=scaler.transform(X_df_bike)"
      ],
      "execution_count": 6,
      "outputs": []
    },
    {
      "cell_type": "code",
      "metadata": {
        "colab": {
          "base_uri": "https://localhost:8080/"
        },
        "id": "uigAoCKW-S4x",
        "outputId": "c9150b50-d91b-411c-efb0-b846d620eda0"
      },
      "source": [
        "result"
      ],
      "execution_count": 7,
      "outputs": [
        {
          "output_type": "execute_result",
          "data": {
            "text/plain": [
              "array([[-1.33366069, -1.09273697,  0.99321305, -1.56775367],\n",
              "       [-1.43890721, -1.18242083,  0.94124921, -1.56775367],\n",
              "       [-1.43890721, -1.18242083,  0.94124921, -1.56775367],\n",
              "       ...,\n",
              "       [-0.80742813, -0.91395927, -0.04606385,  0.26970368],\n",
              "       [-0.80742813, -0.73518157, -0.04606385, -0.83244247],\n",
              "       [-0.91267464, -0.82486544,  0.21375537, -0.46560752]])"
            ]
          },
          "metadata": {},
          "execution_count": 7
        }
      ]
    },
    {
      "cell_type": "code",
      "metadata": {
        "id": "4OP9KXk--VF1"
      },
      "source": [
        "# 스케일된 결과 데이터를 DataFrame 으로 저장\n",
        "X_scaled_bike = pd.DataFrame(data=result,columns=X_df_bike.columns)"
      ],
      "execution_count": 8,
      "outputs": []
    },
    {
      "cell_type": "code",
      "metadata": {
        "colab": {
          "base_uri": "https://localhost:8080/",
          "height": 423
        },
        "id": "rw6OHkqi-VId",
        "outputId": "6cb3e777-1a25-4ba0-ab99-7ed46ee43399"
      },
      "source": [
        "X_scaled_bike"
      ],
      "execution_count": 9,
      "outputs": [
        {
          "output_type": "execute_result",
          "data": {
            "text/html": [
              "<div>\n",
              "<style scoped>\n",
              "    .dataframe tbody tr th:only-of-type {\n",
              "        vertical-align: middle;\n",
              "    }\n",
              "\n",
              "    .dataframe tbody tr th {\n",
              "        vertical-align: top;\n",
              "    }\n",
              "\n",
              "    .dataframe thead th {\n",
              "        text-align: right;\n",
              "    }\n",
              "</style>\n",
              "<table border=\"1\" class=\"dataframe\">\n",
              "  <thead>\n",
              "    <tr style=\"text-align: right;\">\n",
              "      <th></th>\n",
              "      <th>temp</th>\n",
              "      <th>atemp</th>\n",
              "      <th>humidity</th>\n",
              "      <th>windspeed</th>\n",
              "    </tr>\n",
              "  </thead>\n",
              "  <tbody>\n",
              "    <tr>\n",
              "      <th>0</th>\n",
              "      <td>-1.333661</td>\n",
              "      <td>-1.092737</td>\n",
              "      <td>0.993213</td>\n",
              "      <td>-1.567754</td>\n",
              "    </tr>\n",
              "    <tr>\n",
              "      <th>1</th>\n",
              "      <td>-1.438907</td>\n",
              "      <td>-1.182421</td>\n",
              "      <td>0.941249</td>\n",
              "      <td>-1.567754</td>\n",
              "    </tr>\n",
              "    <tr>\n",
              "      <th>2</th>\n",
              "      <td>-1.438907</td>\n",
              "      <td>-1.182421</td>\n",
              "      <td>0.941249</td>\n",
              "      <td>-1.567754</td>\n",
              "    </tr>\n",
              "    <tr>\n",
              "      <th>3</th>\n",
              "      <td>-1.333661</td>\n",
              "      <td>-1.092737</td>\n",
              "      <td>0.681430</td>\n",
              "      <td>-1.567754</td>\n",
              "    </tr>\n",
              "    <tr>\n",
              "      <th>4</th>\n",
              "      <td>-1.333661</td>\n",
              "      <td>-1.092737</td>\n",
              "      <td>0.681430</td>\n",
              "      <td>-1.567754</td>\n",
              "    </tr>\n",
              "    <tr>\n",
              "      <th>...</th>\n",
              "      <td>...</td>\n",
              "      <td>...</td>\n",
              "      <td>...</td>\n",
              "      <td>...</td>\n",
              "    </tr>\n",
              "    <tr>\n",
              "      <th>10881</th>\n",
              "      <td>-0.596935</td>\n",
              "      <td>-0.467310</td>\n",
              "      <td>-0.617666</td>\n",
              "      <td>1.617227</td>\n",
              "    </tr>\n",
              "    <tr>\n",
              "      <th>10882</th>\n",
              "      <td>-0.702182</td>\n",
              "      <td>-0.735182</td>\n",
              "      <td>-0.253919</td>\n",
              "      <td>0.269704</td>\n",
              "    </tr>\n",
              "    <tr>\n",
              "      <th>10883</th>\n",
              "      <td>-0.807428</td>\n",
              "      <td>-0.913959</td>\n",
              "      <td>-0.046064</td>\n",
              "      <td>0.269704</td>\n",
              "    </tr>\n",
              "    <tr>\n",
              "      <th>10884</th>\n",
              "      <td>-0.807428</td>\n",
              "      <td>-0.735182</td>\n",
              "      <td>-0.046064</td>\n",
              "      <td>-0.832442</td>\n",
              "    </tr>\n",
              "    <tr>\n",
              "      <th>10885</th>\n",
              "      <td>-0.912675</td>\n",
              "      <td>-0.824865</td>\n",
              "      <td>0.213755</td>\n",
              "      <td>-0.465608</td>\n",
              "    </tr>\n",
              "  </tbody>\n",
              "</table>\n",
              "<p>10886 rows × 4 columns</p>\n",
              "</div>"
            ],
            "text/plain": [
              "           temp     atemp  humidity  windspeed\n",
              "0     -1.333661 -1.092737  0.993213  -1.567754\n",
              "1     -1.438907 -1.182421  0.941249  -1.567754\n",
              "2     -1.438907 -1.182421  0.941249  -1.567754\n",
              "3     -1.333661 -1.092737  0.681430  -1.567754\n",
              "4     -1.333661 -1.092737  0.681430  -1.567754\n",
              "...         ...       ...       ...        ...\n",
              "10881 -0.596935 -0.467310 -0.617666   1.617227\n",
              "10882 -0.702182 -0.735182 -0.253919   0.269704\n",
              "10883 -0.807428 -0.913959 -0.046064   0.269704\n",
              "10884 -0.807428 -0.735182 -0.046064  -0.832442\n",
              "10885 -0.912675 -0.824865  0.213755  -0.465608\n",
              "\n",
              "[10886 rows x 4 columns]"
            ]
          },
          "metadata": {},
          "execution_count": 9
        }
      ]
    },
    {
      "cell_type": "code",
      "metadata": {
        "id": "eU_CkSZL-fKI"
      },
      "source": [
        "# 데이터셋 분리\n",
        "x_train, x_test, y_train, y_test = train_test_split(X_scaled_bike,y,test_size=0.3,random_state=12)\n"
      ],
      "execution_count": 10,
      "outputs": []
    },
    {
      "cell_type": "code",
      "metadata": {
        "id": "ZHMEpe01-f53"
      },
      "source": [
        "# LogisticRegression 모델 객체 생성\n",
        "clf = LogisticRegression()\n",
        "\n",
        "# 훈련 데이터를 통한 학습\n",
        "clf.fit(x_train,y_train)\n",
        "\n",
        "# 학습된 모델에 테스트 데이터셋 이용하여 예측값 생성\n",
        "y_pred = clf.predict(x_test)"
      ],
      "execution_count": 11,
      "outputs": []
    },
    {
      "cell_type": "code",
      "metadata": {
        "colab": {
          "base_uri": "https://localhost:8080/"
        },
        "id": "drexW1AK-npH",
        "outputId": "a589f2c5-3682-4913-c2c3-df19882cc42d"
      },
      "source": [
        "# score 메소드를 통한 정확도 측정\n",
        "train_score = clf.score(x_train,y_train)\n",
        "test_score = clf.score(x_test,y_test)\n",
        "print('Training Data Accuracy: {:0.3f}'.format(train_score))\n",
        "print('Testing Data Accuracy: {:0.3f}'.format(test_score))"
      ],
      "execution_count": 16,
      "outputs": [
        {
          "output_type": "stream",
          "name": "stdout",
          "text": [
            "Training Data Accuracy: 0.927\n",
            "Testing Data Accuracy: 0.924\n"
          ]
        }
      ]
    },
    {
      "cell_type": "code",
      "metadata": {
        "colab": {
          "base_uri": "https://localhost:8080/"
        },
        "id": "FBRausWL-oTy",
        "outputId": "f342c555-d69b-48f3-8597-789c9b84902b"
      },
      "source": [
        "# 오차 행렬 생성\n",
        "confusion = confusion_matrix(y_test,y_pred)\n",
        "print('Confusion Matrixs : \\n', confusion)"
      ],
      "execution_count": 17,
      "outputs": [
        {
          "output_type": "stream",
          "name": "stdout",
          "text": [
            "Confusion Matrixs : \n",
            " [[3018    0]\n",
            " [ 248    0]]\n"
          ]
        }
      ]
    },
    {
      "cell_type": "code",
      "metadata": {
        "colab": {
          "base_uri": "https://localhost:8080/"
        },
        "id": "WuGTV36w9qan",
        "outputId": "99b5d048-9644-48b1-ba15-f5ae297a5311"
      },
      "source": [
        "# 정확도, 정밀도, 재현율 계산 \n",
        "accuracy = accuracy_score(y_test,y_pred)\n",
        "precision = precision_score(y_test,y_pred)\n",
        "recall = recall_score(y_test,y_pred)\n",
        "  \n",
        "print('Accuracy: {0:.4f}, Precision: {1:.4f}, Recall: {2:.4f}'\n",
        "      .format(accuracy , precision ,recall))"
      ],
      "execution_count": 18,
      "outputs": [
        {
          "output_type": "stream",
          "name": "stdout",
          "text": [
            "Accuracy: 0.9241, Precision: 0.0000, Recall: 0.0000\n"
          ]
        },
        {
          "output_type": "stream",
          "name": "stderr",
          "text": [
            "/usr/local/lib/python3.7/dist-packages/sklearn/metrics/_classification.py:1272: UndefinedMetricWarning: Precision is ill-defined and being set to 0.0 due to no predicted samples. Use `zero_division` parameter to control this behavior.\n",
            "  _warn_prf(average, modifier, msg_start, len(result))\n"
          ]
        }
      ]
    }
  ]
}