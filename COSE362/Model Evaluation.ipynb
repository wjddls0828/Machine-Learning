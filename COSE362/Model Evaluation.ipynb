{
  "nbformat": 4,
  "nbformat_minor": 0,
  "metadata": {
    "colab": {
      "name": "6 (1).ipynb",
      "provenance": [],
      "collapsed_sections": [],
      "toc_visible": true
    },
    "kernelspec": {
      "display_name": "Python 3 (ipykernel)",
      "language": "python",
      "name": "python3"
    },
    "language_info": {
      "codemirror_mode": {
        "name": "ipython",
        "version": 3
      },
      "file_extension": ".py",
      "mimetype": "text/x-python",
      "name": "python",
      "nbconvert_exporter": "python",
      "pygments_lexer": "ipython3",
      "version": "3.9.7"
    }
  },
  "cells": [
    {
      "cell_type": "markdown",
      "metadata": {
        "id": "dyN7SUq86VtQ"
      },
      "source": [
        "# 실습 6차시\n",
        "\n",
        "### 실습 제출 방법:\n",
        "\n",
        "1.   '파일 > 드라이브에 사본 저장'으로 노트북 복사본을 만듭니다.\n",
        "2.   제목 끝에 학번과 이름을 추가합니다. 예시) 실습 1차시_20XXXXXXXX_이름\n",
        "3.   코랩 노트북의 모든 코드가 오류없이 돌아가도록 실습 활동을 완료합니다.\n",
        "4.   블랙보드의 해당 실습 과제란에 '파일 > .ipynb로 다운로드'하여 노트북 파일을 제출하시면 됩니다.\n",
        "\n",
        "실습 내용\n",
        "\n",
        "*   True vs. False and Positive vs. Negative\n",
        "*   Accuracy\n",
        "*   Precision and Recall\n",
        "*   ROC-AUC\n",
        "\n",
        "\n",
        "\n"
      ]
    },
    {
      "cell_type": "markdown",
      "metadata": {
        "id": "p6a3yjfRaNmz"
      },
      "source": [
        "# **1. Accuracy**\n",
        "\n",
        "분류 모델을 만든 후 다음 단계는 모델의 예측 능력을 평가해야합니다. \n",
        "\n",
        "예를 들어, 분류 모델을 사용하여 성적에서 B를 넘을 것인지, 아닌지에 대한 여부를 예측하려 합니다. \n",
        "\n",
        "모델의 성능을 평가하는 가장 간단한 방법은 모델의 정확도를 계산하는 것입니다. 정확도는 정확하게 분류된 instance의 총 개수를 찾아 총 instance 개수로 나누어 계산합니다.\n",
        "\n",
        "즉, 정확도는 다음과 같이 정의할 수 있습니다."
      ]
    },
    {
      "cell_type": "markdown",
      "metadata": {
        "id": "eNgQxiSpTWZx"
      },
      "source": [
        "![22.PNG](data:image/png;base64,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)"
      ]
    },
    {
      "cell_type": "markdown",
      "metadata": {
        "id": "My5hO6hGTYuk"
      },
      "source": [
        "- True Positive(TP): True인데 True라고 맞춘 경우(o, 맞춤)\n",
        "- False Positive(FP): False인데 True라고 한 경우(x, 틀림)\n",
        "- True Negative(TN): False인데 False라고 맞춘 경우(o, 맞춤)\n",
        "- False Negative(FN): True인데 False라고 한 경우(x, 틀림)"
      ]
    },
    {
      "cell_type": "code",
      "metadata": {
        "id": "VdcTlGL5aRGC"
      },
      "source": [
        "labels_A = [0, 0, 0, 0, 0, 0, 0, 1, 1, 1]\n",
        "guesses_A =[0, 0, 0, 0, 0, 0, 0, 1, 0, 0]\n",
        "\n",
        "labels_B = [0, 0, 0, 0, 0, 0, 0, 1, 1, 1]\n",
        "guesses_B =[1, 1, 1, 1, 1, 1, 1, 0, 1, 1]"
      ],
      "execution_count": null,
      "outputs": []
    },
    {
      "cell_type": "code",
      "metadata": {
        "id": "ZG03uRE_aRrk"
      },
      "source": [
        "# 위의 예제로 TP, FP, TN, FN을 직접 계산해보는 함수입니다\n",
        "def cal_metrics(labels, guesses):\n",
        "  true_positives = 0\n",
        "  true_negatives = 0\n",
        "  false_positives = 0\n",
        "  false_negatives = 0\n",
        "  for i in range(len(guesses)):\n",
        "    #True Positives\n",
        "    if labels[i] == 1 and guesses[i] == 1:\n",
        "      true_positives += 1\n",
        "    #True Negatives\n",
        "    if labels[i] == 0 and guesses[i] == 0:\n",
        "      true_negatives += 1\n",
        "    #False Positives\n",
        "    if labels[i] == 0 and guesses[i] == 1:\n",
        "      false_positives += 1\n",
        "    #False Negatives\n",
        "    if labels[i] == 1 and guesses[i] == 0:\n",
        "      false_negatives += 1\n",
        "  return true_positives, true_negatives, false_positives, false_negatives"
      ],
      "execution_count": null,
      "outputs": []
    },
    {
      "cell_type": "code",
      "metadata": {
        "id": "cdaypOK_U-Sn",
        "outputId": "cf741fc1-2810-4ef7-fe0c-0fa5587d81ec"
      },
      "source": [
        "# A에 대하여 accuracy를 계산해봅니다.\n",
        "TP_A, TN_A, FP_A, FN_A = cal_metrics(labels_A, guesses_A)\n",
        "accuracy_A = (TP_A + TN_A) / len(guesses_A)\n",
        "print(accuracy_A)"
      ],
      "execution_count": null,
      "outputs": [
        {
          "name": "stdout",
          "output_type": "stream",
          "text": [
            "0.8\n"
          ]
        }
      ]
    },
    {
      "cell_type": "code",
      "metadata": {
        "id": "H4HsyONE6YT3",
        "outputId": "e8906bac-c9a0-48b7-991f-08d57e19e4fe"
      },
      "source": [
        "# B에 대하여 accuracy를 계산해봅니다.\n",
        "TP_B, TN_B, FP_B, FN_B = cal_metrics(labels_B, guesses_B)\n",
        "accuracy_B = (TP_B + TN_B) / len(guesses_B)\n",
        "print(accuracy_B)"
      ],
      "execution_count": null,
      "outputs": [
        {
          "name": "stdout",
          "output_type": "stream",
          "text": [
            "0.2\n"
          ]
        }
      ]
    },
    {
      "cell_type": "markdown",
      "metadata": {
        "id": "ewAmVnQLaUsQ"
      },
      "source": [
        "# **2. Recall**\n",
        "\n",
        "정확도는 데이터에 따라 잘못된 metric일 수 있습니다. 내일 1m 이상의 눈이 올지 여부를 예측하려는 모델의 예를 들겠습니다. 이 예시에서 항상 False을 예측하는 분류기는 높은 정확도를 가집니다. 눈이 그렇게 많이 오는 날은 거의 없기 때문입니다. 하지만 이 분류기는 우리가 실제로 알고자 하는 정보를 예측하지 못합니다.\n",
        "\n",
        "이런 상황에서 사용되는 metric은 recall입니다. Recall은 전체 양성 샘플 (TP + FN) 중에서 얼마나 많은 샘플이 양성 클래스(TP)로 분류되는지를 측정합니다. 직관적으로, Recall은 분류기가 positive sample들을 올바르게 찾는 성능을 평가합니다. Recall은 모든 양성 샘플을 식별해야 할 때 성능 지표로 사용됩니다. 즉, 거짓 음성(FN)을 피하는 것이 중요할 때 입니다."
      ]
    },
    {
      "cell_type": "markdown",
      "metadata": {
        "id": "qLodoVxnVGwY"
      },
      "source": [
        "![33.PNG](data:image/png;base64,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)"
      ]
    },
    {
      "cell_type": "markdown",
      "metadata": {
        "id": "RNZcRtuzVJKA"
      },
      "source": [
        "항상 False를 예측하는 알고리즘은 정확도가 매우 높을 수 있지만 True Positive를 찾지 못하므로 Recall은 0입니다. 이는 말이 됩니다. 이러한 불합리한 분류기에 대해서는 Recall이 매우 낮아야 합니다."
      ]
    },
    {
      "cell_type": "code",
      "metadata": {
        "id": "sp-C6r34aW42",
        "outputId": "30f878ce-ff46-4ae6-afbf-c4bf1cb910d9"
      },
      "source": [
        "# Recall_A을 계산해봅니다.\n",
        "recall_A = TP_A / (TP_A + FN_A)\n",
        "print(recall_A)"
      ],
      "execution_count": null,
      "outputs": [
        {
          "name": "stdout",
          "output_type": "stream",
          "text": [
            "0.3333333333333333\n"
          ]
        }
      ]
    },
    {
      "cell_type": "code",
      "metadata": {
        "id": "JnOXyFk66zhV",
        "outputId": "7492733f-2fc4-4b8b-eb33-44cb897fc447"
      },
      "source": [
        "# Recall_B을 계산해봅니다.\n",
        "recall_B = TP_B / (TP_B + FN_B)\n",
        "print(recall_B)"
      ],
      "execution_count": null,
      "outputs": [
        {
          "name": "stdout",
          "output_type": "stream",
          "text": [
            "0.6666666666666666\n"
          ]
        }
      ]
    },
    {
      "cell_type": "markdown",
      "metadata": {
        "id": "rdFl6L2haYgh"
      },
      "source": [
        "# **3. Precision**\n",
        "\n",
        "불행히도, 리콜 역시 완벽한 통계는 아닙니다. 예를 들어, 위의 예제에서 항상 True를 반환하는 분류기를 만들 수 있습니다. 이것은 정확도는 낮지만, 매일 눈 오는 날을 정확하게 찾을 수 있기 때문에 리콜은 1이 될 것입니다. 하지만 이 분류기는 이전 것과 마찬가지로 좋은 분류기가 아닙니다. 이 모델에 결함이 있다는 것을 입증하는 데 도움이 되는 metric는 \"Precision\"입니다.\n",
        "\n",
        "Precision은 양성으로 예측된 것 (TP + FP) 중 얼마나 많은 샘플이 진짜 양성 (TP) 인지 측정합니다. 직관적으로 Precision은 negative sample을 positive sample로 예측하지 않는 분류기의 성능을 나타냅니다. Precision은 거짓 양성(FP)의 수를 줄이는 것이 목표일 때 성능 지표로 사용합니다. Precision의 공식은 다음과 같습니다."
      ]
    },
    {
      "cell_type": "markdown",
      "metadata": {
        "id": "leloOWqdXAB8"
      },
      "source": [
        "![44.PNG](data:image/png;base64,iVBORw0KGgoAAAANSUhEUgAAAdYAAABFCAYAAAD3n8cDAAAAAXNSR0IArs4c6QAAAARnQU1BAACxjwv8YQUAAAAJcEhZcwAADsMAAA7DAcdvqGQAABKwSURBVHhe7Z3/axpNu8bPP+kvCwUJCCUSWAKR0iWQJSCFyiHyQA1EQkmh9of6QCXkWKiFYin2vEUoBoIh+EMRgqUgFKEggevc98ysrsZ8edtNn/qe6wPS7te5Z2Yz19z3zO78FwghhBCSGBRWQgghJEEorIQQQkiCUFgJIYSQBKGwEkIIIQlCYSWEEEIShMJKCCGEJAiFlRBCCEkQCishhBCSIBRWQgghJEEorIQQQkiCUFgJIYSQBKGwEkIIIQlCYSWEEEIShMJKCCGEJAiFlRBCCEkQCishhBCSIBRWQgghJEEorIQQQkiCUFgJIYSQBKGwEkIIIQlCYSWEEEIShMJKCCGEJAiFlRBCCEkQCishhBCSIBRWQgghJEEorIQQQkiCUFgJIYSQBKGwEkIIIQlCYSWEEEIShMJKCFkShmjuZJFdu/mXfzNw19w1XVQ0zRUPqVQKXmZqQ9rzkNk6QPubOzUBhu0qykddjNx2xHjs/hPnWxvV/Tq68yeTO4fCSghZDoYNhF4O5U99jC90xwC1jZQIWoD6V3MG8L2N0koKxQ+LlObu6OypsGZxcBJLd2RtSXlldIy9v0oPlfsi3ts19H+4XUL/lS9plNCey3LvRQapeyFqX35vWRAKKyFkSRi9y8N/FvPWvjeRFy8xtV5FfyJcA9Qf+qj13eZvoY/qmtixIgIaE7yp8GdR/eJ2JY7mV9J4WJf/kT8FCishZAkYo7Xjo3Ia877aJRN+Te915KjjRwvF+/MCd8d8qyNQgd9uYOh2GSLhXxFv8q7CsS6N7Iue20H+BCishJClpPssLcLqofhhgWqNOihv+sh6HsJXDVS2cshv+fD+aonHO0L3RYjcZg7peyJ6kQh/bSC/lkXlxG0rFwO0X+QRrIco7orHnCmhNZfc+EPRCHxwFPcZR+jsZZDysih9mMrt6KyO4oMswp0yChtp+LstDGNh4tFJBcFqYNNazaNhQtxqb4BgK0BGRNqkP26jPBnb9ZBe1XFdOfbd3WMzRHA/jdLHyFixZ99H8EDKYKNmPfzTA2Tidl+M0HtbQrgeoLBbRC6TQy3uaY+6qGxmEeyUkF//nePYyweFlRCyhLjwaypEY8ZNtOi4Y3DUsWFSL0D1rGPGJ1NeEe//VUbmkXiXZ1VkVZg/Wn93cBTI/WJh5B8iJBsevEciRE6f2k/EO3w5G2fu7NuJS9l8GeV9/RURiuiFu3W0v0xVePA6hGdscftGTRRU2F67DAzF+xQhLh/L8a/iBXsp+K/6GH8uw98RAT45QDpmr2I7F7Ey+CEdCr+I1rcuDlZSpiOhZw/f5ZEVz34g/07y6NKw5wzQfCwdgfXyZLLV4DCHlKRrUxuimfeQ3e+IRA9Q35Q8r0u5mGNkHgorIWT5iMKvCxt38c4OK2idt1GSczwRB/VS+8dttM+GGH6qon4iXuBTESUvj6YRpZEIh9xv7QBd58GaSUEiQib8fCHSc1pFsBKifm6PW5zAi2C3rgs/q4ip+BphclxY+ybiJQKqAu3vNdA566LzsWMEfdZeSWdyAzeGGx9j1pnAOms4EmHjzY/Re1NB88sAjW09vzLJY2fPeqzjj0V4cn7+nRSG5HXUb6IoXnD5c5SYCLYp7zIaxz10j1voRL0NcgkKKyFk6YjCr9lnXedRLeBUxSWF8O0Cl/ZChEK9NSO6uu1E2Hl40wlJAUrGC62i8amLwXxiTjAvja/O0X+ZFXvnZg1/UY85locL8QTzaRE4uZ/+4oKpY8dib/pJeyrMui9+/YQxWn+JRzk/tquzquV8f+Jx24le1S86fq1p+sibvFZQf99Bby5Dg9d5pMUGY5uce3cTspYfCishZOmwr7ekxaOaV7opNrQbexUnzrzoTrYH6L6uofPdeWiPm1MhW0Ak8FOxWox6hqlUAc3YzaxHHBhhm3nn9GJoxlTjs4mHb0PZVu9Zjhn7ZOdxWUTYlcFFD41nTeu9RwL6vIvhaR01DS0LOqt6Rtz7NeQ26xiooGvIfK2CXmy8d4LY0/67bLxmZXhasd73DXn+/wyFlRCyZNjxw6vGVy3OC7tKLJyQFt6rWIzQfqJjlSJkJ9Gs4hGaj0W8t2KeqArMvnh1Gjp1u24j8MrofUFEUOyNPhYhohaYiVU9I9xGeGPvnA4OA3ib0fuqQ9Q35fjDGgbfRDQfiicr+23HwYq1nh+8tPcavrYditr5EI1tJ9yCFdYMKmdmS8pnGuo177ymY+/bXozRPwrh74qHbELUYuth3+b7XG2X+/P92CuhsBJCloLRh5L9qlFGxUyFNZoNm0djZtxTseKb2Y+9ihNHvLTmji/Xhyg+DlF6UUFh1UNmNZjO4jWzYNPIbpVQ/quA4FEJ9c92JqyGRbNrmUnYVr+45D+7Ii2DndmbXsmhuCOCtT29l+G8ieK6zrgto/RYRHJHvNLYF5sGb0J4cm2o10WTn3QW84onXmeI8Gl7OrtY9of30shtSb6OrNgaXJ69+yHyW2LHgmPpjQLKu0VJp4DK+z5Gek93LLtZlGNSDg+L4gVf2aMhAoWVEPIfyXg0cl9oIuT3QmElhBBCEoTCSgghhCQIhZUQQghJEAorIYQQkiAUVkIIISRBKKyEEEJIglBYCVkC7Hub/PHH35/2WwSFlRBCCEkQCishhBCSIBRWQgghJEEorIQQQkiCUFgJWSaGTRT1Q/Q3/hZ9mP6OOKmYNO1anR4ykQ2raXj3MrMfiP9lRui9raDyIfYBe8d4wRfwh+0qyrrwt9teLrqoSDlm7tlJMt5KrH4nCxFMl5a7juHbgq0PuSb7ouf2/irWvuyKtUUXIojsS3vyHGwdoB1bSOBXuaouF9X7zDJ8/wAUVkKWCF2X09soo913rcl5DTltYB/WEUnN6FMJ6VQRLbPk2G/CLRyeWjtAN5buqK22SKO713F7fpHvTRSk0c4+acUWFncLe2/UJmVg6aFyX9LejpZf+wf52kL14+XOwG24amm60buC7L99Pdu1Y29e4u7fxdo3t4j7qI2SLu3nxZai+yUW16VZ09YroT2XJbMMXmwZvt8NhZWQpWGEZt6XBmzaDbdrbM4ttP21jmBdGiC3+Vv4UkVW7EiLgM40ZZHwr1Xvzh4n6pfS/pPQNU13Wj9hn1t71hMBnfe+tJ6vWm92AVYAr1vD9mfoo7om9q3oGrZul2GA2obsv6VH/XO4Bdpjnco/BQorIcvCjxaK65UZj7D9RBuvWS9k/LGIzG8WGbu4dgrh29lWOxL+9JP23YVjZxYt/0P5WWFV8dSOyUQ8Rui8qqHzXf57XBYPLrYQ+7U4AUxahL45++bt+N5EXveviDd5V9Xi0kgutJ0cFFZClpZrvBllJJ7cpo+s5yF81UBlK4f8lg/vr5Y0z7rwdojcZg7pe9L4RWKti2evZVE5cdvK1zYqjwL420WUxGPOPNHr44zR2hE7UgHqX90uRdPX8N1qCa1orO1ihN5REbm1EMX9AnIr/nRhccfgXRH+eh6lnQDZ9QPrCeli2/8dWPsfiDeuXlq/jlBstWOQbmx3q4re2C4qHmwFyEjDPikbtWc9QM73kHtl/efus8ys3ZJO+0VePH6xbzcPPxO7XjGLn+uC5CXk17PIv7mlTP2ksEYdk4l4iJCFl7xDy7B9IOWhdofwHxRxsF9G/dSl6AR6JrKhXJefm8pCsOHlFIKjeDmI+O9JuXrZmbodndVRfJBFuFNGYSMNf7c1M/Y+OqkgWA1sWqt5NEydLKjLcRtlrWszthstdi/HpLNh7rEZIrifRunjpOLR2fcRPJBnZ8M9O9IZy8Tt1ufybQmhPB+FXXk+MznU4p62W+zdz5dQlPK6flF7Cishy4sLv17yFhw6/hQcdWy4zAtQPeuYcSoV4vf/KiPzSK4703t4KH60zcTgSD1PHzXX/o5PK8iJMOcP+1ZML9ooXQrvufFV2Z/fK6MsDXp5J5TGLkTpqI2+eleKNE71bQ/epoif2zd6r+OEImyR8JoGL0RDtsfikWWcbWpXIKIweBvO2KeNZjMvacfGdsciYr6I2PBEPdkob0M5LyuevTSQer4LlQ/E0/aic36IyGyIfY/kmGuTNSKQnYiR3sNDdr8jqUpeNqVhv23I/SeF1YZvpXPiJi6ZTsSC+tby8UwdW8N7L7Jy3TSSYQV6fnz1mvzcWBaWzr61L5t39b5fNJ2dcLeO9pdI2LScwxn7MGqioML22uVkKN6nCHH5WI5rJ0CeJ186P4vr0tJ9lpa0Y6HtH/Ic+tLJ/GY7nNqB1LOHkvfsXkc6bFoG7tlxadhz5Jl4LB2B9fJkstXgMDdTX6YDpuV+MZY8a6fh+rFtCishS0oUftUG6DLSSz+soHWuQigNiDQS6qX2j9tonw0x/FRF/US8gafSOHl5NE3jNC9SfdTWVYRc+PnHAN2XAdLbdQzi43pO4KOG7CqsaLvGM6JdMnkofrBX2nNEyP9uo3vaRftTzzRmvTealyEa22pP1XodihH6KH+W2bw5b37cQ+N5E/3zBkIts+ddZ6s0xs5jNRNhpOGtqJcnaQ5OqwhWQtQns6v1XE2/jMZxD93jFjqR6sQxM1IjoXG/R3LvlQCluf3VT4u6RBEuIhETDxXMWe9QGNo8xcPtRpBjkQwzZHApsnF1fm4uC8WFl28QmchbtgLucPU2ES/teMi2v9dA56yLzseOEfSFdWlwY7jxZ0HLXWcNRyL8QU+2z07zy8A9O9OhlM6e9Vh16EQ7V/l3UsiS11G/iaJ4weXPUWJuLFf+TqqfuvJc2r+h66CwErKUROHXudmY87jxx/mxT4Ob9DMRpUikIoGMJiRtlqwQ/N1A+1QaorioClYMr0hjgmuE52YN91+qZxXLw6iDA996QfqLCyb6NfiyLziMCYuz8VLaOh4teZsf29VZ1SoYE49bG33TOEeTcCLxq6IhjehgrmgHr/PutSL9xe5zEz/jsTpBio+Ldp+HqEbhXYfxriZCojhBnlznthd5ugvzc7uymNh3RcQk4lIdK67ess9cB0ejGXn7OpCxJS6Yi+pS98Wvn+BmiM+P7brOxzQUrmKp+Y3+jnzkTV4rqL/voDeXodHnA/jutafZsl4MhZWQZSR6veWK8bYIK3qxMcQ486I72RbP9HUNnZb1Iq6fFDRtmK4XGecdPW7GhM55xA+lEZU8jM4aqDxvWW94rGNaGuqbekNT73qAlnqfss967S5/wzaqh9YrigS0cjq0eTGh58th4/6rnPMAF9kX42KI9t9l4z0pw9OK9cLmxyyv4ieEdeGM7wWo5zUTEnWipdcNPoq39r9u+1VfvDEnGtfm54aycETjq7ezr4Bm7GbWIw6MsM28cyp26ZiqCnH0PC2sS524FYW2L3poPLPPw0RAn3clT3XUXHTElmVM3KWTltvUyIvzRq+cXT373vT4XLxZ7aTcUJcUVkKWESeC13sLTvSuajTcPaxwjtB+okImDdqJeAP3RbC/6jujIrRvYimIeJX9POrnrlm5pcAbUXssnsTW1N7+YQBP3zU04262gTMTncwJ1p6MeM/2fJuO8VpOxHuQhk33m0bb5E/Pz4knoXuHqG/K/oc1DL5JQ+uE29igwnpfzjebks9Vsdu0vZftM+KzL56MhgtNqNJDeNi3Dep5DYEX3P49yZ8Q1qveX53Hdp6ccGk56MQhIyJd6biEOPqfSFQ0HOo6QNfm54aycLtua5+Oo3tu3NwgohaYCXU9ScnVYeyd04E+F5s1V2eL6zKeZz0/eGnvFXW0ambYwAm3YIU1g8qZ2ZK/i2mo17zzmpbnIPobuRijfxTC35VnzXjlsfemzfu5GRQ/TkpmIRRWQpYGaRCexCaxqLB6abOdfdSYhAun2BBgZv+KGYxupmN6NUTxcYjSiwoKqx4yq8FkNqeZZbmik1HKck6A/G5dBFePaOhO0p18AUhn5fo4OL6mkTUzUNNIPyiiKA28TnCx97LYWaHSeGtaevypeCG27RPG6DzNwvMDhNvTL/qMjzVEl0FuS/JwZBtXZfAmhLeSk3NLqEcTZhT1OHz9KlAeodgxc8zZl90qofxXAcEjufazK1VXVtnNIsq7cuxhUbyh6xvXGf4NYdXwbHYtMwmL2i8aSZ6vujgKo27kUXgY4uBtHSXJY/q+lKWKl3SgMiKAhb2i2O/Gx2/KzzVlsci+62fJ2pm9aamP4o4IltZJVK6K1sm6zkwuoyTPWLAjXmkkwsLCutTZ6yueeJ3h7Je9ZH94L22eh1LseYjy690Pkd8SOxYcS28UpCyKkk4Blffi3Zt7WtuzOktdJ2ZJR+VAj5kLr4bCSsh/MOPR6NKYKPkH0NDlDZO77pQfI4y+81n4XVBYCSGEkAShsBJCCCEJQmElhBBCEoTCSgghhCQG8H+kRrCGX2WVdAAAAABJRU5ErkJggg==)"
      ]
    },
    {
      "cell_type": "markdown",
      "metadata": {
        "id": "Zqi37vS5XBrf"
      },
      "source": [
        "매일 눈이 오는 날을 예측하는 모델은 Recall이 1이지만 Precision는 매우 낮을 것입니다. 눈 오는 날을 정확하게 예측할 것이지만, false positive도 엄청나게 많습니다.\n",
        "\n",
        "Precision과 Recall은 서로 상충하는 metric입니다. 하나가 내려가면 다른 하나가 올라갑니다."
      ]
    },
    {
      "cell_type": "code",
      "metadata": {
        "id": "xtdy6N-baaq1",
        "outputId": "7610d9c0-ac0c-4089-cae6-5fc5e9e1f1a7"
      },
      "source": [
        "# precision_A을 계산해봅니다.\n",
        "precision_A = TP_A / (TP_A + FP_A)\n",
        "print(precision_A)"
      ],
      "execution_count": null,
      "outputs": [
        {
          "name": "stdout",
          "output_type": "stream",
          "text": [
            "1.0\n"
          ]
        }
      ]
    },
    {
      "cell_type": "code",
      "metadata": {
        "id": "05qAx0nS7WB6",
        "outputId": "e29a3bd6-b732-49e5-dc38-57e6bd1f2cdd"
      },
      "source": [
        "# precision_B을 계산해봅니다.\n",
        "precision_B = TP_B / (TP_B + FP_B)\n",
        "print(precision_B)"
      ],
      "execution_count": null,
      "outputs": [
        {
          "name": "stdout",
          "output_type": "stream",
          "text": [
            "0.2222222222222222\n"
          ]
        }
      ]
    },
    {
      "cell_type": "markdown",
      "metadata": {
        "id": "BNqF50H2ab9d"
      },
      "source": [
        "# **4. F1 Score**\n",
        "\n",
        "모델의 Precision과 Recall을 고려하는 것은 유용하지만, 아직 모델이 얼마나 효과적인지 충분히 설명하는 하나의 metric으로 고려되지는 않습니다. 하지만 F1 score을 통해 Precision과 Recall 모두를 고려하는 하나의 metric을 제시할 수 있습니다. F1 score은 Precision과 Recall의 조화평균(harmonic mean)입니다. 조화평균은 n개의 양수에 대하여 그 역수들을 산술평균한 것의 역수를 말합니다.F1 score의 공식은 다음과 같습니다."
      ]
    },
    {
      "cell_type": "markdown",
      "metadata": {
        "id": "pPCEDpJPYQag"
      },
      "source": [
        "![55.PNG](data:image/png;base64,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)"
      ]
    },
    {
      "cell_type": "markdown",
      "metadata": {
        "id": "ybqdqugsYSrd"
      },
      "source": [
        "F1 score는 Precision과 Recall을 하나의 metric으로 결합합니다. 산술 평균보다 조화 평균을 사용하여 F1 score을 계산하는 이유는 Precision이나 Recall이 0일 때 F1 score이 낮아지기를 원하기 때문입니다.\n",
        "\n",
        "예를 들어, Recall = 1이고 Precision = 0.01인 모델이 있다고 가정합니다. Precision이 너무 낮기 때문에 이 모델에 문제가 있을 가능성이 높습니다. 따라서 F1 score은 Precision과 Recall을 같이 고려하므로 불균형한 이진 분류 데이터셋에서는 정확도보다 더 나은 지표가 될 수 있습니다."
      ]
    },
    {
      "cell_type": "markdown",
      "metadata": {
        "id": "KupV3UtQae7q"
      },
      "source": [
        "산술적 평균(Arithmetic mean)을 이용한 F1 score은 다음과 같습니다.\n",
        "\n",
        "![66.PNG](data:image/png;base64,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)\n",
        "\n",
        "너무 높아 보입니다. 그러나 조화 평균을 사용한 F1 score을 이용하면 다음과 같은 결과를 얻을 수 있습니다.\n",
        "\n",
        "![77.PNG](data:image/png;base64,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)\n",
        "\n",
        "산술 평균을 사용한 F1 score은 현재 이 분류기의 성능를 정확하게 나타내고 있습니다."
      ]
    },
    {
      "cell_type": "code",
      "metadata": {
        "id": "_8TykySDahVS",
        "outputId": "c0555c02-e710-43e8-8d1e-2b1513a46cf2"
      },
      "source": [
        "# F1 score을 계산해봅니다.\n",
        "f_1_A = 2 * (precision_A * recall_A) / (precision_A + recall_A)\n",
        "print(f_1_A)"
      ],
      "execution_count": null,
      "outputs": [
        {
          "name": "stdout",
          "output_type": "stream",
          "text": [
            "0.5\n"
          ]
        }
      ]
    },
    {
      "cell_type": "code",
      "metadata": {
        "id": "WZnOAcaF8Ikv",
        "outputId": "d6626222-5ca1-4767-99e5-6737615169c0"
      },
      "source": [
        "# F1 score을 계산해봅니다.\n",
        "f_1_B = 2 * (precision_B * recall_B) / (precision_B + recall_B)\n",
        "print(f_1_B)"
      ],
      "execution_count": null,
      "outputs": [
        {
          "name": "stdout",
          "output_type": "stream",
          "text": [
            "0.3333333333333333\n"
          ]
        }
      ]
    },
    {
      "cell_type": "markdown",
      "metadata": {
        "id": "YOuknqxAajem"
      },
      "source": [
        "# **5. Scikit-Learn**\n",
        "\n",
        "Scikit_learn 라이브러리에는 위의 metric들을 간단하게 계산해주는 함수들이 있습니다."
      ]
    },
    {
      "cell_type": "code",
      "metadata": {
        "id": "z5McLaohak_I"
      },
      "source": [
        "from sklearn.metrics import accuracy_score, recall_score, precision_score, f1_score\n",
        "\n",
        "labels = [1, 0, 0, 1, 1, 1, 0, 1, 1, 1]\n",
        "guesses = [0, 1, 1, 1, 1, 0, 1, 0, 1, 0]"
      ],
      "execution_count": null,
      "outputs": []
    },
    {
      "cell_type": "code",
      "metadata": {
        "id": "0CrlZuAya-eH",
        "outputId": "d98d8e4d-cf4b-4d65-8b73-7f5f2aa44ff0"
      },
      "source": [
        "# 정확도, recall, precision, F1 score을 계산해봅니다.\n",
        "print(accuracy_score(labels, guesses))\n",
        "print(recall_score(labels, guesses))\n",
        "print(precision_score(labels, guesses))\n",
        "print(f1_score(labels, guesses))"
      ],
      "execution_count": null,
      "outputs": [
        {
          "name": "stdout",
          "output_type": "stream",
          "text": [
            "0.3\n",
            "0.42857142857142855\n",
            "0.5\n",
            "0.4615384615384615\n"
          ]
        }
      ]
    },
    {
      "cell_type": "markdown",
      "metadata": {
        "id": "SwrZjwCdLq18"
      },
      "source": [
        "# **6. Binary Classification and Model Evaluation**\n",
        "\n",
        "\n",
        "\n"
      ]
    },
    {
      "cell_type": "markdown",
      "metadata": {
        "id": "0IJyiWE1LxPw"
      },
      "source": [
        "## 6-1. The Dataset\n",
        "  \n",
        "이번 실습은 [California Housing Dataset](https://www.kaggle.com/camnugent/california-housing-prices)를 사용합니다. 이 데이터는 미국의 1990년 인구 조사 데이터를 기반으로 캘리포니아 특정 지역의 주택에 관한 것입니다.\n",
        "\n",
        "1. longitude: 집이 서쪽으로 얼마나 멀리 떨어져 있는지 나타내는 척도이며, 값이 더 높은 것은 서쪽으로 더 멀리 떨어져 있습니다.\n",
        "2. latitude: 집이 북쪽으로 얼마나 멀리 떨어져 있는지 나타내는 척도이며, 더 높은 값이 더 북쪽입니다.\n",
        "3. housing_median_age: 블록 내 주택의 연식입니다. 숫자가 낮으면 새 건물입니다.\n",
        "4. total_rooms: 블록 내의 방 개수입니다.\n",
        "5. total_bedrooms: 한 블록 내의 총 침실 개수입니다.\n",
        "6. population: 한 블록 내의 총 인구 수입니다.\n",
        "7. households: 한 블록에 대한 총 가구 수입니다.\n",
        "8. median_income: 주택 블록 내 가구의 중위소득입니다.\n",
        "9. medium_house_value: 블록 내 가구의 평균 주택 값(미국 달러로 측정)입니다."
      ]
    },
    {
      "cell_type": "code",
      "metadata": {
        "id": "FGj5fCQt6QxG"
      },
      "source": [
        "import pandas as pd "
      ],
      "execution_count": null,
      "outputs": []
    },
    {
      "cell_type": "code",
      "metadata": {
        "id": "6JsfgFwnDurA"
      },
      "source": [
        "train_df = pd.read_csv(\"https://download.mlcc.google.com/mledu-datasets/california_housing_train.csv\")\n",
        "test_df = pd.read_csv(\"https://download.mlcc.google.com/mledu-datasets/california_housing_test.csv\")"
      ],
      "execution_count": null,
      "outputs": []
    },
    {
      "cell_type": "code",
      "metadata": {
        "id": "tfn-7FaVDwWC",
        "outputId": "70f008a4-ad50-4a55-ad47-ef55bc3bc402"
      },
      "source": [
        "train_df.describe()"
      ],
      "execution_count": null,
      "outputs": [
        {
          "data": {
            "text/html": [
              "<div>\n",
              "<style scoped>\n",
              "    .dataframe tbody tr th:only-of-type {\n",
              "        vertical-align: middle;\n",
              "    }\n",
              "\n",
              "    .dataframe tbody tr th {\n",
              "        vertical-align: top;\n",
              "    }\n",
              "\n",
              "    .dataframe thead th {\n",
              "        text-align: right;\n",
              "    }\n",
              "</style>\n",
              "<table border=\"1\" class=\"dataframe\">\n",
              "  <thead>\n",
              "    <tr style=\"text-align: right;\">\n",
              "      <th></th>\n",
              "      <th>longitude</th>\n",
              "      <th>latitude</th>\n",
              "      <th>housing_median_age</th>\n",
              "      <th>total_rooms</th>\n",
              "      <th>total_bedrooms</th>\n",
              "      <th>population</th>\n",
              "      <th>households</th>\n",
              "      <th>median_income</th>\n",
              "      <th>median_house_value</th>\n",
              "    </tr>\n",
              "  </thead>\n",
              "  <tbody>\n",
              "    <tr>\n",
              "      <th>count</th>\n",
              "      <td>17000.000000</td>\n",
              "      <td>17000.000000</td>\n",
              "      <td>17000.000000</td>\n",
              "      <td>17000.000000</td>\n",
              "      <td>17000.000000</td>\n",
              "      <td>17000.000000</td>\n",
              "      <td>17000.000000</td>\n",
              "      <td>17000.000000</td>\n",
              "      <td>17000.000000</td>\n",
              "    </tr>\n",
              "    <tr>\n",
              "      <th>mean</th>\n",
              "      <td>-119.562108</td>\n",
              "      <td>35.625225</td>\n",
              "      <td>28.589353</td>\n",
              "      <td>2643.664412</td>\n",
              "      <td>539.410824</td>\n",
              "      <td>1429.573941</td>\n",
              "      <td>501.221941</td>\n",
              "      <td>3.883578</td>\n",
              "      <td>207300.912353</td>\n",
              "    </tr>\n",
              "    <tr>\n",
              "      <th>std</th>\n",
              "      <td>2.005166</td>\n",
              "      <td>2.137340</td>\n",
              "      <td>12.586937</td>\n",
              "      <td>2179.947071</td>\n",
              "      <td>421.499452</td>\n",
              "      <td>1147.852959</td>\n",
              "      <td>384.520841</td>\n",
              "      <td>1.908157</td>\n",
              "      <td>115983.764387</td>\n",
              "    </tr>\n",
              "    <tr>\n",
              "      <th>min</th>\n",
              "      <td>-124.350000</td>\n",
              "      <td>32.540000</td>\n",
              "      <td>1.000000</td>\n",
              "      <td>2.000000</td>\n",
              "      <td>1.000000</td>\n",
              "      <td>3.000000</td>\n",
              "      <td>1.000000</td>\n",
              "      <td>0.499900</td>\n",
              "      <td>14999.000000</td>\n",
              "    </tr>\n",
              "    <tr>\n",
              "      <th>25%</th>\n",
              "      <td>-121.790000</td>\n",
              "      <td>33.930000</td>\n",
              "      <td>18.000000</td>\n",
              "      <td>1462.000000</td>\n",
              "      <td>297.000000</td>\n",
              "      <td>790.000000</td>\n",
              "      <td>282.000000</td>\n",
              "      <td>2.566375</td>\n",
              "      <td>119400.000000</td>\n",
              "    </tr>\n",
              "    <tr>\n",
              "      <th>50%</th>\n",
              "      <td>-118.490000</td>\n",
              "      <td>34.250000</td>\n",
              "      <td>29.000000</td>\n",
              "      <td>2127.000000</td>\n",
              "      <td>434.000000</td>\n",
              "      <td>1167.000000</td>\n",
              "      <td>409.000000</td>\n",
              "      <td>3.544600</td>\n",
              "      <td>180400.000000</td>\n",
              "    </tr>\n",
              "    <tr>\n",
              "      <th>75%</th>\n",
              "      <td>-118.000000</td>\n",
              "      <td>37.720000</td>\n",
              "      <td>37.000000</td>\n",
              "      <td>3151.250000</td>\n",
              "      <td>648.250000</td>\n",
              "      <td>1721.000000</td>\n",
              "      <td>605.250000</td>\n",
              "      <td>4.767000</td>\n",
              "      <td>265000.000000</td>\n",
              "    </tr>\n",
              "    <tr>\n",
              "      <th>max</th>\n",
              "      <td>-114.310000</td>\n",
              "      <td>41.950000</td>\n",
              "      <td>52.000000</td>\n",
              "      <td>37937.000000</td>\n",
              "      <td>6445.000000</td>\n",
              "      <td>35682.000000</td>\n",
              "      <td>6082.000000</td>\n",
              "      <td>15.000100</td>\n",
              "      <td>500001.000000</td>\n",
              "    </tr>\n",
              "  </tbody>\n",
              "</table>\n",
              "</div>"
            ],
            "text/plain": [
              "          longitude      latitude  housing_median_age   total_rooms  \\\n",
              "count  17000.000000  17000.000000        17000.000000  17000.000000   \n",
              "mean    -119.562108     35.625225           28.589353   2643.664412   \n",
              "std        2.005166      2.137340           12.586937   2179.947071   \n",
              "min     -124.350000     32.540000            1.000000      2.000000   \n",
              "25%     -121.790000     33.930000           18.000000   1462.000000   \n",
              "50%     -118.490000     34.250000           29.000000   2127.000000   \n",
              "75%     -118.000000     37.720000           37.000000   3151.250000   \n",
              "max     -114.310000     41.950000           52.000000  37937.000000   \n",
              "\n",
              "       total_bedrooms    population    households  median_income  \\\n",
              "count    17000.000000  17000.000000  17000.000000   17000.000000   \n",
              "mean       539.410824   1429.573941    501.221941       3.883578   \n",
              "std        421.499452   1147.852959    384.520841       1.908157   \n",
              "min          1.000000      3.000000      1.000000       0.499900   \n",
              "25%        297.000000    790.000000    282.000000       2.566375   \n",
              "50%        434.000000   1167.000000    409.000000       3.544600   \n",
              "75%        648.250000   1721.000000    605.250000       4.767000   \n",
              "max       6445.000000  35682.000000   6082.000000      15.000100   \n",
              "\n",
              "       median_house_value  \n",
              "count        17000.000000  \n",
              "mean        207300.912353  \n",
              "std         115983.764387  \n",
              "min          14999.000000  \n",
              "25%         119400.000000  \n",
              "50%         180400.000000  \n",
              "75%         265000.000000  \n",
              "max         500001.000000  "
            ]
          },
          "execution_count": 16,
          "metadata": {},
          "output_type": "execute_result"
        }
      ]
    },
    {
      "cell_type": "markdown",
      "metadata": {
        "id": "4MQuiRFwL7zn"
      },
      "source": [
        "## 6-2. Z-score Normalization\n",
        "\n",
        "Feature가 여러 개인 데이터로 모델을 훈련시키는 경우 각 피쳐의 값은 거의 동일한 범위를 가져야합니다. 예를 들어 한 feature의 범위가 500 ~ 100,000이고 다른 feature의 범위가 2 ~ 12인 경우 모델을 훈련하기가 어렵거나 불가능합니다.\n",
        "\n",
        "이번 실습에서 다룰 정규화 방법은 각 raw value(레이블 포함)을 Z-score으로 변환하여 정규화하는 방식입니다. **Z-score**는 특정 raw value에 대한 평균으로부터의 표준 편차의 개수입니다. 예를 들어, 다음과 같은 특성을 가진 feature이 있다고 가정합니다.\n",
        "\n",
        "  * 평균은 60 입니다.\n",
        "  * 표준편차는 10 입니다.\n",
        "\n",
        "75인 raw value는 Z-score이 +1.5이 될 것입니다:\n",
        "\n",
        "```\n",
        "  Z-score = (75 - 60) / 10 = +1.5\n",
        "```\n",
        "\n",
        "38인 raw value는 Z-score이 -2.2가 될 것입니다:\n",
        "\n",
        "```\n",
        "  Z-score = (38 - 60) / 10 = -2.2\n",
        "```"
      ]
    },
    {
      "cell_type": "markdown",
      "metadata": {
        "id": "OcJB34JzSmcY"
      },
      "source": [
        "위에서 다루었듯이 Z-score 정규화 공식은 다음과 같습니다.\n",
        "\n",
        "$$\\frac{value - \\mu}{\\sigma}$$\n",
        "\n",
        "여기서 $\\mu$는 평균값이고 $\\sigma$는 표준 편차입니다. raw value가 feature의 모든 값의 평균과 정확히 같으면 0으로 정규화됩니다. 평균 아래에 있으면 음수가 되고 평균 위에 있으면 양수가 됩니다. Z-score의 크기는 표준 편차에 의해 결정됩니다. 정규화되지 않은 데이터에 큰 표준 편차가 있으면 정규화 값이 0에 가깝습니다.\n",
        "\n",
        "아래 그래프는 Min-Max Normalization과 Z-score 정규화를 적용한 데이터의 시각화입니다.\n"
      ]
    },
    {
      "cell_type": "markdown",
      "metadata": {
        "id": "Dx-hHozdjSpc"
      },
      "source": [
        "![Screen Shot 2020-11-11 at 1.24.41 PM.png](data:image/png;base64,iVBORw0KGgoAAAANSUhEUgAAA3YAAAFmCAYAAAAh5Ag/AAABRmlDQ1BJQ0MgUHJvZmlsZQAAKJFjYGASSSwoyGFhYGDIzSspCnJ3UoiIjFJgf8LADYbmDIyJycUFjgEBPkAlDDAaFXy7xsAIoi/rgszSnbzu4v4CrYmPDi/XqfO088ZUjwK4UlKLk4H0HyDOSC4oKmFgYEwBspXLSwpA7A4gW6QI6Cggew6InQ5hbwCxkyDsI2A1IUHOQPYNIFsgOSMRaAbjCyBbJwlJPB2JDbUXBPicUvMCFdzDjczNDDyCCTiYVFCSWlECop3zCyqLMtMzShQcgaGUquCZl6yno2BkYGTAwAAKc4jqz0HgsGQU24cQy1/CwGDxjYGBeSJCLGkKA8P2NgYGiVsIMZV5DAz8LQwM2w4VJBYlwh3A+I2lOM3YCMLmsWdgYL37//9nDQYG9okMDH8n/v//e/H//38XA82/zcBwoBIAsK1hhgH2sEUAAABWZVhJZk1NACoAAAAIAAGHaQAEAAAAAQAAABoAAAAAAAOShgAHAAAAEgAAAESgAgAEAAAAAQAAA3agAwAEAAAAAQAAAWYAAAAAQVNDSUkAAABTY3JlZW5zaG90juBKLgAAAdZpVFh0WE1MOmNvbS5hZG9iZS54bXAAAAAAADx4OnhtcG1ldGEgeG1sbnM6eD0iYWRvYmU6bnM6bWV0YS8iIHg6eG1wdGs9IlhNUCBDb3JlIDUuNC4wIj4KICAgPHJkZjpSREYgeG1sbnM6cmRmPSJodHRwOi8vd3d3LnczLm9yZy8xOTk5LzAyLzIyLXJkZi1zeW50YXgtbnMjIj4KICAgICAgPHJkZjpEZXNjcmlwdGlvbiByZGY6YWJvdXQ9IiIKICAgICAgICAgICAgeG1sbnM6ZXhpZj0iaHR0cDovL25zLmFkb2JlLmNvbS9leGlmLzEuMC8iPgogICAgICAgICA8ZXhpZjpQaXhlbFhEaW1lbnNpb24+ODg2PC9leGlmOlBpeGVsWERpbWVuc2lvbj4KICAgICAgICAgPGV4aWY6VXNlckNvbW1lbnQ+U2NyZWVuc2hvdDwvZXhpZjpVc2VyQ29tbWVudD4KICAgICAgICAgPGV4aWY6UGl4ZWxZRGltZW5zaW9uPjM1ODwvZXhpZjpQaXhlbFlEaW1lbnNpb24+CiAgICAgIDwvcmRmOkRlc2NyaXB0aW9uPgogICA8L3JkZjpSREY+CjwveDp4bXBtZXRhPgpogSKLAABAAElEQVR4AeydB2BURfPAB0jovffeQTpYUEFBQRR7V+z62fun/m1YPnuvKCrFghWUIiggAoLSe6+hE1ooobf//iZufIRLLsEAudyshrt7Zd/u797tvJmdmc1x0BWxYgSMgBEwAkbACBgBI2AEjIARMAIRSyBnxLbcGm4EjIARMAJGwAgYASNgBIyAETACSsAUO7sRjIARMAJGwAgYASNgBIyAETACEU7AFLsI/wKt+UbACBgBI2AEjIARMAJGwAgYAVPs7B4wAkbACBgBI2AEjIARMAJGwAhEOAFT7CL8C7TmGwEjYASMgBEwAkbACBgBI2AETLGze8AIGAEjYASMgBEwAkbACBgBIxDhBEyxi/Av0JpvBIyAETACRsAIGAEjYASMgBEwxc7uASNgBIyAETACRsAIGAEjYASMQIQTMMUuwr9Aa74RMAJGwAgYASMQ+QR27dole/fuPawjO3fulP379x+2PTttWLFihQwaOEi2bt2q3Ro7dqxMnDhRDh48mKnd3LFjh3z++eeybt26kPXCme8h5XX37Nkju3fvDnmObTQCWYmAKXZZ6duwthiBFAQQPrNnz1Zhj6CZP3++rFy5MsVR//4jDw4I0sTExH9fmdVgBIyAETACGSJw4MABufHGG+Wzzz477LyOHTvKt998e5iycdiBEbxhwYL58t7778nGjRu1F7/99puMHj1a4JKZZcuWLfLkk08KimSo8vPPP8tVV1112P7XXntNbr/9dkExtGIEsjIBU+yy8rdjbZO1a9fKZZdddtggy/ZrrrlGlixZkq0pjRs3Tt58801VuPbt2yfdu3eXoUOHZnqfN2zYIDfffLOsWrUqZN1DhgyR//73v8JxwfLBBx/I//73P7NkBqHYeyNgBIxABglguFuzZo1s2rTpsDMZl7duS5rJOmxnNtmAfNu+fXuy8tqlSxe59NJLJWfOzH1MpT4MmKkpjLQB42nKGVK+l9WrV6d6Xjb5Gqwb2YBATDbog3UhGxPYnrhdRo0apQN+sJts/+OPPwTrW3Yu27cnqjBByOTKlUvOPPNMKVOmTKZ3GSG3dOnSVBW0ZcuWCUomLirBMmvWLH0YSU1IBo+190bACBgBI5A6gRw5cgh/KYvfxitGNrw4KleuLMOGDRMUomuvvVZOP/10iY2NTXmqjtkffvihFCtWTPeNGDFCypUrJ9dff700aNBAtzGu//rrrzJw4ECVAc2aNdP9xYsXF1wQn3rqKT0WhQjPjttuu01n1lA4S5cuLQMGDJC8efPKY489JgUKFBCut3jxYmnVqpXccsstUqhQIW0H9XP9hIQEKV++vFx33XXSuHHj5D77ftIo2pMvXz5txyeffCKDBw9WGcg+2lSvXj1tF9ebMmWK9OnTRw2TcKHehg0bcqhe94cffpBffvlFChcuLGeddVby9fSAFP/QhmA7/G62BZVM+vDtt9/Kn3/+qdzPOecc6dSpk+TPn1/mzJkjvXr10pm/pk2bahVcf9KkSfLEE0+oBw7fXf/+/fUZpkSJEtK5c2ehDgqziczc4qFDmy+//HJp166d7kPBfO+992TevHnaHvr5n//8R/iurBgBCJhiZ/dBliaQI2cOiYmJOWygDW7H0smgj7Datm2bKiBFixaVCy+8MFUliEGZma+aNWuqMGAgrlWrlpx99tkqhICCMoUyw8DNgH7yySfLKaecorzwtWfgbt68uc4aohQxszh9+nSpVKmSKqIonrQJIbN582bp16+fCrQzzzhTWrRsoXUiULnG1KlT9ZyqVavKeeedJ7SfklKYINAQ5BSE1cyZM5PZwKl27dra79y5c6tw4CEAd84aNWqo0ClSpIieiyKGgOaPazVp0kQ5BwWXHvj3P2xHsUxZuCZ/vhAfgiKOoKUNZ5xxhgpu9i9fvlxGjhwpbdu21YcStnFcXFycXHzxxXzUB5bhw4drnAXtOu2007Rt7IM5DxALFizQ7+jcTudKjZo12KXfFUJy7ty5ygMOfJcIRStGwAgYgexCYNGiRao4oQQ0atRIZc7jjz+uioBXZoJ9RV6MGTNGZ6E6dOggKG24Ob744ovy5ltvSpnSZeTHH3/UOtu0aSPICJQOFLN33nlHq0KOcA7nt27dWsfVkaNGSq+eveSCCy4QzmP8RVlkzC5ZsqTKRmLZypYtK1deeaW6MOLxUb9+fVXYMAqi5Lz++uuqpAXbzHtkIgohsopzvHGTOnr27KmKJLIHd036goKIbEGWo2DiOlmnTh3pP6C/XuOiiy5ysq6IKoChZkWD10cuI0uI9+P5AgVz/fr1ybN1yOFXX31Vpk2bpgo1oQywio+Pl7vuukuV3t9//z1ZGaPuhQsXqqynvvHjx8vbb7+tzxQofjyPeNdQjKgozlWqVNH+UOezzz6rzUO5w0MGGch3QV30JaXBNdgXex99BP55Iou+vluPswkBlAksZ7hJYK3DYta3b18dPN966y0VVCm7yiCNGyEDNkoPfvM//fSTKnn40SMwUJywPKJsIVxQKu6880654oor1GL4zDPPqNJRsWJFtVKivGFloz0IMxQTBNuMGTP0PQMwQgmr5aeffqrCjDajlOL+gRKHUjRhwgQdyL2F1bcdAf3999+rYD7ppJPUnYQ6OQ/BQr0onyi0CE3iCFDGaAvK419//SXPPfec8kB5+r//+z+1wmLx5LrUkVZBiCBcYcF76ua9L+zDsgo3vgeYDho0SF04EUK4zcK8QoUKyYodyi8CEMXOC3osv1iBOR4uKJ1Yih955BHhoQZhjfCmbiyXfMZF9auvvpITTjhBeXAcDzCm2Plvx16NgBHIDgQYd1Gcbr31VlXsUAQwKpJohBk45EHKwjiNEvjQQw+pLELmvfDCC7J08VLZv2+/ypVTTz1VFSJm/erVrSePP/G4TJ40WVq2aqlGSMbtrl276rjPWI88ZHxF6eAVmdSiRQudebrvvvu0CczoYRhF+WNGCddKlCFcTqtVq6ayD6WT2beUhX7yh6xBrvGHTHn//ffVCIv8Yh/jPkrQ3Xffre088cQTVc4RK4eRtfvH3YUYRZQ92JQpU1ZlfcrrBT/zfIAsQzZSaAd8mWXk2QAljX7dcccdKrvgiyET+YzCzfEcF/wu+MwfBVdP+sJMK0ZICsoZ/fnyyy91Fo/2UidKJHGHX3/9tSqKtAMWzNKxH4NnqJlardT+iUoCpthF5dee/TrNjBKKCdYyHvSZjXvqyadUAWAQTFkYcFEWmKVDYUDovPvuu+rm4q2L33zzjVoi77nnHp0lQ0nkD6sZyiOKFgM/gq1gwYISE+t+Tk6mYmFD0cBlEmFKm7AoInhoI4M5M2W0E0Hxn9v+Izt37dQBHNeLV155RV02cBlJWWi3Fxa0E0GJIvnFF1+oFQ9Bg9Dt1u1DVVpfeumlZNcQ2sl1EeAorHBBUFMfVlOESmqFY5hZe/rpp7WvHIuQQjFDQMM/bmmcfPfddyrEsdyilHE8ApKZTY7hz7efa/Hef0bgo6j26NFDBTLfj1c2UdSxzNJPHjDYh3sQijSWUxR7+sM22oUgLFWqVGrdse1GwAgYgSxHwI+FKRsWHJt5jyKDQZHxFDmDYoUyguGQ2TUfe96+fXsde/PkyaPeKd4TpKxTblAKtu/YruegaCBPkGMUr8xNnzFdWp3YSo9t2bKlvvq2HTh4QA1p3gsEWUp7MKhRN4WxGi8WZCVte/7553UmDHmLDGV8J14+2D9ff/CVelWZ7D9A+/fggw+qwY9zmVlDbjDLRT0ch3cI3jjIIGa3kL0woOAeykxgWgXZgeIMY+rE2IgM53q0hTp5xejo+4qMQ7HjmNS+R39NzsN4ybMFSm2rlq3k3PPO1TZOnjxZDcw8N3jDKc8UKKn0jdjDjz/+WI/h3HPPPTfZK8bXb6/RTcAUu+j+/rNN71Fu2jo3DGZsGGh5yC9QsEByMDoufz6NMgN7zhw5VbCg5FR1M3IUzh3pXAWxnKHEMJji4uIVBDJloUAws4RVEEGBkodyRmHQRYChkCF4KcxUIRRw4aQejuF6WFk5Fmtb3359VZFDIUFYoJRw/XCFeikosVgnb7jxBm0PVlJm6IoVK66JV7gmfWI7rpu4rDCLiBLo+3bJJZeoa0ha10QYws778mMlRBGlzbR9xswZaqnEOsox/GG9RLnEzSScsIMZdeHSguUX4ccfwo14C+/+yndNoU7cTNnP942S2a1bN2lQv4GceNKJyj2t/tg+I2AEjEBWIcD4iJJE3DjKRHC8ZNYGRYjCeMd4y6wQheMYN70SwPjI8dSBjKH4MVo/uH8IZeA8zmEfx/LnC/uCbeAYP3vljxF3eO7YJAWObb69wdmjYN3MzGG8Q6Yys0j9eFYktTW51pBvOBYZ8Mmnn6gxk3g0fz28bpCzeH1QF4U2IE9g5PviKz544NC++u3BV2Qrbq14nviCAu2XSMjp+AV5cUzwc66cSTON/lxeaRuymFK3bl2VzXjn4HLao2cPGTV6lMov2su1n33mWUncnpSlmn5wfXjecMMN6prKuchzlFY8YZCVVowABEyxs/sgSxPwLg1Y3oLFD5B+cGdQ9ZZDjkPwsY/jEjYlaOC0Vy5wTST2DQUQoeALg7GvD0WIc70w5RhcI7lO4rakwRbhQdDzIcUJu6ALJddgMA7Ww3kIX+rC/ZPYBNJcM9hTCIr2M1WH1B3iA9a9N954QxXNK6+4UgUZ5x5wwgtrYzU3m+ZZIUwJsOe6CPygoMbiSztTK5yD+w9xCl6R5VhcOHGroexys45wDzLNny+/Xg+lzLPVg//+h3opvGIRJuaC4HrcSpmdO//88wW3HmbosHBWr15d2XEOfcMqy7kPPPCA9hcenP/5F5/rTF7Vv5V2jrdiBIyAEciqBBgfme0iyQbjnZ9VwlUfpSCUu6Lvix9HGcfJFo3Cxh/yxys7/lj/yjn8Ma4yTuJaSJIO2oEShoxgFsrLD39e8NXVEPyY5nsMlsgcbxzEewTZ4RXUtE7GMEv4AvKAWS5fmIFEJmCEpV76S6HPvt/E5yGnfBz3H2PSl3QtZb+94sz2OnXqKh/cIr3chh8ykllKYv2RhYRaUHC7ZObSP8ewHzlKWAftwpjJLBzGZ4zAxBDWrFUz2YjK98Q+vhtmPjFI8wc/jMvMIJpip6jtH0fAFDu7DbI0AYQbyhNueAg9Xxgk2Ycg88ULN/+ZVwbjcuXLyf3335+sEDBL5Qfc4LH+PecwQGO1I4DcZw7D2ojgqFylsgpEf/yRviIgmP1DYJNghbr5jEAKpQSlvA5+/iyFgHLz8MMPJytUKJYor9SLwpOyYHVkNg1rKcKBwnX9TFjK44OfvXALbuM9fSlfvoLOqjEbWfVvhWrR4kXaLq7nM5jy0OLPwQXIK7EovCQ84Q8l3As7lN5atWvJzuk7VcnTk1P8w32A6woClIxxuLsya+nbkeJw+2gEjIARyFIEGPNxh8TQd++99+qsDeMZ7u243+HWTwllgPPyglfvcug7l5o84Viv2OGNgoEQOYL8IFEKGR5RFryC5OtLfs3xzyyd3xaqbX4fdaG84C6P0ZGEYxhQg233x/LKdv64fu/evVVGwYCQCeQNrom4IeL2Tzz5TTfdJCQioU5cMQlTwHuGWDRCAojJ45kBJdFfM3i9cO/9OVwbt1MUKsIGeEZApqEM4w7KLB8KHF4n7MdThuQoGGy98Xmk8wzCy6aqk5N8BxgjUehQVK+++mpVsrkXuAbXRVa3bdNWrr7mav2OmI3kOQb56d1sw7Xf9kcPAVPsoue7jsieImSwahEThoLHYI7lj5gwBnXcExgYUTiCih3vGYDZjoKGIAkWvz94DjEDnEMwOcoSAzOxchyDcOE9WR5x2cTixrHB86l//4GkawavxXHBQpv4QwhyHeLEiOejf7ib4KPvi2+n/+z7xAwY7hfEFzCjhaLLPhQonxkTYcjsGW4dKE8IB5QmZrqwfHJdjucauJhioaVdoQrbU/aD49jm24TgxgqJ8EaJQ5iRCRQ3GQQRn/keuBZKLEIJYUhcB8ILCy5KGYH9XA8rLDOrfH/XXH2N/DH6D1XQ+d4pCFSEKA8guHvST1XaV62WmFwxh8yc6gn2jxEwAkYgCxNAHqAMkKUShYCCskXyEa+wIX/wAPGfmfHCNRFDXqjZLwxmxNohO31hnKRO72qI+zzjLAoHScBQ9PDOYFxGTpGcBRd+X9h20oknSc0aNf0mPY64tKBHBzIBGcN4j1KGAsY1mH1C8SLOvE7tOu464mRDJU385Y21eJf4PjK2I584D9mCzPFKJG74ZMBkphOZwkwZbeUcCuEAGC2RL7Bg+QX6DYNQBflJ2/yMqT+G6zA7SB1wRu5WdYoZMou2PProo8oZZsg0jMnIOuQYdZJcxic7Y5aPMAYv65HHfB8UZB4GW7x5MJJSHzKbTNoUkqPhmUJfaQsx5t74rAfYP1FPIId7qEv/XHrU4zIAx4MA1jAyYfmBGaWG2Tt8y1HsULoIbGbQRSAx2CGcyADGZ9Z+80LAtx+LHgMiAyrKDoX6UbAYoFFAcG9AmWMAZiBHCDErhFBAscNSyGesahSUERKxIFBucH7wFJQZ3FtQTLHyofhx3SKFi2hwNkoqgzgzZripIGBxG0FQI0yJn0PZ80lLyGqJUEC5QUiSHdJbARF8KKO0AUHGuj6krfYzcQh2ZvDgxIwYFlr6iPKMGwvZLElf7ZcQ0A78/Q8Z0GgHyVZw3fEFBZs+0j6EN7F7MEPoIJD4nrCkesUaof7RRx+poolQ5NpYWF9++WXtN4lW/Iwe+ziX9NkMU2TP7OWWmECw830gwLGQ8tBC3AYClu1wQAiT3ZQ6rBgBI2AEIokAMg05x3gWdOOnD+xD1qD0MMYyNjKGcixjcMoSaj+KEfVwPOf5ggGQfVwzKDOZOWS8Ddbv24FCSOE6jN2c6+v0xwTb6j00OM7P2LGf69Jn6uPafh/X5L2XY/5ayHkMlzCgsN9z8HXoDvcPbWMWjXZxDvI72E5/HK/Uw1+wbrbTNrhTt78mn2Hj6+W4YKH//FEXJfiea1Anhf2emW5w/1A3beZaKffDEDnHd+Lr9ufZqxEwxc7ugYghgPskFjsGZG9ppPEM2li+GOiZ9WIgZNDE4om10FsAgx1lgOUclCKvGDHYo6TgxugFGMd5JQXlhGtQGHSXLlkqJUuVTD6f7RzLwI8rJ4V24HJCe9lOW7HgIbiwGNJWhBF945r451MHSh5tR4mhz1hBOQefeuqhzfTPK0Fci7qxFNJOLySwEJItjXPol7eAcjxCBYsg56AgM6NX1SlbwWM4joKiTDton6+b7Wvj18qB/c7d1VkZvbBD6Kx2s2axuWO1LcEHBM6hTcQ9li6TpCBSt7cmcw34UKiTtgULrFBK6Sv9CX63bEcQprw/gufbeyNgBIyAETACRsAIZFcCpthl12/W+mUEjIARMAJGwAgYASNgBIxA1BBIPQ1e1CCwjhoBI2AEjIARMAJGwAgYASNgBCKbgCVPiezvz1pvBIyAETACUUIAF3Dcu3F79q7PUdJ166YRMAJGIKoIMN4TyuJDgNLbeVPs0kvKjjMCRsAIGAEjkAoBkj/4hAbBOFQOZx8KmU8iEayC7QjwULGtweN4T4In0uFTf8rY1ZTH2mcjYASMgBGITALkESAPAktSXXLJJRnqRMQrdgjMCRMmaFIJE3QZ+u7tYCNgBIxAxBFA4JHsh8ynR3vWyltMw0FijSqy2ZIYiCytLVu2TD6FhEwDBw7UhYVZLJksvF5WkQwJRY3MemR/JattWn1asmSJJn1C0JNYCBZWjIARMAJGIHsRQLdhrUOWtMpoOWqKHY1CaJEdLyY25pDFpWkk2f5YYJnCGhzBlK1kK4yLi9PsdqR29xkK9eAU/6DRduvWTTMEkjnQBF0KQPbRCBgBI5BNCKD0IB9YcgPlKaMuKmlhQHYgk8i0Sv1Tp07VGTLkE0pXanKI81hgGAWN7LbIMq/YIZ9eeOEFXZaENTBZloNMuyyzgoxkyRTkFus83nzzzdLLLefBEiGpldiYWD2WJVx8Nt/UjrXtRsAIGAEjEJkE8OTAkEem74yWsIodFktSjCOscDPhQggr1vRKy3WEFOusI4UCRwp6Ftz0lki2se4V6eWpk7WmWNuL+lhf7LHHHlPBimKI9RPhl5pQpcOkkkcotmnTJqP9t+ONgBEwAkYgggiM/mO0DP55cKa3GHnEOop+5uytt97SJT5Gjx6tMozFlkMV5Bry57rrrpM77rhDZZo/jiVEhg8frutRoiyyhAnyDcWOtSEXL16s+zie2b53331XevbsmSwrfT0pX70sTbndPhsBI2AEjEB0EwibFZPFmVlAmfWy/vzzT7nlllvk2muvVctiWuiKFi2qlsp77rkneRFGfzzWzXHjxukCye+8845MmTJFhR/7P/30UxV+zz//vArA7777Ttf18uemfEXAYTFFu7ViBIyAETAC2ZsAY/3R8MxAxmHIZA3KOXPm6IzYZ599pjNo3rskNbIYJTFSMgsXLChuuI2i1FGYaUOm0gdcN4PGyI4dO8rMmTPVkBqsA++VGTNm6HnLVyw/RHEMHmfvjYARMAJGwAiEnbFbvGixClFcXoYMGaKWRhYTxgqJ1ZFFhEMVFkRu3LixLoActC4i+AYNGiSnnHKKztQhoAkORGk899xz5ffff5cHH3xQChUqJDVr1tRrM3NXvXr15MtwDrOIvBKbkFKYJh9ob4yAETACRsAIpIMAXikoXJMmTZLNmzdLjRo1VMlDfsXEhBWVIa+AnMqfP3/yPtwnSXxC3B1/KH2+sA83TTxigqEJGD8xhNIGZGGHDh3Czuj5Ou3VCBgBI2AEootAWGmVM1dOFTS4YCJUOnfurC6TCBqEVkYLFtEVK1bIOeeck3wqyiEWSUp8fLyUKlVK36NM4oKJW2ew4Mr50EMPqZsM9XEOllArRsAIGAEjYASOhAAhAWefdbb0/ry3GhYxMCLjUMSIgTuSgoEzKCe3bt2q1RDHhyKH+6Uv7EPepQxxwCXUl2+//VZl5dGYsfTXsFcjYASMgBGIXAJhFTviCnBHIX6AoO569erJmDFj1B3kSIO3EZTBWTaUM58ljFc+B4vf57cxm0eMHnUgND/++OPk8/0x9moEjIARMAJGICMEzut8npx40okqW4iHY/bsyiuvPGRmLbX6QilbeLdgmESBo76//vpLKlasKCh8eK08/9zzydXhmknsOvtSK/v3Herqmdpxtt0IGAEjYASik0BYxY6MXW+//bam3ESxQzghmK7rcp2+zyg2lDpcXAgqpyAMiSGgTgqCcOWKlfoepY2/lO6eQQvqzp071bqqJ9g/RsAIGAEjYASOkAAK2G+//SazZ89W4yXyCVfK8847L81slcTNjR8/XkMPcJkcPHiwdOrUSTM+E5Jw//33y1VXXSXvv/++dO3aVVt32WWXyeuvvy5PPvmknHDCCTJo4CDp/kl3c7M8wu/OTjMCRsAIGAGRsMlTgEQwOZktiT1AYK1bt05yxeQSlKrUCrNppKVGUKKcrVy5UjNkMvt26aWXakwdAerTp0/XIHLvSomr5w99f9Bzhw0bpq4pZcuWTe0yqhiGspSmeoLtMAJGwAgYASOQggCzc6+99poun4Nsw4CIksZrWgX5gxz7/vvvdWaP+LzevXvrKbhWYhjFcNm9e3e54YYbNMszO6mXdYo2bNig5779ztvSunXrtC5l+4yAETACRsAIpEkg7IwdShzLFjDDRmYvAslR2pi9e/jhhw8J8g5eibg3LJZLly5VdxaOv+aaa1TI4YJCemiUuLx58sr9D9yvCVQ4H8G3YMECXXyW67300ktSoUKFYNX23ggYASNgBIxAphLACEkyrv/973+65EF6K0cmXn755foX6hxCB1588cVQu1QR/Oijj0Lus41GwAgYASNgBDJKIKxiR7ZKAse//vrrw4K607oYLpzTpk0LeQhWzPvuu0//Uh5AUDnuKvxZMQJGwAgYASNwLAjgGYKsw62yadOmh8Rtk8grMxdDPxb9sWsYASNgBIxA9BEIq9jhQoKyZe6O0XdzWI+NgBEwAtFCgJm39u3bywMPPKCGTDxF2FagQAGNj2PhcitGwAgYASNgBLIygbCKHZZLAslxnaxbt65aLXHFJAEKSxYcaWbMrAzF2mYEjIARMALRRYDlBj755BOpX7++dDi7g8aRY9Bkpq5atWrRBcN6awSMgBEwAhFJIKxiR9KTzz//XBOgIORIfoJihyWTxVStGAEjYASMgBGIdALE1zE7RwbMU089NdK7Y+03AkbACBiBKCQQVrGbOnWqJjJh3Thi46wYASNgBIyAEchuBMqUKaNhB7/++qtmgvYLhWPMZJkfkqBYMQJGwAgYASOQlQmEVewaNGggkydP1qUNTLHLyl+ltc0IGAEjYASOlADLFOzdu1eX9BkzZowqedTFLN6NN94oZ5111pFWbecZASNgBIyAETgmBMIqdgmbElSxwz2F2APW9cEVs169erp8AWvcWTECRsAIGAEjEMkEihYtKg899JBma/Zr1x04cEATh7FIuRUjYASMgBEwAlmdQFjFrljxYnLJJZfo+j4odcTZYdWsXLmyuWZm9W/X2mcEjIARMALpIkDceL58+XTN1lGjRgnr2jVs0FBan9raZF26CNpBRsAIGAEjcLwJhFXsatWqJfyRMWzJkiVSqGAhqVGzxvFut13fCBgBI2AEjECmEvj+++81MybL/BQrVkxYx7Xfj/3khRdekHLlymXqtawyI2AEjIARMAKZTSCsYofb5ZdffindunWTbdu2iRwUadK0iTz11FO6/EFmN8jqMwJGwAgYASNwrAmsX79eFbnbbrtNrrjiCr18QkKCvPrqqzJx4kQ5//zzj3WT7HpGwAgYASNgBDJEIGe4o+fOnStDhw6VRx99VEaOHCkDBw2UsmXLyqeffqrumeHOt/1GwAgYASNgBLI6AYyYZMBkps4XYusKFiyo4Qd+m70aASNgBIyAEciqBMLO2MUtjZPatWtLhw4dBCFXqlQpufjii+Xrr7+W+Ph4W7g1q36z1i4jYASMgBFIN4HSpUtLpUqV5L333pOZM2fqkge8rlixQuPM012RHWgEjIARMAJG4DgRCDtjh7Ajtm7evHlqtWQR17/++kvIFsbaPlaMgBEwAkbACEQ6AWbrbrnlFrnuuuskLi5OPVQKFy6s3irEmVsxAkbACBgBI5DVCYSdsTuh0QnSqFEjee6553Q9n927d0tsbKzcfvvtUqRIkazeP2ufETACRsAIGIF0EUCmsbTPSSedJPv27VOZx5I+KH1WjIARMAJGwAhkdQJhFTvSP995553SsWNHdb3MmzevVK1aVePssnrnrH1GwAgYASNgBNJLYOHCheqKuXjxYmH5g9y5c0unTp2kS5cukidPnvRWY8cZASNgBIyAETguBMIqdrRq48aN8ttvvwmJVAoUKCDt27fX+AOEnhUjYASMgBEwApFOYOfOnZoUDBnH8gYYNZctWybffPON1KtXT1q3bh3pXbT2GwEjYASMQDYnEFaxIwU06Z6JrWOmjtfu3bvL6tWr5Kabbs7meKx7RsAIGAEjEA0ENm/eLIQaXHTRRdKkSRPtcs2aNWXq1KlO3q2OBgTWRyNgBIyAEYhwAmEVu2nTpklMTIw8+eST6n6Je0r//v1l1KhRcs45nWzR1gi/Aaz5RsAIGAEjILqsAfJtxIgRasQkC/SiRYtk/vz50rJlS0NkBIyAETACRiDLEwir2BFAjstl0aJFhfg6Cuv8kBWTfVaMgBEwAkbACEQ6gUKFCmks3QcffCA33nijdoe4urPOOktatGgR6d2z9hsBI2AEjEAUEAir2J1wwgnSr18/ee2113Q9O1wx//jjD2nWrJmUL18+ChBZF42AETACRiC7E9izZ4+UKFFCHnnkEdm2bZvwmSyZVapU0dm87N5/658RMAJGwAhEPoGwil2ZMmVcLN1NMmzYMJk4caIudUDylM6dO0uuXLkin4D1wAgYASNgBKKeQEJCgvTo0UOXOzDXy6i/HQyAETACRiAiCYRV7GbNmiUbN2xUK6bPgkkcAn9WjIARMAJGwAhkBwLFixfXbM8kS2ncuLGGIGSHflkfjIARMAJGIHoIhFXstmzZIhMnTZTWp7ZOjrGLHjzWUyNgBIyAEYgGAix3wPp1Q4cOlZ9//jnZ/ZLlD6699lo5/fTTowGD9dEIGAEjYAQimEBYxa5cuXKydOlS6datmzRv3lwzZB48eFCwbtavX9+UvQj+8q3pRsAIGAEjkEQgNjZWLrzwQk2UQnIw5ByFBCoVyldIOsj+NQJGwAgYASOQhQmEVezWrVsn+/fvlz///FMmTJigXeEzrioVKlQwxS4Lf7nWNCNgBIyAEUgfARYkT21WzkIP0sfQjjICRsAIGIHjSyCsYteqVStp0KCBKnfBphJvV7BgweAme28EjIARMAJGIGIJ5MyZM2Lbbg03AkbACBgBIxBWscMNhT8rRsAIGAEjYASyGwE8UPx6rTYzl92+XeuPETACRiC6CJh5Mrq+b+utETACRsAIBAjELY2TX375ReLj42XKlCmyfv36wF57awSMgBEwAkYgcgiEVOwIGl+7dq2QERNr5t69eyOnR9ZSI2AEjIARMALpJLA2fq0MGTJE5s+fL19//bUsXLhQz0T2+T+fSCWdVdphRsAIGAEjYASOC4GQrpgocgMHDnBZLxvoIuSrVq3SbGG2IPlx+Y7sokbACBgBI3CUCNSpU0ezPb/33nuaATouLk6+/fZbITMmJX/+/Cr/Tj755KPUAqvWCBgBI2AEjEDmEAip2BFnsGXLVvnjjz90kdYVK1ZI+fLlkzNgYr0sUriIVKxU0eLvMud7sFqMgBEwAkbgOBAoWbKkPProozJ27Fhdw46MzzWq15D9B/brkgcxuWJU/h2HptkljYARMAJGwAhkiEBIxY71fNq1ayevvPKKzJ49W3bv3i2TJk0SnzEMS2aLFi3kkUceEda5s2IEjIARMAJGIFIJVKpUSWflyALNguRbt26VHTt2SOnSpaVs2bJiSVUi9Zu1dhsBI2AEootASMUOBE2bNpU+ffrIyJEjZePGjdK6dWt1y2QfCp4tdwAJK0bACBgBI5AdCOTNm1cOHjgoH3zwgSxatEhn61jb7swzz5RLLrlEeG/FCBgBI2AEjEBWJpCqYkejUeDatm0rmzdvlsmTJ8vMmTOlcOHCcuqpp0qNGjWSFb2s3EFrmxEwAkbACBiBcAR27doln3/xucq7+++7X4oULSKzZs2SAQMGSO1ataXVia3CVWH7jYARMAJGwAgcVwJpKna0LDExUV588UUZPXq0lClTRrZv3y69e/eWBx98UC666KLj2ni7uBEwAkbACBiBzCCQkJCgSt3FF1+crMRVr15ds2QuW74seduRXCuYVTOlW6ffl3L7kVzHzjECRsAIGIHoJhBWsZs6daps27ZNfvjhB6lcubLS6tmzp6aHxj2TGAQrRsAIGAEjYAQimQCxdXny5JFx48YJmTJxvVy6dKksX75ciL070vLaa69pOAPhCyyfgFtns2bNtLqffvpJZsyYoTF8nTt3liZNmhzpZew8I2AEjIARMAISch27IBfWsiN4vHjx4smba9asqTF2BJcfScFCSUIWXF/44723WlIfyy2wjdfg9iO5lp1jBIyAETACRiAcAcIMzj//fA05uOuuu+T222+Xrl27aoIwr4iFqyPU/u+++05KlCghp59+usaqI08pI0aMkBdeeEFq1aolJCy78847bXH0UABtmxEwAkbACKSbQNgZu4YNG8oXX3yhC7eecsopmi2sR48equxVqFAh3RcKHsi6eGQhI6MmcXxVqlSR77//XlNKT58+Xe69915hiQUE3ltvveXW06sfPN3eGwEjYASMgBHIdALEjyNvpk2b5mTdFqlWrbrUq1dPDZlHcjEMkzExMVK1alWpXbu2GkgLFiyoVb3zzjtywQUXyFVXXaWfWTtv4MCBctNNNx3JpewcI2AEjIARMAISVrEjxgDrZffu3dUdE2Ys1HrHHXeolfFIGKLMNWjQQHDzxFIZLPfdd58Ku3vuuUdef/11tWh+9NFHUqhQoeBhye8tLiEZhb0xAkbACBiBf0kA7xQyYWZGQT4VK1ZMhg8fruvC5sqVS+6+626pVr2aLFu2TJB3vuCGiUKJMhiUaxPGT5C18WvVTXTK1CmH7PPn2qsRMAJGwAgYAQiEVew4iMyYzNbt3LlTZ9iwOAYFD8dktGzYsEGVRWbucH+h4PY5Z84cnSFE4bviiivkt99+E45NTbEjbgFhacUIGAEjYASMQFYjgIESYybxda+++qrcfc/dGqNOqEFQrvGeZGUpy9x5czWBCzJx8eLF6uGS8hj7bASMgBEwAkYAAulS7DgQBYq/zCi4phBnMHfuXGE27umnn5ZRo0YlCy/iESisK8Ri6CiUwYIC+Pzzz6sQ3Ldvn8TFxekSDMFj7L0RMAJGwAgYgfQSYKYMWUMClcw0FgZDCe668y457fTTtEkkZ1m/fn1y8zBgVqxYMfmzf3PdddfpW4ypX375pcpNv89ejYARMAJGwAgECaRbsQue9G/fk0kTlxNfOnXqpAILF8+UBWGWMoEKgve0007TBCs+Ccu/nUFMeV37bASMgBEwAtFDAIPhkCFDNGMlWTEzo+zZs0eNkyiKzNrNmTtHSpYsqVXjejlo0CBB/pFEbPq06XL55Zcf5g0TlG05c4TNd5YZzbY6jIARMAJGIEIJhFXstm7dqmvXsYYdgimzC0pbo0aNZPXq1Rq0joDDcsnSCghFhFr+/PkPuSwzeQSdUzh+/vz5hwnDQ06wD0bACBgBI2AE0iCAdwgGR2LiMkuxI47ugw8+UGWOLNLDhg2Tl156SVvxf4/9n1x+xeXy8MMPJ8m/BvWlffv2abTQdhkBI2AEjIARSJtAWMVu5MiRMnv2bA3yTqlgpV116L0ocmvWrBHi9IgZYFHYoUOHyqOPPqqul6SVHjx4sNxwww0yYMAAzZzpLZyhakQYp5zRC3WcbTMCRsAIGAEjkBoBFDqShZH1efv27VLVZbLEmMkfGaDTkkOp1YmB8tJLL5UFCxao8fHGG28Ulgui1KhZQ3755Rf5+eefNYa9Y8eOhxkxU6vXthsBI2AEjIARCEUgrGJHiuZJkybJypUrNV1zqEoyuo31e/zyBsTHdejQQS666CKt5uWXX5Znn31WJk6cqDN3vA8GmGf0Wna8ETACRsAIGIFwBDZu3KiZKol7e/vtt9VgiNGQ9e1Yguecc84JV8Vh+wkbYAkF/kKVUqVKqREz1D7bZgSMgBEwAkYgowTCKnYodH1/6CvffPONeHdMsnudeOKJ8t///leToGTkorhWYsFE0OFGSQA5mTG9m2fz5s3l008/1Zk8hF5wYfSMXMeONQJGwAgYASOQXgIk7cKQiBeILyh2yKyUy/L4/fZqBIyAETACRiArEQir2LHe3DvvvqPxbt7l8eCBg1KiZAkpUqTIEfWFGDncXFIrJFfhz4oRMAJGwAgYgWNBAAWOJQjIPEl4QJcuXaRNmza6Bl27du009u5YtMOuYQSMgBEwAkbgSAmEVezKlSuns2YkKEGxwzWTmTZm2Jhts2IEjIARMAJGINIJMFP3xhtvyOTJk1XmkSWTMIAJEyZIgQIFjsgVM9KZWPuNgBEwAkYgsgiEVezITPnOO+/oOnMoeV27dpUZM2boWjrEHWTW2naRhc1aawSMgBEwAtmJQHx8vBBn98ADD+iaqjG5YtSAWb58edm2bVt26qr1xQgYASNgBLIpgbDrF2C9XLVqlVxz9TWayZIFwbFiLl++XBCEVoyAETACRsAIRDoB4uiQb2RqJo48R84c+hn5x4ydFSNgBIyAETACWZ1A2Bm7jRs2arxbterVZOq0qRpInjdPXnXLRPhZMQJGwAgYASMQ6QRYzoCkYL1799YEKiTvYt05lL2TTz450rtn7TcCRsAIGIEoIBBWsataraoMGDhA17IjsHzFihW6zhxpnMuWLRsFiKyLRsAIGAEjEA0ESJhSrVo1TZhCjB1Jvq644grLzhwNX7710QgYASOQDQiEVexq1aolrVu3Visma879+eefUq9ePXnooYd0QfFswMC6YASMgBEwAkZACbAUD7N3GzZskPr165tSZ/eFETACRsAIRAyBsIodM3NXXXWVtGrVSgPKyYTZqFEjXdMuYnppDTUCRsAIGAEjEIYAMeVPPPGEzJkzRxOnxMTEyLXXXisPPvigLlQe5nTbbQSMgBEwAkbguBIImzyF1q1YvkJ+/vlnGTRokP6NHTtWduzYcVwbbhc3AkbACBgBI5BZBDZv3iw9evRQD5XZs2cLHir9+vXTVzxVrBgBI2AEjIARyOoEws7YrVmzRl559RXtR5MmTQTh16tXL1m3bp3cdtttatXM6p209hkBI2AEjIARSIvAzp07JX/+/HLGGWdo5meObdCggZxwwglmyEwLnO0zAkbACBiBLEMgrGI3c+ZMXavukUcekcqVK2vDv/nmGxkxYoQud8DadlaMgBEwAkbACEQiAdZq3bRpky5xwLIG/fv3lxIlSqhyh0vmggULbHHySPxirc1GwAgYgSgkEFaxI+Uzf4ULF07GU6xYMd1G/J0VI2AEjIARMAKRSmDJkiXSrVs3wTvlwIEDarCcMWOGrl1HAhWUPDxUSKRixQgYASNgBIxAViYQUrFDuE2YMEHmzp0r27Ztk3Hjxsn69eulYcOG+vn333+Xxo0bCwu6WjECRsAIGAEjEKkEWNLg4Ycf1vXqgn3IkSOHrteaK1cuwZhpxQgYASNgBIxAVicQUrE7ePCgWi9nzZql7ik1atTQGAPcMlmslfXrKlasKKxrZ8UIGAEjYASMQKQSyJs3r1SqVEmbj1Fz48aNkpCQkCzfUOyCHiuR2k9rtxEwAkbACGR/AiEVOwRZhw4dpG3btmqxJOUzfyh1vvAZgWjFCBgBI2AEjECkE0Cp69Onj/zwww8q75BxlIIFCwoLl7dp0ybSu2jtNwJGwAgYgWxOIKRiR5/JDsYfs3fTpk2TSZMmaUZM9iEAcV/p2LGjFClShE1WjIARMAJGwAhELAHCDSZOnCgXX3yxyjZcMSm8otxZMQJGwAgYASOQ1Qmkqtj5hpMR7N1339WPRYsWVSGHYodryv79+/1h9moEjIARMAJGIGIJ4IGCjCtZsqSULl06YvthDTcCRsAIGIHoJRBWsVu6dKkKOoLLEXi+YMX0Fk2/zV6NgBEwAkbACEQiAbxPcLfs2bOnjBkzRpU8+pEvXz4588wzdU27SOyXtdkIGAEjYASih0DOcF3F5ZLZOQLKd+/erXF2JE0JxtuFq8P2GwEjYASMgBHIygRYz46QAzJBE1+HRwp/yDqTd1n5m7O2GQEjYASMgCcQdsauevXqKtS6du0qZMf0Ao/3l1xyiaWB9iTt1QgYASNgBCKWAIuUr1q1Sq6//no5//zzk0MN8EwhoZgVI2AEjIARMAJZnUBYxW727NmybNkyadSokS5zQIdIqFK+fHlV8rJ6B619RsAIGAEjYATCEcAzhaV8EhMThdk7U+bCEbP9RsAIGAEjkNUIhFXs4uPjpVq1anLffffZWj5Z7duz9hgBI2AEjECmECDEYM2aNdK7d2/p27evFCpUSOslI+bVV18tp512WqZcxyoxAkbACBgBI3C0CIRV7KpUqSLDhg2TqVOnCm6ZWDHJipknTx4pXry4WTWP1jdj9RoBI2AEjMAxI5A7d2654IILpEWLFuqV4i+MrCtfrrz/aK9GwAgYASNgBLIsgbCKXUJCgsycOVMmTJigbirEG6DY4Zp5++23W1roLPvVWsOMgBEwAkYgvQRQ4Fq1aqVJwnLm/CevGO/JjGnFCBgBI2AEjEBWJxBWsUOB+/jjj+XA/gNy4OCB5P4g6IoVK5b82d4YASNgBIyAEYhUAlu3bpVevXrJtGnTBGWOjJg7d+6UEiVKyLXXXiutW7eO1K5Zu42AETACRiBKCIRV7EiUQkGpy5kjZ7JyF7RoRgkr66YRMAJGwAhkUwLM2OGGWaFCBV2jFdm3aNEimT59urB4eaQWRPiBv+U4fdi774Ak7tkv+WNzSN7cMU6u5zjqXeP6vgm5cmbu9fYfOCiYnHO5asP1hWPjNmyTmSu3SIw7vnGVElKhWL40z+MJaK8zbO/Ys085Fcgdq9fa7ZbB2LnngOR1S2PkzZMzzTqOOmB3geD3nNMxhrLf5k3y6WF0LNpq1zACRuDoEQir2OGG+dlnn8mWLVu0Fbt27dL3BJLff//95op59L6bY14zwhdxcAzk/DHvm13QCBgBI5AWAbxQTj311EMOYdbuzTffTJZ/h+w8Th8Yn2PSoRztckrHqs3bZfHabTJvzVbZ45STfLG5ZNbKBFmxcYcULZBb2jcsJxc2ryRF8+c+rDccv3LTdtmwZbfkzxMjFUo4L538eQ47LtyGNZt3yNiF6107EqVYgVhpWaOUNKxYVGLRMv5FQV7NWL5Zxi1aL5u375XqpQvI6XXLSNmiod1mOf7zMUvkmz+XyDrXJzhWKlFQbj6jhpzbpKKEVDidVjd9eYL0nbhMZq3YrMpb8+olpEyRPDJ+0QZZnbBTShbKI+0alpdzGpXX9/+iS0d86ubE3TIhbpPMXJGg/WhWpbhUKVlA5qzeKnNWbZY9ew+obK9cMr+cXLOUVC1VQI0XR3xBO9EIGIEsSyCsYte0aVN54YUXkhdo3b1rt3z51ZdSoEABKVWqVJbtWLiG7d9/UPa6WEFJsmvJ1h17ZdfefVK8YB4VYuEsf+HqT8/+Pa4NxCvG5soZWqikp5IQxyDA9jirLEpabmeWJC4yrZK4e7/8OmOlCoWKJQpIp8YVpZwTjmmd5Zouibv2yNad+ySve1gonDdWL7Fl527Z5azBRQrkkULuYQDL4fEsWGj3ucbSitjYnPrKtr26DVus2+74H+92akPsHyNgBI4bAcZiDJi7d+9ObsPGjRslLi5OateunbzteL9Zt2WXTI7bKA2q55biqSham7btlq/HxUn/yStk1aZEN0vnZszcf8gEZMN+11fkwjRXz5qEXXJTm+qyfutuKZwvRiqXLCg7nUz4fMxi6TdpuazcuF3yuVmqU2qXlDvPqiN1yxVJN4KF8Vvlpf4znRK0Pkm5cNcsWyy/u15N6dConJMz+dNd1wE3bs9ySspcN9uG7N61e5/0/mOJxG/ZqTOSuWNySgunNL54eVOpWPzwen+bs1ZeHzjLyaw9yoELr9+6U9Y45bdW2cJSr/zh/Vrg2v/CTzNkytKNjtt+PW/6so0qr3ftdQvYuzblcn2asnSDTFmyUdrWLy15XDvWbdvjZGKMmxEsJtVKJWVXTa2ja137+U6L5o9V9hyHZEqv5NywdZe8Pni2/DJ9jWx3MhlxX9DdF8xELt+QKDscJ/dIoAVGDSsVl0c6N5QW1YonbbR/jYARyFYEwip2WDFTBo6fddZZ8sMPP8iKFSukcuXKEQOEQXi9GwQXrdvmrHwbZLazXBbIE6sD/Ug36O9xCkmDSsXk7g715NymFSS3e+APFgbH9dt2OVeORNnsFMEKTvmp7CxfhVwdGSkoPjPctftPWiErE7ZL48olpFPT8lKjdGGJPQJFiHbtc33j1C079shvs9fK0JmrnbIicvYJ5eWMemVVYQ3VxpXOmnpPz3EyYeEGtzuHCvz3h8yVt68/UdrULR1SKUQR7DcxTj4avkAWO0twEWeF7dS0slOgDjgFcZVsc22oVa6w3NaurpzfvIIUyZtbBRXCONY1CsFztAtuVMvWb5efp6+SSU7oliiQV85rVkFKF8krv8+OV0G81zGLcd9xy+ol1drKA80R4D/aXbH6jYAROAYEiLHDO4UYO5Qe/vBQKVOmjDRu3PgYtCD8JTBAMUM155spUq9qWbm4ZVU5s35ZyeOMVsHSd/Jyef/XOe5Bf39IDcEb+zBofvHHQpm7OkHWutmnos4gd6ob91mO/Z1f5jgjnTN+uvF628698tOE5U4J2iVdWleTcsXyOgWhhJsBPPS6wTagS3w9Nk5GzolX2eD3xTn5+8bPs2XYrNXSwo29yKcGYWbwUKJ+cvKyx8iFMm/VFlXkYp2SgoHWa0AorCOc3PukVEF59pLDv6/PRiySbbv2HiLTUHSXOznxy4zVUqNMocNkft8JcTI1bkOSIfBvwcV1fMEATD+ZMfx+3FIZMGW5zkQmYvDMnUuaVy8l955dR1rXKe1PSX7d4eTod+PjnLxereyLF8zrjislBfLlFhgViI2R1u67aOUYxbjZTZ47Fq9LdG3MIQ0qFHWzg8492H03A6ev1meJ7U6B82WXUxY3bN6ZzMZvp+3jFqyT3qMXax35cqf+/flz7NUIGIHIIhBWscOCuXbtWg0kp2v7nF/58OHDZdu2bVki7oCxlkF/rFPU8lRc7yxkRZzV8XC3EpS632atkbd/nSsznMsCcQa4XjAoUwcP+LndzNNcZxF8/OtJsiFxlzR2wmabG3xrlino3BoKyrRlm+SZH2fIZCdYdzvlrGih3NK5eWV59tLG6VbuaEevPxbJ24PnOGGwR2eKfp26Sn5yrh63tqst7RtgxQztShLq1sIyO8gJpflOwaI/ceu3yW9OmUHZo2/9nTA+p2lFefeGViHb+M6QeTJ+wQa32HzSAM9yFutdnU9+N1W+u7eNlHdWv2BhNvCHCcvk5f4zBOGVxwkvhP+3zr2FwuwXHJfEJ8qzfafKb3PWSDPnurLbuYIkOHeRSiXyy9mujwjR1AqzadOWb5QEJyyrOneS2s6aStntrpMnnYJoorOwPv7NVJnl3GhQ1mDRzzHOnyeXcy3apS41+kDgdgyZslIGugeh/13eXJpVtYRACtv+MQJRRgAvlLZt20q9evWSe862unXrakbo5I3H+Q3j7vq1W2Xxxn1OydnqvDJySrsGZbVVjPuTnSLSf+Jy54Wyzy1H5Aa/MIX6hjsZosqeq2Cik2/53WyTV+qST3dVTXL7Fq7ZLEWc6+ZJtUrLLW1qSMki+Vy8XkyycpmwY7escwbUnbsPyHCntGDwS1mQfb/PXCNj562TYTNXyf3nNJCznVvoTidXmcHavmufzh7i+YEyNmnJBvlg2DxZGr9NZSYKFbLUK3W+frb/6JSxoGLHDN2HwxbIFMclVIl1Xi0/Ol7lndzt2NgZIvP9Y6id4/iigPF8EK6gdPNc4ZZD1DaiRI2dl/Ts1KBSETcj948bK7OPX4xdLG+5mbYtTs6px8hB3ErXqQxNdIo08vxHJ5f+066ObNy+S0Y5g228k11sr4nhtG0tqVOhsIydH58c/3dIG1P56ve773jWik1Omd/s5J3N2h3CzD4YgcwgsGurC2x2RrU8BVzw7+H6SGZcIq06wip2Y8aMkeeee042bdqkAz9JU+rXry8PPvhgFomvy6HWsh9GLJTvluSX6k4Je/qiRjoLE+z4YmcBe3HATOfnv1UHURSSUIUBfLsTLq85lw0EJsKjkFMUOzWpIIOnrZJVzi2FgTWfE3woK9/9udQpIHukiXO5wPLYqHJRV20qI6rbM3PlZukzNk6wrqEAaXEvcesT5fm+0+XdX+Y5l5dScmf7OlLHDd5pleWbdsh9vcfJ9LgEda/hWARbrhRC6HcnEHqNWiL3OMthsDBz+KOzGKYUWvRvnROu4xevd/EXlVXx9edt371XBSfCLtl90XUX62mw8ECBYBvulMzfnWWWBw6EGdf6YVycvHpVM2lerWTwFH2/1lkZ7+w1QeY7ocPxeVxw/0k1S7tYR2j1HwAAQABJREFUkR0S7/5w3bmnY11p76zUqGvDZ63VGIhKzoX0nMblpZBzCeV7+cxZdqkjd8CizAPG1u0H/uEeuDoM+4xdIvUqNE3TCh04xd4aASOQTQjEx8fL9u3bNbygdOlDZ1dYuDwxMVFYqDxLFDfeMvbmcmPu8o2J8tmoRc5TY7eOjaudTOj++0JZsGZLupQ67Y+r7x8Z4BQmN1hvczN5ocQY+zY5N8ONzviHzFri4vdKuXgzDHXnNKno3PP3yufOPXKSM6xh/CT2K1RRY6prP4bCWcsS5BMnv5n9G794o5OzK9XoWdopjLhHLly7RZa6martru5kmROq0r+34XqYZLF1xkBkgePz0fD5hySQCZ6OQrvMPR+88ON0pwzvketOq5mspBZ04QTpiWcM1hfkRj/nue/iTxdj2N7F4eHWiiLpoj6coXG5Ko3/yE5naHZyErnpnw143nht4ExVjjFgM8OISy3bVyfskFY1Ssr4heuSXS0PaUcqH1yTVAH1yWBSOcw2GwEjkFECu1wukgUjRRa5v52JIhUbitQ7R6SUc+Xnh3eMSljF7txzzxX+snJhoNvn3Pyw7E12M3evOKXstatbON/2JEG8FTcSF2uA0PMuKOH6g9LDHwXr4ae/LUgSpk6gBguCZrhzPxzqlL4X+s2QO5zydN/Z9d3gLW52yGXPcvvJqLXJKX/xzoqJn/9KF/MQqh0M3Luc8vK9UxZnu5mmN7u0dIpiMdnsLI5YQPfuPaiuhHmcYFjrgr8RVpMXb9IbJi2Bh/Ac7mYrg4rdRGcBvenjsUkK4aFd0u7RljfdrCKK0VlOIHm31C079ssGJ9RxdQzVhyAb3tMuhJV/T1twpSFuoe/9Zx6iNML7etemWW5m1CunKMA/T1mmAo0fxlr3HV7zzih56LyGMtQpjHNcsDjt2O8YVyheQD665RQniEUWuqBxhOBhJcQmPcZtZ7Z2mcuYlpEYksPqtw1GwAiEIOAGgd3bnXXHPdHmcjMXsbiRpfZjDHH6Ud70xRdfyMSJE53nwqEikXg7xpdbb71Vzj777KPcioxXz9g6xsmUUbPXSMnCeZxhL6dTvHapXpPx2gJnpPXVuH2qYLhrEzvH8M64PsIZEAkFWL7Bfc8ZKY7vNKcIPvD5RBcW4WLdkbvuGsSOzV6eZFBOb3W0pWk1F/vvzidc4sNh86XX6IVqJAwlDny9nLcpcY87drG0dbOftcokGVWJj0PJQtk6ksK9s8fJ0l9nrHEK2Hrn9ZPg4hVjpHThvKrkhasT+eldLL28Vbnm+rfIeeksXL1F789w9QT309fyTlbWKJ2610zweHtvBIxAOgjs3SXyx8cio993Sh3JJt2PdFpfkfkjRC54SaRM/XRUkjmHHCrFAnUSb7B48WJN7hHYnPy2aJGiUrFSRSFFdFYquBROXrxBXhowyw3wJdSVcJBT6n5xVkA/IB5Je9NSnBhwnQej+8slHw+d71wj1rvBO5c0q1lSLnMZxwa7Qf0r536JYkmgde5UZgt9u+jDbDez987QuXJa3bJuVnCJC8zepN9FdTeLh289yg/Kl7fs+XNTe/WKGfsXuFnLh/pMUauoFxahzsMae+enf8kb157oYjkqqZJWKF8uKVYwt8uq5m7aIyxOVjlr4y6ZuHS9VCpe0ClTiVLCJa2Jcw8E81y/vVLnqz+kje5cZlvf/HmWHuctzbly5lIXnjt6/KUPOMQipCXIfd3BV/dMlOSiGdxo742AEfh3BHbvEJnxvXNX6O+CgNeJlKzqnr4vE6nvLJk5j72bSqjOkA2zevXqbowjBjiHhhrMmDFDfvvtN5VxKRW+UHUct21uTESu4JZPOWS8PNqNctd2/+v1p7kQB96nJStTa85ul5gkfsu+pLZTyd8lI31xCJxxL7881DnpAerrv5ZKN+e+qdUF6vR1p3yl3ShLazftTFbslruZMTJKZlSWBOve4xLXDJm6wsUp7vtbvjhTtNOufPhD8NiMvs8IH+qmj+Vd8ppLWlbOUMhHRttlxxuBqCOwZIzIuJ4iO9xkS07vzu3GjvkjnX/8NyIdHncD5bFZNidVxW7WrFnqbskCrb4wiMTGxkpCQoKwcPnbb7+dJZOnEE89eMoKHUwJYCYjWEYHQN/njL6itOECSCGT1gAX44abzD7XhnzOrSO9BfeMES4GYaSbaaP9SS6FOZ0Lxg51w6A/6VXqcM8864RyemniDG78eJyLd9sVlgnulFhiPxoxX85sUEYTsLBmD+mkZ7vUzxrjkN4OBY5DwWZ29eX+s2W1c71MdO6d1OueqdJdQvVdXUhdfbhsZvT7JktcfRdTmVbsX7obZwcaASOQRGD/HpHhzlr5x0fO/8tZNHM4C9jKmW664U+RTgkiJ96QJUiddNJJ2g7cLlm37scff5Tly5fLlVdeKeedd57UqFEjS7QzrUZkdMxLq64j2cf4+2/Kv20/Rj5i3isUzatuosySqU8mGl86C3LXGxYxgC5Zt1XlXHpiFVO7BDJ0l/O2Cbpcpnbs0dyOMoni+0DH+i45XMWjeSmr2whEH4G4cS7LVHxAqQOBG3sOOrf2ZZNEEtx4VLLaMeGSqqZxyimnyLhxrqGBQhKV999/X/r06aOKXcmSJQN7s9ZbbzXEx/5YFy+giFvf6NxitKRftiQ3F8VJnUED5ybJqMCG5KNTf3NirVJy25m11GXmxu5JSl3qRx+6h74w00gcIUtBbHFuofNdQDnxar6fh56Rjk+u+WRZIyDeF7fKkn/7715d3Tozm5FanMBr6bKX3ehScGP5tmIEjEAmEVg9S2TWIJH9ZJT4W9zwG0t0M3czfhKp69wbi5TPpIsdeTW4XM6ZM0cGDx4sf/75pzRo0EC6du16SCKVI6897TOZGZw7d67ODCJ3U8b4pX227fUESFwyZOpKzXiMBwhu9anJKG5BFJ1gIaabNfYquRAO1sd76rspunbdv1HqgvUf7/eET1R2HjInuecBPIqsGAEjkNkEeH5MMbDoYMPmFNsz+9KB+lJV7ALHyOzZs+Xrr79WRa9WrVoq/MgUZiXrEyB72cPn1pf5zvo43/njsxRBRktBlyWs4N/JYogRDK4DlNG6strx/OZOrl1GXri8ic3WZbUvx9oT+QQ2LnbBTqtdPxB4gcLM3YY4t37Mkiyh2PXo0UN69uwpxYoVk4suukiYwWP2burUqepiX7FiRSlePPMzCKLQPfLII5p5c906lyFy2DB58cUXpUiRIgFY//4t9JlRY1kcFBhv+Pz3NWetGpa6JChLXOZMlBgUslCKHUtDnN2ooi4fsMTJRWLg8WohRvt2l7SshFu4/c1BszUL9jHvnXv24/GPvAH5XSwe4RaZWSq5BcoLB7J+ZmbdVpcRiGoClZuLFC7j5N0qJ+7+dj9TZc7JukrNRIomec0dC0ZpKnasU/f666/ruj6sXffuu++qBTPUYJmZjU1I2CRPPfW0WjGvuOIKuf7667NcLF9m9vdo1kUw+109J7isZ4j2pHXqQl7PSRMWYMXvHyHnCwvVXtKiiss2GSPvD50nn/6+QJPJpHxO88dH2iuzexVczAHr21kxAkYgkwnkJt2zizfYl8KgdNB5UsS4+OzcWeN3x9p1mzdv1syXAwcOlP79+6tyAI1ChQodteQpL730klStWlXefPNNIa69c+fOMmHCBEHehiqqkDE+8+DgHx5CHZhiWz63zEvrOmU0Lf5KF8u8ymVU3EfMwr8oKIpOR5SDzo3daVD/oqbMO9WFWocstI7e0sx2J1SSpy9ppGvT/TEvXha5WPLShfPp4uK1yxZySVf2y2QXRnFQ+3Ts+sXC5oRruChPjRNv55KWfTx8njIO2akUG30fU2zWjyi65d3SQR2bVDLFLhQg22YE/i2Bes77pOWVIhO+dB4pzhuNcTFPPpFqzs2/5VUuYZh7n4FCXHeOI3RvT1Wxwx3lhhtukEqVKsl/bvuPVKlaRXbs2CGTJk1yA/lBKVyksFSrVi3TFS5cYm699TaNaXjqqafkySefVEvppZdemgEk6TuUgZCxG+GUnctaF3OWVmHQL+Eyqt15dl3pM2apW7A1MUlgO1F4zWk15OYza8pCty5df7f4KhlCj5dSx3eFUQGLc2YVfjf1KhV2i8mm+lPIrEtZPUYg+giUrSdSziWzWDohabBNJuAUk0pN3L4GyVuO55tXXnlFFyMPZbQkocrRWupg6NCh0r17dzeDllOKFi0qderUkYULF0r79u11rIMJsX4sxUCishUrVsrexC2yb5Nbq5SHhnQMhRyS18WdnVeznNQuXdxlZc4rT/2w3CXAcrHIKaAzxjKjtdOtGZpyX4pDpbhb47SwM/htcW71JG7RmOt0tCdlPUfzM83B2yTRyS1iuGu55GMX1qgkCSuXKLqmRXNI06KM/Xvl4OaVMn9zDpfEZadsXhMne11WznAMMqvttLNmxSLS1infKMxnnVDKhSvskm/2rZf1blH4tArn5s+b08XxO/uJm30MdU/w3TSoXEHKHNwg8+ZtSjZapFWv7TMCRiADBBg8K1zgFDn3G5z9s5sp2ebkm5Nxta918XXO4pQwNwOVueiF/S6h1Np4yZcvYwohF0n1aZYkKVWqVFFh9+lnn6qQQQGgcMGWLVvKww8/nOkLt8bFxQlrCr333ntSrlw56dKli3z11VfSqVMnyZ8/v14/+E9uTbqBmc7ZuYjhwBKcjoJuUNNZ5850VrEl67c7YUdGRpc6P8S5Sb0Or8/oAOuWOGAtH+o5QmU7RAsyd1OwP7wvnDe3vOyWh+jYsIxc27q2jJobL+tdcpWGLplI08pFtC9jFyXI2q17XO6DVEyimdvEv2vLIYWdK2l+Z8VkYfIW1Usq075uHbzMUO4Qds3cGnkdGleW2Kz6ZR0VrlapEThGBIpXc1Mk94sMfdmtVeIEGwlU8ro069VaiZxxV4atmLRaLZkI0UwsKFXHozBLF7w2CmTi9sRDmjJo0CCN/0MmEweYNzFeauyeLrEHczt550fzQ0457EPeTTEyou9sGemwIfuquIWuC+86XHFhuYRCLqPb5l1umYfDaglscDtLJOaTSnnyy55c+2XR7m3q8RE44ti/VaPfARk/bryc7GIV0XBIXFI6dz5Zt2unW7Inl9TbU1h+7TctzcRfnFPBrQ9Y2j3npMkgE3vIt1hmQz5JnJlf2/zVZBdf7yz+1ZxRtrR7nkircG6RHLllt1PqWDswpGbn2OyeO08+Xj5aVq5apb8hnq/8M11a9UfbPiYXMK6wXjMGFyv/EMDwhYv60qVLhRwbuKfbPfQPH7SEHLG5ZemSyi65YYxUyFlFDi7/zQ26Q4MHpes9XElU2bZt23QdHzwoVcWuSZMm8sMPPyR/aSm/PIRrgQLOzSaTy4YNGyRv3rzJdZN9k4Qt/Ni8YrfLCaQhQ4bInj179G/R/DmyNSGf5Nri0oyGMleFaCMP9TF7S0n1arWken63SOqmzTLD/Zh3uoEx5TMDsznMUpKSOa2CsezEZhUk8cBeWZOw8++Zr/QJ3rTq/ff7ckiMeyjY53ghqWJd9jAW/k50bppFXZD5qW5h7/XTt8l3c5IGMZ4V8jiOi1a69M/jkq4+buEGSZixSPYyvXwsimsDg0ij+qWlvnvoyuvWEqrrrI2zVmyRnQsWyi4WoU1D6tKHks69MtGtZRTye/v7aylcuIqMH75GJrgHGu5xjBahrPbHostZ+RowYTmPfZiFrYQkAB/uoQPH6jcSshVZcCM/RmkvOQ+Wkhx7N8n+3C4OYY+LORg5x/2G52W4wTNnzlS3yQyfmAVPwBqLJ4wvyLk8uZ2LaqBcdtllQnZqZuy+/fZbWeTk1J133imFCyWt0xo4NNW3KHMoLL7gbp+aLYtjU9vnz+fV18kwjMtQVngE3uvGpxbO6PzFey/JATeWJyl3Sf1BcqXXIIjL67HuD56xKZ+z0vqeXHeSC98FJa3vjcXl97gM1L1699JYUjK+2niexM3/i5xb5RRfEifde++9+izq99lr0jPZpk2bNESrQ4cOcuaZZ9o9lOLGQDd6+eVXpFSpknLzzTf/Kz7cj4ULJ62pmeIyaX5MVbHDOpjZAdxptuTvnQg5HpC8pQTBhyJHMLEvKHTEIXAsA9O2TfFycqmyUq5i0sLZ/rhwr3llrUwYT2ZGt8C508rOqbg/pCUvZw63PpADnB6hUGT3Cg19qFzkgDTOv98N1OFacXT3u2arG8+okSPlIhe/wULeDP4ILmIsYnPtkTybl8ikCUvSbAgZxzpV3ndM+8MDQ/59q2X3mnjZ7UCOW+Zmi50E61h+rz5UpNlgtzN3rr26cL0XeimPhw19H+4WeieJQalSLiOacz22B/NDSTG4YDmaN2+etGrVKvm3eehR0fsJPoxJZDcsU6aMLgFj91DK+yGHrFzpFoHesF9OaFza6XMuocpBF2R+BAXlp3bt2tniPmzevLkujN6xY0cdd/BYSRlfx7jkS8kSJdWjpXyFCkck8H092fV1z9497vnBLcnjZqOsHE6A3w4JgphtKV++/OEH2BZVrpm04FngSNzgsjtCmKAbIOvsHgr9bRctWkRnM48Xn1QVu9DNPfpbCVRHWWPmhJKYmKizd7iI+MIxxN/x8IQl87XXXpO2bdpIu3btMvRQjs7lH8CYcc8MGx2B5FgGUUxRTI53UQuUe6I6t/N4+ezDd3XmkzbRd9oXZMD21Epm8Umt/tS2p2wfd0EOGpOO4vuY1qEcs379ek0MRKpxkhfwkG7lHwLcyygtuEc/++yzkju3cwGzkkwAPiTeeP755+X000+XSy65xO6hZDr/vPn55581y+Tjjz+urmB+7P3niPS9gzfGP/4ivTz66KPyxBNPqNsXSh1y7+STT07VayCn87bIDv0+Wt8bybBic7tkPVZCEuB5gN8Pf1ZCE4ARsy5WQhPw4y+crIQmcLzlU5a7e1nDB2UOhQ2rwPjx4zUTZ/BhkhvKu2UCkH15nPsmf1YOJ5CngHNTdfGHOR2rfCHiFA8/I7q2YJ3DzYl7inspeK9FF4nUe+vZeFapHxmde4g74L7BjdzuodD3AL8x2GCYs4eCJEYYI0mMQlIyZBmZp4l9Sq2cccYZOmt+NMIgUrtmJG3ngbzPV30iqcnHtK14YmF44tVKaAI8gz799NOZnhgw9NUibyvjN67gtt5m6t/dddddd1x/Y1lOsWP6m8Qsd9xxhzRt2lRj6Z577rlkRS4lSnzS/V/KffY5iQDxgVZSJ+Dvn5TxDamfEb17jFH0fveZ0XP/WzPF7h+a559/vnoKsCUcF9yfrKROAH6nnXZa6gdE+R748IxlJXUCGKAaNmyY+gFRvgejANl7raROoFq1aqnvPAZ7cjhBm+We+rds2aLrCBHXww+MgTq1WRSav3HjRlX8/CzeMeAWUZdgNmHNmjUa+xNRDT9GjcX9iXuN2Zajldb8GHXlqF0G91QYYaUL9/B51BqRhSvmHiKonHsIi6aVwwngiUG8dIkSJeweOhyPbTECRsAIGAEj8K8JZEnFjl7xoESsHQqdPUj+6+/ZKjACRsAIGAEjYASMgBEwAkYgGxPIshG0xBswJW5KXTa++6xrRsAIGAEjkC4Cixctlssvv1w9L6644gpZsGBBus7LjgfhqTNs2DD15qngMoQ2btxYPv/88+SuMjNMnBRuhyzdxELwWdA5Kbm9R/vN6NGjdc1hwlo8B5aMOumkk6RGjRrKihn1aCx4M7H0A/cKLoZjx45VDGvXrhWWGqlYsaJceOGFsmRJ2pnDsyM7ElyNGTNGiO3ld4b33EiXYZ1ChtXXX39datasqZ51/fr1S7639IBs+g9rHHbpcq3+nq6++mr11PFdxbOJJGpkbSbjMQnDmKSicJ/ddtttUrVqVSEL8uTJk/1pmf6aZRW79PaUAZwfHEJu2za30nsUFwZs3Fh5ACB9/4oVK5Kzfnosq1ev1n28RntBkMGKRYJ98dv48UaroPMs/L0CC35nvrCdpQ8QfP4hwe+Lllfcm1e6bLP8zuJcNkOEnC/cN4xHcAuuUeb3Z8dXHgDILkufly9fflhWUDjwWwv1uyKjKLxY9DZ4n2VHTkfaJ+6prs901QdPlvohXf0777yj4/2R1hnJ5+HNwz313//+V++pt956S/73v//JqFGjtFuDBw9WZW7KlCluTamXhUysrE8WjYW1gVmTmGR0cMNYPnXqVHn77bc1lwEPn2Q97t69e9SN58j+Tp06qYK7aNEiGTRokBpOkGusQYZSB6uyZcvKk08+mW3Wz0zv74AwJ35bKHazZ88W4oH5LaGswOqnn37SPBisNf3Uk0/p2J/euiP1OGT/aaedLjfccINmlw1md+7Vq5f89ddfMmDAAL1f3njjDWHdVQqM+O2xH8Xu1VdfPWr3U5ZLnpKRLxvtGFg8ZAKbNSPuu+8+/RFmpJ7sciyKbe/evfUHiAsrn7E0XXDBBXpD/fHHH8qLOCkewh555BFp1swtFByFhfsFCy9Z6LCwYJnjARPhxkMmAzuWlXvuuUeKugXSo6307dtXB2ziVmFFMqNGjRq5Nf+G6z1GVj4eNu+66y4VitE0s85AjrX7u+++04clfmdYvmHEPcQ9hdJHqVy5sjz22GPHNUPWsbh34+PjdTkMFF0/LvsAcu4THg6WLVum+5gh4L5BOYHThx9+KDx8cp+ROOvGG2+09aNSfGnxa+PVAHXppZeqfLv22mvlmWeeUaWmRYsWKY7O/h9J4IBc8+XUU0+VE044QXg4b+OWPmL8YlaTNQBZRJkxnOcEHtSjrcCiSJHC0tot5+NnDyZOnKjLSPGgzrp2l192uQweMljvseOxfvHx+k5+/PFHqVu3rrRv316+/fZbvVe4R1BiGJMYm7iHHnjgAb2fGK+i6XnAh0OxFBT95nkRhY6s9WTyPe+886RWrVr6V69+Pfnyyy91+Zbj9X0ei+vWr19fl6fhfmEWLlhQ6M455xydseO+wmjCb61subL6XImxgKzHZKZlJhTDE+NTZpeInrH7/fff1SrHg8DTTz0t8+fP15vOD16ZDSur14ew48GIQQg3FITdRx99pA9TPHxi0ezQoYPgjkFSmq5du2b1Lh219jENzh9CzM/YjR49yi18P1Fuu/U2uffee/WHiCITbYUZ8BdffFFwM+BewSqOguLvIdwx2M4DejTOGpAkhQcCHiT5nTGQYxHnPsIah4X3oYceUqMAbitsy+6FRWuxQpLmGUUO5c6XgQMHut/VBLnllluEddt4IPjll190Nw+dzKQ8+OCDagFlTEfYWTmUwLbEbWodLligoO4oXaq0zr5gSLAiquBy3yD/KMwaV6lSRd+zBAIP54sXL9bP0fQPvzWWjLrooouTl4Pit4mCQhIjnyysaLGi6nUQ9DyIBk54W4wbN07HHtxVycQ+duwYwVCFIuOT9jFpwHu8oKLJS4UsvNdcfY0+O+Ku+sorr8j999+vY8+6deuSDSUwwZA3Z86caLhttI/79yW5WPoOk1yO8ZhnJW/oLl68uLpqrlm9Rr1RvGEJecnf0fIiiGjFDncLrAX8GGvUrCFYFaZNm3aIW5SHHg2v3CgsboulAEGGZYGHcX503EDceFh8sdBdc8016ksejQ8GPIATc9GqVSupXr16srvqlClTnZ99RWnStInGbNSrV08fQqPh3gn28fvvv1e/eWZQUFhwuSxcuLBaMbHUsYg7s74M9FjIj9bgFGxTVnrPgyKZL4uXKK7CHuMAfDAo4XZBnAa/QRQ/foNYOLN74SGIxdkZi1Mu7jtixAid7WVfgwYN9D3jNA8GWDOJRYAXhigeoNhn5VAC3Fs8LOTImUN3+NdDj4rOT7j3dunSRWeB8SpA3jHTEFyEG3bRZvBF9n/66af6TEDMD54G/MGBv+Aiyv5BNNruIO4TDFEowLDCk+BJ51KI8htkAitKyof57M4Ld+ep06aqvD/xxBP1lRhEDADcS8GxHkY8M0RrYdzhL1fOXMn3DmMQnPy+4JgEJ/YdjRLRrpjE+jDz5H905cuV1wcrfqzRXvjhMQ2MoGMmj0EetzreU/wiuFisCC6PpoJBgLX92rdrL8wQMIAzgPGgyYOlH6x4WIVPtBVm7Hi4xlUAixOuhI/89xHZt3+fGgU8H+4hBioUPxSYoCDMzsxQ5HD3+uSTT2T2rNl6j6DU8NvC0otVjoGcwv10NIOksxrnlA8+xMwRp4ELj7d+YwWeNWuWuoMz+wkjCuM4CjLHWzmUADMrPARgWKEQS83vMNqX+GF8xgWamWJmEnxhbGI8p/A8wH1WuVJlvzsqXhnD8ThhRqpnz546i8lvkHgxjLsoxNu3b1cjFfKP8cv/RqMCkOukdy/0/cWl/uuvv5bixYqrwueNAYxJPFOVr1AuauQcTBinkV/EY1Z1oSm4HuJGiFszkwfIOwqyn+dxvHiitfCsRIhK/Lr4ZMMJkwgk5SHsgGSQhEBRuK+QjTA8GiWiZ+yi5UEyo188DwC9XBAn1nBiDr3i660GwfqijSHuusRHtWjZQq3fDNYIN0va8M9dwf0TkytGg39x60WJ6fZRt6NmXfrnypHxjodqkg1gVCKoHPcvH5OR8vfkFbzI6NnRaaVn4F/9VWAV5BVqfPLHRvsrDwCwYvyi8LDOw4KPY4xGPsRAEQPdrl27Q5Q6OJ111lmaNRMueKWg2NWuUzuqMDHDQlw9rtDE3hPLQ0zUrbfeqoYWPHhQ7phl4X6qWq1q1K3B2bp1a2WAYkvBu4JxvW69uirvfIZMtqMQV6gQXTGarMuKYYTfGgXljc+MPXhZcH9RUPiQiSh90VJyxeRSw3bQGIJhgHsGRhidiCvnfkK54/7xYRm4jfOchRfL0SgRPWNH+lUsBgxMaMOrVq/SmCk/o3A0gGX1OlFUvvnmGw0eJ7ieHx8F1zGUF1wMsPLiK44A9HEIWb1fmdU+Bh+EWZ8+ffRHyWdmM5lxYibBJ3Hgx8oDAQNYtBWs3ZWrVNbfFH3HjefXX3/VgQkmXgnGBZOHcQYs7qVoKcTvTJ8+XZ566il1I2Qwx7WZGB7YeSsmPBB40WTFzJkryVbo7wceDHDbZbxh7OEzfJj15LeFldO78iIMsXD6MSta7qf09BNOPJC/9tpr8tVXX6mi8sQTjyd7XqSnjux0DDKfGXN+hyi9zNrhPUBcMA/rhByQyOCqq67S+wv38WhTgpFhjEeUXbt3qXxjpg75j7GOWGAMv/wWma0jg583AmeneyWtvjB2c8+g9PLwTWZeZuzwHHj22WfVuEmSLB7QiS/jGSGaCs9FeKNgQCHsCWUFowku9YzrGMmJraacffbZEg2JnIhP5dmaRGE8D5HI6qabbtKMoXgN3HnnnbosDcYkWGH4RR6SC4S8Frj9Yhy+/vrr9dnpaNxPEa3YkbSAdTT+/PNPHdx5JcsTSl40FoRd//79pVu3buorzkDFgEQwJ0owgxKZIMkmhmtG27ZtoyrDE/cEMyxVnUsBD5mbt2zWIHIGI9ZBYhtcsLggFJmF4QEh2gq/K9ak4feEmxzviX/C8sRDADF4F5x/gc4KE0/GvRVNBbc4xhgSgvAAgLsKrhUIOuLq3nvvPU0AggKMywoJVrJ7of8oaBhNMJSg5HKvMOYwo8KMAb8r4oAxpiAM4cWDFVZMhB3WYBRhHsatHE7g3HPP1XGKBwvGdO/CeviR2X8LxluyXqLEBYs3oqDs8UDOGM7vlbErmkvu2Nxy+39ul5jYpEc+FDgShDGDR4wZD+2MZdFYSCqHcsdDOgoL4xaFh3LuG5QZnhm8khxNjHgOevjhhzW7OkZvEu5wr1D4jX3xxRcq/zgOdtFQMLKRCIznRRQ2jNsYjXjPPgxOeFbglskafz78iedMni/jlsZJqdKl9J7yBtDM5pbDNSopGCSzaz4G9TGVSWpxfMmx9jL7hAWKB4ZoLLhWMItAun4f88QPjnT+vPKg/uabbyoffMZZjwSFJloLswNkd+ThEgWOz/woefBE8JFY5e6774465Zf7gfT0KC4MTjy0Y73kYZJ1omCEYoPigoWKAetoDVBZ8d7EgEJWTNbwYSDngQCXCljwkMQSLAzs/Oa4hxCMvM/OBQskcRgoshiTiDNEEeGBifuH+4l9jNOMTcywwI74zA8++ECVQvbxoE68FAqgFSNgBIyAETACRiBjBCJasfNd5SGKhy1cxrL7A5Tvc6hXLAgkvkDB8/o67ilkf/TZeAgox2JQvUb1qHQzDHLjnlm+bLkUKlwo2RjANjI9UrD+RvP9hIGA2ReslsFZcFzpmDVAacG1J1oLDJhhItCerLy+oMjgpkEhs2o0uDcx9vj7haxgJNphRgljAGMPRji/PmTQigkjEoIww5cvbz6pVr1a8ljFPitGwAgYASNgBIxA+glkC8Uu/d21I42AETACRsAIGAEjYASMgBEwAtmPQERnxcx+X4f1yAgYASNgBIyAETACRsAIGAEjkHECpthlnJmdYQSMgBEwAkbACBgBI2AEjIARyFIETLHLUl+HNcYIGAEjYASMgBEwApFDgBhb4op9bL9vOcuckPb9eBcWhmYZg1Bl8aLFmggr1D7bZgQikYApdpH4rVmbjYARMAJGwAgYASOQBQiQZIzMtx9++GFya0jiRkZglLvjXVh79IUXXgjZjMlTJmt29ZA7baMRiEACpthF4JdmTY4MAiwWzzpKZNr0hYyJZC4lE+DxLlgxBw8eHLIZrN0zZsyYkPtsoxEwAkbACBiBIIHbb79dl1NC5lEee+wxXeusbt26mhUXeYOSx3poZMmlMNNHpm62k22ZzxTkJIohSxCxviWv7OMYjuWcoFzVk9w/zBiy/AwZizmGeihs9+/5zFI91Ms19u3dd8g+9lsxApFMIKIXKI9k8Nb27E+ARXRZ/61z587SpUsX7TBr5GHVZNFqFpA/nmXmzJmCMMaambIMHTpU+vTpIyNHjky5yz4bASNgBIyAETiEQLNmzXTdV9bSPeOMM9Q1ExnCUjm9e/fWdXQ5AaMm61t27NhR10odMGCAsA4ma4ByHutYsozM//3f/6liiELHdpbeYR1V1rgsWrSodLmuizRs8M/C8yhvkyZNkvfee0+XKeI6p512msq4YEPZ/uijj6qCWbZsWX1N6UIaPN7eG4FII2CKXaR9Y9beiCHA+mX33nuv3HrrrXLqqadKtWrVdEH0tm3b6hpfWBCJP2BhZoRVkSJFdKFvZvqwULI9NjZWt/OKgNuxY4eu88VrwYIFBeWRY6kLAUodKddNQ2ghOBFo1MPC0Kwtxrl58+ZN5sl+rJ0sSk4dwX3JB9kbI2AEjIARMAIhCGAonDx5srzxxhvy2WefScWKFWXWrFnSr18/eeaZZ4TZu7/++ku6desmzZs3F9a0REYiu5jp++CDD1RWxsbEqsLVuHFjueaaa1QWojBecMEF0qFDB5VTyL9gSUzcJj16fKZrh950002qWD7wwAPSpk2bQ2TioEGDtE09evSQ/Pnzy4033nhYbGCwXntvBCKNgCl2kfaNWXsjigAK3YUXXqhWxNKlS6tAQtFDsfr888/liy++UAHGYuiPP/64CrshQ4bIxx9/nLT4tVPC7r77brnoootUGOHewrFTp05VhRGlDqsoSmCdOnV0hpBXX1Dqxo8fr9uxghYuXFjuueceueyyy/wh+opS9+CDD8ro0aOlSpUqUqFCBRN2/8/eeQBWXV1//LBHwggz7LD33ksRZYhbURRHUau2WkcdrbYOqrauulqrHa7+a124qwguEBAElb333hD2Rv/nc8N9/PLLeyGBJCQv52h47/3GHd87zj3nnnNuOoTshyFgCBgChkBmCKCg7Nevn2B22aVLF/foN99844SsBx980CkWMaHEVBIlIt8RsHBPQDm5aNEiZ0JZq2Ytp2Ds27evEw5RZGLh8uabbzoTyh49ekj16tXTFWXTps1qprla+dgd7l5SUpLAc8m/W7dukWenTJnihMeUlBR3bdCgQS7dyAP2xRAo4AiYYFfAG9CKn/8RuOOOO+Syyy5zGklMHNESwmwwT8HhvEWLFk7Ie+6555wTd/v27eWVV1+RsmXKyqhRo5zg1r17dycMspvXpk0b58uACSVpP/TQQ06LuX79erfzF0QEH4JHH31UYJC33XabfP7553LrrbdK165dXXr+WcqCpnXixG9UoBPp37+/wBiNDAFDwBAwBAyBrCJQrlw5ZyrpLUdQOiKUwavYmStSpIhTMHLt+uuvd4Lb73//e8ePUG7i/wZhUYKgCMEz77rrLqeknDFjhjzxxBMyePDgDApKFJk+Xz75zV+YKEOQwr+D9+y7IVDQELDgKQWtxay8BQ6BKlWqSMuWLeXss892n1SAoCVz5851Al+7du3ksccek2XLljmTSZzLf3HDL5yW8d5773VazC1btrh6o6VEwwjDQxsJcyTa1yOPPOI0oJhiBglHc3b1brjhBqctRcBjN27C+AkRBsjz+NJdccUVaspZ0THlIUOGOAYcTMu+GwKGgCFgCBgCmSHghSkfIAWeA/8imAl8EPNMfwQCykj4GCaZ+J9jVYI1C4Sw5dNAoblixQrBjw8lKfwP/hmkqlWrOheHV1991fG8MWPGuN09XB+CgVZQamIVw64h5cBMNJrwF0zbvhsCBQkB27ErSK1lZS2wCBAOGoYFA4FhwWgQ9NA84vfGde/zhs0/fgRvv/22015iugljQwNJOjwPsaPGLh+mJa+99ppzSP/Tn/4kZ555ZgacPIP0+Wd4QC+EmVv4d7R37JohYAgYAoaAIeARgD8heHkBrXnz5i5YyYgRI+Tdd991/A8rlc6dO7tAKW+99ZbjYY0bN3bBUuCDRYoWcWn43Td28XgXk014GX7g+NsFCZ87dgCfeuopp8iEx+J2QLq4LvAOhGIUl4ObbrpJCJ6C7zsKUCNDIF4QMMEuXlrS6pHvEQgKSjAlnMZxGMcXAY0mPgc1a9V0QlyDBg3c5yuvvOKiVnpTkWAa+B0sXrxYcDCHeWFiCQMLCnbs6CEAvvjii46RsTO3Zs0a6dW7V7pomGg1X1VNJxHJyAMmTOQxI0PAEDAEDAFDIKsIwEtwFwgG38ICpEvnLpK6LdUpMGvUqOEEP3y9O3Xq5IKCwatQalauXNkpMIkojeAFIbSh4IRPwp/Y5cPyJEjwSNJ6/PHH3e4g5pv4o0MEbUH5CXEd94UlS5Y401DS2rF9h7tn/xgC8YCACXbx0IpWh3yPANpDolp6waxnz55yhzp5EwyF83QwoYSpIewNGzZMHnjgAXckArt6MEi/48bOnf+OIIj/3NSpU901ArVgThkkImDiv0A+HLNQrWo1efyJx6Vu3bpO+0l6EEwT3wXMQtFgwgijHYMQTNu+GwKGgCFgCBgCQQQI0MVfkNi9a9goTcgKXsfnDl7jCXNKTylHgpvwm507eBZ/mRHCHQIif0FiBzGYD/wWs05PwXz9Nfs0BAoqAkV0oZnRs7Sg1sbKbQgYAoaAIWAIGAKGgCFgCBgChkAhRCDNS7UQVtyqbAgYAoaAIWAIGAKGgCFgCBgChkC8IGCCXby0pNXDEDAEDAFDwBAwBAwBQ8AQMAQKLQIm2BXapreKGwKGgCFgCBgChoAhYAgYAoZAvCBggl28tKTVwxAwBAwBQ8AQMAQMAUPAEDAECi0CJtgV2qa3ihsChoAhYAgYAoaAIWAIGAKGQLwgYIJdvLSk1cMQMAQMAUPAEDAEDAFDwBAwBAotAibYFdqmt4obAoaAIWAIGAKGgCFgCBgChkC8IGCCXby0pNXDEDAEDAFDwBAwBAwBQ8AQMAQKLQIm2BXapreKGwKGgCFgCBgChoAhYAgYAoZAvCBggl28tKTVwxAwBAwBQ8AQMAQMAUPAEDAECi0CJtgV2qa3ihsChoAhYAgYAoaAIWAIGAKGQLwgYIJdvLSk1cMQMAQMAUPAEDAEDAFDwBAwBAotAibYFdqmt4obAoaAIWAIGAKGgCFgCBgChkC8IGCCXby0pNXDEDAEDAFDwBAwBAwBQ8AQMAQKLQIm2BXapreKGwKGgCFgCBgChoAhYAgYAoZAvCBggl28tKTVwxAwBAwBQ8AQMAQMAUPAEDAECi0CJtgV2qa3ihsChoAhYAgYAoaAIWAIGAKGQLwgYIJdvLSk1cMQMAQMAUPAEDAEDAFDwBAwBAotAibYFdqmt4obAoaAIWAIGAKGgCFgCBgChkC8IGCCXby0pNXDEDAEDAFDwBAwBAwBQ8AQMAQKLQIm2BXapreKGwKGgCFgCBgChoAhYAgYAoZAvCBggl28tKTVwxAwBAwBQ8AQMAQMAUPAEDAECi0CJtgV2qa3ihsChoAhYAgYAoaAIWAIGAKGQLwgYIJdvLSk1cMQMAQMAUPAEDAEDAFDwBAwBAotAibYFdqmt4obAoaAIWAIGAKGgCFgCBgChkC8IGCCXby0pNXDEDAEDAFDwBAwBAwBQ8AQMAQKLQIm2BXapreKGwKGgCFgCBgChoAhYAgYAoZAvCBQPF4qYvUwBAwBQ8AQMARyCoHU1FSZPHmyfPXVVzJjxgzZuHGjlCpVSlJSUqR79+5y+umnS9OmTaVEiRI5laWlYwgYAoaAIWAInBACRX5Syk4KP/74o+zbt08OHTokvFqsWDEpWbKk+8tOOvasIWAIGAKGgCGQHxFYunSpPPXUU06Qa968uTRq1EjKlSsnhw8dlvUb1su8efNk2bJl0qZNG7nxxhvzYxWsTIaAIWAIGAKFEIEsC3YHDhyQ9evXy9ixY2X8+PGycuVKOXjwoCQnJ0vHjh2lX79+0rhxYylTpkwhhNGqbAgYAoaAIRAvCOzZs0c2bNggVatWlYSEBClSpEi6qsH72NFDyVm3bt109+yHIWAIGAKGgCFwshDIkmCHUPfZ6M/klVdfceXs2bOnNGncRIoVLyZr166ViRMnyurVq2XQoEFy3XXXSdmyZU9WfSxfQ8AQMAQMAUPghBA4fPiw7NixQ/iEihYtKlir+O98JiYmmqWKQ8T+MQQMAUPAEMgvCGRJsIPBTZgwwWkmW7VqFbXs7OZ988030rNXT0munhz1GbtoCBgChoAhYAjkdwQwxXz00Udl165dbrdu8+bNUrx4cWeRsn37dqlYsaLccsst0rt37/xeFSufIWAIGAKGQCFCIEuCHXigrcSnzmswwxjB9NBqGhkChoAhYAgYAgUZAUwxFy1a5NwNRo0a5SxShg4d6qxRvv/+e/niiy/kvvvuk7Zt2xbkalrZDQFDwBAwBOIMgSxFxdy5c6e88847MmvWLKe9xDQTIY9oYD6ISrdu3eSiiy4yH7s46yBWHUPAEDAEChsCuBMgtKHI/PDDD2XYsGECj4Nat24t27Ztk+nTp5tgV9g6htXXEDAEDIF8jkCWttiIfFm5cmWpUaOGi4L53XffORMVHMvZpZs6daqsWbPG3cvn9bXiGQKGgCFgCBgCWUIAxSVC3OzZsyM+dgQOIyqmWahkCUJ7yBAwBAwBQyAPEcjSjh3ay3PPPdcV67333pNatWrJrbfeGikmGs25c+e63TuOPjAyBAwBQ8AQMAQKOgLws7POOkueffZZefvtt51FytatW10k6IEDBxb06ln5DQFDwBAwBOIMgSwJdr7OmKXgRI7/AT53hIDm7+DBAwKzIwS0kSFgCBgChoAhEA8IwN84iDxFDyWf+sNUSd2WKs2aNZMOHTpIUlJSPFTR6mAIGAKGgCEQRwhkS7DDJLNTp05y//33y89//nMhQibHHMyYMUOuveZaqVChQhxBY1UxBAwBQ8AQKOwIoMTE/HLturVyxhlnSMOGDV1gFUwxjecV9t5h9TcEDAFDIH8hkOWomMFiL1u2TEaPHi2EhK5UqZL079/fOZEj+BkZAoaAIWAIGALxgABC3YgRI+TLL7+UTZs2ydlnny3nnHOOPP3003LqqaeKmWPGQytbHQwBQ8AQiB8EsrVj56uNWcr5558ve/fuldq1a7vzffw9+zQEDAFDwBAwBOIBAdwLCBY2ZMgQFwVz3759LpAY59ih4DQyBAwBQ8AQMATyEwJZiooZLPDatWvltttuk759+8pDDz3komP+9a9/lSeeeCISNSz4vH03BAwBQ8AQMAQKKgLs2hEVmuN9OK8VX3MOKbdAYQW1Ra3choAhYAjELwLZEuxgcF9//bWUK1dOHn30Ualbt65jdE2bNnWMjvPujAwBQ8AQMAQMgXhAAEGuSZMm8p///Edmzpwpc+bMkccee0wWL14sPXv2jIcqWh0MAUPAEDAE4giBbAl2HEq+a9cuqVevnvOt8zj483y4b2QIGAKGgCFgCMQDAviNX3DBBY7nbdmyxZ1ft2rVKrnhhhtcdMx4qKPVwRAwBAwBQyB+EMiWjx0CHD51I0eOdAjs2LFDpk2bJh9//LE72658+fLxg4zVxBAwBAwBQ6BQI4CykuN98Cm/8MILnV85/nVcJ5hK1apVCzU+BbnyxAjAZ5LIphxrkZqa6s4pLFOmTI5WCz9NDrknHzPfjQ7t/v37hfWkYRQdn4J0lbkRJVhCQoIbT4wx+n9ycnKOV8OPYeZkxrBRGgLZ2rEDuN69e0v79u3lk08+cWaZf/rTn9xgvOqqq8Tv3Bm4hoAhYAgYAoZAQUfgwIED8sc//lEeeOABwdWgcePGTpiD//FnlB6BJYuXyN/+9jf59ttvnfDr706aNEk+/PBDJ0j5ayf7c8qUKUJ8ANoVweLJp550gXJyulxr1qyRe++9V1atXJUhaRbBKMc/+uijdHjxIJHHx48fXyhiF8ydO1cefvhhF2k9A0h2oUAhwFiiLSdOnOjKPX36dHc82olWAuGQ+YX0Pf3www/y7LPPOoWbv2afItkS7AAsMTFRrrzySjchvvbaa/L888/Lb37zm1yRxq2BDAFDwBAwBAyBk4UAC+9Dhw65xTVKTBba7MAQPIWFhlF6BKZOmyo333yz/P73vxcEGk8ILghR7H7mF1q+fLlMmDAhslAsVrRYrmj96Seff/65bNuesb/Qv0aNGuWwIYZBkF5++WV58803Xf8LXo/H72wKYPZsmwMFv3Xpx1988YVgsg4VLZLWtidas8mTJ8vjTzzuLCV8Wmw24Qdtu3UekbTPbJli0mD//e9/nTbu+uuvd2fXkQwSOdqvSy+9VAqzOSaahEWLFrnJqXnz5pHOhokBB7lzsG2pUqXSt8BJ+rV582an6bjpppucUI42dd26dc53JCcHCYug//3vfy6qHOc+hYltegIR4LdJUB5PLJwIJ96mTZtCMdm/++67rr+cd955jsF5HE7WJ5Pyiy++6BZpVapUOVnFiPt8CcjB3Hn55Ze79v/Xv/7lzkZjZ+h4icUivtBEcSxdurRLhvH0zjvvSKNGjdz5a8ebdmF8LykpybXPzFkz5aWXXhIiQyOgoOQ0So+Ad9eAD7LjdPXVV7v5m0U7C7AgwW/Wr1/vLtWqVUuqVavmvsMTOBAes7xdO3fJzl07HX+Aj9Kn4U8IjfAL+jM8Bh7C7mqdOnUi5rGsV3gOk1kimZIez3vhgXT4zicmkpxPiKsJ42f+/PlOeKdALEyLFivq0uU+dWE8MUdSVs7yhX9xHeJ9+P3GjRudORrl8/m4B0L/RMOGR8AriBn1QRjdunWrK2+DBg0ifRAz0g0bNgjXqIsvA2nXrFnT5Uh5wANFRdmyZV1dwQRi7QK/Zd7AhK5+/fqRuYN75Av+pEeEWOobjVgL8q5Pl91Q2plrtB2/V6xY4XZYqBvtjjkzn4MHD470AdqfdiE/+gjzWIoes0W5PSEwUy6eo46MSe6HzaNpe/oHGHkCI0xuWadFI/oMbQhWPEegQL+29f0TPKgDfQJMKAdloH67d+92z1Nmb35LPcCSMtJ34KukS//gt29XsAquhYLlo860IXnSXvQJnmeO8hRsL9Lhvl930gcoI23sxlBiOalcpbLrq6RBvXnfj0eep2y+T/h0SIM2oj1pI56vXr26L4K7Bh5QvZR68stf/tJ9p45Llixx45ELvAs+9Cf6DBjRj8GEsoMfbQ/m7GyzQ8fuP/yRd1hTc99jTJq8zxwN0S98uUjTn70Njoxhxi74+LK6l+Lgn/Qz7TEqxGRBZ2YwPfLII24gMhi5RuMzCAozgQsLc3B6//33I4IvWkE0mCzemXjzA9FmmMwMHTrUCXZ0eCY/yp6TnZxJFW0lgyeaYEeeBCdAiAjeHzNmjPziF79wAzE4mecH7HKjDOAA82eiZrI72QRjQkNGkAij3ENgwYIF8vbbb8tFF13kFj6zZs2Sbt26nVCGMOa///3v0qJFCznrrLNcWix6iejoGfMJZVDIXmZBwBx05RVXSs0aNQVLlYULFzqhpZBBkaXqsphiwfzKK6/I6aef7hZn4RdZnMF/WGzDc1h8cYxS27Zt3fqCXT8Wi35OxNXjrbfecgtmFtEsalmcXXvttW4ROHbsWLc4Je+//OUvblHN4o7o3X6hiD/OZZddFrXdWDjyLAoWBLzXX39dGIuUjfGEAoazDDniCf8hdh8Zu5SP+fqSSy6JjOFvvvlGnnzySbcYRcjIim+RTyeIU5APwBc++OADxye5Tl3A6re//a0ThuCXzz33nFO816hRwwm5/GZBft9997mgP0899ZRbzDMHUK+f/exnzm8UHNkdBEPKwT1cbn71q1+54rBrCPZ+7kAggV9Ho0GDBrm0Bg4c6G5zBiRYoBBBEcKxWFOnTnUCEeOqX79+jsdgivmHP/xBHn/8cenYsaM888wzbj2C4MNiH8xpFxTRlAOhgui0tAttDs6sQXnm5z//ebqigRXlpyy+fggIzZo1ky+//DLds/xAEL3//vudcIAwyhoGLAYMGOAEGeZW8EaoA6v+/fu7POknYM6uPu/RZpRn2LBhTjj8v//7P+e+hHKBOvXp08fdYzcbHkA+rKFbtWol99xzT0Q4DhaQfH/961/LNddcI2CGIEZUekwfEVLox5SPOBjgBB+n3AhWCKasS/kjD/CiD/FHu3ANQQ2Bj3UqPsUoZ5brupZxiqUe4416MX7/8Y9/uPLSjvQJykwE4TDR3vQ1hETGzNNPP+3KST+m/IzTF154weFBH2VsgwN4nH322S5fxvBXX33l2p36IdhSJ9J844035J///KfrX940k+ukj+8deHXu3FnYzKAd6VP0A9qZstPW8RbhOFuCHQ1GhwVsGh7tMh2B70eE83CbFqrfDHI0Xmh4YP4wNzQJdFI0HHTU/EI//fiT69S+PAw8JiY6fE4S6TER8BeNwARswkoBrtO3CgsxUSNQBzW0J7PuCOJMlmHt58ksUzzmzbiAuUAswljcBLWvx1tnFjxea04aMH0WgTkdGOJ4y1dQ3mNxgHDCwgXex4KVnSWEFhZURhkRYB675pqr5Y477pQRI0bIXXfdFXmIeygVEb6Y64YPH+76P4t0FvP4y0As9uCnLBZT6qVImbJl3CIQBSSCCos62uD22293CsA777zTCXos/BFQzj33XMd7WasgIJIXiip8JU/pfYo0bNQwUia+MA7h3ShAaGcWgAgEhw8dltGfjXaCRedOnd1zLN4pxx133OGENhbR//73v6V169ZuvvSLTBaMLKwRGDMjMGHxjFuL5798smvYo0cPxxcQZB588EGnTEcJxG+EX8Y1SmPmEMofXGPAV0kH3orVDMLEH4b/we0urVq9yr1LufxiH8G6ZcuWMnv2bLfQbteuXeSoDwQUlETggxIyFiEkHjp4VMFP3pQLfFnUY3aK606HDh3cDhXp0TZ8wu/BGwJ7BGsU5WDAe1gVIaQgkIE3i3gEbQRZBDf+zjzzzAxFQymDkhjBBOLILqwkhqnAFY1QRM+YMUMQMhAaEYD4hAxcTrEAAEAASURBVMAKARsBB2Fg+7btcvjHww53+jr36IPdu3d3ZeaYFHaVEP7AYd68ee47zyBokQ/9CYXDaaed5oQqeADCdDSlKu2M4EWfoS+zq0g/YKe0r54tjSCG4MO46KOCIwIYYwthhjwQ/Ngx69Wrl1NwoCRhJwwhh3X8Lbfc4nay6LsIWFjhUQ4ETwQ5r6gBj+uuu86NLdocwQzhnbzCRNsiVEFeiGRs08b4niKAIhBSJzAgT3bhaCNwwGoLPNkAoE8z/hGOWZvQJxhjpIfwybxCHfGL/vHwj/LnJ//sBDfSgSgHfRHsGDuMTdq50At2gEJDMMBYiNCgAAvQNExhJyYyNEaYPTFxMFGGiY7HgGeyoqOm6HYzg4SJlImZTomQxcBn8kIbyOTHpEHgGjSCDBYGKtottG1MEExwLN5YcHAf534mG7a/aSuYHJpPFithQgOHFppPGNN7773nGAKMgQmJxQyDgLTHjRvntCQwF7bLiRjHoGMwUh8GEWWFQaL5Y8v7WH0jXCbP4Hw5qQ99jUkXjJgsb731Vtfv6H9MbuDtd/2YrGCEaADZtgdrtLBocihn165d3TtoEXHIffXfrzrtHxME92gP6oymCExwBCZfJpMrrrjC9X9fNv/58f8+lpGfjnSLE+oOMU5gxJguMwmjGcNMiXxYcKBNoo8waYLR3Xff7RgJZWdCgxHA9OkbLDYwNYJob/DA7IOxh1aY9kAbFt7hpP1YIJE+5WeyZ1KDwcK0wIV6wny4BrFwgRlieo12jHKSLvWiTzIHwARgEOG24n0WEcN10UY7UX4WA/RVFAgEVmChAZNiEmfXn3TZUWKxxgKAeYYdJ+qMyQXMg/LQ/2B8EBpQtJ2MpbDAQvlpQ95HKwvmpAMOCK0Q12hbFjL0PxghzB+MYJT0HXCn/Cw6rr56mGpCP3ULRsYTO/HsNMCkN21Cc/imYxxoockXpQ4aSRar1I2xwfO/uulX0qVrF1eG4D/0Y9qfRSv5wsBoZ/oKeMCUWOjQRmDIQoYFMGVnnIEtGkqYG/39+++/d+MfZjnkkiHy1NNPOc0l44TxhB8ECigYIoILdafs9BPSQMONBp58KDsaXNqgMBDzL30OPGH6+/btdeNLoXH9g77PosgoIwL01fr1G7j+yIIQ/uWJvsp4Yy5kfkCTDmGyybjmnheiESZYSELwTOaZTp06ufmUa7zDYpJnGC+ME5Sp9HsEO9KBb2Ipw/uMRxaT06ZPyyDYkV6QvPkWCpLPPvvMzVEXXHiBmy8RDOAR7CLBT5gXEVZ5lgU0cw+8El4NwS9YwGZGzNEsuD2fpK6kyW++s8iFbzGnUTbqybzJwpZF/LGIutMu6zeslypVq7jyM2cypzCHMp+BH/MNfR/c2CFhDqZ+zBGUEZ4VbU1zrPy5T5r8IUSQB7whlhKLssAvLr74YrcOgk/D+8EIHgge9A/mK4j7CNhBwdbd0H/Az5v5MucjFDJ+me/oF/A+8gNr2q94seJuTqVtayTXcH0UDOBXRIBHgKLv+bYiH9Y4zKfwQ+Zh8oTfwCvZZYO3QvAv5nfag7LSf30EST/Xw5spYzTBjjTAjH4Az4f3kw9KAPJm3u/SpYtb59FfEJgoFzwQXks94X/wAPg6xJiEn/v1JM/Qv5j/EGAh5n7GEfil6HqVsYWihLqx5qX+CILHInCkvBBjhL7wzNPPuDLRP6tUruKEU/o+Y5U0aXMEO+Zb/74vO2WFaIvFixY7oRcezzwBsUakDvBzsGedwTr4lFNOcfdRVvj1hLsQJ/8Uz049AA+pnsEJwfDoZAgCFStWiFzPTprx9iwdDVMqOj2LYrbIsdEPEgtyGB5mkEwkTBYIc48/9rjUrVfXLYJhEkw8DODg4ERTMuxnwwQndZz5fZRSBjOTAYOFxSrEIICpMlGsW582gEgrmnYCRotgB7EQTNuFLSJ79+yVhx5+yA0cFjkITCxUqSPCHAOPBTYDBkbD4Kc/cI/JAYGIrXg/0FwGgX/oU0yuMBEmOCY7rrFwDU7S1IstdwYtA5zvLILRTjEpITgwuXhikYyAwKRDGTEHod5gzoTBwpZ+zMKbBS/fmQCYvBFqWdQjXNFOTJYwTxghzzNhhol237R5kyuHn2x4BnMJ2ghC6IY53vjLG6VY8WJuUcCkCiFgQUxuMD2Ed+qAUMjvtDFWMSL4oamEOSAwIrgj3FN23g8T15gcwcFruGknGAwatKGXD5WNGzY6gQFmykIJjFhkgRMEvrx/4403uvfA6M9//rNjLF6bGcyX9xAM6FdDLxvqmA1CBAyZ9OnDU76b4voqZWABAdGPmXipM+Pid7/7nRtH7D5dcfkVcs/v7nHtSB9gbLFgitYevA+zYwyyOGABgPkUY4/3uM+ETlvBpBHcXn31VYc5/Yr6ozEGWxZmLKaSlcmDCf0U5Q2MFwUOY5SdHPo/ghZtQX+HedAmjCXGFH2MsXDTr25yShe/2PC40d/pszA1z2hZEDAeWKxiukY5GGv8nXHGGU6Zs2P7Dnntv6+5xQTtw/VPP/3U7SCw+HEmbcWKuj7AfAPRNvRvFA9g7nczaEtMcmC4LKRQipAm5WKO6tC+Q1Sh1NchXj5RkjD26Tssnll0sVjzxLgdposjr0jy1+0zDQHGP/wLBQ4KRsYB/Zg/FsyMO7844w2UKVzzSgZ4V9UqR4+SYA5j/ATnmhLFSzjB2wsHpM24gZ9A7F6gkELIYzFboXzaGoXxlRWiD7BzwZjBooL5HwUHcwJzA/OAn28RNljskjY8h++eEGAyI+rNLhS7CNQRon+RP+lTL+ZRxj5zvifeQYHq52iuB/so70HMFfAReBf8knmGdQBzGLgz1pnvSIuyQyhsURTzhzIH5Rn8CwEQZQ+8MpiXe+kY/1BeFMvMKwiTtBtjyJttBl8HE+ZHnwftynf6EW1AOevpWskTPACBIbhm8Pf8J+1GHegLCHYQfA0+Bl+mfVGmnXX2WTJv/lwndJFPigoyzIGUn/6JQOWx9WmDH+kzl/oykx5rL65DtK2fv/nNO/B9+gxrDOoM8X5mwjPtyVoMon8wVsCEfkAbw0+D5aP/Uk/fl+ClQWsO8kUwps0h6szvIF8lPcoP/vBOFNSsUeAv8GLqQH/NKjG3sobApcsrOVlb3nrbrU5Jw3qA8tLfff/mN2X1fTSYF+VL3ZbqsPPKb+6DP/VgrEKkxzWItLgXLT33QAH+J1uCHR3OL1CoM2DSAWH4dFIGvVGa9ogJi0UpzM0TAh5aEBYKLNiYWBn8rVq2kutvuF4mTpooKfVT3ONo+9gJYNBCYM1ER7poHtq2a+smYt5nYQkx8GAOaOGYQDBhQFvjI3+RN6YE0QQ72hZmwuBhMYcmiI6PAEG6TIhMaGxbUxa0Q0wOlIn0mayZ1FiMs6iFoTKISAetFenGIgYughyTHM+R/nLdJfHvMFljroCpCIyBcqXoZIvwyDuUl7IHBWjSoE58smhncmXA039hEqTBPbSxCADssMCAuYY2ll2KhQsX6ISQNimjWfYLEd6NRj7P4D1fBq4hGJFG125dHUPlmk8r+BzXwRZmzMISoozgiPDKIh9BjV0VhEbwI200ybGI9Fmww5ApJ23KYuVVFWbAD0Jgh+F6LTmYeuIdtOLgz6TPH4IhjC642Ao+zzMsAhAcmR8QDtDwscOL0N+wcUO3YKZuTOQwTp6DYZAu/ZV+AcOAOfUf0F8IYEGf5Lk+ffpEgo74fMOf4Mcf9WdxxGLPC/30MYQ7X18mfwReBFEfIY8+hiaT9xlXtBfCLwI1mMBkYfosTljks0BAc4yfBYId2FBOxiELKPoyfRYmhlAVJNIDcz75Yw7gk4Uw/R8fHxQT9F/6KEoTBGUWsmDFTjraYhZtLMjAEyGPNKi7GyNaD8YVZWRxwJjik/QQ7hC+UaJQXxg9Zl68x3yFdnnylMkRRhwse7x9Z16j7zKPUvcOHdLa4mg9izicj/62b2EEsDhB2YFwxzihTzF+WNDznUUovAyi/3KNd3iGPkvAkiBxjb8wRbvGMywcsXpASQexKP317b+OzLnuYox/4BfMDcyTmFwiAEHUg7HFTgBzQ5iYg3mH+kDUBWXPsYi6s34Kzrn+O2nQH5n7vdBKesxf8H/KxJzA3EIdIb4zh/r1A/MnimDmEuZUFubw8uHDhzshFJy4H43Y1cDEEaUWwh/CD2sIr4wLvkOZ9+zdE7lEGSgLRBkREuEhKDzhXyjmWENS/6wSdSaf9es3RF6BH1A3j1nkxpEvCB7UlTkYk1d4E4TSC8Uei3vajfFOH3zooYdd/2Snh/UtFjUoBOHLvk7BvFjrcA8ewfxKfWgr1h5BIZ/rvn+TH0IR/AQFZHYwCPd50iQ9xhZ1pB+AN8SOJH3Lp+8/3c0j/4TT43f4Go9yjfp7pckwXY9C4Ac/ygqh3ESYZt3qd854j7UHbYs5J22A1Q+4UDcoVpncTf3Htyn9wM8rjBnWR8F5JVwvn75PJx4+syTY0TmRsAELUNAGeykaEOgoLEIwEwpK+fEA0PHWgcUruwOYxnlzAdKCYWzauMkJQXRiqFbtWm7gMSDBl0mCBaGflN1D+g+TDgOXZ+jEfPeLcp7hnQP7D7hBTZuhbZyuZidNmjR1z9NOLCqzSgwqtK0Iiz6gA7t6DEzSJj3KwqIRIZKFMcwaAY86QAgy/HkhLZw3g4pJByGjjy6AmZBIk4Uni1afPhOz145zDeZKHuCZ2cCEqbDAxZSAnUXSZeGLFpft/eXKHBE48O9gIiRt8mKSPLD/oL53gdb3Bzf5IxhSNxg6bZFdGq6MBeYAYwMT6sOY8ZqyYHpMRLQn5YFoa5gX2jJs7GEiXjMFDgjQ7MLEIpiQ27nRNoPAnDpwzROLB9ovGoEH+fEe5DSGOt/SXpiDskvMYoZ+ickHDIvvdeukaVUpI7/J0zO6cgnlHOb0Vdrw/Q/elxeef8EtYigLfYb0t2zZ7AQ70sCkkHZk8kbLGWSu4XLT9mgvPSMjTdLzZWb84b/jqVnTZk7o82HJmcvQAgfz4B3azrcLbYfCg4Uf13gHjGB+EG3CwhA8wM8vcLdsTtMg+ryjfZIebY4gSxlQ9Ph+wKIMYZEFG3iCH/3WL6J8er6cwd/0ITS41I30ID4pHwsuiPT4Haw7dSSPwkDMvbQzmnDal7EYpmjjNvxMYftNv3F/P6YtxhAKEAZQGuCDxphu2bqlG+O4CWDqdvDQQbfzzfoChQ9zEM+RTpCycs3nz3uMOZRG8CfmABQTKF48+Wd9PqQP8Qk/gNfB5+gLLDL5pB+gIMNihP7BGGE8MQdyHX7MNdwR4FEokainT9vnHfwk/2j3ffm4B9/B6gR+DKYIi3xHcQPfwiqAsYrlC0omdhRRADLnMSdgAcRcQPkR4uCJzNfUCcUFZWQ+Zb5kkc46gfIzLyDc1NddLn6zDnhVlYFecA3Wg++0McpdFL9gjUWDXyuyvmHeQYFKeVEUkrafsxwOP6W1ga97MH1w4DrjDqxRJqOUY16Cr9NewfnKv4uAxVoMvOgDzNEIO8zF7N74dYV/njmbdOCN1AcBlnmY/MGbOrHeRSBjfqD9mUsRUlAIsz7m3ldffuUUsPB4yNVP0/BEOcCeerAj6s3gaVt4lF9z+ef59Gnw6Ynv/MEfT+tzmjsSANNL1jcog8EYJSzt79/37/Lpr/HpyWPtf/Ppr6FwgZfTlowLxhdKlKDSwT/r3/dps97C0oWxTn1Zv1Eu+ilrCvCcP2++1K5T2/VJFNikBcF76VOkAc+jDBD3+WPscZ11K2OQfgeuvs/Tr8Pl4n1fNr7HC2VJsGNRRycHeCZIBiUgBckvbILXCut3OgoTAyZd7AR5bQF4gGWJkiXSMRg6G5MbEw0ExjwXJr9A5Tp58Dt4zQ1cSbuO5oidQSY0mALpMUj8JBpO2//2nZxdOBbraNiYfDwxGTFpo2nzZeSTyZbJj3oz0XlicPFH2WIR7zCwWUB5CvYnmA/lCi8q6YNMZj7tH48wBdJggvB9lGcwQcTEb87sOTJu/Di3WIZRUp+UlBSnlUPocG1XtJhz1mdhANNEW4ePFBMkOzosFtB4+vbyZQYH2jJInqlxDRxhqDBdtJ9oLBFqmHTD5OsUvs5vygTGTP6emFTDeft7/hOcg0TfCb5DnsHfwWf5zvPg48um7MQ9QvswqbKIYfIN9vdwGrwbfp/fLBRGjxrtGCKCEO1CH+RPs3RE3uxqkx/5wECDO+LhvPgdrjPXSAcMGQsHDqaZmnJ93/40Ey7ewYmf9gyOL56hrMFrpMXvSJ2OFNbjCJOhLvgO+ne5duhw+vmTtMNE+yLUIWyhxUzRfgrhw0PdUYagZECQRNBDi+rJl8f/Dn5yD/yC45Ty0ofA1lMYO96jvoWBWDywY8OcE8TStzfYMDcGlXaFAZdj1ZH+w9yNqTmEMIBSjUU38wJUpVIVN+dhIYBZMpjCP5ijWZihICQNxo0n2oD5OChMkwdzNvO7J973+bB7ze4/ijTSYrHN7pDv44wbnmf88scin3HBnM3uA+PD+z7DS2hrdnewRkFhi68rayLGDZ8P6y5P/QZp/kuMR3YkKAsLy3A5fXn55BnKESbKQ7rgg+IOywB21BGU6ZcIwawv6IsIawh8mIGzyCZN5mQEM+Y5dumw1gEr5hXwxNeXcmEFwM4GO/W8x1wAHljp8BxuAKwnwI3nyMf7RobLzK4fwXK8RQNrRfCkjCgkUWwyr5Iucz4YISBzDwyYlyG/1qQcEJ+0P+3Dd+Y+FM7e15XrCGD+effSkX8oM/0AZSjrIb8GQliFj4cJPo9gTv8AK9oenkR7YDWBBQm7wGBF2yNc0g5YdiDkMFcjdMAP2fXHSgjiedqDunvCUgJBBwEE4RpsWLvQJtEEO+pJm/l6kha4MS7oJ/iBzp4z2ykBuEbdEUYZgxDXqEewDIwNxlupkmnY8xxYeZz4Tbl4hv6DHxzWZux8YnnCNQQpnvHEWg78INKnjSGUkShuKDP9hDKDFTESwBZ+/9u7f+v6Gs8gQPsxjzCfojyQfkq/Ajfe9fWhfIwR8KdfgRFlw3KO9SVCKGn68U95KBv34o2OtkQmNaMzBe2go23BZ/J6ob3FgGJwMqH6RTgCMpM0g7ivOuHSGTGhYgDScYOD6USAYzKCMdFpmUxgrCwQYQCZERMwz7KowVSMySoowKDdQrhhsvb9AK0Lvxk01AEzNAYRgxutIf4paOcyIwZ4kPzCmOtgRF5o2ygTAxaNFGWlfgxeJn3yweabSQsTS8rFM758aCP5g/niq4eWFWaPlg1TRgRWiLby5gxMQkwctCVmj/ymTgixQVzIkzKgbeMeZSJICYKbn0QRCNFUscsCc0S7isCYHaLupAFDYfEB86bv+D6UWVphjDN7Ntq9aO/79iFMuCcwz2xnOFY61MkzLpgbWljfD0gb/BCGmby5DmPH7JcFTnaIMcY4oJ0mqaDI+4wV+gyaVxaj9IecINof5sFCBcIPlj7kGXNmefAsfQhfuKCPKv2T8Ua/ZGyjfWbhQl4QfY/0qV+YwJ7yoM3F34bdavoTY56+6H1Pwu8Vtt/JNZLllptvcbtJ1J0xHOy3/D6W71Rhw4z6shDzCylff8wx4XklVaHpF1UshpmLUXAxX7Az4scIghBK0ZQjigzSoU8jLDA/eGLux0fHLxq5zoLTz8uMa3gvuxaMFYQR8vXt1k1N4hnv5cqV10VpMbnj9jukTt06Li/MDXfu2CkoCzHxJ/Ih5aGsWHxgGs14gU+w8IQ/+fLDo5hf5s6do4vwZKcUZwEcLKevA/0IM0fGd3hOwGyesUp9eI7FKnyIABbUB/x8XUmPMqO8hB+AJ8IY7/EMuPRRi5jVq1dp/Uq5Oc8vaOHbKGoxQV+6bKl7HuwQICDqytqB3RJ4OvmSbjQiD3a0mKsbNWzkzkgjABiCAunBw9npYb4FR4QrCIUnZUg50ub4NYO1F/QQijB/9RYmvIvAmSZYcF5nGSdww4PDRN4IqalbUyPtSbsSFyIagTO7bwhwtAnKAK90Zr5FeGXeRPlD2txHwOAPoQOsWAdQN/q9x4q2ga/53+RN+9LO9Bkwg+ifHhd3IfAP/QQzRrCBEKbgh14QZnxQPjD3LgzM775vseYkImlwHNF3GW/1G6a1BWlidRNci8IT2b1mvUFaKE0QShFkqSPtQ54QbQZvZmxB9BcUJBA7irQhPMy7zhQvkbZxBMY+ECBlYC1JX/f9FGEOZRD4wv9IhzHFfeYVcGWNxthDOOc344A2g8CIfuD7GPfBAlPbeKMsCXYsGNACsdMQ7JRBMAAI88NghwneLwzfwYZOjX+OJwJlsIBnkBQpmuZDwwTFIMG/xQs/TCQwHhYPTMR+4Pp0+A1z8/jzye/gc/4a7yAMMfDwkaGjw4BoG96BKAuTik+PPP09BiFtzYCFcVImBg++Svh9wYxhIkwYvM8imOsIgSzwyROzsRSdpGEuaG6C2hxXgCP/+DIH68EtJo9gXyLwBRpymDsDlYUseTF5gDnmDmiQWOSSFp8wXL4TLemf//qne45rLGKZFGAmXqOMxgytJhMUWDFhoIVDAGdhwGKDSRnhEe0Xz4WJCR7Gwg4c5WJhzWTv6+Z9PWBwMF800zf/6maXDPj7tuAz+JsHwI/2oR/RTzAlZUcVs1gEIjSeTG4+r2DZfHqk6Ql8Sc9P+FwP9gGug6svE/cyez+cL++59IulaVxJnzqQhk8z8ozmBYNECUI7gA0TP+aWvgxg+bBqe8HVM33aC0YKg+e5IJE21zzz4B5lTOvjP0qK9k3a8fXX39A2nek04OyEoZmlfejTYXxIk/IH+zI4BetEPrznsSIPNPwwX67D8DH59OXy7cB7kM+TRRSCHQIsJkSY69D2KCLwb2EBjZDrBXrw8QyQvBm77OBhEsqz7dq2c2n7dmIxib8jYeJZxLFQ4ZM5HPJt5X4c+Yd0fb2C1+Pxe7nEcul8CVmIgjELCoi+wNg2So8A8yl/QWKuDPrS+HsIFH1UEAgTczSm/UGi34aVg8x34ffhdUEiDxbNnoLP165dR+f5tCjD3PdBHPgeNs/jWpAoD3mF8/PPhHFgQR2N6EcpOhfxFybGbZhY8Mda9DOXMD94Yg3giXHL+OYvGlEOjoAIHwPBswiRXukZ7d3wNeZo/jyhRPIEX40m4FLWYHnDuDIvBpVbKMcQ2pnn2Bn78MN/uzkr+IzPk3VOtLgC/n60T9Y2/MWiWPdpAwQS/sKEUBSLYuESfp51CH+eyI+1d5hitXW0vgPf8LyDdOgL4X7CGA72AfJFIOTPE0IVxNgIPssal51LKFYfczf1H9YBwbki2J95hj4SHpte6A6mEX6Ge/SD8LwCr+cv3qjYcKVjVYrFxWb1c2GBz6I6/MfAZyuWySm46DlWuvF4H6bEAtUv/AktTMdDa8EEh7DCjo2fgJiw6PRoSMCRQcXAYOIITo5cZ0AzYTBJ85uFKxoJz0i5xsBgoFMOPyhggGj6Tj3lVGnWvFlk0HKdMiF4MVDRgpEegjz5Ux7yooykiyDEBEDZucdCk3xIg8HId+pK/thh8w5aqi6du7i06SNhosy8hxDqNZ48w3XyIm3wADNwRYhhgLIAZeveb/dTXnCgrzZv1lzOPudsp10Cg+rJ1V0e9F8wg2ESlZFJjv4KpmjJECa4T1rsUFNeJhJMfigP3xFgWaxHW+BSD8xeYTTUBUGYNqRupEX7gTP1IS00g71P6e1+e/xhVHwvm1DWLRqI5AYhCDD5e+0gGPt2pz4sMhGIEHYpa5hoQ+qJ1gviGcYx6VAeiHxhqLQzRPuBOXhzj75BfXz61Je+EGuBS1/3wi7vkA/vwww8fqTNM/QbGB+frg11AQJ+COAeU0x3EJqZiEmLMUWdWfBRvzBRPsrvFQSUgXdbtGjp6sT7tAm72+RzzdXXSM9ePSNzGG1I2uAE8T79g/L6vsw17vMc44nf9CkwBOsUnRN5nj7BO2jO8ant2Kmj69/Ug3YEWy9M0Z5gT7lIg/KDF3+kAdMF94TENIUJY4/FK/iBLWWkP1N/xijpN2jYwLVTm9ZtXP7MT+DKs7QtygL6o2dylAv/w9ZtWkdg5TnqGW1hFnkozr4wZ6CJxiQWJRdHg6B8wM8TjDNbrMUZFFYdQyDfIMAaBZN2lF7ezJJdp7BAkm8KbAUxBPIQgSLKuNLbwMXInMWWfxQGzwKGRQPXIa6xGCjMBD4sxliggY8nj1N2rvM+mHry+AcxJt3gc9HyD+bNff5II/wsz0Hc8+/wjCfyCZaf8vh3gtf98/4edfDpBOvjnwuXw1/36XsBwF/3ZYuWp3+HOlDeYFv4fEiH++GycJ/3+Qvf9+nybrR8uR4kBESIsvM9mJ4vv7/vHtR/PF4868tCGakHRBm47q9hjoBQw0Ics0d8OhBUMNuLRqQfra8E8Q2XIYhfrPczw4N3fHmDdaCOkK9nsFwea54JtiHPkl6wvKQBvtHKwPPB8vNsGEOu+ecopy+Xv87zwfJzPRoO4ed4BvLphfMI9gnu8b5/NogZz3E/SDznn+U9nqf+UDAdfnPPl4168D2ItX+H50iTZzzxLHn7vLjOc+H3/fPx+skOHWZFCNfssKMAQOHETilmPSiBjAwBQ8AQMAQMgfyCQJZMMSmsZ/rsmMDUcHJkYQmjh+Gj/cWW3mvH80sF87IcYBFeeJJ/cDEWLE9m14PP8d3jH7weXHRxPVr+wTy47yn8bDCt4Dv++fAn5YlWJv9cML1gvv6+/wyXw1+PlX5mZQu/E2yLWPn4/LgfK+1wuv6dWJ/BfIPfeT5WHmG8gr95L4w15qHewZtxyE5OZoFEwulFwyP4TPh+8B7lCd/nWpjC74Tr4DEPvhfG2uPHs+H3ec/fD6bB92jli/Z+tOf8++Hycz18LVodoj0TLGfwe/j94LvB58g7TGGsgu/yLL+D14LffVrhNILX/Xf/Ge19fy9ePxFwMcHEogKfT0z7hg0b5syEJ6qPqwl28dryVi9DwBAwBAomAlkW7KgeGlwOFSbYBN/xn2Lrm2AS9dWsrTAy/oLZ7Fbqgo4ApqKYguH3hwkgJpxBO/mCXj8rvyGQHxBA8MbUmN1T/Gcxy8THGD/dkzHeUKLi74fAaWQIGAKGgCEQ3wjgZhLN1SSzWmdLsIOZLFyw0PmDoKnknDECgRBNjug1MB0jQ8AQyH0E8NHjz8gQMARyDwF2TQm8gDDVp08fx+vw/cQ3Fb/lvCYCcXGmLOa3pkjNa/QtP0PAEDAE8gYBNs9Q3PfVwEuZWWNFK022BDtvtsQOAQEDCGbgzxbDHAx/hJNhiolAaRrMaM1r1wwBQ8AQiD8EMCHNC8GGfIgg6omgKURrJehOdrWoPo0T+SSqKoEjCB4FHzYyBAwBQ8AQiD8EkGtGjRoly5cvz3blsi3YEQUMUxTMwNAaDh8+3DEaDl+OFR0v26XKxguYyOD7wJkdx/JJyUay9qghYAgYAoZAPkSAOR+fUo78QPDKbeLoCc7N5AgYlJcoOPkjf3bu8pJKFE87yoK8TbDLS+QtL0PAEDAE8g4BDXXozoNGkZddyrZgR1hsH9qbM584R4uw4MGw6dktxIk8T+Q7zFNgtAidtnN3Imjau4aAIWAI5G8EOG+Qc/fOOuusXBfsECIfe+wxZ4LJERMIU5jIIFAeOnjopABF/vA9I0PAEDAEDIH4RAD+crzyTLYEO+Bjl46gKbNnzZb9B/a789rInO1CdvFi7ZrBjHiOP9JAEItFPOP99Y71LOlyXhP+Dn3UB8LIEDAEDAFDIH4R+Prrr+XTTz/NkwrCh3Az+Mc//uEUmnmSqWViCBgChoAhYAgcJwLZFuyICvbcc88J5ikcbuupS9cu7hDpaIIdghqHSH7++edua5FDhjmENxph6vLOiHdkxswZTjuKLwGHJmcmCJoGMxqSuX/t8I8/yZqtu2XaylTZs++wNKqRKM1rVpDEUiUyzXz/QT0jS/8rWVyPTMhEwM80EbtpCBgChRKBQ4cPuV2zvKg8fnxYgixZssQEu7wA3PIwBAwBQ8AQOCEEsiXYIaBNmjTJBU65//770zmvI+TFCpyC2ciKFSvcLhxn4OGMHkuww6zypZdfEsw88eX74x//KH/961/dQcwnVNM8ePnA4R9l195DaqYjUr5MibgWWjg2ecy89fLkyLmyYuNO3YkVSdA6n9exjtwyoKlULHtU6PfQ7zvwo0xbvkXf2yD7D+nZhw0qSc+m1fXZkv4R+zQEDAFDIN8ggKISk89f/OIX8sQTT0hycnLEFPPGG2+Ufv36nVBZv/32Wxk/frxLEyUmQmRmSswTysxeNgQMAUPAEIh7BLIl2IFGpUqVZPfu3e5MH8wkgxSLIRE97IorrhAON2fnLtZzpPX666/L2WefLYMGDZIePXrI6NGjZcXyFRkEO3bpIITN/EDLNu2U/01bI5MXb5YyJYrJgHY15fSWyZKkAk5so9P8UPLjK8PCdTvkzx/PllkrUlXATwtgsGf/Ifm/rxdJ1XKl5JdnNE2X8N4Dh+Vlvffsp/Nk975D2gdE/v11Ubmwc125/6K2JtylQ8t+GAKGQH5AAAuSv/3tb1IxqaIMHjw4EgkTHpaSknJCRURJetddd8npp5/ujlM49dRT5YUXXnARL08oYXvZEDAEDAFDoNAikF4yOwYMOIwTPAUt44MPPij16tVzQhpMjgOSu3XrFmF80ZLKisM3TvGXXHyJe50dwISEBFm5aqVg6ukJAfGLz7+QAwcPuChlRMT0gp5/Ji8/V23dIze9MkV+WLJZhZwiWhaRUdNXy9DeDWX4BW2lbKlieVmcPMlr7Nz1snDtjohQ5zJVYW2PCnDfLNwk53eqKzUqlomU5bulm+Uvo+br/UMOI278qKacH3y/UprUqCC/OKOJ+120aDyKwREY7IshYAgUIARQHMJbHnjgAWnZomWOlpwgZBMmTIikWbp0aXn55ZflvPPOi6n8LGLzYwQv+2IIGAKGgCGQEYFsCXYwOISo77//3u3cIWD53TeEMB/wJGM2Wb9CmqVKp5nxIUiy20e4T/L2eRGpbPqM6bJ3717h+5YtW06qYPe07kLNWL5VSpUMCHAq3L0xfomc1bamnNo8OesAFJAnU3cfcOaUxbA7DRBtlLp7v+zYd0BqSJpgt0+FvQkLNshe3dFL51OnMtyhwz/JK+OWyO6Dh6V8qeIysH0NqV0xUds6kKh9NQQMAUPgJCCAKSY+3hPGT8hxwS7sujBjxgx3jEO4mhxSC5/D3QHf9pOpxAyXzX4bAoaAIWAI5C8EsiXYob3kLB98Dm6//fZcqUmFChUih54jKCK8Va5cOSLUkSlRMO+9916X//79++Whhx7K9bDXmVX2i1lrIrtQkedUMMFKFD+0Xk2qpd/Zijx0/F8IXLJ9jwpXKhCVKlFcKibkrU9frSoJkli6pBPW0tmaqgBeS3fqKicc9bHDWHafBkxJ95yvuuK0LnW3PPPJbNEqyTOj5sgTQzvJoHa1/RMn7RPz0XXb9ro/8Kb81cqXlpoVS6sPpfkFnrSGsYwNgTxCAB40Z84c+eijj+Sll15y/uVkjdLxlltuSXd4+YkUiZ26hQsWyrPPPpuO15Em5ppEAkXITE1NdfzXKzlPJE97N2cRWJu6Vz6ZuVomqcVKCXVP6NuyhvTXv6TE6Lxi0879MnfNNtm866DyzNLSpk5SXFr35CzKlpohYAgcC4FsCXYws7p168rMmTOdvxymI9mlsLaR32gqSRf/PUw9ORsPR/KtW7cK2sqUlJSY2cB4w2nGfDiXbpQpWUK26Q5WmIj8WFoPlM3p7acdew/IpzPWysdq7rlBBY+alRJkUNtacl6HOirkpd9BC5fpWL83bN8nizfscEVupiaSlRKPCmjBd89okSxfzlorY2avU/zT7lDfahXLyqAOtaVKuaN9o7SWqW29JCmmZkSHdYcumoDHQkWtWGXHnoPy8AezpJlG12xQrVwwyzz5flAD4GAiuk/PEHntm+XqB7hYlm04ckCklq+y+g+e16We3DaghZqaHq1jnhTOMjEEDIE8RQA/8iuvvFIuHnyxlCyVfoEOz8oJGjlypBMaX/33q44PhtMkCjXEHPnaa68JkalPNs8LlzGz3wg8b05eLvPWbpdKCSWVT9WW7o2rRWMDmSWTr+8tUZ55z1vT5duFG13EZ3ji5zPXyti2teVPQ9qpr336vjNNfdOHvzdDfdS36LFRP0o5DTzWoWFleeaKzk55mK8ra4UzBAyBfI1AtgQ7mAk7aO+++647sBWBC2EP6tq1q1x++eVRI2Oy0zd27FgXGGXZsmWOieFLd+211wo7dL///e/l5ptvloEDB8rVV18t11xzjRMcFy5cKC1btpT69evnaxDP6VhLXvhsgRNcIgXVib24CjJnqikmAk1OEUcF/FcFjic0cAm7daQ8Z9U2mawMZXXqHrl9YPPjzurjaavkmdHzZdP2vS7dWpUT5e5zWrkdR11TpCP85+67oI1U1R2s0SpgEjilee1Kcl3fJjJQ6xwkzC9PbZYsZ7arJR99t0rwE3HJhdLkHRYv67Ue3y/bmqeC3c59B+XDH1bL++rzt0vrUkLDnC9alyq7NcppmdJHh8me/YdlxKRleqRDcbn3PI7hCNbUvhsChkA8IYAJ5JtvvimXXnqpM8nM6boR+fnOO++Uv/zlL8IB6NEouDtXtMiJKe6ipZ+b1+av2y53/fd7mbN6uyr1sNooIp/8sEpuP7uVXNGzvpQ8EngrN8uQ22kjxH2kgdOI+Axjg7vBFw5pfcfNXSfj5td0wqwvR6pa2jw5co78sHiTrp9UoakaTXzPJ8zfIL99c6r85arOkqB++QWtrX397NMQMAROLgJHV6xZKAcMpk6dOi7CZVhjWLtObbdgj5VM+fLlpVmzZtKqVSv3CLtzaEM5J+iqq66SJk2auOvcHzFihIuGSZQwhD387PIjbdOdsy/nrJd1W/fpBH20hEzqRIq8RYWsFrUrHL2RA9+Wb96pgt1SDRxzOJ3AuHPvQflgygq5rHuK1KhwNGhJVrP8flmq3Pnad7J7/48RYWXzji3y6//7Tl7/VW8NcFI+Q1INdUftics6ykOD28sBPb6AIx5iURXd6frjkPbSWHcBR3y7XAXBwxodEz89DDXTE2aPBGHJK9q5/6A8+ckceemrRRn6cIZgLjDsQz/J/6aukjvObK6mM7HrnFflt3wMAUMgdxCA5yUlJcnatWtzXLDjCKDTTjtN4HP4ib/x+htSPbm69O3bV+dgnWgKOKm8Iy+PXewUj4cwZYdUCsIq4+Uxi6Rrg8rSsnbFtOsF+N99yotnrdKzXFUhGFbi7lXLj++Wbkon2K3bule+VkuXDLxFIfpKrWDa/vZDd3TQkG715RenN1Xrl+hWM3kFGS4JW9RvXrcineDKUUaJcRgQLq/wtHwMgdxGIFuCHYVhh65Xr17SoUOHLJeNd9BGxtJIDhkyJF1aRNu8/vrr013Lbz++nrfRneE2cf56d9B2cT1sm4kvsUxx6duqlpzTvpb0a10jfbCQHKjEejW9XKZmH/6IAZ8kCwFMNGcsT5UabbMv2D332TwVpo4KdaQL41m9eZd8qj6EKdUSY2pXMbXk71jE0Q+/VmGXv+1a1vtGzJB3v12WoS6JZUtI/aoJx0ouR+7Dq6bp7uB7363MINRllsFuFaR3qhAc5bi+zF6ze4aAIVDAECBg2IsvvugEO/y7IXjasGHDHC883upgycJuHUpShDzIWTPEgVBHXXapFcRkjRSNeXs6QVVl1q279slUNUdsoYJdTomwWF28pSafC9budL5qZ6mFSJcGVShKrhLlL+GtUEI5uXuhXUlw2a1CYGIURSj8SHWksl397l78aqFTcN53fhspEwzMFsojN38S/frfE5YI5rResKuZVFbO1fNqL9A/I0PAEMh/CGRLsIMB4V9HlMrsCHb5r9onVqJ31VzvvremyvbdB6VswEyPVNHe3TGomQomueMfVlbPyCNYyiEis6Sjn9T0s6iUV6HoeGiFCnC0bzoGrAkVU4F1oTJKdghz0mymggYf6dsqWb6YucaZPgbLjMnObt3RywuizjNWprp2y3J+yq3xa6wYhTFnOQ170BAwBPI9AliUDOg/QFq0aOHmRj8/8klQrxOh+vXry29+85t0Sfj0010soD+KqNnoIaSUKKTTrjNVjHLruC5t3bVfrvvXJJmpO2fwKnDEgoUzUi/qXO+40tysab6m1jGfTV8jh7XApzavLtee2liqB47xIeFSypM71K8kY1QIIgJ0kEqXLC69mlYLXlI/9NJSW4OPpWr6Udv7iKQLi39n8jK5sV9TqV2ybLo0cuPHj1rHSYs2y0tjF8lyPZc3Qa1RVm/ZJVt2pY8fMG/1NpmuCmSKeb4Jd7nRFJamIXBCCGRLsENLeUrvU+TJp55SU8lRajJyujOl9CXgfrwTkShfm7BMtZFHz2OL1FlnOhyh31M/sjsGtYhczskvdaomSq/m1eRLdcwO7tqh6atdpYz0aFz1uLKrVr6MLFm/I8O7P6kJTZ1KZV2Urww3T+ACAtV61QKivVTuli4lzDQ5B5AdTzShuU0EbclOLiVV2L1ETV75NDIEDIH4RQDB7qyzz3K+5Rs2bHDnpmKaWaVKFbdrd6I1j7qwP9FE88H7KzbvkVEaIXLvwYzKQnZ+KmgwkVbqppCdeTdWtRBInhk9T75dtDHCE+EvW1Rwuvv1H6SvHjeUFCMIWKw016uf+b1vT5Ov1GSSHceffioii5U/zl+3Qx4e3E7qVkmMvAr7Oqd9XfWxS5Uxc9bJLvXL5lpFDRRzUdd6GXYNqyuvvbRHQ/n75/NcoC6ejdoP9PrWHftl4/b9Ult3yXKTCBj2P/Wxf+i9mbJR82Q32ZcpxJ5dMbbs3CvvqODcv1VNi+SZmw1jaRsCx4FAtgQ7IlCOGTtGJk/+Vr744vPIuXVMAByqyiGu+NLFM63dtk/WbN2daRVhNJkRTG+uRgjbo/b39SsnSMtaFbMczTJZ/eduO7OFECp5ngZNIYBKaTXTaF+3kjwypGNm2WZ671f9msjslVtlmwqu3k8A5++qFUrLBZ2Jthk4oy/TlLJ2E5+LTTv3qW/eT1KyhHKwEHHMAMw5eyJXKJEs/CSwS+eGVaSCHs+wd/+edNlRqir4K2oxlLW7RQgLEsxQrurZMCyPZiE3e8QQMAQKGgJLlyyVZ559RlatWuX8wln0wu+IllkYlJnZba/xCzbKIx/OVJPI7WpZkp4XHlCf6nJq5XJJ9/rSqlZSdpOO+jxmjZ9o8JLwmarM7Shg35+6Wq45pWHUd6NdhH9/rgIdwUw4Z5X1jf6vAt5PGvVyk3yiO3i/PKNpuldrJpWRBy9qL2NbJitv36HWM8WkU0qSdG9SReub3ooGs8rr+jSUimWLyxez1ulxB/tl/bY9GXb7yKC88huOMsptQpB989sVsoHAaVrZDP5/UQqwestu2bJnvwp2uSt0RsnaLhkChkAmCGRLsEN7SeTLwYMHu8NSCX6CsMdZcjC4xMSjWqxM8izQt4h0yV8sQrs3oHX6qJD+WQSVD5TJ/GXUPN0d0yhhKtQkqWP0AA2JfPe5raRqFp2kO9SrJC9f10OmLNsiG1S7VkuFj071k6Q6QshxUu9m1eXhIR30HLm5Ml8FRpWqpJPu/t1xVitpVD3nhfXi6ndQIynBCaUZBGFdC6RoYJZicNM8oDZ1KinjbyRPjZytx1YcdIItbdVLNb13n9tSymD6qr+JdlZN2yg5ZIqTB0W0LAwBQ+AkIEBUzP++/l/H2x588EEXyGvu3LkuUmZKSooLfHISipVvs1y4fqf84d1pskg/dcpMR6XUwmGARkwe0r2BdNHQ/mVyKAAHu017Vbhzmrd0ObITJrJTg7VkhxBGZ6p5PkJoOM3dKijOXbNDDiifD7smVKtQSi7ukiIH9T2Cl8LjYnEwokkTQRpTxr0aEfPpUfPlf+riEYLMCZassXKbVqqQtmLjLi1vrBJnLEEpFVBLFgIrrYw1tyuGQP5GIFuCHVUpU6aMi+D1wgsvyPTp0925O0OHDpX27dvn75rmQOlY7M9VgWzVJp0Aowh3B/QoglsGNY8Z6Wu17vY9+b/ZwiQKxyhWnIAnB+UjndAbaHCS6/o2zsAsYhWb4wbOba+HeMMJdC7O+nQcK0WR8zrWltNbVnfCIrFQOIuOqI9Rqho7kSzeoby9VHCsq/Ve7s+JO/JuBdVQ4vjudw6zmORxP8bZf2B/Sovq8j8Nxb1JheWeTavK6eoDWE4PYc8JbI+7cPaiIWAInDQEWFRznurQy4ZGomI2btzYHVqOgEdES6OjCLz89SI1WcRf++g1/62kzrOn6YHdZ+iuVph4nMBg43SXbJ4e2o2lSO+myWrNUuGYfCBRd8S6KS/BfB9hKkKaKMrBfm1qRC5l5QvzPQeMRyW9SZqY70cjBEnqmRXCzYBAJI70xSiQuWjTH6oy+I5B5ZUPxcg0K5kd4xmOXGCXjrNoj5mPFpQ1AYFpqms7GRkChkD+QiDbgh3n7tx1111Og9muXTtZvny53HLLLXLbbbfJRRddlL9ql8Ol2ac7bCM1zD3h+MO7dmgNL+5RX+48s1VMRvS5+hxgfhim/epgPmbuBndUQawDwcPv8NtN8zk412O6Ul6DmvCXF9RUj1B49JL28sePZqt56x5dDKjpp/of/Kx3I+mjjup5SQiRLfRQdP6MDAFDwBAAASxROG5n3Phx0qhxI8f3pk+bLvPnz3eWK4bSUQRwC5iyaJMLihLNlA+BIdYOz4wVW+VPH87SoBxblb/+6ISntyetkBvV5HGI+jNnRszdNw9opgLlTlmgQmFxFVIQLIlUfc1pTbI9pxOEDPP8DzVSMscIpTHatBJwpE8nvRc2+8ysfMe6d1Dru1FdK6IRZpFL1u1UBa4y+hzk9eG86qvPYFMVoldo0JQgYU1zWE1QWd+kuUaowld3G09vXUt+eXraEVXB5+27IWAInHwEsiXY4VswZcoU6dGjh/zud7+LBE7hANfvvvtO+vXrF9c+dgQS2ay7OUy2YWLSq6RmeiV1Fy4WsRPEBJmB9NJOPdMN847CRMDYo0k1eeumXjJPndLxZ+DcPyJmGhkChoAhcLIRKFGihJx//vny5JNPyocffiilS5eWffv2Sf/+/eWMM8442cXLV/l/oYFDNsWK9KglraABTFqo8BAmjin478RlMmXxZvFm+Qd152jZxp3y6vjF0kOjShLAKzNqWydJnhvWRT5UiwvMKCtodOgBbWrJwLbZ260jD/hS3xbJckGXuvKWloszVeHq7Gqd37mu9G+dcccxs7Id614JFSQbVkuQyQucB0S6x1Eit6mXpGVi3RB7bZHupeP4UVnbBj/EZWo9g3CMYE5b1FaB7wa1Zimj48CtXLhWuYy2owYQyqLryHEUx14xBAyBE0AgW4IdwsuhQ4ecOSb+dp4SExIjgVT8tXj8LKFBPtqmVJJv5hN9K/0kW0rDGjeuVt5NiLHq3l5DIhNJMXwoN2bqmGImlMpWc8TKJlvXf1ANKdHE2KWbpucKTVu2Wc/MKS6Du9aRoRq5q3QOB02JVrhEzbuzmnXsVY3vaD3+YKUGl2mrfoSnNksfJjrau3bNEDAEDIHcQgAlXrdu3eTpp5+WRYsWuaN+OGe1adOmUrZs5sJGbpUpv6Y7Vs0ot+8+4ASjcBlLKN8bqjtvDapnPAZoi+5Wfa/n3XmhLvKuShJr1G1hypJNKtjVi1yO9gVBpE3dJGmcXF62q08dFjWVy5c6blGogu7M3XVWS+lYv7KM13qVLF5MTlF+1L1JVeE81pymIV1TZNS0tbJp+x6Hn1ceN9L6nO2OFEi/3sjp/Mmve6Oq8vdru2pkzw0aA2Cn1KpSVuMF1JAmNSrk+Hm8OV1+S88QMASOIpAtSQJhjvPrhg8fLtu3b5dWrVrJ6tWr5csvvxQOGY/3iJho1s7tUEc+/mG1rNXImGj2IDbhWtetKP3UJysz6qYTZ6dG1WScajbTDm1Ne7eK+sud37Fungp2HGZ+1+tT5eu5lOUn5zNwQD85Hw+TGUI7L1cB685BLVXoy92oXKovcGfJ/f7tqbJonQaV0Y1LXQdIu/pV5S9XdtZzg8yOP7N+ZfcMAUMg9xBAmbl582ZJTdWAGvsPyMKFC91f586dpUGDBrmXcQFL+YAe9RONMOXr1KCS+nDXjaooxIoFHhSNuLxXfdezSkScPJHDvDkP7ztVdm5Qf/gDGtRknka4ZBeygR4zVEv94XJDqKNubXX98MTlHeSV8UucD//qLRqhWffImqkFywItQ2XdgcTfPTcJ4bhJcgVJ0TN4OQuwhK738D83MgQMgYKFQLYEO6pGkJR77rlHRo0aJWPGjJFy5crJ9ddfLwMGDChYNT/O0rapXVEeH9pR3p68QuauTpVSqsnroBG+ru7V8JiOxOXVyfve81vJW8mJMknDJnOYaYPkcro7Vk/6qKM4Pm55RX/7YpF8rrtjaQJmEdHjhpylhy8DZcPHoL9G+Oyl5pK5Sam792tUsLnOv8JFwlQYOAZh8sKNctebP8gf1Q/vWKY4uVk+S9sQMAQKJwK4H+Bq8MEHH6Q7uw7fu1q1aplgF+gWHVR4+2zGGuH4geBW2WH1ne6jQbmqxQi0wXlvTWqWV0uNXYHU0uKCVdRw/x014nNe0FI1/Xzq0zm6Q7dZfev0UG7VOKJ0hDVOkA3OVPQPeuB554ZVI0rdnCoXytTTW9RwB53/XXnzy2MXqnWUyJez1spMFTT7tqohv9EdRPzbcpuI9hmO+JnbeVr6hoAhkHMIZFuwY9euZ8+e7o9jDnAs92YDOVes/JsSWq1TNbBHO7V737Rjn3PUrlmhrBD6NyvUWI8OuEN3wTb23OuczCsllHbn1OQlhqm7Dsj4BevdGUORfMMypf7eoFHKlmgI5J4acSzyXFYqmc1n1upB5WP0PJ9gFEzy4+y4iQs2yJXPj5de6mfx8GCNvBouZzbzsscNAUPAEMgqAhx3gF/5hRde6HzqgufWodQ0OorABZ3qOrPFcfM2uOMHEIpwPeiqSsuB6u8WS1hAsLtETREXq581wh2+1vDZJL1+QZd6etxORr+8o7nmzDf8218Zt0RGqjnkoSjHHJDLnNXbZIQqO1uocpdInDlN6HUPqoZ1kio0ibDtaeP2fTJi0nLn63euYtxZ1x7ZPXDdp2WfhoAhEP8IZFuwwxzlrbfeknHjxsnevXsjCPXu3dvt3BXUs+xgQttVS7dOTTA4h6Z6xVJ6rlzpqLtoyBZoEvk7Hiqjfmv11Cn5ZNF+ZWKcx3MsgtGU0H/4Lzdpp5aFs3zKRPEx5CwhGP4KjpjQsjw0uF1uFsXSNgQMAUMgggBzTs2aNSUlJUWSkzM3tY+8FMdfELyw8uAM0rIhZSYWKRzS/e73K+T7ZVsdH21dq6I7RqdhFN86DxNWIn31zFDSG6k7fss375aKav7fR6/h48WxALlN+OV9pYeSH8IPIJPsZuju2TaNlJkbgh11nKeuCEQITUdansO6QBmpxx5MmL/e7RjefU4ryQzTdO/bD0PAEChUCGRLsMMsBX+6b775Rs477zznU+dD4GKWUqpUzjsV50VrUIdvNSLX379aKDNXbHGRK+upnfml3etrAJH6x12EVRrC/1t1/N6i0TCTk8pIj8bV3AHXx51gDr2IY3hNjTK2TB2kYzExMCEiVlPC/2fC6HKiSNUrlHTlwYkeTW2YuIafxqfT18i1fRpJykkUisNls9+GgCEQvwgg2DEXEjxl6tSpzvWA31zHcqVJk8IR8n3ttj3yytjFMl0DbOF/1VgDalykUSPxG1eE6qk8AABAAElEQVQoIlRT+dyNpzeV3Qc4FLyI86njTLjAI+7Z/bojNV+FmO17Dki9yglST33YejetLl3VzHGf2iCWKFpMSpcsGlWxGsksC1/wGy8ZCnQW7bW9+w8fMb/Uu+HCBl9QXuTdFYKXc+K7divZpnjsVzeIaBZA+L9vVWsbzDPrKmZ3nt1So1VmtBQ6qD6LeSEM50SdLQ1DwBDIeQSyJdjB0Hbs2OGihBEshd9BgtkVRFquu0EPvDNN5q/ZEZnUU3dvFUwEkzWwCaGPs0vfa3TJP388V4OCbHW+dGj42qdUlnvOayXNVFjKKaQ27tgrb01eKXNXpapzdXH1iaul9vjJmU7sOJdf2bO+/LB4k+6UaSjnI+3mj2KgVUtrZEyEqOY1c9/cqEbFBLmsZ0N5fvTc2DArYHvUd2OVOpWHBbuFG3bIu5NXuTN4iIR2gUYR66DRzHKLAccupN0xBAyBeEOAoGBYosyaNcsddwDfwyQToa4wCHYIG8PfmSEfT1ulfCvNfuP7pZtVyNsiz17VVVpqgI8gYVKfqIE+MCdU9zo9JyB4V3elVm+X/5uwWL5bukXn9MOOx57Vvo6aY9aVcqp0LFXi+CxhfC7sKH69YKNGmVwjm3ftc4eAn9uhtou8HDT398/zWaFscalRKVEFq9Tg5XTfebeDRsUuXyZby6Z0aWT2AzZcOylRKqgJ6j4VnmMR9ZukvHvj9r0Ryx/65IyV2+ST6av0mIhdLsr1qS2qy2m6dmEn1cgQMAQKDwLZmqFgZg0bNpSPP/5Y5s2b55zJPVTs1uFz4IUEfz2/fzJJjpm3MZ1Q58u8UX3M/jVmUVTBDpv8uSoIfqM+YJw1w3lsrdX2nihSnMvz/BcLZaLayntCMzlWo2FWVefn4Re1kXI5MNku0jNn7n9nuvygoaJxWEeQITTzsk2N5Pq+TTIVbAZoUJTHL+8s/xm/VBZv2K6RxEo4XzqEukRlXP1aJqvTelUVFkNc2VcoBz8RNH9+aiPnj/G++jCs2ZrmZxHOooSeEVhJmV6QpiiDu18XHQvXb1dNpx5sqz4d49XH457z2jgznmg7gMH37bshYAgYArEQ4By7n/3sZ3L55ZerJcdRvyeeT0rKm6AescqWF9fhBxOUj32pZooc3H2UimjwsG3ykZoHNq5RPt2u2Hr1CRs7d73MXbvN+dV1alBVA3BVccfoTFYLlheUN47T+4eUb6LgXKHmnYtVOcdxQlf1PPEoo69PXC7PjJwrW3buc6aVHFQOX3xkSEf11a56tAqBbyheL+5WV575ZJekHjmLD2FJi+gosXRx6aD1GNKtviQor8wtalojUfq1ra2By5a7wC2xBFH4/b6AHx5t9Ige8D5/zXYnFPLe1/PWyzpVTl+jCtpY/o25VQ9L1xAwBE4eAtkS7JjoOOZg9uzZcvfdd0vVqlWd5hJhjtDPML8yZcqcvNocR844ai/fFN0kUWNiOf+uBerj1VSZlyc0kc9+Pk/emLBMBSpMTkRe0zDFF6oD+O2Dmstnairx7cIN/vF0n2g60ahx5s6JEFEr//vNUhdchPWGZwBr1fzzxa8WyWkta0hTPQMnFhVTJo0Ws5eah27ds98x3YoaUhkqVqRongh0wbJV0Z22m85oKhd2qq2RyebJu98u1zrpQgLOr8wVX7uuWtbmgQNu0Wr+WZ+do9FJ0SO7swW1j3IGz/PaPgS4qaE7rkaGgCFgCGQHgQ0bNsgPP/wgXbp0SafA9GnAC+fMmSMbN26Uvn37+stx98nZcnPX7owIC8EKMudOXb5Z9h88pIJDGu/YpMLUg+9Pd/5qPgDI25OWyZWnNJJqqtR8+evFslL5H/KS51mkibvC5+pf10/51onM2ZiM/vWzeU6og3cg1EFLlSc8NXKOdG98arp83U39h7JcrIFaeHr0zHVuN4zAZvWqJmgaRaSBmv/3U2VofT1v9oiBi381Rz8RMO8+p6Ukly+pAvUm5WU7HO8LZqJNInWrJEjlI0pOdj3/reuPWXowO2ux4mr6ChH87HVdI1RKKKUms5WlTuXcLXuwjPbdEDAETh4C2RLsmDQ4x+6+++5zB5IHd+cQ8oiQWdAIYSC5gi7+4TQIEQGCcRHUgzPdgoLdl6pt/JdqHYPmEnsP7JVXNURxhTLF5FWNrrVrXxRTCk2f9Fw46EA+x/N1hzpwT1K/QCb5IKNhh2qrHh8wRsuYmWBHnuzwIVDxdzIJPXgRrQe7nZyhc/OAFu48vc9mrJVdWk+ipp2n0cDuOrdVul3I+Xq+z3JdJDjjoEDb0aYz1ReE3b8uytBa1ko6obONTiY2lrchYAjkPQKHDx+WSZMmyejRoyUlJUU4lDwhIcHxvU2bdMG9ZIls27ZNevXqlfeFy8scdV52Ahr8MUw65+5X5Ro8yNPbqpAbrb7QB/W4Gs9PU/XQ8lfU8oV5Gb4VfN6/Bw9bq4LIIuW1WGaU1mOEcC3Irjn9jBXbZIfm5/P26ZM30SaxnKmUGJ3fVShTUq45tbFzZ9igu46VEkuoL1tiVEHQp5sTn5zht0oPYv9Cd0Xn6S5oGd0d7KxHKA1sV0ve+Ga5fKImsLhMoExAAK2k/PpC5YeVyqXVY/mWXY4PhsvCWmC57oY+8fFsJwj2VaF5sAqv1WMcOxF+334bAoZAwUQgS4IdTG737t0uOErt2rWFvzBhpsIzCHcFKYgKJgos/kuryeE+1XwFGQI7dsWVIQQZATyMyF1Boc5jgcD23Gfz1Qk7RsRJfbmyRtqskFBCNupRCTh2Y6+feBwMjKMAXFhmn3ngE78GDlDPz4Qp6wqNfjZSFwE/qD9icWVCnRtWcYyncfVEGX5hOz3fL8Vpcqurprd1vYoZDoc9pP0SZheNuPz3LxfIm5NK6i5fRWeain8ECwgjQ8AQMAQyQ4BImLfeeqs76mDGjBny1VdfOf7GcT+VKlWSxo0by+DBg6V58+aZJVPg7zFfllNlpU7PGYi5F3+w4BEQn0xbI/vVuiIokKEA3qWRj5mpY82/PL9eBbuHP5ipJvlpUaPP6VDHWV1wtik8MyvmhPDr6BxBdbda3slLtsqZbWtkqEvwQm0NLMZfVgnrmZXKbzncvJz6FtbW3TQClGWFeOdNFYZHTl8tC9UyCKEU4Q1hDv5328AWUld3DcfO2aBC8QEnoJ2rB70PbFMzgrFW2X2H52XAV6+t113MNVq+WRptk2jYv+zXxLmPYAWD/13pUHTTrJTbnjEEDIH8i0CWBDsEtvfee08wT2nXrp3Ur19fKlTQACA6i+zZo5PGmjXOsZzAKldddVWBCwvdSM+WG9imtgbgWOaiMlIvJkns61uryWSnBpUjLUiAkR0xjgrgvR17DmWcXCNv6zk1Opm+PGaJzFbzQYTD+hoGenDnunJGy5puxyrwaKZfy5cuKe3qV5KF6sdAvkHC52/s3A0u6lgzjV6WG4SmdpNGsYQJYWLDZ1Zpgwq1b05KY2bL1LfCHb2gdcAncdryLfLE0E4uzb7lMw9a00TNYzn0dp0yrgxx17Q4+EoQaZNdvc36+cwVHfX5slrufVpe0Z3KMpkGmclqfew5Q8AQiD8EqlSpIoMGDXLn1x04cCBipYLfHQpMhLx4JwSuTspnElVQCVuaIHCd0qy6RmZMM/0DC3dcgPLNoILUYaTzcaYcQm/u1N08fMSQzGarWeF36o/XWA8uL6uRH1vWTpKz2tcSzoHNjDC/R3m6VnfAwhlilvnK14uOKdhlln74HnzltYlL5QO1DkEwLV+2lJzRqrr8vE9jaVAt88Bj7NT9+ZM5zlzS+/KVPBLlkrNm35y4TE5VfHFR+Fnvhm69gBI4IaQITtF8iFI6f61iF4VYHyDw7lWe/cH3K1UKFFm3da8e27BfmtWoKANV0G1bt1KUN+2SIWAIFEQEsiTYERTllFNOkVGjRsn777/vzq87pCGJnWmAMjeYXIMGDWTAgP5SrVq1AocD59HdoFosQjQTeAMGQ3SuHnoo9p16mDjhmj0hwLTWKGBjZ62JqhnUOTQ26b0lKsgs1T8cx0lg2cadMmfVNpmiZpXV1SS0qfqQddeQz8cKWkLAkSEaRWyClpfduXTCneazWq+9/e0Kuf+CNrHLc5x3ZmsEzveVQcxbt1PUakbaabTPizrVcSGrj5Uk/gD/+HKh/GfcYqfZ5fliR/Ddo+araCbfnLRCbujb+FhJuchfN2ho7Yffm6nCXQgDfRtM0GZCMzSCGwfQInXPV80o11kEYNJS/xgMOC0F+9cQMAQKIwLwN/4KK3VKqSJDNajJfyYsiViJMGd3bVxVhaTa6ZR6XZR34brg+NvxAqZzM7596zXwBz7jyImj1Swf//SHL26v5vqxz4Dl7NlujavICI10jfllkBBS56siNNZxAsFns/KdIxvemLRcnhs1zwldpE/k5tcnLJW9ysvuOb+NHvdQxPmvB9cQPu05a1LldRXevFDnr/vPbbp7N1UF3F56DERSJmfmltK2uFqDj61Wk8wZ6oIAdtEIfrhaBd5nNbCMp88VV4Ks/GFwWxc11F+3T0PAECi4CGRJsGNCQHC78cYbZdWqVbJgwQJZv369ixJWKUnNUpo0lkaNGhVoDWZLPYIApkHUro1qX0/0ys4NqkQ1yRii0bNGqenEYnXIjjWJxuoS7KZFSPkOc/B6F/BkoRNEalZKkEu6p6jGr1GmB6Brk0ijquWFXavVakcfZmIEhVmqzC2niUicD78/SyYu2ujO+6M245QxLFCG+cCFbV1o6czyXKRC7adqyoq5TgbSOrGLOXHRpiwJdrxPAJhSqol9/OM5Guhme1Rhm+fYKX1NHckxt6XNfLnnqZ/eAxe2ljoa6trIEDAEDAFDID0C+D7foQrODrpzx9zMHNq6XiXpq5GTa+u5dUH6ed9GskAjFE9XywsEn1iE5Qs8LJ1CMvyw3kdYcqQTNhYdb0xaLveor3Vm1FX59hsa7Tm8o4oiunrFshp986iiNrN0jnVv3fY97ggIfBAj5dSXCGY2csZqWaFCVIIqiLs3qqIKxHp6rEPpSJLwn6nLU51yPHIx9IWaE8jMaYDD24+hZ9lVvXVQC7nt1cl6ZENaQLfQI2k/NVF2WoOEP/p/NBBcq9qVVAjNGWyC6dt3Q8AQyFsEsiTYBYtUp04d4S8eiWhc56v9+rEIIeDJKzqrWcdiGTlttRNGor3D7h4mi27nKDNTRSbbI7tW61J3y2uq8WugWskL1UQzMyqpkzAHlSIshq2CyLtWiOlmllZW7703ZaWeP7TZ8Rp/lACM7Ct1/G6mvmxd1em7YplSUqdK2ahHOixXv7pd6iuQGWE2kh3CXIWoYIt1QRFLsoOReh9Kz4TxReQICg7GvaJnQjrNc3byt2cNAUPAEIhnBLAgOatdbTm9RQ03xaJM8/N/sN6cMfrYpR00MuUC5yeG/1kG0smYqI74eOFjlqXdPWUJCIrfLtqgyWUu2A1sV1NSRifK6k27I3wVoY55/+pTGqYTwjKULRsXCASzSd0KMshcWlaCnWBKSmCvySqQzlXXi0cu7aw8Mc18Fw5X4Rjn4ZVUAZRjFrJKTTQKNqagmQp2URPT6N+6y7pKd/xQFBsZAoZAwUbA1DPH2X5t1ffupv7N1E/rqBYumBSBTc5oU0suUOGMA1yzKqogBG7RQ8cnLth0zN1ADoE9s20t1UKWdsKdzx9BD7POwV1S/KUc+5y2bIs7cD1dhWC6Wt8XPp8vP//nRLnhpUnyjJqnrNKdyDDBzIqHpVD/kDL8snow+kANK50dQmircOSohkzfCzeC/sYnBKa7R6OVGhkChoAhEEQAgYAomETA5PvSpUvlk08+cUcd8LuwEYE2cAOIJtRhCYGpfQ3lR1icJOvuWAaLFoWsQmJJ+a3uumH+11L5KLt3WSGm7xKxeEcggSQVbh67tKO6CFRSU0h1FVEhtJZawlyrZ7terAFJcorKqa9bkh4lEIvcbqQWGiEPn/fRM1ale7RXk+pSIykhpjLykEYW/c/4xTJbXTWyQhxr0KVRVedPF3yeDTpMQcEvFmm8GlNsxgLHrhsCBQyBrKuDCljF8qK45VSbVkYn91h0Zc/6zrn8XXWsvn/ENOe7F+vZ4HUY3S7190OTWfIYu1cd61eWO85pLa+pzxrn47Hzh9btZ6qZbK8+ZDlNpZSphyw5Ill47eyuvbtceGvq8bvzWqfzUWxWs6LzI5y0YJ8zQ428zBc98wA8a2UjIhmvsdjooUxy3BH/SK55KqWMnQUY2uHoVETQjMaqU/R37KohYAgUBgTwJR8xYoS0b99emjZtKs8//7wsXrzYRca866674j4qZlbbmJ23jzXC8Te6O8XB2U016EllPVZg5aai6YS7Q2reAc/q2bi6O2Zn484Dzud8++6DkTnYW7gcVKVbxLpC5/Cyym97N888oJYvbx99DmuWaWpmiKlkikaWxP/viGGMf+yEPjHr7K9KyBXqJ09gEoxywkfvkAG8hd29GXqUweCuR7NMUgH3htMbyWMfzZE9BGQLS176e46W/2k9q/Wl67tHsDiaQvpvZZUPDuvdQHcR98o0jTQNz+NQ+frJ5aS5Bkn56IeVUa2Liuoao7keCVQjqbRGLz3oFK+lc8hcNX0J7ZchYAjkBQKxpZIYuXOsAcwOZ3K+b926VYWJYlKxYkWdwMIzU4xE4uQyYfjba+CQRVGiUTWvkxTxz+vZpKrTHhKYxfsWoOzlIFGEjrC+EuGpoUb/ykp4Z7Snl3VLkY7q87BEGQzHBjRWkwz+coN6N6sm/8/ed8BFcW3/H7ugKNIEpAgiYu+9d401GmNMoqkm8b28JC89/19een/p9ZlqeoypajQae++KXRBExA4qoiKg8f/9XhiYXWZhFxBB7vGz7u7szJ07Z5d75rTvdwNKTGioHH7f+Bkwg0cuPWYsW0EXhlBnRPliAztLJwmDndd3WAnOb6a89Ps2eWx4C+mBcznzi+I+I4CYxnKSeejfI1cRjaw3UC97N/WTlch+7gVgSr7BoPjayCAS9bRWdefgqY3r0M9aA1oDV78GSPVDR65X716yc+dOycjIkOeee05++OEHWbVqlXbs8BO4CAfszbk75ae1CXBQQEGDf8t3HQa4VY1sZ81k4OiosTc9CWBX5E+9rlMI1uss+X3DfqAYnwcZeFXYPg/xqV1TVuw5oko1aSvroCKjdzN/ubFbmNM/OqJSFoZM6fRgFjvSkZoER+o87odod4junJ75Nypa8jtpzHDWNHmVJ4Cm+SV6vn9euz9/BYzpXLwXWLD1oHK46oBnrzAhivdbEzuoXkjquQEygl1x/3ECJaOrUMaalIwqGpNRZUaVrSVtQjxl+ppE2Q5H0hctKYNaBihE8Go0pFq0BrQGypUGXHLs6ITExsZKYmKigoDetGmTTJ06Vdzd3WXy5MnSokXBte/lSjMWk+X1x8B5SDh2ViqjdKERDMfdfRtLNBrFCdNs+LXsERsGUI8gRAwpJEB/FI4KoYpZVsG+O2+Qi7YAhDMbzbdhMWV2jksonSUuzoOxsDorLLNoHuSpHs4eU9T9xqAHkXw7BI9JASQz025VEBU0GwuOTXtAdNED6KkzO3bUUU+gjYaBiHze9iQgiu0BJQH6FHKEUcat4Nv5ABx0ndCvx4ybM0Jk08dHtFClqTy+Go7rgqZ13khsTySoCvVra6QuIjAxoEWg9Ir0z/3unDmX3kdrQGugYmjACF7Fx8UrUnJ/f39F98NAJikQtIhsg+2bvnpfNlgKlliuswTvOgFHzV7o4Ow/nobqimOKX9QDPGoPDIlSVAYsifdEGWUn8JlyjAU7Dspf244A+OqiCqBe1yXUBh0Sy7ecOJshB0+eU3YzxNu9QMAxYy4MrhI1OhlZwlpwnIJRpklAlaysC8qxpDNj2HLjGEfP7Mt/GsjT4zqHSixQotch6ElScWYmDeF9A+8BeuVkG1ma+QkI2z+Yv4sG39jN4XMl2HdM2SnhaHSKR7a1xUGoB8d4YMsG8g160ZkJNYSlqj4e1UHZsE82xaXkltjOALfef8a0AuaA7TjGcfpZa0BroOxqwGXHbs2aNXLs2DHp37+/4rarXbu2MnA//fSTIm0tT+TkrnwtJNT+eW2ifLwoBo4NHAUstK0a1pN/oc+OjeC7DoJPDv8o/Iz7nILh8ENUksKevHdv7SSb4k+o7ZEBtVVWbjOckG8BlrILxvEiDiRPz40o4WwR7KmOK2v/ecEhZXllW/DebAHtQSogmdfGJds4Z5wz7RD5dsgzZwjtSQKM+gb06SXDmUtB+Q6zvlayLuaopKIsxM9Jx45jMHtJZ44PQ85lZCkgl437jC3Zz/yO6FwPbBUgLInJwjyyWE4DJ5U9GUYJkO1R+p3WgNZARdIAOevatWsnX331lbrpv+eeexTdDytVmjdvXpFU4fBaF24/hCoervjOCZ3l/UBsVrQDbtlt/o2RpePDLMPhnPBhJcwSLgQa8zcr98k+ZKYqwRljQPQWZNA6ARXTkRCA5QdkFmdtPCCH4BAy2NohJwDIQCUrSgYA7ZNjsETfOakkzdBiwAePO51+EWBih1TZI/02L5SkTuoZgXYBXzUcCcO/XRkntHyFnYFOaN8W/k4TnjuaLx3oOxGErlz5knKWmR31hgPYAfONRwvHRqBcV4PdM+Qo5vjOnzulW2O/3HsY4zP9rDWgNVC2NeCyY8coZa1atRQpOY3bIw8/IgeSDsj8+fOVwbtaHbsVe47Jc79sVgTkBrXANsAVP/79RlVKYnYEWFo4a/0B6YsI3bhOoblRsBooWe0K7h+ztEUJJbNtCTB0LIsI9a6tHBTzPmXtNbNjE+B8TpAwlIhclBd/3woy1XhFKZAd4WZvYGVlNFoiK2nIpoRkeW3WDoWqmY6yFSJ3kjTWSugEunKzYDUGt7kDYGYsykF3or+BpSkES6GxdYdBH9o2COS7vhINrqC54POJP34aBrS6sHS2H9Df6gCqWovWgNZAxdUAAz3jxo2TPn36IKtTTerXr6+Iyu+77z7VZ1dxNZN35dVh11yTSxKIPurqROwoisCHXBefAtu7WY7BATFsTgJaEchT98O9vcUXQTsr+QMlky/9Eq3AshiIZSXHnpxALZ0o2vaZcPr+b3QLhZBNG+WKBACJ+vlxreGQNlC8eyR27437gGbgpzVoBo4joEmCcLfCEC9xnQQFe2hYi5xrdH4mzApmsGWmStVcTtxg6Pyx4S0V593pcxdVeetJzOX2qavy2WHq9BgI15fDeR6LbKQWrQGtgfKjAZccOxo5X19f+e2331Q5Jp04Xz9f2bxls8q82PPGlB81FDxTluz9tO6AnAXil+HU8Qi+ZtN3TqLOZhA6aQtAAcCSCDdARRckdIIIVexIaHxOom/sUEq6pIMAlRx7AfXcUaZo7RSZx2Em6vCJ83IUPQ0sT2yA42ojencavWyMSBJBrDhSG/DNk/tGqOjr8pgjql/ADTdAHREFvQek7wQ2oRxDjf+HC/YA7fMo9FZZ2DvgUGDQouDs1qtVeE+BwzFMH/QCHcLz4CicDsJ2lvuw/KR/iwC5Af0a+46dhsMerTKm5Lqjgz4fPQ17e6bJ/YOb2gC/mIbUL7UGtAYqiAbYV8cqlZMnT8q2bdvUVfPGt2nTphIY6BqCr5XKzp07p8Zn3zodx/JmRwe1DpTPFsegLNK2NJUBtBpw3jJQSskKCSV4boAWhX7ol3MFoCMdtpe8rAmgMLiIf3M2H5QTaem5QVPDCMckpSIjdchhL96HQG4+B6cn2xnMLhs15sYyUb5OBvjIF0vjpHOEXz6ePqvvz34bA5+DWwWqh/1nfF8byM8Fga7lHgP90X6z3NRZYWXRDlT/zN50AE5uKvr8a8lgIGd3CvdCdrKasn0h5Gz1yh7xzPlMlTm0H99wZ1lFpEVrQGvAkQbw9/E3fACUnktVJAIU76SjfUtvu0uOHRfDvn37SkxMjOzatUvuvPNO8fDwUIsk++uYybsaJRNlJsew2FuKsQLafcjNdO4uqWWzACfG7jj7txxjG/ryPoJTxJIXNqeH1a8tt/aOkPGAbvYoIKtEA/b7hkSZivLR3chY1agGVLFm9aUJUDNJSuqLMtHh7UKkRxMfqVOz6E4UG9T/e1N7EK6mKGTOYBjudgAkqQEHzhD2QRA8xuDrM7ZbPXvWria3Ay6bDlhJCH+3zJTywVKcqlUrqegpo5rTV+8Hme4JBWRjQHinnM6QX9btly5AUeuBfkAtWgNaAxVTAwRP+fbbb2Xu3Lni5uaW6xDQ+WJfeXEdu/T0dHn++ecVncKZM2fkmmuukfHjx6uS8PKi8SYISt6KMr9pS2JR0ZKlnCPe33SL9IMd8JEFcLTij55G2WEloGV6yj39I6UFyiadlTSU5H+FdoVp4I0lAiWDbwQeM9Zr+3FY6m8FsgIfSeKRnXNgsm2GOQx7FYP+d3sCdpudivgmAGia/dBD/9fWQ7lZPEeTOpt+QV78NVp6Rw4o1HbyXmHh9iPy7M9bgAMAPcFRZRZyNtAw7x/aHPcMjWwA2bi/NygSmgXVkWU70vHbzrsgfkYqh06mtoa8T/UrrQGtAcmCT7B3afYj84yIXxQoNoeLeIbAwTP9MV0BVbnk2HF+devWlUcffVRNlUYpLS1NBg0aJMzeGVGwgq6DhpLiKCrJRmOibvLZ2M/RvmqHUviPPVehIAxfhzp0ezG+PjXd3DfZ32vPKH/lTNkf48r7QyfTFUrkMiBMEiSFWcIE1MS/9ccOcYejxn48K2H9/sq9x+VpLPKEUq4OJ4lu5iIY2QUoR2GJCdZ8RbBOuoTJxXSkOF5HGHE+rCQDSGGOKQeyOXQU0TrG6YRI6SBk1C7H34Y5y7kvObt0x/53S4N4CKUyO9E3qR07q29Tb9MaqBgayMrKUkFMll727NnTxsYRwbG4QvCxdevWyRdffCFJSUly//33S8uWLcsdEBmRjruBwmDBtiRJg72hQ9AbFDSe6F++sWtDOXzqvHJiAlGqSBoEV9b2lajyeGP2DgWiUhPZrgIFNpgk6VaCgiMgPrpjbT8LP8ow1lZ70n5XUo6o9afF2+qJSpR/X9Nc9ZnHwtH8+2/a4ks2oCbGGRgI3YWg7Ek4zD4OykuNfYlU/RWQNumU0t4rwVManMMZ6CvshaBuFJxwldVDZnMJ7il4l9U21BuB31RkKjOQeMiuWmH/+S24J3CkS+Oc+llroEJqAH8nsvwjkWXvi5w5AVAJ+DVVgSex5WeRcR8AMbHpFVVLIatk/rmRrPWzzz6TpUuXyvnz59UCyEWQYCo0fgRTsRI6avv375eFCxeqss0BAwZIWFh+p4SlLiSApaNIYA02qHNslqlcKaHTMqFLiCzcmgSOmAxEDDkTlm1ckkhEIH3qVJctiBKSnJULJUtMekYGKueEx7oqLH9IhyOEJ1kVcxxImidtGpvpeNB4kh9vHIymFSQxQUNmbjggZ2AQzH1sjHRK3pqvqAa+RCR0GMo1wv2svztX52+1P1HBIgI8ZE/SaeWc2u9Dw0bh81o4pO8hQ/nESHDguaA/OqosMWXGjVm5eriBYNO4o29AUbaCO099aXYT4jGFGX+7Q/RbrQGtgatMA2w/CA0NBbASM1GXSjyT9snHn8hDDz8kISEh6kGbuGHDBmX3jIATg6G0hezxu3ARUPplUBh0ZLkfH/bCtZ+PokgqnJV5QMY8jxYEsx1zNJZ3DoWC8TntCUHMkk6eVf3xJPD+fT0g/wuRYDiHEXZgLoUc4vTHdGpbAxzt1wf7qt7uQyln5RTs9FQgQedR/+QMB/PkBmfWvXpe9YujE50A+EsMgpHZltS0F87HiiM6iGEozfwQFTwfzNuliNO5M0HH2gGJtFVoFTmYcg73MzXlZgSMWcJJblq2gXA/OuluhsNoGl6/1BqocBpISRBZ8p7IuZO4UcQfWCW4Un9jbU7chJv2T0SGvyBS3f2KqcUlx47GhSUpNDz//ve/Vb+dkVnz8vJSpSqOruTw4cPqGFIj8EGUse+++06Cg21Rr9auXSuzZ8+WkSNHKqfxb3rGZUA6hPmg3LAjwD+2gW+HvQSV0ADuJo8h29WlsY98vDAGvVmHFZVBz6b1haWERNhyRZhRO4LI5nz05q0CWAt74E6ivj4TaI32whIL9gIwG8cGa3sh3DSpBogWVpDw5mH/0TRARqdfVscusF5tmdQjQl4B0ApLRO0lx69TziyRNj+HPseC46g5HGdnhAZx4c6j8v68nXCyya1YSfoA3ez+wc2kJYyolYPNLGyrEG/QIZyyOQV/08H4rDW4fbRoDWgNlJAGGNVkPRy5YspIL0JhV0Znqlu3bvLKK6/IzJkzVcUK1wdWkYwdO1bat29f2BAFfp6wP0HCw8Nz9wkICJCUlJTc93wx7ctpsmvnLuXYRUdHS2RkpLKNNjtdpW/Y90wbaDi59pdJQBL+lC5h/feG89gbVTIxOSiZ+9CTtyImWbYlnpAVAAFJg4NSm1xwMInsayeQFp0aBvDOwnFUDhG+W39wv03sESbMLl5OqYagwUgAeFEyMJfZm5NySyiN82bBqZ/YK0KBgBnbHD3T1JuRLc37VYaS3FDhsxQE8l8ujVX3KYZNZA/kDgSPXxrfTkaZ6A1IzfQNaCy2oMWC0h7VOOTMbYH+dy1aAxVaA9tnimQiQJTv9hob9q0UOZ9afhw7fpFcYAcOHKjKL539YmkImeFj8/mvv/6qDmN/3owZM5SzZ1606Tx26tRJHnvsMaeG57Hm4506qIg7DUR5YA/0DbCGH6jBiHJ550awpqAUhY/iSPzRM/LUz9GyBOWShjvLxdqqL41ZO18QcLsDvMRKquLGIxg0DKp8tBDnjpFQJvIup1SvVknGwyiwb+6PaHDggaCVUNO7SQuhHGXbs8POya/rEqX5aOeMyAoYrEe/XSfHUkFyi4uhozd/y0F1ntfhkEf620Jp82yMPl7fuSE4CE/D+Keo0lSGJj2R6bsBmVAaMi1aA1oDxdQAg3NJ0TB4y1C2gnL2eg1BAtobdXERZd7BY1sAK0jq1KkjrVu3zq0coc1hf3lJiL39MoKlxthtWreRwIBAdW6jlcF+H2Pf0nqmI0W6ga0IioUAbXEIAFQIylXSwjFJY/AnnB77lgw6MRO6hyPTVE8++WuP7Ecg809U1czHozZAwc6yegN2hvdetJfuGIsZvIsIerZr7A34/yYq+Er9/7X9oMSBo7ZR/boyBMAnTRvUcY7yBuOdgVPIKhv2qWOoIgn70d+/rbNM+Wy1yppxHD76tWog94Pnzxlh+WQb6OIwgrTm3wdfN/B2QxCznny0cLcch40031Pw+kmuztLMgeB1dQfYG+3yA99sQJbvpKpQotO7E9/1RnDdfTq5K0BZrlw2whld6H20Bi6rBmAXHAqDl1gfr6S4lLFjWUrHjh1Vtu2vv/5SvQCGUapZs6YydNzHXogqtn79+lzeHy40Xbp0kZUrV6oSE/OCzZJLGtKtW7eq0pSHHnrIpiyFY9P5Y1STz+zz46O0hBE+EmyXtBD9agYcGcILV6GjZXWCnN8KM3uE4h/ZIRilivn1zUNrY3EeDpL0v4DwyEXbsDccwmx8+F1EAYo5xEFfgtU0irqNuqPDNLRNoJoTI6b/mLYOjh1qlO0FJZL5ylLs98l5T0CUmZsPILKbqZw6YzcaL5K/r4o9nuvY8frJn8SGfJKft4UhfGdie5ClH1bk8YrbDg58+zBvyyyfMbZ+1hrQGnBSA5t+FFnwGuAGE8Bhch6RTIBsBbUUGfGiSMOuTg5yZXajI0X78vDDDyvHrqRnQfCVxMTE3GHZ6tCqVavc93xhzgoePXJUduzcYfN5ab85hczXzR8sl00McOYYkzCULb5/S2flPJjtizNzo7N1Ds5RFm6GiKLJgJsxBtsahoBYe+aGJIVgbB4vApyvgwBC8twvW2UPECB5L3I+p7olFaWNFCMrZT6O1Rxr0OLA+frlVNW0Cq5r3qXQ1wy8xh4+LW+B620eAojk1esOWoOH0DvXoSGAYYwLKHSkvB3awPFa8tQQ+Q33AfvRB9i+oZf0bx6Qt0Mhr9h2cAv48uJQgROHIDHtK6/f28Nd7uwdqUos0zP+VlUxVkOxkuYCgjB//105m/7naGqu/oz7Bzp6rCi6vVcjqyH0Nq2BiqGBZoNEVnwoSPXnv96GnZA1qJN/eyluccmx47wYuTxy5IjceuutuRE0LqijR49W6F783F7ogKWmpoqfX7ZDxP2JoGnlkLHs5ZuvvxH/AH9hYzn79ohKxhIVQ2j8CNjCDCAdE6KV8X15FjYubz9wQl2P4Sybr4dOEY3eBRg/En9fBweJHHn2QmfoDPrr/kbVU1fUzf8TkP1fo/SCUUWWYxAIJhWRTAPa39OjptwFlLLAIvZA2J/fmffkiuODhpy0CCyVwddoI3RYh7ZtYLPN0RuWkiQln7P8mL2KjGCSsuLiJVIZJMm78/aofgOWsI7rGiZ3ga7h7n6RlsfrjVoDWgPF0MDxOKA4fSxyPD77Zrcq6FXYi5CwHts/FQlsfUVLVgq7MgYdIyIiZOPGjSrQyDYC2hyu0QRPMQclCxvL6vPbbrtNvvnmG9V6sG/fPgXU8sgjj6jxrfYvC9uYydmcgyRszCf20Gl5ZfZ2+eCWToqQ29he2DNt0Rw4RnOBEJmMTFK4f125tkOQ9EE7g8H71jyorrw1saN8vDhWYg6fUs5ki+B6CvBr3o7Dsg1zKZA+x2IS5FFlX5vh2FnsUuCm/cfT5IkfNslaAKqp7Bd+D4tRabMPTtXbkzpKF/TyFUWYuRsP2+6s0G7i1LlC5OdPJneTX8HFF3/0rNSvW1NGwI62zkEhDUD7CAOa9jQGLOppDLRs9vMxUErO14xMOIZwgs1CM71+7zHt2JmVol9XPA0EIvjWcQJs2BfIFJzFHyFUwJvuBi1EutwJnpfLh1fhjLJdcuzooM2ZM0c1kC9buky8vPMapdmL4IjugFk8GkTy9RjCLJ4VIEqTJnnljI8//rgMHTpU2J9nduzI9cNeAwrn9MwzzxTbwBrzulLPrPO3ynZyPnTWRrQLBu9aQ4C3nJfmDbyQYXNXzop5vslp5+X3zQcVLcIZNJ03x2I+sUe4XN8xVNbuO66cKZbN/Izo524YSPLEjW0fgh7Bohkh87mL8prAKJO6hcs69EFsRSkkdcBSSBLXDsO8OjZ0rhSSjfs+HuidsBCO5YXr5E3Cb+D2efrHzSqzx0gmobk/nr8bHH/n5cVxbQC2YjsGs3r7wZtEZzrI2118UKKpRWtAa8AFDRzbDeSGGNu7T+PwQ+CEO7xdJBQRzjIqtC+LFi2S+fPnywsvvKCcOU6VDh1pCq677rpizZy96vHx8dK5c2cFGPbAAw/ky9gV6wQlfHAsaAt2AITDPhPGfvBlyOQkAU3Yy8l18jwciPfm7ZbPAOaRifJIrv7R+0/Iyt1H5IlRLVEmH5o7+3bIgr07qQOQJLPBy+iQEShr1a5jqNKwdT5yD3LwghlC9lD7AvSsqPInnFH2nplLGolEeQiIlDM3JcGRAuYAgrGXS2LhQH6A8tOd4KyrC968W9ATOBRgJ/xeiGT5bwR07YXtCrMxN16/WViaynJX9tfRJl8C8BiJ1R0UA4kXgsFatAYqvAYG/QctBT2xaP0OEJUTIuFdRFqOAUdk3rp1pXTkkmPHSRL1sl27dtIowvlUPJ0+8tyx+ZxChLEdO3ZI48aNHTozxn7qgAL+o4No9B0UsFuZ/8ivbg1w+3jKInDVmc0UF2HyzfWMqi8EcCGkMaNxi1APT7SvJoEeKFUJkGg0Os+FsdkDVKwLaDhnRHljXLL8FX1IvrynhyJKN5Tw8DX5F33js9J+DgMS59Q7u8rsLYmyZm+K1ERGsX/LQHVN5khkQfOiAe3XPFAW7zgqJFzNDp/ARYTuwlGu0xngNryJmLE6Qekv96YEimbZ66rYI7IORnowSjAN2RB/Ql4HpUQcbmRYdkNS3Sn9ImA8s5vdjf30s9aA1kABGmDpJTN09kLEi4v4W83i32vZFQYfP/jgg1wEaPNM69VDyV0xhdUmn36KzGU5kbMo5aN9sRLC6Kep9dfq0/zbNmPNnQVHg4Gz3DUZux09dQ791ftlAOyaF5wWQwh4EuiZB2jC1s1qLjp1HIvHsUqldlG5W+EXJcKBZfloLq1AziRpu5NQRsmqmcvl2O1CCeht/1sB2oa8QPmKnYfl0VEt5B/9m6iMXM50cp8On0qX/wGQLBYlq+w3NIRB4+YAF2OWsXEOCiirZbpH+ir+uzTcb5iFPfJmgBXzZ/q11kCF0kA1BDiihmQ/ytiFu+TYMaPUrFkzefPNNxVCV9euXXMdM5Zgsl/AKuvE6CZLJYmESb4ecuGxR2/atGmKs27IkCGK7HzChAnKiNIJ9PX1lffee09lAe2RM8065M375RAOexSokz+uTZCklHTpgoVuGJqqWcZwOYS9ChO6hMqWOCB4xRzBKbIXX/YbDG0TJEPQlzYf5Sr/N2OLHIPhM656c/xxmQ7uGm4wtuVFESsBTCRdXgGS59dTehR72tQ1yycVShnmVxeZsOr4TTjrgDmaQBDKQ+7p10Tu7pt92Xlmx9ER+beP7Rgi8UBBm7YkRtFOMPtHvqDHRzZX0NJHUjPApZTdVG5f6noeJScsoZEcx27XoVPy72/WoacjmwyXZzsOnT+J8f1Q2tLeyUxi/lnqLVoDFUwDvggAegbjDygWF276yyZCJj/ziyjTCuFawRaCo0ePqioRVp2Q/oBAKla2rkxfTAlMLgRrtQeyOSmoDjELbYN/PXdp4AKS5D7wsR6Gc2K/HtMW0jmKQXlnlwIIsuvA6RvQpoEsQ1+6vdBhIXI0HUbDkWEfHG3WHbA1t6IXzUylQwTNTcgWpoLzrRGyecwQsmfNUvAzroMyfkUdZLcDbbAn2gxqIGDorLD0cV/yGWVHw/08bOZlNcYbf2xXXHzmvycCyXy6KFb6ABW0DXrzTH9pagjaMjrShi6Mcbkf2zSIxt0YQVAK7flggKjs6pkq36+Ok6NwYnmuQAQ3b+4Zjr70vEotdYD+T2tAa6BMacAlx45lKVu2bJG4uDjZEr1F3n3vXXUxXJiHDxsuTzzxhEOksLCwMHn77bdV2SSNwDvvvCNt2rRR2TZmAI1SS0ZIn3vuOTlz5oxCx/zyyy+Vk1eaWqNRmL/toDz83UZJQd0/r++LxTHSCgvmp3d2E2aZLocEe9UGMlYn+X5VgixF7X5NlBFeA2fyejh8u4Dc+CpIWsl5k6/u3fDoLCYFVas+AIuPXNrEzCHpBN6du1PWY25/o1+tI5DF7h8KnsFm/jYRV5cGNu1Mg1IceeSaZjIR/Dsr0BivMn/NAsQNIDIUtxqV0ZuYDW1tfw6W8tTLiQwz6rwI10lHz8YIYnIsdf1scby0v825ElH78+j3WgMVTgP+zUXaoDxlMWxFBoInlfj3CKeubiBghcfhDtm/TKuEtmrZsmXy9NNPq/5yBjDZC0dAk5deeskhb2uZvqhiTI5llnchK/To1+tAM1Ape92HjuhE3da3sQR4AhjHSeHaTERmgnyYheaMvV5WND7m/ei0jUQFxRpQA80Cpyvnw++L43UCenV/OCezNibKVoC80AnrDNAz0hP1QJDWLD+u3S/voyQ/Ac4Ps5EesAW9QZXzn9EthDbZSvrjc47NUn0j28hz16pZVXo0qQ9ws7xMo9XxxraVmPsLM7cpflyavzCgNz89qpWwr9BKMgAOswnBX5xKOWDmfdg3vxlgYUS/NOZkfE67xs/thTY3E44lEUTNUgOltY8MaybD2zdQ9BH8rCnIzRvjYT+2+Tj9WmtAa+DKa8Alx44RyokTJ8qkSZPyzZyLmn3kzX4nImoS8dIszOb997//zd00efJk4eNKykFkdt6eu1tOoZ7fKLVgRIxlDE//ulWm3YVMpYteSBpKM35YkyAr9iSDa6aKDG5eX0Z3CMlXSkLD+c9BTdTDrIM1aFhmmaW9U2fex9FrdxjJ4so6wBz/H5rFD8KxrJ4zXnTCSXn+l2jxAJgLm7bLgpAI9zpk7+yFUdQeTfxlD8pYzAaOv9sgkLayXJNCQlY2jts4dTmDkRsw/tjpnHf6SWtAa6BQDVRG1qPvvwGS0kxkyy8iqYdE6qOPujV609ifUMYlMzNTtRDceuutyvbRxhHFksFH9ptff/31ZfwKSn56N6PX2x+tAy//tk32olS9HlAX7xscJTcCiIoOgbNCPjRyjG6IR68anDJD+Jrr9Kg3FknXyPpAmmwmrbCflbBN4cPbusjN6DGbi7YDUg5c2ylYIlFWiFyd/Au29OQZINfhe2NPOStMzBJzJFURgyewYgNToKNJwK05aHeICqwjD6BXzcrWt2/oLQ8Nay7PQwenEPCjo0VqhslweseZegPN57J/HZ14Um7/eGU2UXjOh0fRozf52CqZ//8GKWRr+2Oq4X4JuJX2m3PfO7otaYDe+jBkIneiP9J8nwZ/HKiZ1aURgFPshTaQPLJ80NnO+4bs99TvtQa0BsqSBly+4+eisHPnTnnjjTdk06ZNCinsn//8Z7lHpTR/KQkoEdmMKF9N++ZnXHsc+F1iwXfTJMA6omYex3h9DIAn9wLWf13ccRXZ5PYl25NkI87x1OjWDrnojOP5TPhmRiKrk9zXBeFifF3nhi4ckX9XRvvmgzYhOS3dxrHkwr8fJSwL0BdYmo5dRtYlOX8hS4HB5J9t/i00Sq/N3CHfLN9r49QxyhzsW0ueGNlSQnPoHgjEUh/8gFbCiLCzwABWx+ttWgMVUgPsRWgxCiH/oei3w18j/o6kCsvcyv6tosoAgbOI1SUGAmbDhg2FIF9EZ66oMgAw/HykIxBW1F4yZn+mDIxCL/N2VXZJEA8jcEm9M8i2IPqg4lJ7emxrGYaWBCthnx2Jyfmwl+pw7uo7QHzm3BduPyIJsGH2P0U6ait2HpMxCL4SjMRe6HyOBShZT2QGl4NO5wKyXl0QHDTsiP3+9u9ZFTRtebyNU6f2wZ8EA8izAPQ1oWtD+8MQcBQZAJCUn1cl5EO2JIBNS9A2WAUlG/p6oPInXP47a6vqM6/KgXAuXgfBcMa8uUTGwCGdAsfUH+0G9oJdtWgNaA2UEw3Yhq+cmPSGDRuEjhx564jo1bZtW1Wmwn65q0UywV2U27Bmd1GwPVhQ7TYW8JYG4geUemwwOXXcneUPc7YkyeLdhws4Ou+jBuhtIMGqo3nl7Zn3qioW7a4oP3ngmhZ5G4vwigb3MHr1eC32wuzXcVA10Pm73HIA/Rj/+nK9RD34szR76Hfp88I88NclFcp39wmaxj9bskdx1xlzpFPXJLCuTL29m/QGtLZhuHiTMrBlfThwNRWRrXl/H6BmTuzRyNikn7UGtAZc0UAVlKdVA7Isn3P/4lwZoPT3pTPn6empWgfWrV0nMTEx8r///U8WL16seFxLf0Zl64xFdeqMqxiMVoOP7+gq74Kcexh4We2Fjt4RZLFenbVDtiDDVVIyG3bjjk9XycfoSzNXcOSOD4NAABRS6RQkfnAax8L5I0WBs04dx2NfXTwCyFbCrOEaOIuOpG/TAEskUN5TbD9wGuAw+Q01+wlvxBzfRXZzFCpa6plQpJmRTAU34ddL98orM7c7Oq3erjWgNVBONOCSY0f0SfbYDRs2TIGcsCSTVAOkJdi1a5fiqisn113gNINQthCCsgXe/NvKJVW2EGYRwbPdL+/d2cwsZP+S80EMcw/y9mw/kKr6AvKOsH7VHXX73aP8gCCW50Ax6pcJx4rAYJyrMV86YGwUp1P3wa2dUdLh0tecbwI0rgFojDecH/MO5MUjoAgRyy633P3Zavll7T526KjI7l6U6zz41TpkEx07x8yWLgPMM8lXzSUojGrGo6di0/6UfNNuBajql25oB5TSenDAL0omjg1FU/v9w1ooQtx8B+gNWgNaA1elBojofM899yjn7oYJN0ifPn0Uryq39erV66q85sIuKh4cbu/M2yVvot96FypYzPD5ZzIugh8uM182ydGYtCkEDBkNOp8olANmWjlScDwOAUzlL9Ap0OYVV5buPqpIzVfsOpoPBMYYm85RVIO6Dqs3jP2K+szWjnq1mbXOL8xWhqCSxJEQMM1KD8xArog5ikynBQotBmNP40BkWe8ZQOTM/MVaDM6Sl299fLKjU+vtWgNaA+VAA/n/uguYNG+MVYnE+fM2e9HhI4WB+cbZZody9iYMhmZS70byJghXDTtC48VetX8PbeZS6QmdLPZmWQnH/Jukhk5IIByrZ8e0Fu9aNWQm6v/ZRM2M03iUTwwAPcByOC+fIfoYC0NL5K8bukbIv9Af4OOBCLmFMPq5FHxBddGTMKpdEIyM9X48lE5bX5S5zNqYJOwBMHt4RELrC2NRFMmCk8rLd6Yvg9nNLejFYDTTEDpn1MP7C3ZLv5b+QnJXezkDLrpT6LEAdqf9R5IONLAU9FHaC8sxBwIhs2OYt0LSvIDvKdCzpsrimXtB7I/T77UGtAauPg0Q2Outt96Sxx57TNLT0xWYF2l/KprQlk0F59z783bKufMXVafXh3DwJvVuLMPbBsuXK+JkEUr2meWKauApd/aLlCHIyDkb9KuNaokqLBG0EAYtDyafVQ4jIbCKKnReZoHr9QhQjq2E9zc8VwOfWjIMzqaniW7Bav+ibmP56PXInK0EbREdMqN8kg6bJ2wx+xUdSToyc/wu8gvmzu0FqCcdgeYD0KM9jQHH4mFnkaVMRB99x3AfbtKiNaA1UA414JJjR/AUUhwwQ8eIZVRUlCIPZ3km3xMx7GoQOgiT+zQWXxBxfgMqAfa3NQFa1T0DGmPBcw0khM5ga6BprtxzFE6M7WrsDZJVkog74xDT3DGy+cZN7eXZsa1gPC+pHrNqqKs3PrsBvXSnwSNErhk2cls1fbNc49nfomX6KmS+YAW4mBMR7IXr2yoj7Oj764ls4cPXNJePgQ5KowgfX3zQi3YfmtM7hXs7Oizfdhok1vS//9duWY6IKS0U0cqm9I+Cbr3y7W9s2Jxg2/RtbKfuDqacA6pXltSwcE5pmH2hZ5hCW+cO86gFHTnqv6DhZWM+H1q0BrQGKq4GkpOTFfXOihUrFIqzj4+P3HXXXVdVX7kz3+4eAKW8gWAnOUG5/lOYHJq2JFbmgYqHwFpG1ciWfSfkyembAN1fWQa3CrC0Rdkj5P3fMcJPGiNrxx6zPMqe7M/p+JBUvIpx4rzDXHrFQGAcwLGshIHWAPDkdQPI1iiUhXaPcM3WW41Z0LaBCMj+v2vboBx0j8Thmmkb28CWPgCkaas+N2OszgAq+2FVPH6LxpbsZ9rCQyfPogrlpHTHPub7Ctr6eUD6noG2kLijZyyzejy/e41qUqt6NflsWZzsRDVRXfeqcg2olsihq0VrQGugfGjAJceOl0Qeu1dffVXmz58vNHie9Tzl6aeelq7dupaPK3ZyluwdYPPydaifP48IpDuQH4uSrVFN1hhjbUyyrESGDGunEpZi9G/RAE5YVVm397hEIvvmTHSQEc267vmdDdo7gr3UrG4N/GFc9rSVcTINmb3KcF4NG8kehse/2wCI5QGAd3Y3ds33PL5rKPrR/GQn+IXY7Ncsp1TFGCffARYbdiOj+Pj0jbINxkdFF7HPQtwUxAOV7INbuziEeW4Cg0/wGAPAIHdoKJTOl5tFaQn3IdjJNeA6Wgey9pPIzhkZv4tgqe2HXoVBIMHVojWgNaA1YKUBVqOQe/XAgQPy7LPPCknJly5dqloRvL29Fe2B1XFX47afgOqchgqI6kB1zhXYHRKMHwAPm5Ich4+vT53NlO/X7JOeUb5oB7AuO8w+KPv/VgD+MbPeWQAAQABJREFUuBvE4S//DqRJHGsW2hjaR1dsjfl44zVBQ+rWcnDbA1tyGwK6E3uEq/kW91zGOR09szLk5u4NpV8zPzhk6apvLghccX4IKJudMvvjeyIQ2gsUQ4tQmkpnzCx7DqbKvV+skfuHNJUbu4Ur3l06rPPQrvDMz1vlSCoylXbHGMfznoQchR+hAmYXxjkPJ5htGHO2HJRHRzRXQDLGvvpZa0BroOxqwMEK53jCzNo1b94cN8hVZe/evVK/fn1F1spehKtRmBHjozhCmOG3JnaQBTsOy3LU95OjxwtAHOsBqPLUj+SEu6Rq+e/s11hGtg8uqJKiONNQx5LEVEVDTQaY0dDj6EX7Y1OS3APDWtAE/BHRrI8HxTSEel/YfyxzWYzSE0Iu07YYhpOvE4FMNis6SZo2qGMZ3R3ZMQgN9LVRGnnO5vMsOHsTezbKj2BqmsyItiEodakMg7VHdh04qfTfqam/NAWM8xxAZLdDRtURnLZpGP1Sa0BroIJp4AIQMQ8ePCh33HGHdO/eXV19o0aN5NixY8JKFfLZVRQ5CWerkour/kEAXrFs03Ds2H8XD+43lgIyIMd+dQOAhUFLIlDSPto7dgQ4IfoyAUCM/Yuidx7bF/ymK1EtQsfFcKCYaYxA8LA76BVITH4MFAaLwWfK/vgamA+3d4vwVpUwRTmvo2NYabIZbRFrwL1KO9wbDlsvIG3aX+NOZPTmIwC6H2WUoei/uxkgXk0DPOXrFXsl9WxWrjFmZi4ZAcyPABjWFpQMbUAmfg5p1d/AuXfUwqmjDWaFT120eLCnMANloavBracEnxE4LSnljLw+a7v0Qp+/o9YOR9ent2sNaA2UvgZcduyYpSPVwcKFC8XNzU0yMjKEhu7JJ5+Upk2blv4VlJMzEpDlJkQCx6NckmhYj/+wQXYkovwC86eDdAgG8IVf01VmkP1dJS1c7A/CKcrm9LEaHQTcZ2x7J6324jZXHTpjnCwYnUSUTRLGmoSxZqFB2otMoIpAWpyA/ENv3NxB7vx4lTLIxrHMiLLEZDiyco6oCGpWryyj2wcBDttPTuDmZM3eZPkc5UOb0SROZ5NlqyPgUN8/JApR4fzZUONc+llrQGugYmqAGTtD0tLSlLMX2RhBsAokJPz+csle8LDart0FqcAL66nRQ739QHYJ/trYZPRyZYqXhxuqVvxlCsA8gtCrTdl+8CScuvx9z4jfoYTytGqLsHd6Cjq/1WfXYq0/jAzZj8gmHkBAkQ4l2yX+gbYCVqEcAajZUz9tkWU7DytwMo7BbOW4Lg3RY9/UaZodq3Obt51A7/cj32+UpQh2GiWsv63bL6NBo/DCuDa5fXd/bDkkr/y+VQ6isob2is5okLe7/GdMK/ljSw3lBJsdbrZg0M6Te7ZlcD1kWS/KPgCFoUgln/FmaWtHlJzeO7CJeKO65Zapq/Ltw/70ZAR+CV5jRcFgvib9WmtAa+DKa8Alx+5vgF0sW7ZMUlJSZNq0aYrD7tSpUzJ16lSZMWOGPProo4oG4cpfVtmcQTUsotUQMWTmbrcqZ8QamuPEcDGmczcDBqQ1+u780BdWUvLLhkT5atleAKucViiPVuOyzFE1TFs4VVb7F2UbjUhdlHqQhsFKvBHBtf4ke286ZecAeGI0mnMrX6/HjcLMzQdlEkhqrfoKuR+Ntw9KXDjGb+sTVZ+Fca6zGPPbFfEqGvlP8Cpp0RrQGtAaoAZYidKvXz8VzJw+fbp4eHjIvn37VH/5wEEDK5SSejXxlb7oC1uNfvHcNdiITDrQRAuUV7JMnr1tb/65UxZvA7Klit4xmHlW9Xp7oEzzoWHNZCPAsb5fuS8/txvGpp1k20LN6saq7eCETmyuAxt036AoFQxMRDaqBjJWzBQSCZu0ANNhg5fCRqdjzoYww0jb3KWRL3oGA3PttvG5q89U2/S1ibIQ+mDFjiFnYIvItzoWoGjt4WwSzfkt8PztN0pd1Y6XlP36eGGsHIcTanbqjHE4JFtI6MvVQDml4uS1UB2/i+2JJxDo3CvDAaLGoKuVcIZn023LY63209u0BrQGrrwGnA+9Ya6MFqUkp6jSS/baERksKChIwT4TLey8HVrmlb+8os2AC+06ZHN+Wr9fNiWUPPRvAqJnRGS092KYfVqNfjvbRbxo12AcxezUC79uk01oZk87f8GyvJ7lF0OxqHeH4b6cwuvrhqZurzr5+/hqw9iy5y33hsFiIiSTpcGyF8I7b95/AtFViw/tdl6Jkpdo7Kscaho6PBgBPQvdLEOZLLnytGgNaA1oDVADXBs6d+4sL7/8svTt21e1Idx3333y0ksvKXTMiqQlVja8fmM7ub1vpDSs74FHHbkRZfB9rSpMsBSzh6wH+sFInL0WPc5bse6a6XqoO9L1sMQyBkHH2ejl2nOQ/dv5hbQ6vZvVB+AVORAFIGFZsgvlibRvcbCn5IVzRdwB/d8i2BP910HSH6jOjXA9dOoozKDRwbKXM3DufsY9wUmLjKL9voW9J43OEvTcm5064xjq5HcEYymb9qUoZGbjM+OZtnQDrp2AMlXhuNkIdM+sZvMgT6mKj2rBtvZAKWkNZlrtTCTtaUpapirznIryzcB64G9F9YxZLuEgZl27RF7e+wPzOfVrrQGtgaJrwKWMHfuU/Pz95KcZP6neApZgMns3Z84cYSO5u3v+G/aiT+3KHBkHEI+XQdLJm/+MrAtSC9HEbjBOjw5vobJo+xHhY+19MmrwCejRG71azEK5IvVAR8Cm5HxOChZhZqRotEpC6Ij/DAORfDrdcjgaSxJxE7Xsrv5NcvsgLHcuoY2dGnnJvwZFygcLYuQM+i0oHmiKnwB45z4gCi9caHRsDZnagv9st1qPxD4RRo/tHUg6emlAPyU9ghatAa0BrQFqgDQ+33zzjYwYMUKmTJmigpvsL6ctrIhCEu7/G9USa3gTlXmrh1JL8todPZWuHDeuwfQL6NSxdNGAzWcZIQOIVtmlk1h396EkcldSqqVKacdahXgrUBM6X7TRRFVesec47GUmuGVrgp4mUO4bHAVgsWzHz3IgJzeyMsneAeKhtDPR6IfblnQSZf3+To5mvRvHYv+aI2HvOIXANI6EDiD7y78GguU2ZN2oew7pDieM5ZwdwrxUYIIZOwKfsdVi7uYDqpzV6C3k2LR9dDAZcB7cJhj9jxdkL8pe6Txmf15JsjDwIji8EX51CuxnVwfo/7QGtAauqAZccuy4GPTt01cS9iXIm2++qRYNoobRwZtwwwSpXr34i+qV1AYbu9+Ys0sWbDukEBi54J04k126V69WTQWy8V/APRNSmMaGvQbtQH/wKsisA3MARZyZ/5BWDVAbn4Sm5HO5iyeP45gBnu5SH4aqJIQZLPa0WQkJzDtF1UcEtr3UQ+N0cfsWrM5htc0NUMoTu4dLV9T1r084oa65DQjBmwIV1OjFsDqO2wbAAf19fUK+j92AWNoDyGuOjmcEcjeiu7GA6957JBtKm7o2C/fxr+cm/uCr06I1oDWgNWBoIDMzU/bv3y+RkZHGpgr9zHXWt1reOhkVUFfevKmD/A6Ajq2Jp9CzXFUBlAzEes2yRwozYm7YThtr79wR2p/9XW41rZ1lOtEdG3lLpH8ddfyHAMH6BbD9xgqeln5GpqHVgM7J0+B6La50ivCR7QD4ouNkL2cR+DuQYh0otd+3oPfMnnXBedaDENy4DmN/mqYRqKChtIdzVhuUA4p3LtvPUtvpFLYNqyf9AbbSBn10v29KhHN3Sjm2fbFtALKodd3y7sdYavoEgtNE1PzvrB2yH460fSSUzqQfeG+fgOP+5I+b5Ngp9NznnJNce1MRjOV90MTuYWoO+j+tAa2BsqkBlxw73gwTIaxbt24yfNhwla1zr+Wueu2uBg67nQdPyXqUYNJAGBkdOndc8H5eFy8zsXgeYalezmJHPh8Ssn7gVUtevL6N098wjdSYDqHyGQA8iMxlCBuoW8HJIRl5SUg11GEEweHkdO2NByNwnWFYSupcrsy3OnoamqFMhATrFOo6R6UFDtMXjujw9qEgSs8uU+F3Q6Eh3Hs4TSF7krPOLCzR+RacfeT9SUCfwgUY63xOHXRRHw4dEUkvwBn+cnk84J5xgwKHsTeyiD1wXmfmZz6vfq01oDVQ/jVgZDZeeeUV1V/OyhQKnY0BAwYo+p/yf5XFuwKuw1zPybN6Cn1Y7KGmo2bojqO3DvZGGb4f1u4DcJiybR7XbZZEXtO6gUJvZLBvBdAqGWQzjqVNDPOrJb2wBlOICjl70wFlo419uD0L6/xCZJTuAF0BgcqKIzd0DZf56H0jBY+91ADVA/ltiyPnM/9WtAMtGtSTBgBBYYDXENqmjo2z7TL1QITOR8Af+9LMHZKCyhtm8JhJ43H3DmoGvjs38UJgdlT7EOmE/j9fOGZRQHuuCefbXrzwGfX4NeybcuzsdiAVRCi5ApFtPYWAtr3Ro3M5H/c7o+B0Gg673RD6rdaA1kAZ0IDLjt3mTZvlfMZ5uf3226VRRKMycAklN4Vk1JqnZ1qX4qWcZtlg/sWOoBw/wmkgipXhaBQ2IxqkABgfkmCbK//o4GxNTFGlLY4QHgsb2/w5gUTGdAyWP7cmyWmUIBqGkMYjEM7oCPQXXEkxSj2cnQONCcnZiW755twdCtmMx7K08vOlsapE5kUQrTM6acja+OMydeFuRWJuOOvGZyxFrYFehMaIJk/sHoHnOvLsL9tkIXo+TiOyzHLZP2HIbu0dIXfgYejPOF4/aw1oDVzdGqAD17BhQxXMrFGjhuoj5/rJ7aRCqGjCYCYdHly+NEIGzehLox4I0OHvgEe1RrVKCrCEpZKrkaViuR+dkCFAMx7XKZvCYCSck0QETv+A80cURjoYETjHrb0bq+wWz8H+thNAeGaVho3AuUwH+uMxHFeQY3f6fCaQMM9hrpWRRaxjM4TxJtSnFoBEgmUqyj1zKRHghNLRahFaT1qHehq7uvx8JDVdPlkUg7LGo0CuzISTe0GhMlM/7HWjjdmD6pL7vlwnY6CXCShnvRZllb513GQ+7NJRgKX4IcM5GCA2XdGvfgBO4SdLYmQp+sPPUqcAIBsKnbIqxuoegvvtQ+msvdPGwCXJ4bvBqVy2+zjKNTPz6xj7sAWF9AnasXP5q9cHaA2UmgbsVseCz8tFx8fXR/744w/F4ePn55d7AIFUPD09lcHL3VjOXgQga0MOndOo+c8nXPmsBNvT0BeXhSgkM1GGEG44FREuNpxbcb+Qz45gJmahfsn7sxy9Ay2DvByWFpqPKex1J0RBn7m2tXy+PA6lFdklJEHeteXWXuHS0C/PATqOBZsN7FzQmfWKQjaN0cLLIWcyLuJcqQpW2qNmFfQq1nWIAsrySfIeIUQr4XDA6ISxif7536Kz05A53wvBaJbuOCKfLo6VJ0e3Utw8zLQuQwSYHH32Th2zsr2Qjbt/cDNlKHnDMRUGd9bG/SoaTKeOsg/UFF8tjVON6Iwoa9Ea0BqoOBqoUqWKjB8/3vKCK1qgZyMAuD5ZtEf2IWvGfFCLoHpyz4BIaYRMnb2jYKUwrt+PjWiherloG+vDQSEhd3U4cJRgBDsfGtpc+qJvPR49XjWRzWsFhGjaQiMIyJ4+bziE52BDbM7J7B9sCZ0eRzITmb6ZGw7AGToL21pFWjasJ53CfMQTPe/tUPJIdE4Kz3UzyL1pU35Fjzr7B1le2gt9dVPQW1hUxGo6iR/8tUe+hS02985VQxawSuW8ewdWmUSjTYH0Dn51qsvQVgCog63qCvASZjtJEJ+ts0vy+h87ZDb65ohqTTmOrB4db/Y4MhjJ6zTkOBxilsuS6sHQp/EZ711GwoFkD6WPx2lFVG6eo7GfDxxMd3un2vhQP2sNaA2UCQ245NgxUnnmzBnZtGmTREdHS3BwcK4j17VrV5k0aVK5BlBpEggwFJQqfL8yHgsfjA3v7Rmpw3UTqt/GkOR8fax1bwNYYrNTRzTNRSjlOHo6QxGRD2oZgChaMEr7shdZDKcATXis4UCYfw2MijE6WBLCiOqYTqEou/STnYdOqetpBjSwIPSTGdQARBd7b/4uWRWTDDJZ8gvVlH5ACrsX0P+B2K8k5QiM5KcoQZ0Lbh4aIXcY084RXgBviQS8s4/Nqb5HCeXX+C5oqOiIRSDCeg84j04gaktiV/P3wZssfl0soblvcFPl2LEH/ji+g3x1qNiPJT610O/XIsRTfbeJyedkdcwxZSAVgXvOTGgAk9D4v2ZviuoLtJmgfqM1oDVw1WuA2bmKLjFwMv791VqJPZKW6xRsA5AIy9s/vqOr1Kud189VkK7ckdVj2aYj8UPGaQjoBIQPCyE599C2wfIzOOhoR7nqK9RGBGTZW2bw4dkfugSB1Bd+2yYH4ZTSlNO6boHzNAfZQRKQN/L3kCn9IpEF81PXx17r+8FZd02bQDmGLJkH0DiZ0aIzWlQh6AuRne0dJgaFU9mSQQOWI5zfKQSYf92QpMonSfBOZ85wgrnbhn0nEQQ+qoLK5iBDOjJqv4APb3i7BhLilRe8TULQOIG9dRbCe7taOU5g8+A60hkk6St2HVF7Gjpm8JMcu3UuU8DXYlp6k9aA1kARNOCSY8fFo23btvL0008D0emi6lXigsDtAQEBivOnCHMoM4dw8f4XkLUYQWM53imUL/rA0LRG3xvpD8gZYyUPDm2Wu/lr8KG9Pms7EKgy4DjBgGCFXhWDxRdO3HXgpuHCfAEbq1aB6k0LuTEAna0wZNTYH1dSQuckxAe9kHjYCyOf787bI3M2HVQGkp8fQnnHdyviVLnFA0OynST744ryPhNRxV8RMZwGzhzVmI5LZBSTTt65rEvy1k0eudnNdSihfHnWNjkBx8zIthEu+0Vk6npE+oOfh/qh+TMJNhHJlMAwFMJAhyIrqY63c5S5LRkO4h5kKaNQ7nPh74uSoUqr8uud42ViXC1aA1oDWgMVUQNTwZlGx8SenHwFHKaF4Hy7DsFDK3tW0rqiczEFWUIGWmkjiCLtDWTnnsim3TuoseXpmAGbAc449sfbB1KTkcW6dCkDpfpn5Vz6RXntJjdVks+B6MC0R0avpOQoAplnETi1lPxmR90/HIDjnAnbKDXyH8Wqlwy0jth3qPN+7DACqKfPIvjplXccy09rANFV3ZTYfVnM8NXMceyCPGspInZmKXeCVJ62msBiBH0bx+9Zi9aA1kCZ1oDLjl1YWJjwcTUK11aWIvy/kS3khq4NVZ+VFyKR3rXd5NnftsjM9QdsMnfMuHVrUl89qA86cywFZEbJKHXAGqsakVlXz3IKRhR/WpuQDSfMD01CJ7B5sJf0xH5caEtDkk6dlWU7D+U6deqcmBazXXPAK3RN6yCUwziOsLoyxyMnz8siRCxJ/Groxzh+ExznHQAsYcaUwYKfEalkA7fh1HE/vk5EWeaJ4AxFupoOg2dWIYFR2jb0Bn1CXklNP5T1/BV9SJGwXsJ1GVlKPm/el6x6Ga7rGKKAU5qimX0DMnPmOxTOxRvlJ+Q80qI1oDVQMTRw+PBhiY2Nle7du0tiYqL4+/uLm1vJVi+UG03CLm1MSFE9b1ZzZtBzTKcQlGfa2jOrfYu7jWdojEDcM+i13nX4FIKvF6QBkKQjAjxsslkXYcAqVaqsnKPzCNixrNFqenSCDBsSvT9ZNieczHXsijtX++O9gChZk2WMCBg7I4xF1gf4GRKKlhICABWWZV6SC7g0k+5xHMtVa9mVTIb7eEiHcC/lrDHLaRba4wxkDrmVdrZjWDYK6U6gg56DYxyOTGlDAKsY9tN8rH6tNaA1ULY04GDJKFuTLO3ZeACkozVq+83yz/5RMCJZsjHuuOrBY+16p8be8uCwplhAs0ssCanP5m4aC7OwtG83nBaWdHDfPzYfVE3IdrupcsMR7QMVP575eDaEsy6+tltVBQxi7xSZ93X1NQ0jeworYTG3EbylMVy487CajyMqAZtjCnlzGohpbIq3O5M6iv0MyUTigrBUhb2GVsJja6A0akKPcPQqxCsnkdtYuhpev7ZM7tsYJZZ5P2s6pY+NbC4/rkmUDYjw8jtgWSeF2cqYg6nyyZm9Eohej9HtQuDspQARM49PiQYzCiU4nYE4pkVrQGugYmggISFBfvrpJ0VxQB67sWPHSnh4uM3FV6tWDc5OXg+TzYdX0xsssHRK4iU/eTjXXgbqzmL9vlw92faq5DnZu94xzHZN5rJOPryZ6Dnbtv+kyi6yx1yVD+YE++zHMr8/B/CVo7BPRhWS+TNajHTYC9I10P2pi2xWbVT42JtN8zH2ryNgn4hcOftUYjadEmwLxyWIGoFnzgD8xBA6Xh44x1AghpJL10o6ATylNRywZUADZZCZwuOIbnlN62CUjdpW6NCG90WLxbyth5C9RL89FZkjaUBx+wttDENaByqaBN7DeCI72g0lmVq0BrQGypcG8u6AC5g3FzqSdpp7DeydlwIOvyo+YsbmjRs7yBLUnR+Ek+Vdu5r0QLaO3DqG1KwG4lpECa2kGm4AWIaZjNJC9pZZCUv+KmVXEaqPz2f8LfN3HASgR5KQGJ09el1xzutRDsHMYkkIr8MTWclUK8AYfO9rY4+jkTzMhreoqOetW7uq+CG6yn4Ne6GhJocORcEuA5mMjm+OD5a7O52yJg3qqsbwoHq1ZDnKXM8ChIb6GIPMWxcYcvNvkxHGPsjatQLXz4vosfh1A8BR8hgmlHHj97Fw62F5fWJ7+fc1TeXZn7fmOpaMXvL7nht9UMahlNYoV8mdkH6hNaA1cNVpwMfHR86ePSuvvfaarF69Wo4dOya+vnmOBG3hsGHDVGvCVXfxFhd0U/eGsAVH81VaVIVNo2Px2uwdCvXSnm7GYqjLtom90E/O2CIbEHwlND/X/qWY2xqgcLrDSSpMiLRZH8BhZvvBY2iDth04KT+g0mZjXIpk4V4oKsBTxncJRbWOnw0yaEHnoI17AOAr9OY2oVrkbEaW1MI2Bg17NPGVH1bvB1hXmgpsEjG0JWxWS/QjpqMNwB394PZSHb/BR4c1x2dVJBqOLAOVdRD8ZX/8zT3CFJWE/TFsKWA1jr3wGreiZ5L3J2b+O/v99HutAa2Bsq+Bwlc7XMOpU6dk/vz50qZNGxXNoqPXtGnTsn91JTxDAoncCCfHkbQMqgsI5doKGEWVLORExOiw9cRiy7IKZpa4mDOyZl8+QcNSF5w0hszfcSin4ZtkovRyBBmlE3L4xHkgP7awhDM2jnX2ORCOFp3FeSBM5+JuFr7lHO02m3dx6bV/3VoysKW/bN2fIqeV4c02msxodgbMcgs4bBRe6pgOIbIAkUX2GNC5oipZmhIKBLbhbRuo/r/J/RqjQTwIfXoX0JtXs8CIMXszasG4Z49ke0X8fthvh7ZR9BNcksyc6CfnQkcyHsicH8zfjRIgD+U4crsWrQGtgatXA8zOTZ48WVasWKECmqQ6qFkzDziDjl2FyNblfMVEjswxZ7ZfOjaeRGnhdABd0ZlqH+6dXcYHpGNXslm2g7r+jqWX85BxWgqbSXti9AIykzgfpfiFzYW2rxWyX20BhGYviclp8tLv25WDaFR7xANEJu5oqrxwfXvpiPJGZ4UUEa/e0Ea2HkhFH9w5IUhL2xBvhV7JbNrG+BQF1sXqH1bpPPNztDQGqNtQ9Ld1R/bM/jqaw/F7+YZ2yFCeUi0gIQiINvGva+nUcY4wdbkVK1ZztvD5rHbT27QGtAbKsAaccuyysrJk7dq1cu7cOUlNTVURrbp16yoAFePa2H/g5eVlk9UzPqsozyzPfGR4c3nh163C2vTzmaRAqCwtYCzuHdgEWT6WblSSnojybQMQSDo+p9NCIfJm53BfhbDJ92zq/gMlJQfh2NBQGcIyxYXI4vUD5D+dmuKKG6J9Y+FErST9ArN2JutNJ6hzpA+cTecQzwqbCxE6R4Ng/Cwii3QkeY10ZtvDoE4B2mU9kNoa0i7UC5x1bdCzGCMHWJYJ/YQgK3cbOI1IhGtIAJxlZ4TOYjDAY1jGSgAys/AmgP0KlSpfksU7QY9AWgiTHvgdkQ5i6a5jKrrKsbRoDWgNXL0aoNPWpUsX9WCfHQOZtHEMalaYEsycr/cc7NTbc3bm2iqrb50gWD+u3qfQGEkd8MCQ5gA0yUaYtNq/pLcxIEcgF9uQXfZZ6IwxKGgjeO+F7FwW+73xXbcB9cFdfSNA3WBbCcNjl4J+aFNCso1DxO2xAN4i1YArjh3nQCToLhH5QVnqIfhIZM835u6U6Sv3KdAS2hpe1zLYpdcmtFfcdfb2x9OtutK1zfU5eMO2ggbo80+2A4LjbUhUgzrgFiwZW+/g9Hqz1oDWQClowCnHrl69etKkSROZNWuWHD9+XDlvW7duVUaOc2TpAo3gzTffXHEbzHO+LJYCvjWpo0J6PHTyrCIWZbSNi6bK4mG/m3s0UlDGcwFOkpyWLlXRAN1acQI1UTxtHIrcOQnkb7NbxalrEpvGO4AtzpmGS08sVRwN524GSk1I9k2HDgFp0BD4osY/EEAleY6lSwPn7EwHNjrxBB4nkV37W8LQhP1/4NY7gxJKInWxlOQYyiF5GpZU0vniZbPen9w9GxDFpCFlNNXH5PyloZQl9nCa6u8gKA05kdivYCVERktDD4V90zj3DfH1UIhfzNixDzCX3sI0EG/oTpy1RkU17aZfag1oDVxlGqDt++6772TLli2KlNzb21uGDx8uPXv2VLbwKrvcfJdD9EXSGhQmLMukrN+bLO+jwoEUAuSmKx2phCxddgWIM+dj5UwvBFjHgruNvWehsElWQUIWb+xF64DRw2YemzYlHjyntGk1MUZJyO5Dp+WrZXuzbVCOLWNgMQElmtPX7peW6BkvTi8jg6PjAQyXAqA3IoES8ZJzjwRv7U3g7qvrlhdcLYnr0WNoDWgNlL4GnHLsGKG88cYbVdSSzl1VQOZ279Y9d7YX0bQUFBSktuduLMcv6IiwtKMGLIUjR6Ggy2sMvrXGg/N67+z3Zf38I8ObqabuBPDq1KoJxw719OZMFMsGPVAvD38inzAzWAcAL4UJ6QXoqLG/ryDDQ8P22IjmQH6sJ+tglMmDE4Wy0qHgEoqsn10eWdi5HH3OSO5P4NT5BGihcYhwUq/eoJAY3DJIxgJJbe62Q7JqzzEFW01y2f4tAuWOPo3QT5h9fXVxnf2b++cbnn16/1sQqyKpbN5no/jI9g1kPPrgSFthL8vBUfcDyoVojM1CJ3JUh2BVYqnoEWD42AtJ584s7PuLRF+FOZNn/ly/1hrQGrj6NEBaH4KnrF+/XoYOGSq1PWrL5s2b5f333xdPT09p3br11XfRdlfEnjJXhBUm7GtLOJ5Wao5dTdAD9WvWQP4EbY8zwgCfL+xQr6Z+KjDt6Bi6a3XQHsGMlr3QdtSB7a7uIJhov3+h72Fy4qAzZtPMvLg8joHOXQdPoty1eCA1RNumMxuAQChbHY6hEiUYAVG2N7QL9baPIxc6Zb2D1oDWQNnTgFOOHaft4eEhvXr1kg4dOmSXZJ5KldNpp1XfAYnKa9e2LWEoe5da+IzoIJC0lOV4p9IzpBng7/s197Mh+Sx8FOf2oOPSAxHDHuiltpJQ1MqzMZs19xfgoBkN3Yw0kki9s0UphzEOfZLdiLIu3nFERRQDvdxkEBwmnxxwEja40yiZpQ7KOSYgkscFnuTd7iiRLAnKhe1JqYqQPB6OGDmEWPZCFM7fwGe3eBf0jCwYr4+ShAhiDCKWdKoeBH+eI2FZzf/9uFkBuzCTRiHx7E40uLvDGR/fpWG+65sNIlryGOVzzHB4FqKWHIek9ENaBspylL7sQimtIYyYtgANRV/eBBgb9bPWgNbAVa+BC4TKj4uTu+66S2XoeMFDhgyR5557TrUnVATHrhEqGnxgM1KJWuzkAshMEO1paQlRnfs3ry+DYb+Ww65wTedcmUXMQKA220rkzAZvqmL/7lH1c+2qo3nSTnaDrf11nRv6vVFBYxIv9HX3bhpQYImqaffCX2K+DNqaWy/MB1VHy4ADbDbzboW+ZvtFf5R88kG9OPmVFjqu3kFrQGugbGjAacfOmC777b7//nv5888/FWpY9erVpV27djJlyhQJDQ01dit3z8zk/AaeupdnRqtSR14ASxJ/D/cBaWn73BLJ0rowOnLjkNE6lJIuC7YfhgOUoRrCI1Hecle/SGmK0gkroZ+zau9xefS7jZIA0A82+TM6yfKOpoHkYqskvZr5oT8vWIIRtbOX4pR52I/F9zvgbO2Fs2YmhuW10ZlLQRkqxXBaGZU8h2wh4ZgndgcSJwynlSzfc0SV+9gfS3Lyr0CsPqxNAyFYillYenIBkWejXMj4jIbteGqGZOIzuLuq+f8J8Bh+uTxOEmHIWT7bBHq7rXe4TUbVOF4/aw1oDVzdGmDFSlJSkpw+fVr11x06eEi9ZrCzOMJgElsbTp48qVCnicRpRt4sztgleawXyt/ZI/7ir9sUTQ/BpujweIHfMwtrbhpK6s3CwGADZIEC7eD2zftcjtd+cD6fv64tetCPqLL/GnCEOjbykU8X7ZEdCDDSwaMXUxtBy5HtQ6SrkxQ27cGNemffSPkGtuUIkDdpMwgmMwr94gNb5K8mKc61RQJ8Lby+h+wDGbzRf88T0vnq0ri+sA+vJEU7dSWpTT2W1kDZ0IBLjh0N0fJlyxVS2D//+U+JiIiQ5ORkmTZtmnz77bfy8MMPCx298ijxKIGYunCPpJzOtHFCNgKW+L15u+WtmzvkywJd7usM9mIvWks0VNeXONTyk1+vK6KHUQ6cOs7nJByYd/7cBSLvtNzIHx3UFACVLANVA2UpuOlWxRyX927ppLhq1MbL9B+jtiy/dAVBLg0oa8dRjuLIsYsGAphVjSodREZVSX9g79ixt4ART2b7zMJewlCQr9ZAJpHCGxbCRXeJ8JMYOMYEfIlAaW1J8PiZz6tfaw1oDZR9DdCp69atm3z11VeK9qBWrVoSHx+vyjB79+5drAsghcJTTz2lnDuWfBKc5ZlnnpGoqKhijXs5Dh7TIVT84MjNWLNfUcH41KkOeplQOYRe8Hfn7gCFD/lbs8/MMsLxXcKAYFzrckylwDHZJ3djt4ZyHSiBOB2u220besq0pfGyHUFGVqH0hzN2LRw7Zq6cEY4xCbyp3VFBswF0ByTybg1wr+aonGGGrSSlIbKjdwNI7H9/7UFg8YwKgLLtoj0c1Bu7hGi6nZJUth5La+Aq1YBLjh257A4dPiRECbvmmmuUSiIjI1XmbsGCBapEs7w6drEoFdwDiGEDJtn8fe8+dEqSTpwtMe4489iFvWaEblhb59Ev98KhIxeOkQUzxud7c9ZsAXjZlqDkcDQyd5dTGiH66IveuVNw1mzmhCCBInywDxnC8WJ/ISOijiTCv5Zc4nGs4DQdz8CDb103S4M9qn2wKt3cC2ctV3CuOu41FBm9vePmDs7ANnYk9bnH6RdaA1oDFUIDrHgYNWqUEDCFVSpEhu7Tp4+MHj1aAgICiqWDzMxM6du3r3q4u7vLHXfcIc8//7zq6bNZK4t1lpI5mE4b0Zz5IJCI2Za4V68qf0YnAb4/XfVGd8U+k7qHi4cDYu2SmZHjUVhlUbNanmEIQYD0qWtbocQfgbu8zY4HsPiEAb9I2DI+LqdweuSNDUcg8q/thxRSNVsvRgHcjBlJLVoDWgNaA4VpwCXHjsaGCJmLFy+WXbt2qdcZGRmq18Ce56ewE5e1zy9g1adjYCVsAWNvW3kQXgf878IF3yVJuS+3Y9cWZSxD2wTLz2v3gWYgW4ewkeIPcnE6cHHgAyLipSF0rLuDrDXQokzU2Gdoq2AQxO6SXSjxNAujsTegv662e35gmY7gVxoOkJSP5u/KA1DBPFKR4fxz20FEdesBkMaxM2k+j36tNaA1UHE0wGoDZueKm6Gz1xh702+44YbczXQYp0+fnvveeEFnki0Q5NFLP5+uyjaNz67Es9mp4/lJ1D24VYAcTU3Hml5NiFBcFqWoTt2VuJZuQIPmQ4vWgNaA1oCrGnDJsWP0ksaHnHaPPvqoKkeh0aHB4XszgaurE7nS+xPuOMi7NozTOdvMEiZGYnEDeORKz9M4P30h9t3tRJaR5Y4EWwlHGUdDRPr8QaR+HPQBBQmd2FpA3SxI6MyS4JVRREZl7Q16Qccan/mAu++BIVEqa7chLhl9DhekIXjoRncMQb9ADXljznbZuC9FMtH/wGb0vkDA/PeQZsbhls+MHr9yYwd5dfYOxQdILiJyEg1p3QCQzWEon0R9pZ2wmX/3wVMobclzIrkLgVrmgcB2WOsgBWZjd5h+qzWgNaA14LIGuL6mpaWpDJ/VwX5+IJs2rVPcly0NdPTss3WkWti9e7dqcyDlAqtk7PexOkdpbvNEZQkfWrQGtAa0BrQGrqwGCr6zt5gbm7vZBxAbG6vIyt3d3CW8Ubiw8bs8S9OAujIO2Z5P0GhNJ8AsRGr8END6d/SOUBDJ5s+uxGs6dZv2J8vrc3ZLzMFUZMIugty7powAYfndfRtLj0g/2QHOOHMmzDxP3nQQRITliY7kMHrcvli6V1YBtpoZS5bgkOcmFCTfrgqzbw8PbaZIvkmw7oUbgJo5/Q1v3twRyJ2nJTX9IohT3SQCzilJ3QuTtuhxeG9SJ4lFaSUJzwNxbGOUyZCqwEpOp2dJDOgWzAijxn7pcF53AkWUKKVatAa0BrQGzBpgCwIdKVecKR4zf/58Wb58eT4aIGYA2VtnIEnTqXvkkUdUz/o//vEP86nV6/DwcGFFDB+pqalqPEfVJfkO1hu0BrQGtAa0BiqUBlx27KgdGqS2bdu6pCgjgnn06FHVF+Xr46syflaDEJDlxIkTyoAxsmkYQKt9S2pbDfDgdGjkLb+srymHgXxllmPI4n2IEr6Vew7Lp5N7invNylesf4DzSsL8XpuF+ew+koucxR62jxfGyJIdh+Eo2ZY3MsPFJm9y2tEprI1ymTHge2sb4mW+zNzXJOm+9/M1IAZPVghg/GArsmo7kk7KKxM6AE3TLXdfZ19wDlY9AiQc96ntq87D8+5LSUN5ZBbgtWuIP1DV2OvmSMgH6OvhXLkKuYYUXLS5KS9nYAbOSZOgRWtAa0BrwKwBgpqwt460BuRqdVboBBIt2t/f3yYzZxxPJ43CEstXXnlF9al/8MEHllUv/fr1Mw5Tz9HR0Q7bBmx21G+0BrQGtAa0BiqcBkrtbpaRxhdffFE2bNigIKPDwsPklZdfUX16Zq0fPnxYHnzwQUlJSUGT9kUZMGCA3H///cLm8ssp0YBDfhLcaElAVXRUcrgl4ZRc9/YiaRPmoyD1B4PzjA5LaUv0/hOA+z+W69QZ5z+PMsfN4OGrwkmZ5kV+tv5AenRDM/sFIHr1AsrmqHYhDsnXP12yV7bsT8kGnswZhzpZgJLFBS2SgBAWUeIIoQQ1eQMZyDmbEuXc+SxVujmmc5g8NLSpEG67uFIb/XPdkcmMR08fidvNEuhVSzqEWzu55v30a60BrYGKpQHy2K1cuVIBpbji2LHMkpk2PgqSZ599VubNmyeff/65ctZoJ+vWtaay4TgXQC9AcSV7qA7Q/2kNaA1oDWgNVAgNlJpjt2L5CgUXPWPGDDhOVYQlJ7/99pvcdtttNor++uuvlePHzxITE2Xy5MkybNgwadWqlc1+xhtXS2SM48zP59DfNWvjftkHZExCNTsS+kv7QDtAwI/5QAF7bFQrub1XI0e7X7btx0BdkIbSQjfw8dgL0bvsheWHGSgv/ej29vYfWb5fuxc9b9jf/uaB5Zvr9ibLtYC+Lsl+ilPnMuQtOHWz1ifgt1EZGdFqcgaUBdMWx6rndyZ2sJynKxurwTGd1DNcEbYvA92DarVD9tIfZaJ3g6OoMSgNtGgNaA1oDZg1QAeNbQa0R3zNPnJWn3BtJCpmQU6YeRyr1zExMfLjjz8q2/bRRx+pcRs0aKD61Y2MntVxepvWgNaA1oDWgNaAIw3k9wwc7Ynt7Bv49ddfkfW5IOPHjy9gT9uPiJy5YuUKadq0qTKGNIwsL1m9erXccsstNqUqK1askGuvvVZl6MLCwlRGb8+ePTaOHY8/f/68Okl6eroqZ7E9o2vvziBDtPsgeN8snCL7kUgaykc6nMFp6EEb2zFY6pYymqKfR3WFPuaoh85+znx/8myW1WbLbXSCrOUSsnxVSzxLeQQw2bORqaNTZwhvnEgttxZk6ywtDQfgSnElDP17n97VVZbtPgbqg2QJQEnpkNaBEgCKBC1aA1oDWgNWGjhz5ozKqm3atCnXkaOTR3qCPn36WB3i1DZmAH/66Sdlv2hbKaxMIXeeFq0BrQGtAa0BrYGiaMAlx44nYHkkyyVdER7DvjkDYIU37V5eXnL69GkVpTSPdfz48dzyTBo4RkR5Po5hkFzzuKefflpocOlk7t+/X/r3728exqXX7L3yRU8XGQ0c5+vyD0lUytgjZ6RDWOmW8bUKrifdovxk2Y68Hjs2qSlmOKYV7YQE5c2CnM9IDWnTAKWeyXIuMysva0fdwPHq17y+1KlZsuhnKWmZqvySmTp7OQ8H2hWn1P54+/dEzOzfzF897D/T77UGtAa0BswaqFq1qtx7771y1113KVvDzww75Onpad7V5dd04hxVorg8mD5Aa0BrQGtAa0BrABpwybEzHDL2A9CZatmyZS7iF3sJOnXqpCCZ7TXL4+ik0QkzhK+53V5oSOnEUZiZ4341alS32ZcGkSWc/IyZu2+++cYm62c/ZmHvWVY4pE0QskYHgDBpKkGEM0PIf/gCNuc3xqOj4+YEgqOxf0k9h4DS4PHhLaUGHNKFWw9JJkBRGgHVczAcsnXIcG2AU2aUlLIMMwxUDvcNbur06ccDWGU30Da/XhYrWUQIxddUFVnKib0aw7Hzhy6cHsqpHUlgTrqC80C3NPcG8mA3gKcQ8VKL1oDWgNZAaWuANsrNzU32xu6V9RvWS8+ePRXdwKFDh8TDo/hVBKV9Pfp8WgNaA1oDWgNXtwZccuzoaLG5m4aO5ZHsETCcM5aktGnTxtKxo7MWEhIiLGWh0HHbt2+fQhljSYtZWH6ZlJSkNrGEk5m+iIjGNo4bnUSilFFYijlnzhz1ujj/9QegyAPXNJe35+5AaUxOWQwItPu1DJBN8Sfk0ImzuddqnKeBl7s0Dype1NYYy9XnViGe8ukdXSUVUP3n4BB516oO5MvKkng8HfxuW2X2xiQ43ZXhsDaQF8a1AyKl8wAkJPp+dmxrGdMhRGZuPoAS3Esyon2QtAn1BkdcCXt1uPAgz1oyplOofAnQFhKUm6UvsmsB4BHUojWgNaA1UNoaYIkkyyVnzpwpR44cUdk6Vp7897//lcGDB8vo0aNLe0rKDtnbzVKfhD6h1oDWgNaA1sBl0wArQ+hfGT6WKydyybGjMRk7dqx6uHISOmIjRoxQ/XlEACN9wV9//SXPPfecysoRLZOllF27dlWGko3kvXr1UllBGtZGjRwDlNDZLAkhHcB9g6PA7RYki3YeBSF3FdV/xf65VejHevS7DZKYfAZO6d8qG0Yy8/fAwXYlhRlDcsLBv8yVhn7uAEnpgkfupiK9YL9hO5SY8nG5xb1mFXkQPHdpAExZG3tczgP5zR1Z2oEt/eXFca7RalzuuerxtQa0BiqOBkhHsHnzZgVoQnRMBiUJmhIRESEHDhwodUVkXciSjRs3KooEBli1aA1oDWgNaA1cfRqgraHtcZVajppwybHjATR0P//8sxC9skePHqr/gIAn9C4HDRrEXSwlMjJSGUeigNEDnTRpknLe6JiR2+7s2bPqOCJg7t27V/73v/+pcz322GMq22c56GXYGIoyx9t61bYZuVtjH/lqSndZuuc4SLYzJASeVD9k+Kx42WwO1G+c1gB1+cEtnUAiniop4OQLAgVBsNljdXokvaPWgNaA1kDJaYD2ikFN2iq+pq06deqUsLqktIXGng8GPPlcnoRE7LxXaNGihYSGhqprKC/z5/0Nb7JIw9S9e3fLyqSyfC38vTIwQd3zd2uA9ZTlORtz498cuRuJrdCtWzeb6i1jn7L6zLnzN7Nq1SrVulTedM81b8uWLWrNYxl6SSVSSuP7ou5Pnjwpy5cvl/bt2wsRh8vT/I01nj6Xq+KSY0elLFmyRObOnaucOP5gKQQx4ZdPR88R31z16tVlzJgxMmTIEKXcWrVq5f6Bvvzyy+ijyy4V5PNDDz2kfkg0ptyPX1BBws9Z7nk5haiMJYHMeDnneDWMHYleQS1aA1oDWgOONMC1vjCb4OhYV7fzXFFRUYpnjjeWpDtgf3lcXJzcesutrg5X7P1r1qipKluefPLJcoeeSefi1Vdfleuvv75IUehiK6+YAxARnO0njzzySO69SzGHLLXDGTx//fXX5YYbblA3uaV24hI60S+//KLorx544IESGrH0hiH4H0u3b7rppnKp+++//14IanjfffeVntJK6EzHjh1TQYw777xTBTVKaNhSG+bjjz9W7W+untAlb4geJI0aHbhmzZqpckqe0NfXVxla9sQ5cuy4Hx01lmHai/02Rsfq1HEOxZEGngaXGb7ff/+92B45r4Fj0sG08u6zbyiAP1kyFaD2qihT73mt1AEjrXSw+b1Y6aRMTfoyT4Y6YQSFD10Kla1s6oRZDJZcM4CjfyOVlDEhsBP1QeegouuEvxT+zTDLROfIWFtc/XPlcbxRIqpyaQjXvAkTJggRMFmpwhsFnpvtA40iHLcIXM65ETSMveX8eytPYlATGVRF5WnunGtmZqb6DZ87d87yPqYsXw91b4DNleV5Opob78sMu6t/9460VPLbec9P3fO3Xx6lPK85xu+9KPcOLjl2NKq8UWFvAREx+Zp/ZLGxsWrRoMEubeEcWNZJlLLKlWyBN1ydS2ZWpnIO6Zwys5gFuP+KLJVygFIef/xxVXLbILBBRVZH7rVv3bZV9bnwd1elsisEGblDXFUvqlarqiKSHTt2VOXVf6MPtSIL/25STwFV9puv1TrSKPzKOABl7TtYs3aNKrOno1Scv5u/L/2t+twud5WGoT8GHq+77jrV/00jSzt4pW4uq1StcsXObeijqM/G/UNxvvuinrskjqOTf6W+9+LO39A9g+vlUfi3Xlp/7yWtn6tB9/p3X9K/CufG42++KLqvBEPlUu4pPj5ennrqKZUW5w+W0UvWsT7zzDPSp08f52Z7mfZy8VLyzYKRibfeektF4/71r39V+Cg7v18Kv9epU6dKkyZNtE6gk4ULF8qff/6pAAzKq6HM9+Mv4gbjN3LLLbfI8OHDZdy4cWqk4v4tFnE6ZeIw6oSlK//5z3/k7rvvVmVnFVkf/FKoE5ayERmZtqI42X/jN1daXzZt3nvvvSfbtm1TWQNm71jSxpJCXocWrQGtAa0BrQGtgbKiAZcydpw0+erYEzdr1izZvn27+Pv7y6hRo8oE0WpxDT6P5w2YcRNW3PHKypdc3HmYG621TrL5FfVvxPZXxd+IoRN+on8nYgNQoPWR/Xvhb8TQhfFs+0sqW+9YgvTJJ58galpV3nzzTVV+vXXrVsWdSgdv6NChZWvCejZaA1oDWgNaAxVaAy47dtSWn5+fakRk3xX764KDg3ONdXnWJrMvRM+5EiWlZVlvI0eOVD0mZXmOpTk3/t6JzlUebkxLSy/9B/RXEPCldb6yfh72X/bp3UfIeaYlWwMMCjLDVZ7+boweE5Zdt2rVSl0Ir4NZPHKxatEa0BrQGtAa0BooSxpwuRST6EospWFfHeFDiYxJY81tReFbKEvK4FyMrEN5uvm43DrkzU1FLzk061j/RszayH7N3wj/ZvTfTZ5utE7ydMFX5envhiAvBMkg4MTnn3+uQMGuvfZaFfTbvXu3zJgxQ1WqkG/1SgrBXIhKzQCCs4BjV3K+5nNTxyxZJkgAK3+K0ktiHu9yvyaIGO93GNguCCTucs+jKOOzXSY1NVX9TuzB6ooyXmkeQzTVEydOiIeHh0oklOa5i3sugnckJyer3ziTILyG8ihcC3kdvIbyABpHW0NfhcCKfM37kvr160vduuULdZ1rJDFNeP/N+RvsAYX9hlzK2PFGZeGCharE6MMPP5R69eoJEa6++OILIT8dYaHLw5dekFL0jWl+7WinzlYn+jdiqw++078RrZP8GrDdUp7+bvbs2SP/+Mc/1I0Bb4h5U/POO+8ow0pniv3Y5DO7UkJn7pVXXlE9i7xZ4Y37PffcI6yuKA9/i7zpIq3Rzp07lVNHVOuQkJArpc5Cz0sesjfeeEPd+xCwjYBi5SWQ/fzzz6v7M1ZYPf300+WmfJgO/7fffis//PCDckj5Gx84cKAQ/6A89LYyEECaAwaCGLSgkzdlyhR1DYX+4MrQDrzHZ+KGPI4vvfSSECStrAtL6Lk+Hjx4UOGA8G92/PjxCtG/rM/dmF9CQoI899xzytbw904ewdtvv92p375Ljh0NRtaFLFWGScJxQ7p06SJLly5TUYny7tgZ16SftQa0BrQGtAYqpgYiIiJUHx2DmVZCJ5WBzSslnNfIESOVoff29pbp06fLRx99JM2bN5fGjRtfqWk5fV46GQ8++KAqZ/3ss8/UTa/TB5fyjnTk3333XXVTOHHiRPX6/fffV7xwV/I34KwaCGrVqVMnefvtt1XG0dnjysJ+7dq1U7yNzBQReIk0I/x9Dxs2rCxMr8A5MKtL3j1m/ble0EFl9r9///7lIvjCi2O2a8WKFcqpo6PNDFh5EK6PDMgRzG3w4MEqIFOesuycO4NdtEN33HGH+r0wOOBs0M4p7Fsq6djxY0IPkgsZQVNmz5otcXvjZOXKlTJnzhyAqoQprrPy8KUbc8ye/woV7TS2WT1HR0er62Ra9GoWfs9r1qxRC6ij62QkhPpYtGiRQkZ1tN/Vsp1GfdmyZaqnprBrYsnIggULFFdXYfuW58937NiBv4cVit+woOtISkpSutuyZYsqayto3/L8GbMP/I2Q49OR0EASdIO/D66jV7Pw+pYsWaKuk2uKI2EEe8OGDWq9KWs8SYzwBgUFqSwSM0m0e/wOeZNmPPj+SgnLLjt17qTAzJixY/aIumYmrzwIywF50x4cFFzmSzDZT8nfZ9++fVXmiFmjI0eOKOqO8qBr/jbIO8wb2yv5m3VVV7yRZV8r0biJvs5r4O+eWZjyIMyycN3gzfjp1NOK67U8zNs8R/7O58+fr7g8Cb1fnn4/zDTu2rVLVq9erfhHnS1jNF//lXpNG0rbyH7uxYsXq+tg0szZqhenMnb0Ht9/731Zvny5umnll83SBEYKaUhY/8yFmoa6PNRv8wtnin/mzJm5BvuJJ55QpaTmL5L7vfbaa7J+/XpVm8soHb3o8lana76m/9/enQbLVVV7AD8MAa2Cb04JKlGs0ggUQ5AYjCTkoS+MCWOZMCsgvIRgEARCgIBaEEFBUAshQDRh8oFFJDFB62FwKkGDPBCwIiiTIFbp+6B8UBxe/3Zct06aDuk75Hb3da2qvt33jHv/zz57rf9aa++9sd9Si84888zyPD1TEVnLWtSfJ2J7wQUXFEKnw7J2II+IEDdDaKSJNu6ZU4jSKtTVelatBH5C/8beSFnotfEurerUatuVV15Z3v0wEi695NKWCzWLINx9993l/dIv8DpNmjSp1SV7ehvHlhStSIfj0T/iiCM2qBOjMHDbcccdK2l+c+bMKeuibXDgCPjnzjvvrBYvXlwcIfPmzatOPvnkll5GZHjRokXFQGYsMN4c3219q7J997vfra6//vpCnBhrtvk+5ZRTqv3337/jT60xj3OZpVpUY8yYMR0vT38KYE3Cbhf2D6PWLKgEzkRqYK+INuvTy8J5ZqyXict6Reg+elqy528AACDGSURBVJBDDyE955xzWvaH3Vgf9p6ya/cmFVy2bFk3FrNlmfTPu+++e7HbOBkNHZPGOGPGjJbHd9tGY3kRO05FutFSQexR7UfdNiVtETtGqtzgY445pjBGnhTMUUfhm0cCm+yVUCfDCqljbO62224lRUGqhYcfom4PPvhg9c1vfrP62te+VjxGs2fPLsfKUx9pIkXgySefrL563VcrypZBJip3yCGH9HkJeIQPP/zw4rX0slvyYvny5dXkyZO7enzEQJ4VcuvZ8xLqEHTMnAEf/vCHW5I2a9tpLwyA14pSDKQs3XLO2rVry/OWZy8dRpqJRbiNN6nPJMsBRCGcdNJJJQUIsemVvqE/WJv4AYnZddddK33DvffeW0krY3iMHj2671IcREuWLCljtPbaa6/SrqwLOW3atA1w6zuhh3/oTxFd42AYvq2MSdtWrVpViXAvWLCgeLI50BCojTlOOgWJtrty5cpC4Lz7SBSh9974hvUG/uYom4yYyxddXgzZevqNaCEHkvQiZdDX3HrrrdUDDzxQ1k00wL7T4r3wXBkmyhii7KJeHIYcg70i0YajLvEd23ulHr1cTm2Js5Bdsssuu/RMVehFZGLq1Kkl8kU36vd7wREu0oVMXHLJJSViDfReafM4ijHS7DEppOYBkareK8QOzvr9mTNnFt3DtrDGtjq1EzRoi9hhiAyVMFbk2f7yiV9Wf/rzn/peMLNaMfbrSqhvZxf9AJgB2wxNedrqZi2ihQsXlll0QjFSmF5COa6MFSJiI4IzEomdyW8YCzu9a6dSVwaozjQwstHLYjxlKDbYeGlEq0aa8K49++yzJfrCC84g4bGShtzsMTRrEcfA2WefXYyrkYZF1EfkWmqA90Hn4r0xbkA0s07sGOj6AUTQ74kTJ/bMgP2oazvfJtRYt25ddfppp5eZ8kymIWL71FNP9fWVrgMLsxYiCWZF4zSIFJ127tNLx+gT9A8ib9FPNJdf3yqdd9y4ccVxwqttCRHtq9uInbLLWuCx1vaHSyZ9cFJ1w7tuaOkkkiIa2CLIvLmind0SEWcHyIB5+eWXXwWX9l83TLbcYv1okKjPq07ogg3Ki5R6b0k4LHpphkP4xqcLIO1XEaTyM2rp4F4xzKOC0ffr/ydMmFCc4VL2u30cLF1lyI3Z7znqRJDoOpkLyj527NioYld+a+vxfgo6cdCz39ir7Nhul+23276S3WPlAXXBvdjZ7QYN2iJ2dRDM8OMl86AjHcuNGW/veMc7uh40xI6nmLKOkKbpizVkHXad2EkXqs/UpX7SMqQDjLQIxIsvvlgaUTxrDUmer4YUONnnWRMYMChgEpiVHSPkD7JCmYcRwlAdNWqbBvn/3QY1FI0RfZk+fXoZMzKSx2Eab2isAy8YYYx7Z3SWId4jxzHSd9ppp9I2RLF0SkcfffQGbSnO6dVvhp7nLyWdUCA+zQPMbTvxxBNLOubSpUuLA+myyy7rCa9tf59N9A+v5dnVp+hHw7jhvUZ0GTzdpniVTaROZgKHoH5A3dTT2CXKd3MIcuTzWiKqd/OSm6tjjzu2q2baYziN3YThB0PPmnO4fDf6WwSfgyja0GvVfTj30XEM9NWrV5c+b8WKFeWdj/Y7nGUZyL30vfQZnPVXvvXh3YZzq7oZ1iBlm6NZ5kwvjZPi+KML6cmqYTYZK8Wm6IVotfZx4IEHlj7ab7agTDd2fui7Vs+rW7axS2DPfqenzQOir+4FUgfD0WNGl6CSNqP/MfcFztJupLdfxI5CFp5FaozH2nabbfue43bbb7eB175vRxf+0KHVDY/43dzR+b9uqPttW/NxXVjFfheJ4gocnOxZ29ZKvCgiVIivNLwgP62O7dVtr37OUrCExzfMbxaVonx4EkUhKFFeLrPTjTTy39xGvA+2Nb8P2o6ogrQZHStMpKqK8G3KWO2l9hJtpD5OyDvUjAcFzxj8yEc+UtKIRDE5RRgr9UhnL9V9sGWFUfQ32kv0NxvrcwZ7v4Ger4wmz5COyUDTfm1TTr83F7HbVHm1qZtuvqmky8suuPqqq4viZwT3Qqoaw2thI0vG8kkv/u7F6vjjjq9mzppZIn11R+KmcBiO/bKRDEWRyiXFnNNThDTG2g1HGQZzD47HJY1UcMa5jJP777+/ZB5123jW5joiofpJhBqpMPRDv2F8cjdG9pvLj0xrMxxC+gxO0TPmnNETxEj/hlD4EAEdES+T2UQkrLm+3fS/dHCRRsOLiMjX/Pnzu6mIr1kW5bV8DTvbuHW6xtAXTuJ2pF/EzgV1Bm4qtNmLomPQIfMYMzh5gKTcAUwHHqJhU+TGmYVo3ELq7YIb5/XCtxc4XgLlZcwwzpsNLd4+ERgdrYGcXvSRKLxqPFUi0+QPf/hjaS87jt3QQy/6K0oFEx25402wAxvrOo4kkZLKMAhnh5RD70Pdi8qj5P2CRSgAEV3vDm/lSBL10xeIdvPeM0RE65o9smbmUn9pq8g+fHifRb1HKrHTz/q0MtL1KTCKd0ufQhFrJ62O72SbUTaOGw6sKVOmlKKoF4n2Xf4Z5j/0MKWvDXkfGY6wK9GBYS7LQG6n/NaxM2ZEe9A3MF6a9c1Arj3U53je0gDZPN5v5ewVUgcLk5uJOsOWA0UfXZ8UbajxGqrrKScSZ0Iq7UMbJ3U7bajutTmuw35CJiKDQ5uXHRb9x+a45+a6Jvvw61//eiGnm+seQ3ndsY2MAWN5pYPDm77ppXfWuzqloW8MV9B+BE+0+3bbTr+InZtZnNB6IiZQ4I2PHHkGr33thgqH8iH251qA4dHUUdx2221lcgfedONjvHg8RCJSOhPrjUidMnEGo9Y4NF73kSgmurDOjclRpMTIr541a1ZJ25B6a4pnY6sM1OdBm/1fswvxMyMqA6dXQtztPjvP28yg2sYOY3aoVt+7unjaxr17XPHAibqYIELevLQ67Yrn3AQqJhmK8ajt3q8XjvOOGISs7t4hExAxGKxJpdNn8FggmRGk/RijakYn6+AYe9ULxkR/noOOVjoejxqDmjcf0UPojUcw+c7cuXNL38EogQdHiOilvobjYKSJvlOfgNiLKnEQwUb/oO8Y21C4FlqlK4xHlAFC+Zpp2URN3Sbea32B97mbUs7hyXDsVUFCOxXtHAhmbB9toBf7de22m9puu/jDHBHy6UXxjvZqm2nGm/O2l/obPKSXytuMt//1kXSPT39lq0Y6xMJ2T2KcSDNDfihi3kJpFH7zPDNoesHAZ1QxMs00wxDH5HkOedPvuuuukrJgIhEdCkNNfU0kwkiVgtoLdWz3mcZxIg486DAxw5r8aoaWZ47Y8VZSDqJRnjfjbU1jGllrcxlL1RyliOv26jejm+Huuaun+p7YGCdlchl1RmqkXyK18fIhNsaWaSMjjcR4jqJzSJx1bZAUbcbMsuptVlXRDemFvHuiCKLdSB0cTzzhxJ5V0Btrw/o8pEU6rrpKL/v4xz9e+gkROrPpHnbYYX2RKA4RRMb6fqeeemrxxrXrgdtYGbptO0LPQaSOotnGzSH1+gezyjIQOIi8M8ZA6G9ENJE9/U239a0iHFLXlF1Gg+idZ2jMg3e/V43Obms3WZ5EIBFIBBKBoUFgi4bhvj6+3cb1GGsGa7/4woslWlE3SihkJKi+rY1LduwQdWGsM0YpaB9Q8DRT5oxVYj/CYxvjRB1HqkglY5x6hvLBeT1gwvMOH//DQgqr7T6eu8G03R6pHcgzUz9hcG2CEQ8TXkT1tw3RqUu0Kdt75T2ol7+d3+qoDYh4Sw8IAsuIh412ou7SU21zXLxf7Vy/146ptxGOIX2E+msj2o53Ay7wiP5GHxJtqdfqu6nyivZrH+qsz+R1VFeETnvQT8TYU/2NbQRu9ZTeTd1nuPYXndeIUiOsyh7EU/2QdpHHlEQgEUgEEoFEoFsQ6BexY8SsXLGyeuzxx0qKUV0RM2ZGqjHbLQ8ry5EIJAKJQCIwvAjQeyH136nzApX8TgQSgUQgEegWBPo9yGOrrbeqvv/971cvvPBC3/T4FJxUvf33378rva7dAnaWIxFIBBKBRKB3EBCxk2ZssqhwXPoWiTQeOSN2vfMss6SJQCKQCPw7INB6PvvXqLnxaFOnTi3jRqSj1D+vcVruSgQSgUQgEUgEeg4BadhSjn2k0f7mN78pY0yl16YkAp1CINbqqt/fbN9SvuuR5fr+4fxt8qinnnyq5S2NUTdWv5U8/tjj1c/W/szqQl0j0upN9hSTQ5koC86DFc/QOGMp6T6rVq0qafyDvW6e/++NQL8idjyVJkfwSUkEEoFEIBFIBEYyAiJzpouPtQobAw7K0gxmhzWWMCUR6BQCJvEx02zMUG586xVXXFEmrzr++OP7xoN2qnzWzzOZlAnHmsXEUiYeMrFWXRCob/z3N6o999izqsbX93T2N9L15S9/uXr/+99fZjM22+/ee+896EJZ5sXs7CYcMzbfjMnGrpuBOiURGCgC/SJ2vEA//vGPywxwJhUhUlV4LjVys5rxbqYkAolAawS8KyZgiLSu+lHeKbNxttrnPSMMzW4R/YEyx4QS8btV+ftTZtc16UosB+C6I3Fynv5gksd2DoHmtmdCHEs0WL8wJRHoFAKWY1q+fHkhBmeddVaxy0STjz322NInIyMIiPZrBuOYEwGZsHavftqMtYiEPtdMtvSLvte5ZjlHtH791K+rUduMKuQjJpWr19m5JhfST1vOJe7jHbEtRNlEuQzbMaO6yZWaRcqz2XL3HN8gdg1RTllhxHYEyERLxH1F/ZQbSYzlM0TBLD0ku8w+5zjX8lxmKzazs6WMTHD1yP8+Uo3ZYUzf1PjKZPZbThukc2xjeRY42a4+vmFg2JFyGJJkPdcQuhBujlFH11JOM4fHRGN0uefi/vAxiZRtznGu5bUmTpzYV++4dn4nAu0i0C9i56JeClNVe/k1WC+MKeHLmnb/egHbvXkelwgMNQLPPfdcSZeKGSu1UZ08hwODbLCkY7Dltd4bhUzZ1IW3VXoHhdFqIc0f/ehHhejss88+9dM6+psCtYbbzJkzS4qK6fw5dwL7gRbOLKzf+973ChYUqXXzzECYTqOBIprnDRQBBteyZcuK8RZ9B8NY2z/66KMHetk8LxEYNAII1Omnn1599rOfre65557q9ttvr2ZMn1GWW3n88cfL2qIciT7vfOc7q49+9KPFbhNt1obpHDMWW+qJTacvR6xs22GHHUqf/pWvfKX058gV4mQpn7ogJxdccEF5HxBI9/rMZz5T1m+L98XxlpGybBTdQL8hTvX9cU3LiZhF19JKro242ubeSBoS+olPfKIQMSmMIpaWr0K6rKlqneFf/OIX1fnnn1+GDHl/px86vbrp5pvKvZUPWXSc65rd2hJen//85/vWrTWHhLIhjQdMO6CaOWtmFK9sV45rrrmmWrBgQSmTtW7hw87w+dznPle94Y1vqG5cfGNfuqY6nXzyyYUsWg/529/+dsHY/RFA4hoIJ32H8AVB7rt5/kgE2kSgX2PsNPbdd9+9rF0lxH7aaaeV1d1PP/204tlhhKUkAp1EAHG68MIFfR2qTnz27Nkld72T5Yp7m4iB57JZKCY5/EhNs1Akd9xxR58CaN7fqf8p5xtvvLEYAIwEnkuKc7DC6GAI+CZSjmQKpCQCnUCAZ54xKirgY8IUxixdmJIIdBIBETJpexdddFEhZwcedGAhHzfccENxvB966KHVtP+cVtZX1YciQQcffHBZgxURQkQQCaRC9AmZQUA4LTjs7Z83b1519tlnV67VLHfdeVeJMM0/f34pg4jctdde23eY69q2aNGi6kMf+lD1yU9+sqz9uTE9QTd610QOwylr3OARRxxR1v6kz6Ur0g3XX399WRMzSNySJUuqdevWFX3kOtbGpPuRrMcee6zgc8YZZ5R0yk996lPVfvvtV82fP78sv+JcYpiR1Gt1lYV21dVXbUBC2cBBDum88ePHF7J7zDHHlDLvvPPOhZTecfsdBbsjjzyyXOvpp5+uEDoRPGmo1glWlnHjxhXM4UTU/aWXXtog0ll25J9EoB8I9Dtix5MgWleXP//55ULseFjSq15HJn8PNwI8mBwOlNX06dOrpUuXlnSTWGxdWsnzv13v+bPgvDW1dNQUgQ41UikYc9o6ReEYKSk6dec4lhK0XYqFzrhZEDReU+dQvhRqs0jBoHB8Mxgpsmax7cEHHyzpNBQN54kyUQTeQ0pTGUaPHl1O9Q4iWCLpvJ7K61h1E81UDvuk5vhf5FAZeEJ32WWXojCV+61vfWs5RvkNGHdP6Tk8rq5Z9ybyikpbodxEReHDC+pc4psChKl7U25EGpB6E15L3uJX/vpK9crfXinnqKvr7bHHHiXNaMqUKaUu5YT8kwgMAwIMzFYG7TDcOm+RCGwSAX07goaYIBHS+V76/UvVwz9/uHrTm99UiSbpn+k4ugIZuf/++4tucq504uirTQwkI0T/Tu9wXKxcubK67rrrSvrkfv+x36vKs2r1qkJSYhzdCSecUMb5xYH6fvqErvIe0QFIo6hhq0AAB2fdhpSOv9tuuxXdRA+JJCozPaI+MjlEGydPnlzqqi7qRX/ZJopIV4tCHnDAAYVU0qOI75SGPiGTJk0q+sXv5597vrr1tlv7dDEd6V6x9qZjiHvACGbuwRHpW0qs8ktNpS9NhuI4uPuIJqr3jBkzSmomcvmd73ynD4ttRq2PenpmKYnAQBHoF7HTIHlLpIyFx0Vj9YIdd9xxxTgcaEHyvERgKBCQ8jBr1qy+NJRHHnmkpGVQeCvuWVHdfsfthSxoszzvp556aiFCBnojKzyWyMaFF15YPHC8jzyGCA2CRklI29h1111Lqohtotd1cfzHPvaxQvgQLe8I5dicovilL32p+uEPf1iUTSzWHGQorkchIl5SnZEvqRtSwygOCphHldJauHBhuZ/UFCk1UleUlafTu/nAAw+UKANlhyx5l9UDIaScpKXMmTOnzNDlf6mft9xyS7mHwd32U24Uk2uecsopUcS+weQG8V9++eXVM888UxQl5Yfk+UjpoSDdMxQ6RXjOOecUZb148eKSnqJOlClSDQsf6SkMDH1OXen3FSB/JAJDjAAjUnqb/qP+TvrtndYWpXN1U2r0EEOQl+sRBPSJ+tLoG7f45xbV1qO2LtEnJEabRZA4ANesWVP6ZjpS30+XBInQX9MlxDkIj7TKH/zgB5U0e85ShKw+zttxcb7z9O2uUxfHIDdxnGP8b3uzGOpDX4a4l7oR13WO8337xDXtr19TfeM8+zhso1zOo+NC7ItgxbnnnVuGABguwdlo9k7vejOxc67rEP0E/Tr3jLnV2LFji3PUPtE7zmXX9j9S+vDDD5ffykp8x2///+WvfynljrLalpII9BeBfhE7jZPBOLWx3MHfXlkftdv2ddsWI5fxlZIIdAMCOlNKSPrIxRdfXLx9vGdInX0U1hNPPFEhc1IvDFT+9Kc/XUiTyBbywYEhXQLRE41C8HT0xjMgc/LovQ91xRJ1v+qqq0qUy/gActBBB5UB7lIvCKWD/FCS0jKUIdbKqnfyjqXEeCj33Xdf/xYlEOQTmRMZPPfccwsRUy4RyrPmnVUdfMjBhQwZC+BcxJGC4VEUpRM1kx5ifAWPL+KJjPKu8oCKvikfomYwPg+j8xFKqS+8w3VBxIw7YvROaXhCEUhEDv6U5Nve9rYKLsip5wJLOEsxnTZtWvl2L+kziKTfodwQUak3oXzr983ficDmQIBBKbrNGaMd+mh/nBQiHpw32nlKItBpBP75j38WPRG6Q6ROlCsmAEFiZJwgOtotksJeQ6A4Bsc2yAhxPn1D6LVf/WpdiSqJsIm0XXbZZaXfDvLnOJkwl156aXXSSSeV69JjolDENXxkgiCdMYacblW2VoJ8esdCrwYJjGPjf6SUXuDEpKvuu+++or9NPkK3x/n18+K3etb3R73pMOWSHsnONQ5OBJE0n6Mc9L/xeFdffXVxdsLdsAmTpNDFslz0IZElQ+8je/oS5dZ/iNaxOVyL0OcybeqktOzIP4lAPxBom9hF4/fiaPjNoqGHIda8L/9PBIYTAZ2kPHleNKSKR46yMBOVjtRYAwRE567j1hkvaaSyiHDp3JEupMd1KLRQVJSTKJ80DkTwvTu/t9r3g/sW4levH1JpuukQxEXULYTR+NOf/rQMEhf5I9JEDC5vFu8dj2G9o/fbe0iBqIMoJYVNQXgP956wfhrm97z7PUWpqBcZ21DgSF0oEecFYZSaKX0FqSNSJ+FHjHFTNvdSHoQN0YrrlIP+9cd+gkhS8sSAe9spOrhfeeWVZTsl6p6PPvpoMQret/f7ynZKkWJVFzJq61HlvCR2BY78MwwIMIa9tz5EFNl77R2LcTjRLwxDcfIWicBGEYgZK+tRJVkkMkI4IGWi0IGyLDg1f/KTn5Q+2PF0gEgSkanif6LvfWjtz6t7VtxTCBTCIaOjTuocd/jhh5ehApyM7sMRMnfuXLuKruHIQ2zOO++84nSk99yHvqmXt5zQ+CPt/qGHHirvmeMMc4joGn2D0Mm+UU51NMbb0AN63OQwJonxriKIIfStjJfQoe7ruBA63n4YGZPH2cpOcC8ZJPS+fa7p23ViskD1Yfcik081hnlsu+02ZYwiZyj8OSgj08Y24wyV03g7YxjZGxMmTCjYwZyONGuo+6QkAgNFoG1iJ1f4i1/84gZheDdl7PnwyotIxJSuAy1QnpcIDAUCOnOfIB++KQSRJ+SG6DwpDspBVEynLhJ9xZVX9JEKnXYoBL+NE6CUKJ9vLf9Wde/qewvRqzs1KILw9LkPktPcUbumjty7E8fE77LhX3+Um2KrX4/nL+oVxyJOyuA7CNDf//H3co+ttly/REIdD+e5ThyrLPVxc67jo0yImcHm+0zcp/rj//2xRDOd11wn14xymaENYbv44ouKIhdldPyee+5ZHXXUUYWsKi+vq1Qf9y9ZANtWpUwUXoj0FJgqb0oiMFwIaP/6Be1TlIFTgiGrDwljc7jKkvdJBDaGAAK0sEGsOMNC6CgTliAK+lIZE44jnJIcnREZ0q6JbJbo030fedSR1fi9xpdon366TobKCY0/dIq186Toc0AiZqEDTDAU69S5tn2ceYgL5yni1CwiiXTy2rVrS3m8b6Fb6ScppKEHkCTjAE2o4lrhlBStNGNlCBJIh6kDQdAuueSS2F0y0OglgizKNqGzOU8NOwgSJ/sECUTUDCHglKTLPvCBfYr+0l9s2dC1ys/WgLPMGNFS5FkZYcPpLEvIsArP7Pcv/b6U3fAQOIqQRp37Cpk/EoF+INC2pSRKZ1KKeGk1YsamiR2knNlvW0oi0A0INLdFE3Xo4J9uROKMi7FflAtB0YnrsHXUjzz6SFnrhhIKiWtRkM8+82xRiLFmozQM59e9jzp7M3bxzHlf5OnXx+G5pzJIR7zvf+6r9p28b5mqOiZoifv6psRiwHh9e/13lI/yNkbBeDTjf0TalO3tO769evqZp+un9P2Oc22o/44D1Nk1KKDRY0ZXdy+/u6SZRj8Qx8W38nICiWqaKe0tbxldcKYMKXQTpFDQjIxIxxG1RCClvkgLtdSBKGooNxFCSjGMjrhXficCmwsBRqr3SNTZe8Fx6aMdek/1HSIRSfA21xPI67aLAKeXFL9msV32Q7PQgz7NQv/VhfNRxKodkW7ZLPr7uiBIPmRjQ3dEBBGbGGdXLxN9EOfHdZEon7ogVT4h9Eb9fu5RLy9dFKTXOQhdSP24+u/ApV6nOCe+kd44Lrb5pjvrJDyioOqMrMqWSUkEBoNA28ROlCMiHRqgdDbhah4hYXazIdWN28EUKs9NBAaLAINL5xlkQCTZ4ObLF11erVmzphhrPHjGp0m3Mk5AqgpiogNH9HTADLntt9+uFAfJueXWW8p4Nt5OKY7GrDW3ew4QaYzSMXlDKV1eOkIRvP51ry8pK6Jg11x7TbV02dLyP09iPWrmeMoByWRk8uhR1pRQKC7KjleUkam+0mC+8IUvlElQTADBs2g/YlVXiu5Dabo+QQjj/fY/bBBK9xOJ532FhWN4g53v3u7pGvBGLJFWhJJRgAQu/9bysu/MuWeWNZd4MeHj+gibMX68uaKlUldiYiZGtGeH8CGDmZ7iqaQMFwLeHamX9Js2r01LYQvR9vUXxpunJAKJwNAh0EwIh+7K3X0lOtyQDH1LSiIwGAS2aHgj2w6zOZRXPdZIifVQmj0mgylQnpsIDAUCnA/GBSA1Qe5cV/Tpt8//ttpyqy0LUUFciMlVjBtD2JATpA55Qj6QnkgxRjQQOtE2BAsB3JgY06eTHtsY2xYibcT7Ep5+KYrKiiC5F09qpH7GOQid1BEpIlJTHOcY5ZPCqJ6IFsVA6nVB6Ii0D8YqckaQVOOFkDd1VR/XCfIXE6FEKo1xC3BRTgPu1d15riEFxj4ROIRNNEOZlU2fgfi5bhBg0bjALwiqMsHfdmV0PpxsM1kL4mdsU0oiMBwIcMhIt/a+tlKR2r7xtq3S04ajfHmPRCARSAQSgUSgFQJtEzuTP4gwMPDOO/e8asZhM4o3n4IjlF96GlpBnNsSgcEjYEwE8iSlNN65wV+1+68g7U3EDqn7d6p39z+ZLGEikAgkAolAIpAIdBsCbRM7Y4akXBoPw/POyAxhcJkhLCdPCUTyOxFIBBKBRCARSAQSgUQgEUgEEoHhQ6BtYif9zJSukV5VLyJiJx3LANV62lv9mPydCCQCiUAikAgkAolAIpAIJAKJQCKweRBom9htntvnVROBRCARSAQSgUQgEUgEEoFEIBFIBAaLQE6/M1gE8/xEIBFIBBKBRCARSAQSgUQgEUgEOoxAErsOP4C8fSKQCCQCiUAikAgkAolAIpAIJAKDRSCJ3WARzPMTgUQgEUgEEoFEIBFIBBKBRCAR6DACSew6/ADy9olAIpAIJAKJQCKQCCQCiUAikAgMFoEkdoNFMM9PBBKBRCARSAQSgUQgEUgEEoFEoMMIJLHr8API2ycCiUAikAgkAolAIpAIJAKJQCIwWASS2A0WwTw/EUgEEoFEIBFIBBKBRCARSAQSgQ4jkMSuww8gb58IJAKJQCKQCCQCiUAikAgkAonAYBFIYjdYBPP8RCARSAQSgUQgEUgEEoFEIBFIBDqMQBK7Dj+AvH0ikAgkAolAIpAIJAKJQCKQCCQCg0Xg/wEz9ksq4X7PTwAAAABJRU5ErkJggg==)"
      ]
    },
    {
      "cell_type": "markdown",
      "metadata": {
        "id": "v5MI0EGKRNEA"
      },
      "source": [
        "이제 데이터가 두 feature에 대해 거의 동일한 범위 안에 있습니다. 거의 모든 instance들은 x축과 y축에서 -2와 -2 사이에 있습니다. 유일한 잠재적인 단점은 feature이 정확하게 동일한 규모에 있지 않다는 것입니다.\n",
        "\n",
        "이전 실습에서는 Min-Max Normalization을 통해 두 feature을 0과 1 사이로 변환하였습니다. 이번 실습의 z-score 정규화를 사용하여 변환된 데이터의 x-축 범위는 약 -1.5 ~ 1.5이고 y-축 범위는 약 -2 ~ 2입니다. 정규화하지 않은 데이터와 비교해보았을 때 0 ~ 40의 범위였던 x축이 더 이상 y축을 지배하고 있지 않습니다.\n",
        "\n",
        "Z-score 정규화와 Min-Max Normalization의 차이점은 다음과 같습니다.\n",
        "\n",
        "* Min-Max Normalization: 모든 feature의 범위는 동일하지만 outlier는 잘 처리하지 못합니다.\n",
        "* Z-Score Normalization: outlier을 잘 처리하지만 정확히 동일한 척도로 정규화된 데이터로 변환되지는 않습니다."
      ]
    },
    {
      "cell_type": "code",
      "metadata": {
        "id": "uVennh-Ej-Vp"
      },
      "source": [
        "# training set에 대하여 Z-Score 정규화를 합니다.\n",
        "train_df_mean = train_df.mean()\n",
        "train_df_std = train_df.std()\n",
        "train_df_norm = (train_df - train_df_mean)/train_df_std"
      ],
      "execution_count": null,
      "outputs": []
    },
    {
      "cell_type": "code",
      "metadata": {
        "id": "XdByRf-qkdDV",
        "outputId": "cbb2b045-581a-4643-d795-92b0e56098f7"
      },
      "source": [
        "# 정규화된 데이터를 확인합니다.\n",
        "train_df_norm.head()"
      ],
      "execution_count": null,
      "outputs": [
        {
          "data": {
            "text/html": [
              "<div>\n",
              "<style scoped>\n",
              "    .dataframe tbody tr th:only-of-type {\n",
              "        vertical-align: middle;\n",
              "    }\n",
              "\n",
              "    .dataframe tbody tr th {\n",
              "        vertical-align: top;\n",
              "    }\n",
              "\n",
              "    .dataframe thead th {\n",
              "        text-align: right;\n",
              "    }\n",
              "</style>\n",
              "<table border=\"1\" class=\"dataframe\">\n",
              "  <thead>\n",
              "    <tr style=\"text-align: right;\">\n",
              "      <th></th>\n",
              "      <th>longitude</th>\n",
              "      <th>latitude</th>\n",
              "      <th>housing_median_age</th>\n",
              "      <th>total_rooms</th>\n",
              "      <th>total_bedrooms</th>\n",
              "      <th>population</th>\n",
              "      <th>households</th>\n",
              "      <th>median_income</th>\n",
              "      <th>median_house_value</th>\n",
              "    </tr>\n",
              "  </thead>\n",
              "  <tbody>\n",
              "    <tr>\n",
              "      <th>0</th>\n",
              "      <td>2.619288</td>\n",
              "      <td>-0.671500</td>\n",
              "      <td>-1.079639</td>\n",
              "      <td>1.361655</td>\n",
              "      <td>1.764152</td>\n",
              "      <td>-0.361173</td>\n",
              "      <td>-0.075996</td>\n",
              "      <td>-1.252506</td>\n",
              "      <td>-1.210522</td>\n",
              "    </tr>\n",
              "    <tr>\n",
              "      <th>1</th>\n",
              "      <td>2.539494</td>\n",
              "      <td>-0.573248</td>\n",
              "      <td>-0.761850</td>\n",
              "      <td>2.296540</td>\n",
              "      <td>3.230346</td>\n",
              "      <td>-0.261858</td>\n",
              "      <td>-0.099401</td>\n",
              "      <td>-1.081451</td>\n",
              "      <td>-1.096713</td>\n",
              "    </tr>\n",
              "    <tr>\n",
              "      <th>2</th>\n",
              "      <td>2.494610</td>\n",
              "      <td>-0.905436</td>\n",
              "      <td>-0.920744</td>\n",
              "      <td>-0.882436</td>\n",
              "      <td>-0.866931</td>\n",
              "      <td>-0.955326</td>\n",
              "      <td>-0.999223</td>\n",
              "      <td>-1.170071</td>\n",
              "      <td>-1.048430</td>\n",
              "    </tr>\n",
              "    <tr>\n",
              "      <th>3</th>\n",
              "      <td>2.489623</td>\n",
              "      <td>-0.928830</td>\n",
              "      <td>-1.159087</td>\n",
              "      <td>-0.524171</td>\n",
              "      <td>-0.480216</td>\n",
              "      <td>-0.796769</td>\n",
              "      <td>-0.715753</td>\n",
              "      <td>-0.362590</td>\n",
              "      <td>-1.154480</td>\n",
              "    </tr>\n",
              "    <tr>\n",
              "      <th>4</th>\n",
              "      <td>2.489623</td>\n",
              "      <td>-0.961581</td>\n",
              "      <td>-0.682402</td>\n",
              "      <td>-0.545731</td>\n",
              "      <td>-0.506313</td>\n",
              "      <td>-0.701809</td>\n",
              "      <td>-0.622130</td>\n",
              "      <td>-1.026424</td>\n",
              "      <td>-1.222593</td>\n",
              "    </tr>\n",
              "  </tbody>\n",
              "</table>\n",
              "</div>"
            ],
            "text/plain": [
              "   longitude  latitude  housing_median_age  total_rooms  total_bedrooms  \\\n",
              "0   2.619288 -0.671500           -1.079639     1.361655        1.764152   \n",
              "1   2.539494 -0.573248           -0.761850     2.296540        3.230346   \n",
              "2   2.494610 -0.905436           -0.920744    -0.882436       -0.866931   \n",
              "3   2.489623 -0.928830           -1.159087    -0.524171       -0.480216   \n",
              "4   2.489623 -0.961581           -0.682402    -0.545731       -0.506313   \n",
              "\n",
              "   population  households  median_income  median_house_value  \n",
              "0   -0.361173   -0.075996      -1.252506           -1.210522  \n",
              "1   -0.261858   -0.099401      -1.081451           -1.096713  \n",
              "2   -0.955326   -0.999223      -1.170071           -1.048430  \n",
              "3   -0.796769   -0.715753      -0.362590           -1.154480  \n",
              "4   -0.701809   -0.622130      -1.026424           -1.222593  "
            ]
          },
          "execution_count": 18,
          "metadata": {},
          "output_type": "execute_result"
        }
      ]
    },
    {
      "cell_type": "code",
      "metadata": {
        "id": "iuaTOVg2Rjg5"
      },
      "source": [
        "# test set에 대해서도 동일하게 Z-Score 정규화를 합니다.\n",
        "test_df_mean = test_df.mean()\n",
        "test_df_std  = test_df.std()\n",
        "test_df_norm = (test_df - test_df_mean)/test_df_std"
      ],
      "execution_count": null,
      "outputs": []
    },
    {
      "cell_type": "markdown",
      "metadata": {
        "id": "GMuLVmimRlcq"
      },
      "source": [
        "## 6-3. Create a binary label\n",
        "\n",
        "분류 문제에서 모든 예제의 레이블은 0 또는 1이어야 합니다. 하지만 California Housing Dataset의 label인 `median_house_value`는 0과 1이 아닌 80,100 또는 85,700과 같은 float 값을 포함하고 있는 반면, 정규화된 데이터의 median_house_values는 주로 -3과 +3 사이의 float 값을 포함하고 있습니다.\n",
        "\n",
        "Training set과 test set에 `median_house_value_is_high`의 새 column을 만듭니다. `median_house_value`가 특정 임계값(`threshold`)보다 높은 경우 `median_house_value_is_high`를 1로 설정합니다. 그렇지 않으면 `median_house_value_is_high`를 0으로 설정합니다."
      ]
    },
    {
      "cell_type": "code",
      "metadata": {
        "id": "luDDmXk7lUn4"
      },
      "source": [
        "# median_house_value를 임계값에 따라 0과 1로 인코딩합니다.\n",
        "threshold_in_Z = 1.0 \n",
        "train_df_norm[\"median_house_value_is_high\"] = (train_df_norm[\"median_house_value\"] > threshold_in_Z).astype(float)\n",
        "test_df_norm[\"median_house_value_is_high\"] = (test_df_norm[\"median_house_value\"] > threshold_in_Z).astype(float) "
      ],
      "execution_count": null,
      "outputs": []
    },
    {
      "cell_type": "code",
      "metadata": {
        "id": "HfanL-q6lbPT",
        "outputId": "2c13d232-d185-45a0-e836-31712515f6f2"
      },
      "source": [
        "# 변환이 잘 되었는지 확인해봅니다.\n",
        "train_df_norm[\"median_house_value_is_high\"].head(8000)"
      ],
      "execution_count": null,
      "outputs": [
        {
          "data": {
            "text/plain": [
              "0       0.0\n",
              "1       0.0\n",
              "2       0.0\n",
              "3       0.0\n",
              "4       0.0\n",
              "       ... \n",
              "7995    0.0\n",
              "7996    1.0\n",
              "7997    1.0\n",
              "7998    1.0\n",
              "7999    1.0\n",
              "Name: median_house_value_is_high, Length: 8000, dtype: float64"
            ]
          },
          "execution_count": 21,
          "metadata": {},
          "output_type": "execute_result"
        }
      ]
    },
    {
      "cell_type": "code",
      "metadata": {
        "id": "bVUd6iuPRnFJ",
        "outputId": "d8befd2b-76b5-4d2c-e69b-80acce174afa"
      },
      "source": [
        "# 데이터셋의 column들을 프린트해봅니다.\n",
        "train_df_norm.columns"
      ],
      "execution_count": null,
      "outputs": [
        {
          "data": {
            "text/plain": [
              "Index(['longitude', 'latitude', 'housing_median_age', 'total_rooms',\n",
              "       'total_bedrooms', 'population', 'households', 'median_income',\n",
              "       'median_house_value', 'median_house_value_is_high'],\n",
              "      dtype='object')"
            ]
          },
          "execution_count": 22,
          "metadata": {},
          "output_type": "execute_result"
        }
      ]
    },
    {
      "cell_type": "code",
      "metadata": {
        "id": "LBRIsRZNmqe5",
        "outputId": "469ec570-de96-4b1a-81f2-abd6673bd1bf"
      },
      "source": [
        "# California housing dataset은 label이 불균형한 데이터입니다. 불균형한 정도를 확인해봅니다.\n",
        "print(train_df_norm['median_house_value_is_high'].value_counts())\n",
        "print(train_df_norm['median_house_value_is_high'].value_counts() / train_df_norm.shape[0])"
      ],
      "execution_count": null,
      "outputs": [
        {
          "name": "stdout",
          "output_type": "stream",
          "text": [
            "0.0    14223\n",
            "1.0     2777\n",
            "Name: median_house_value_is_high, dtype: int64\n",
            "0.0    0.836647\n",
            "1.0    0.163353\n",
            "Name: median_house_value_is_high, dtype: float64\n"
          ]
        }
      ]
    },
    {
      "cell_type": "code",
      "metadata": {
        "id": "_5-pUgEUhc4E"
      },
      "source": [
        "# train/test의 X와 y를 분리합니다.\n",
        "X_train = train_df_norm.drop(columns=['median_house_value', 'median_house_value_is_high'])\n",
        "y_train = train_df_norm['median_house_value_is_high']\n",
        "X_test = test_df_norm.drop(columns=['median_house_value', 'median_house_value_is_high'])\n",
        "y_test = test_df_norm['median_house_value_is_high']"
      ],
      "execution_count": null,
      "outputs": []
    },
    {
      "cell_type": "markdown",
      "metadata": {
        "id": "dsBR2Udsbbg3"
      },
      "source": [
        "## 6-4. Train a classifier"
      ]
    },
    {
      "cell_type": "code",
      "metadata": {
        "id": "ONbP_eiXnGjG",
        "outputId": "c933264c-36f6-41a8-b4e8-493301cddc9b"
      },
      "source": [
        "# MLPClassifier을 생성하고 훈련시킵니다.\n",
        "from sklearn.neural_network import MLPClassifier\n",
        "\n",
        "clf = MLPClassifier(random_state=42, max_iter=1000, learning_rate_init=0.01)\n",
        "clf.fit(X_train, y_train)"
      ],
      "execution_count": null,
      "outputs": [
        {
          "data": {
            "text/plain": [
              "MLPClassifier(learning_rate_init=0.01, max_iter=1000, random_state=42)"
            ]
          },
          "execution_count": 25,
          "metadata": {},
          "output_type": "execute_result"
        }
      ]
    },
    {
      "cell_type": "code",
      "metadata": {
        "id": "cWikPsehSYX6"
      },
      "source": [
        "# 모델 평가를 위해서 예측값과 예측된 확률값을 만듭니다.\n",
        "y_pred = clf.predict(X_test)\n",
        "y_prob = clf.predict_proba(X_test)[:, 1]"
      ],
      "execution_count": null,
      "outputs": []
    },
    {
      "cell_type": "markdown",
      "metadata": {
        "id": "xm6aOWN3d8BZ"
      },
      "source": [
        "# 6-5. Evaluate the model"
      ]
    },
    {
      "cell_type": "markdown",
      "metadata": {
        "id": "zXy_P33fouk2"
      },
      "source": [
        "### Confusion Matrix"
      ]
    },
    {
      "cell_type": "code",
      "metadata": {
        "id": "ndTtvKNtoNlw",
        "outputId": "77af8afe-3530-43ac-c6ea-85cf422b1923"
      },
      "source": [
        "# confusion matrix를 출력해봅니다.\n",
        "from sklearn.metrics import confusion_matrix\n",
        "\n",
        "confusion_matrix(y_test, y_pred)"
      ],
      "execution_count": null,
      "outputs": [
        {
          "data": {
            "text/plain": [
              "array([[2416,  110],\n",
              "       [ 149,  325]], dtype=int64)"
            ]
          },
          "execution_count": 27,
          "metadata": {},
          "output_type": "execute_result"
        }
      ]
    },
    {
      "cell_type": "code",
      "metadata": {
        "id": "1Nhd1oRGobsk",
        "outputId": "c8956394-580c-4b6d-aa0a-a7f9c251807f"
      },
      "source": [
        "# confusion matrix를 시각화해봅니다.\n",
        "from sklearn.metrics import plot_confusion_matrix\n",
        "\n",
        "plot_confusion_matrix(clf, X_test, y_test, normalize='all')"
      ],
      "execution_count": null,
      "outputs": [
        {
          "data": {
            "text/plain": [
              "<sklearn.metrics._plot.confusion_matrix.ConfusionMatrixDisplay at 0x249a95ecac0>"
            ]
          },
          "execution_count": 28,
          "metadata": {},
          "output_type": "execute_result"
        },
        {
          "data": {
            "image/png": "[encoded data removed]",
            "text/plain": [
              "<Figure size 432x288 with 2 Axes>"
            ]
          },
          "metadata": {
            "needs_background": "light"
          },
          "output_type": "display_data"
        }
      ]
    },
    {
      "cell_type": "code",
      "metadata": {
        "id": "lUe-l3yIs4qM"
      },
      "source": [
        "import seaborn as sns\n",
        "import matplotlib.pyplot as plt\n",
        "\n",
        "def plot_cm(labels, predictions):\n",
        "  cm = confusion_matrix(labels, predictions)\n",
        "  plt.figure(figsize=(5,5))\n",
        "  sns.heatmap(cm, annot=True, fmt=\"d\")\n",
        "  plt.title('Confusion matrix')\n",
        "  plt.ylabel('Actual label')\n",
        "  plt.xlabel('Predicted label')"
      ],
      "execution_count": null,
      "outputs": []
    },
    {
      "cell_type": "code",
      "metadata": {
        "id": "6NFp0oXjSin8",
        "outputId": "7b1d3c3a-9776-47cb-a9c6-c411baee2dcc"
      },
      "source": [
        "# plot_cm 함수를 이용하여 시각화 해봅니다.\n",
        "plot_cm(y_test, y_pred)"
      ],
      "execution_count": null,
      "outputs": [
        {
          "data": {
            "image/png": "[encoded data removed]",
            "text/plain": [
              "<Figure size 360x360 with 2 Axes>"
            ]
          },
          "metadata": {
            "needs_background": "light"
          },
          "output_type": "display_data"
        }
      ]
    },
    {
      "cell_type": "markdown",
      "metadata": {
        "id": "uAXRB02rs_lI"
      },
      "source": [
        "### Precision-Recall"
      ]
    },
    {
      "cell_type": "markdown",
      "metadata": {
        "id": "uFdZV0xjrK9L"
      },
      "source": [
        "모델의 분류 작업을 결정하는 임계값을 바꾸는 것은 해당 분류기의 precision과 recall의 상충 관계를 조정하는 일 입니다. 예를 들어 양성 샘플의 실수(FN)을 10%보다 작게 하여 90% 이상의 recall을 원할 수 있습니다. 이런 결정은 데이터와 애플리케이션에 따라 다르며 목표에 따라 달리 결정됩니다. 어떤 목표가 선택되면 (즉, 어떤 클래스에 대한 특정 recall 또는 precision의 값) 적적한 임계값을 지정할 수 있습니다. 다시 말해 90% recall과 같은 특정 목적을 충족하는 임계값을 설정하는 것은 언제든 가능합니다. 어려운 부분은 이 임계값을 유지하면서 적절한 precision을 내는 모델을 만드는 일 입니다. 만약 모든 것을 양성이라고 분류하면 recall이 100이 되지만 이러한 모델은 쓸모가 없을 것 입니다.\n",
        "\n",
        "새로운 모델을 만들 때에는 임계값이 명확하지 않은 경우가 많습니다. 이런 경우에는 문제를 더 잘 이해하기 위해 모든 임계값을 조사해보거나, 한번에 precision과 recall의 모든 장단점을 살펴보는 것이 좋습니다. 이를 위해 precision-recall curve를 사용합니다."
      ]
    },
    {
      "cell_type": "code",
      "metadata": {
        "id": "ztazmyZdnWqD",
        "outputId": "06701df6-071f-413d-fe2b-75248a60b4d1"
      },
      "source": [
        "from sklearn.metrics import plot_precision_recall_curve\n",
        "\n",
        "plot_precision_recall_curve(clf, X_test, y_test)"
      ],
      "execution_count": null,
      "outputs": [
        {
          "data": {
            "text/plain": [
              "<sklearn.metrics._plot.precision_recall_curve.PrecisionRecallDisplay at 0x249ad21fac0>"
            ]
          },
          "execution_count": 31,
          "metadata": {},
          "output_type": "execute_result"
        },
        {
          "data": {
            "image/png": "[encoded data removed]",
            "text/plain": [
              "<Figure size 432x288 with 1 Axes>"
            ]
          },
          "metadata": {
            "needs_background": "light"
          },
          "output_type": "display_data"
        }
      ]
    },
    {
      "cell_type": "markdown",
      "metadata": {
        "id": "OeDn12bgrvuF"
      },
      "source": [
        "곡선의 각 포인트는 가능한 임계값에 대하여 precision과 recall입니다. 곡선이 오른쪽 위로 갈 수록 더 좋은 분류기입니다. 오른쪽 위 지점은 한 임계값에서 precision과 recall이 모두 높은 곳 입니다. 곡선은 임계값이 매우 높아 전부 양성 클래스가 되는 왼쪽 위에서 시작합니다. 임계값이 작아지면서 곡선은 recall이 높아지는 쪽으로 이동하게 되지만 precision은 낮아집니다. precision이 높아져도 recall이 높게 유지될수록 더 좋은 모델입니다."
      ]
    },
    {
      "cell_type": "markdown",
      "metadata": {
        "id": "TFUWpL0SsN2c"
      },
      "source": [
        "### ROC and AUC"
      ]
    },
    {
      "cell_type": "markdown",
      "metadata": {
        "id": "UIikernjS9LR"
      },
      "source": [
        "ROC Curve는 여러 임계값에서 분류기의 특성을 분석하는데 널리 사용하는 도구입니다. Precision-Recall curve와 비슷하게 ROC curve는 분류기의 모든 임계값을 고려하지만, 정밀도와 재현률 대신 True Positive Rate(TPR)에 대한 False Positive Rate(FPR)을 나타냅니다. True Positive Rate은 Recall의 다른 이름이여, False Positive Rate은 전체 음성 샘플 중에서 거짓 양성으로 잘못 분류한 비율입니다. ROC curve는 roc_curve 함수를 사용하여 만들 수 있습니다. ROC curve는 왼쪽 위에 가까울 수록 이상적입니다. False Positive Rate이 낮게 유지되면서 recall이 높은 분류기가 좋은 것 입니다.\n"
      ]
    },
    {
      "cell_type": "code",
      "metadata": {
        "id": "_xId3XzyrB0m"
      },
      "source": [
        "import matplotlib.pyplot as plt\n",
        "from sklearn.metrics import roc_curve\n",
        "\n",
        "def plot_roc(name, labels, predictions, **kwargs):\n",
        "  fp, tp, _ = roc_curve(labels, predictions)\n",
        "\n",
        "  plt.plot(100*fp, 100*tp, label=name, linewidth=2, **kwargs)\n",
        "  plt.xlabel('False positives [%]')\n",
        "  plt.ylabel('True positives [%]')\n",
        "  plt.xlim([0,100])\n",
        "  plt.ylim([0,100])\n",
        "  plt.grid(True)\n",
        "  ax = plt.gca()\n",
        "  ax.set_aspect('equal')"
      ],
      "execution_count": null,
      "outputs": []
    },
    {
      "cell_type": "code",
      "metadata": {
        "id": "a4RQgX3pvoqi",
        "outputId": "20b34535-885f-4bdc-8e38-fc1d78600f58"
      },
      "source": [
        "plot_roc('Baseline classifieir', y_test, y_prob)"
      ],
      "execution_count": null,
      "outputs": [
        {
          "data": {
            "image/png": "[encoded data removed]",
            "text/plain": [
              "<Figure size 432x288 with 1 Axes>"
            ]
          },
          "metadata": {
            "needs_background": "light"
          },
          "output_type": "display_data"
        }
      ]
    },
    {
      "cell_type": "markdown",
      "metadata": {
        "id": "2c5jQUhetDJb"
      },
      "source": [
        "곡선 아래의 면적값 하나로 ROC curve를 요약할 수 있습니다. 이 면적을 보통 AUC(Area Under the Curve)라고 합니다. 이 ROC curve 아래 면적은 roc_auc_score 함수로 계산합니다."
      ]
    },
    {
      "cell_type": "code",
      "metadata": {
        "id": "DQlXB9GEvzIu",
        "outputId": "0cf3fee7-d69e-4f8c-c6ba-ee45018df5de"
      },
      "source": [
        "# roc_auc_score 출력하기\n",
        "from sklearn.metrics import roc_auc_score\n",
        "\n",
        "roc_auc_score(y_test, y_prob)"
      ],
      "execution_count": null,
      "outputs": [
        {
          "data": {
            "text/plain": [
              "0.9421551727017916"
            ]
          },
          "execution_count": 34,
          "metadata": {},
          "output_type": "execute_result"
        }
      ]
    },
    {
      "cell_type": "markdown",
      "metadata": {
        "id": "R5tjreBhtofv"
      },
      "source": [
        "scikit-learn의 classification_report는 accuracy, precision, recall, f1 score의 점수 모두를 한번에 계산해서 깔끔하게 출력해줍니다."
      ]
    },
    {
      "cell_type": "code",
      "metadata": {
        "id": "DkwONfNetscK",
        "outputId": "1f0f3e65-6dec-4c9a-f6bb-b10740a79ac4"
      },
      "source": [
        "# classification report 출력하기\n",
        "from sklearn.metrics import classification_report\n",
        "\n",
        "print(classification_report(y_test, y_pred))"
      ],
      "execution_count": null,
      "outputs": [
        {
          "name": "stdout",
          "output_type": "stream",
          "text": [
            "              precision    recall  f1-score   support\n",
            "\n",
            "         0.0       0.94      0.96      0.95      2526\n",
            "         1.0       0.75      0.69      0.72       474\n",
            "\n",
            "    accuracy                           0.91      3000\n",
            "   macro avg       0.84      0.82      0.83      3000\n",
            "weighted avg       0.91      0.91      0.91      3000\n",
            "\n"
          ]
        }
      ]
    },
    {
      "cell_type": "markdown",
      "metadata": {
        "id": "U1aDrqfATN7t"
      },
      "source": [
        "#  **과제(총 10점)**\n",
        "\n",
        "### Credit Card Fraud data set\n",
        "\n",
        "Credit Card Fraud data set는 2013년 9월 유럽 사용자의 이틀 동안의 신용카드 결제내역입니다.\n",
        "284,807개의 트랜잭션 중 492개의 이상 거래가 있습니다. 데이터의 불균형이 매우 심하며, positive class(이상 거래)가 모든 트랜잭션의 0.172%를 차지합니다.\n",
        "\n",
        "데이터에는 PCA 변환의 결과인 숫자 입력 변수만 포함되며, 기밀성 문제로 인해 데이터의 원래 기능과 더 많은 배경 정보가 제공되지 않습니다. 특징 V1, V2 및 … V28은 PCA를 통해 얻은 주요 feature이며, PCA를 통해 변환되지 않은 feature들은 'time'과 'amount'입니다. 'time' feature에는 각 트랜잭션과 데이터 집합의 첫 번째 트랜잭션 사이에 경과된 초입니다. 'amount' 기능은 트랜잭션 금액입니다. 'Class' feature은 label이며 이상 거래 발생 시 1이며 그렇지 않으면 0입니다."
      ]
    },
    {
      "cell_type": "code",
      "metadata": {
        "id": "rFSlFpwUTHZZ"
      },
      "source": [
        "import numpy as np\n",
        "\n",
        "raw_df = pd.read_csv('https://storage.googleapis.com/download.tensorflow.org/data/creditcard.csv')"
      ],
      "execution_count": null,
      "outputs": []
    },
    {
      "cell_type": "code",
      "metadata": {
        "id": "hmMOJSbK8B8P",
        "outputId": "538df27a-f499-41fe-bcd1-11d513923a17"
      },
      "source": [
        "# 데이터의 column을 프린트해봅니다.\n",
        "raw_df.columns"
      ],
      "execution_count": null,
      "outputs": [
        {
          "data": {
            "text/plain": [
              "Index(['Time', 'V1', 'V2', 'V3', 'V4', 'V5', 'V6', 'V7', 'V8', 'V9', 'V10',\n",
              "       'V11', 'V12', 'V13', 'V14', 'V15', 'V16', 'V17', 'V18', 'V19', 'V20',\n",
              "       'V21', 'V22', 'V23', 'V24', 'V25', 'V26', 'V27', 'V28', 'Amount',\n",
              "       'Class'],\n",
              "      dtype='object')"
            ]
          },
          "execution_count": 37,
          "metadata": {},
          "output_type": "execute_result"
        }
      ]
    },
    {
      "cell_type": "code",
      "metadata": {
        "id": "CCXbEea9759z",
        "outputId": "224b1865-2f6a-4db8-c34d-bb59d2bbb54c"
      },
      "source": [
        "raw_df[['Time', 'V1', 'V2', 'V3', 'V4', 'V5', 'V26', 'V27', 'V28', 'Amount', 'Class']].describe()"
      ],
      "execution_count": null,
      "outputs": [
        {
          "data": {
            "text/html": [
              "<div>\n",
              "<style scoped>\n",
              "    .dataframe tbody tr th:only-of-type {\n",
              "        vertical-align: middle;\n",
              "    }\n",
              "\n",
              "    .dataframe tbody tr th {\n",
              "        vertical-align: top;\n",
              "    }\n",
              "\n",
              "    .dataframe thead th {\n",
              "        text-align: right;\n",
              "    }\n",
              "</style>\n",
              "<table border=\"1\" class=\"dataframe\">\n",
              "  <thead>\n",
              "    <tr style=\"text-align: right;\">\n",
              "      <th></th>\n",
              "      <th>Time</th>\n",
              "      <th>V1</th>\n",
              "      <th>V2</th>\n",
              "      <th>V3</th>\n",
              "      <th>V4</th>\n",
              "      <th>V5</th>\n",
              "      <th>V26</th>\n",
              "      <th>V27</th>\n",
              "      <th>V28</th>\n",
              "      <th>Amount</th>\n",
              "      <th>Class</th>\n",
              "    </tr>\n",
              "  </thead>\n",
              "  <tbody>\n",
              "    <tr>\n",
              "      <th>count</th>\n",
              "      <td>284807.000000</td>\n",
              "      <td>2.848070e+05</td>\n",
              "      <td>2.848070e+05</td>\n",
              "      <td>2.848070e+05</td>\n",
              "      <td>2.848070e+05</td>\n",
              "      <td>2.848070e+05</td>\n",
              "      <td>2.848070e+05</td>\n",
              "      <td>2.848070e+05</td>\n",
              "      <td>2.848070e+05</td>\n",
              "      <td>284807.000000</td>\n",
              "      <td>284807.000000</td>\n",
              "    </tr>\n",
              "    <tr>\n",
              "      <th>mean</th>\n",
              "      <td>94813.859575</td>\n",
              "      <td>3.918649e-15</td>\n",
              "      <td>5.682686e-16</td>\n",
              "      <td>-8.761736e-15</td>\n",
              "      <td>2.811118e-15</td>\n",
              "      <td>-1.552103e-15</td>\n",
              "      <td>1.701640e-15</td>\n",
              "      <td>-3.662252e-16</td>\n",
              "      <td>-1.217809e-16</td>\n",
              "      <td>88.349619</td>\n",
              "      <td>0.001727</td>\n",
              "    </tr>\n",
              "    <tr>\n",
              "      <th>std</th>\n",
              "      <td>47488.145955</td>\n",
              "      <td>1.958696e+00</td>\n",
              "      <td>1.651309e+00</td>\n",
              "      <td>1.516255e+00</td>\n",
              "      <td>1.415869e+00</td>\n",
              "      <td>1.380247e+00</td>\n",
              "      <td>4.822270e-01</td>\n",
              "      <td>4.036325e-01</td>\n",
              "      <td>3.300833e-01</td>\n",
              "      <td>250.120109</td>\n",
              "      <td>0.041527</td>\n",
              "    </tr>\n",
              "    <tr>\n",
              "      <th>min</th>\n",
              "      <td>0.000000</td>\n",
              "      <td>-5.640751e+01</td>\n",
              "      <td>-7.271573e+01</td>\n",
              "      <td>-4.832559e+01</td>\n",
              "      <td>-5.683171e+00</td>\n",
              "      <td>-1.137433e+02</td>\n",
              "      <td>-2.604551e+00</td>\n",
              "      <td>-2.256568e+01</td>\n",
              "      <td>-1.543008e+01</td>\n",
              "      <td>0.000000</td>\n",
              "      <td>0.000000</td>\n",
              "    </tr>\n",
              "    <tr>\n",
              "      <th>25%</th>\n",
              "      <td>54201.500000</td>\n",
              "      <td>-9.203734e-01</td>\n",
              "      <td>-5.985499e-01</td>\n",
              "      <td>-8.903648e-01</td>\n",
              "      <td>-8.486401e-01</td>\n",
              "      <td>-6.915971e-01</td>\n",
              "      <td>-3.269839e-01</td>\n",
              "      <td>-7.083953e-02</td>\n",
              "      <td>-5.295979e-02</td>\n",
              "      <td>5.600000</td>\n",
              "      <td>0.000000</td>\n",
              "    </tr>\n",
              "    <tr>\n",
              "      <th>50%</th>\n",
              "      <td>84692.000000</td>\n",
              "      <td>1.810880e-02</td>\n",
              "      <td>6.548556e-02</td>\n",
              "      <td>1.798463e-01</td>\n",
              "      <td>-1.984653e-02</td>\n",
              "      <td>-5.433583e-02</td>\n",
              "      <td>-5.213911e-02</td>\n",
              "      <td>1.342146e-03</td>\n",
              "      <td>1.124383e-02</td>\n",
              "      <td>22.000000</td>\n",
              "      <td>0.000000</td>\n",
              "    </tr>\n",
              "    <tr>\n",
              "      <th>75%</th>\n",
              "      <td>139320.500000</td>\n",
              "      <td>1.315642e+00</td>\n",
              "      <td>8.037239e-01</td>\n",
              "      <td>1.027196e+00</td>\n",
              "      <td>7.433413e-01</td>\n",
              "      <td>6.119264e-01</td>\n",
              "      <td>2.409522e-01</td>\n",
              "      <td>9.104512e-02</td>\n",
              "      <td>7.827995e-02</td>\n",
              "      <td>77.165000</td>\n",
              "      <td>0.000000</td>\n",
              "    </tr>\n",
              "    <tr>\n",
              "      <th>max</th>\n",
              "      <td>172792.000000</td>\n",
              "      <td>2.454930e+00</td>\n",
              "      <td>2.205773e+01</td>\n",
              "      <td>9.382558e+00</td>\n",
              "      <td>1.687534e+01</td>\n",
              "      <td>3.480167e+01</td>\n",
              "      <td>3.517346e+00</td>\n",
              "      <td>3.161220e+01</td>\n",
              "      <td>3.384781e+01</td>\n",
              "      <td>25691.160000</td>\n",
              "      <td>1.000000</td>\n",
              "    </tr>\n",
              "  </tbody>\n",
              "</table>\n",
              "</div>"
            ],
            "text/plain": [
              "                Time            V1            V2            V3            V4  \\\n",
              "count  284807.000000  2.848070e+05  2.848070e+05  2.848070e+05  2.848070e+05   \n",
              "mean    94813.859575  3.918649e-15  5.682686e-16 -8.761736e-15  2.811118e-15   \n",
              "std     47488.145955  1.958696e+00  1.651309e+00  1.516255e+00  1.415869e+00   \n",
              "min         0.000000 -5.640751e+01 -7.271573e+01 -4.832559e+01 -5.683171e+00   \n",
              "25%     54201.500000 -9.203734e-01 -5.985499e-01 -8.903648e-01 -8.486401e-01   \n",
              "50%     84692.000000  1.810880e-02  6.548556e-02  1.798463e-01 -1.984653e-02   \n",
              "75%    139320.500000  1.315642e+00  8.037239e-01  1.027196e+00  7.433413e-01   \n",
              "max    172792.000000  2.454930e+00  2.205773e+01  9.382558e+00  1.687534e+01   \n",
              "\n",
              "                 V5           V26           V27           V28         Amount  \\\n",
              "count  2.848070e+05  2.848070e+05  2.848070e+05  2.848070e+05  284807.000000   \n",
              "mean  -1.552103e-15  1.701640e-15 -3.662252e-16 -1.217809e-16      88.349619   \n",
              "std    1.380247e+00  4.822270e-01  4.036325e-01  3.300833e-01     250.120109   \n",
              "min   -1.137433e+02 -2.604551e+00 -2.256568e+01 -1.543008e+01       0.000000   \n",
              "25%   -6.915971e-01 -3.269839e-01 -7.083953e-02 -5.295979e-02       5.600000   \n",
              "50%   -5.433583e-02 -5.213911e-02  1.342146e-03  1.124383e-02      22.000000   \n",
              "75%    6.119264e-01  2.409522e-01  9.104512e-02  7.827995e-02      77.165000   \n",
              "max    3.480167e+01  3.517346e+00  3.161220e+01  3.384781e+01   25691.160000   \n",
              "\n",
              "               Class  \n",
              "count  284807.000000  \n",
              "mean        0.001727  \n",
              "std         0.041527  \n",
              "min         0.000000  \n",
              "25%         0.000000  \n",
              "50%         0.000000  \n",
              "75%         0.000000  \n",
              "max         1.000000  "
            ]
          },
          "execution_count": 38,
          "metadata": {},
          "output_type": "execute_result"
        }
      ]
    },
    {
      "cell_type": "code",
      "metadata": {
        "id": "jcCppnvw8FAO",
        "outputId": "f3785050-2850-415e-85d6-3f6708e2532c"
      },
      "source": [
        "# 데이터 label의 distribution을 확인해봅니다.\n",
        "raw_df.Class.value_counts()"
      ],
      "execution_count": null,
      "outputs": [
        {
          "data": {
            "text/plain": [
              "0    284315\n",
              "1       492\n",
              "Name: Class, dtype: int64"
            ]
          },
          "execution_count": 39,
          "metadata": {},
          "output_type": "execute_result"
        }
      ]
    },
    {
      "cell_type": "code",
      "metadata": {
        "id": "dDv2NXzo8Qxw"
      },
      "source": [
        "cleaned_df = raw_df.copy()\n",
        "# time column을 삭제합니다.\n",
        "cleaned_df.pop('Time')\n",
        "\n",
        "# amount feature은 범위가 매우 넓습니다. log-space로 변환합니다.\n",
        "eps=0.001\n",
        "cleaned_df['Log Ammount'] = np.log(cleaned_df.pop('Amount')+eps)"
      ],
      "execution_count": null,
      "outputs": []
    },
    {
      "cell_type": "code",
      "metadata": {
        "id": "kuKQWJY-8hUx"
      },
      "source": [
        "# 데이터를 train /test로 나눕니다.\n",
        "from sklearn.model_selection import train_test_split\n",
        "\n",
        "train_df, test_df = train_test_split(cleaned_df, test_size=0.3, random_state=42)"
      ],
      "execution_count": null,
      "outputs": []
    },
    {
      "cell_type": "code",
      "metadata": {
        "id": "rsGQQdR48ja9"
      },
      "source": [
        "# train/test데이터를 X, y로 나누고 numpy array로 변환합니다.\n",
        "y_train = np.array(train_df.pop('Class'))\n",
        "y_test = np.array(test_df.pop('Class'))\n",
        "\n",
        "X_train = np.array(train_df)\n",
        "X_test = np.array(test_df)"
      ],
      "execution_count": null,
      "outputs": []
    },
    {
      "cell_type": "code",
      "metadata": {
        "id": "i1ZAmJl28j5B"
      },
      "source": [
        "# scikit-learn의 StandardScaler를 사용하여 데이터를 표준화합니다.\n",
        "from sklearn.preprocessing import StandardScaler\n",
        "\n",
        "scaler = StandardScaler()\n",
        "X_train = scaler.fit_transform(X_train)\n",
        "X_test = scaler.transform(X_test)\n",
        "\n",
        "X_train = np.clip(X_train, -5, 5)\n",
        "X_test = np.clip(X_test, -5, 5)"
      ],
      "execution_count": null,
      "outputs": []
    },
    {
      "cell_type": "markdown",
      "metadata": {
        "id": "80ywL82nwKfO"
      },
      "source": [
        "### **내용:**\n",
        "\n",
        "1. 현재까지 실습에서 다룬 classifier (CategoricalNB, DecisionTreeClassifier, LogisticRegression, MLPClassifier, KNeighborsClassifier) 중 하나를 선택하여 위의 train 데이터에 훈련을 시킵니다. 모델에 따라 모델 파라미터는 자유롭게 설정이 가능합니다. (random_state=42로 고정) (3점)\n",
        "\n",
        "2. test set에 대하여 confusion matrix를 출력하고, 이를 시각화합니다.(1점)\n",
        "\n",
        "3. Precision-Recall curve를 시각화합니다.(1점)\n",
        "\n",
        "4. ROC curve 또한 시각화합니다.(1점)\n",
        "\n",
        "5. AUC를 출력합니다.(1점)\n",
        "\n",
        "6. 마지막으로, classification report를 출력합니다.(1점)\n",
        "\n",
        "7. 위의 결과를 바탕으로 모델이 불균형한 데이터의 관점으로 성능을 평가합니다. 정확도, precision, recall, f1 score, auc에 대한 분석과 더불어 precision-recall curve, roc curve에 대하여도 서술하여야 합니다.(2점)"
      ]
    },
    {
      "cell_type": "code",
      "metadata": {
        "id": "TFCj0rzT0c-k",
        "outputId": "564afbc6-97de-4165-f176-28dca4792544"
      },
      "source": [
        "from sklearn.neural_network import MLPClassifier\n",
        "\n",
        "clf = MLPClassifier(random_state=42, max_iter=1000, learning_rate_init=0.01)\n",
        "clf.fit(X_train, y_train)"
      ],
      "execution_count": null,
      "outputs": [
        {
          "data": {
            "text/plain": [
              "MLPClassifier(learning_rate_init=0.01, max_iter=1000, random_state=42)"
            ]
          },
          "execution_count": 45,
          "metadata": {},
          "output_type": "execute_result"
        }
      ]
    },
    {
      "cell_type": "code",
      "metadata": {
        "id": "jrmuxrFFcYBt"
      },
      "source": [
        "y_pred = clf.predict(X_test)\n",
        "y_prob = clf.predict_proba(X_test)[:, 1]"
      ],
      "execution_count": null,
      "outputs": []
    },
    {
      "cell_type": "code",
      "metadata": {
        "id": "g-e6VN4scYBt",
        "outputId": "fe3ff225-46a7-4cfe-a68a-5f89ed82e5c0"
      },
      "source": [
        "from sklearn.metrics import plot_confusion_matrix\n",
        "\n",
        "plot_confusion_matrix(clf, X_test, y_test, normalize='all')"
      ],
      "execution_count": null,
      "outputs": [
        {
          "data": {
            "text/plain": [
              "<sklearn.metrics._plot.confusion_matrix.ConfusionMatrixDisplay at 0x249ad3ec8e0>"
            ]
          },
          "execution_count": 47,
          "metadata": {},
          "output_type": "execute_result"
        },
        {
          "data": {
            "image/png": "[encoded data removed]",
            "text/plain": [
              "<Figure size 432x288 with 2 Axes>"
            ]
          },
          "metadata": {
            "needs_background": "light"
          },
          "output_type": "display_data"
        }
      ]
    },
    {
      "cell_type": "code",
      "metadata": {
        "id": "Ig2o6_OHcYBt",
        "outputId": "5a77f292-e9e4-4d16-f16f-42ceecb48b56"
      },
      "source": [
        "plot_cm(y_test, y_pred)"
      ],
      "execution_count": null,
      "outputs": [
        {
          "data": {
            "image/png": "[encoded data removed]",
            "text/plain": [
              "<Figure size 360x360 with 2 Axes>"
            ]
          },
          "metadata": {
            "needs_background": "light"
          },
          "output_type": "display_data"
        }
      ]
    },
    {
      "cell_type": "code",
      "metadata": {
        "id": "Xv0DAZ7-cYBt",
        "outputId": "b495b25f-5cbf-41fc-e95f-797c56294558"
      },
      "source": [
        "plot_precision_recall_curve(clf, X_test, y_test)"
      ],
      "execution_count": null,
      "outputs": [
        {
          "data": {
            "text/plain": [
              "<sklearn.metrics._plot.precision_recall_curve.PrecisionRecallDisplay at 0x249aa8b7be0>"
            ]
          },
          "execution_count": 69,
          "metadata": {},
          "output_type": "execute_result"
        },
        {
          "data": {
            "image/png": "[encoded data removed]",
            "text/plain": [
              "<Figure size 432x288 with 1 Axes>"
            ]
          },
          "metadata": {
            "needs_background": "light"
          },
          "output_type": "display_data"
        }
      ]
    },
    {
      "cell_type": "code",
      "metadata": {
        "id": "-AxHaiiycYBt",
        "outputId": "4815411b-a09f-464a-a98f-e3896d07447f"
      },
      "source": [
        "plot_roc('Baseline classifieir', y_test, y_prob)"
      ],
      "execution_count": null,
      "outputs": [
        {
          "data": {
            "image/png": "[encoded data removed]",
            "text/plain": [
              "<Figure size 432x288 with 1 Axes>"
            ]
          },
          "metadata": {
            "needs_background": "light"
          },
          "output_type": "display_data"
        }
      ]
    },
    {
      "cell_type": "code",
      "metadata": {
        "id": "PVHWi48QcYBt",
        "outputId": "c36dd5ad-b846-4b29-9a94-7de980d09e4b"
      },
      "source": [
        "print(\"AUC:\",roc_auc_score(y_test, y_prob))"
      ],
      "execution_count": null,
      "outputs": [
        {
          "name": "stdout",
          "output_type": "stream",
          "text": [
            "AUC: 0.9740231475384062\n"
          ]
        }
      ]
    },
    {
      "cell_type": "code",
      "metadata": {
        "id": "R0G_BvLBcYBu",
        "outputId": "51ac4544-987e-4044-af4a-81529bb20710"
      },
      "source": [
        "print(classification_report(y_test, y_pred))"
      ],
      "execution_count": null,
      "outputs": [
        {
          "name": "stdout",
          "output_type": "stream",
          "text": [
            "              precision    recall  f1-score   support\n",
            "\n",
            "           0       1.00      1.00      1.00     85307\n",
            "           1       0.85      0.67      0.75       136\n",
            "\n",
            "    accuracy                           1.00     85443\n",
            "   macro avg       0.92      0.83      0.87     85443\n",
            "weighted avg       1.00      1.00      1.00     85443\n",
            "\n"
          ]
        }
      ]
    },
    {
      "cell_type": "code",
      "metadata": {
        "id": "ZkfpCDG2cYBu",
        "outputId": "b4a3a850-b4b0-4409-a0da-c709db6004a0"
      },
      "source": [
        "print(\"Accuracy:\",accuracy_score(y_test, y_pred))\n",
        "print(\"Recall:\",recall_score(y_test, y_pred))\n",
        "print(\"Precision:\",precision_score(y_test, y_pred))\n",
        "print(\"F1 score:\",f1_score(y_test, y_pred))"
      ],
      "execution_count": null,
      "outputs": [
        {
          "name": "stdout",
          "output_type": "stream",
          "text": [
            "Accuracy: 0.9992860737567735\n",
            "Recall: 0.6691176470588235\n",
            "Precision: 0.8504672897196262\n",
            "F1 score: 0.7489711934156379\n"
          ]
        }
      ]
    },
    {
      "cell_type": "code",
      "metadata": {
        "id": "ljwx2ZVKcYBu"
      },
      "source": [
        "'''\n",
        "데이터는 라벨이 0인 데이터가 라벨이 1인 데이터보다 압도적으로 많은데\n",
        "라벨이 0인 데이터를 0으로 예측하는 성능이 굉장히 좋아서 TN이 압도적으로 높다.\n",
        "따라서 정확하게 분류된 instance의 비율을 판단하는 정확도는 높다.\n",
        "그러나 라벨이 1인 것을 올바르게 찾는 성능인 recall은 낮다.\n",
        "그리고 negative sample을 positive sample로 예측하지 않는 성능인 precision은 recall보다 높다.\n",
        "F1 score은 recall과 precision의 조화평균으로 recall이 낮으므로 fl score값이 아주 높게 나오지는 않았다.\n",
        "결국 이 모델은 라벨이 0인 데이터를 0으로 분류하는 성능만이 압도적으로 좋고, 라벨이 0인 데이터도 압도적으로 수가 많기 때문에\n",
        "recall, precision, f1 score에 비해서 accuracy가 지나치게 높게 나온 것을 알 수 있다.\n",
        "\n",
        "ROC 커브의 경우 False Positive Rate이 낮게 유지되면서 recall이 높은 분류기일수록 왼쪽 위에 가까운데,\n",
        "이 모델은 라벨 0인 데이터를 잘 분류해내고 그 수도 많기 때문에,\n",
        "전체 음성 샘플 중에 거짓 양성으로 잘못 분류하는 False Positive Rate이 굉장히 낮다.\n",
        "그러므로 ROC 커브가 왼쪽 위에 가깝고 그에 따른 AUC가 1에 가까운 굉장히 좋은 모델인 결과가 나온다.\n",
        "\n",
        "ROC 커브로는 아주 왼쪽 위에 가까운 분류기처럼 보이지만  \n",
        "데이터가 불균형한 경우 주로 사용하는 precision-recall curve를 보면 곡선이 오른쪽 위에 아주 근접하지는 않다.\n",
        "그러나 전체적으로 오른쪽 위에 치우쳐 있기는 하다.(성능이 좋을수록 오른쪽 위에 치우침)\n",
        "'''"
      ],
      "execution_count": null,
      "outputs": []
    }
  ]
}