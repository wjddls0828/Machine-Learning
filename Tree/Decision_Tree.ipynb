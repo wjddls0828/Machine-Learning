{
  "nbformat": 4,
  "nbformat_minor": 0,
  "metadata": {
    "colab": {
      "name": "Decision_Tree.ipynb",
      "provenance": [],
      "collapsed_sections": []
    },
    "kernelspec": {
      "name": "python3",
      "display_name": "Python 3"
    },
    "language_info": {
      "name": "python"
    }
  },
  "cells": [
    {
      "cell_type": "code",
      "metadata": {
        "id": "PsJwMjTdE5g_"
      },
      "source": [
        "from sklearn.datasets import load_breast_cancer\n",
        "from sklearn.model_selection import train_test_split\n",
        "\n",
        "cancer = load_breast_cancer()\n",
        "\n",
        "x_train, x_test, y_train, y_test = train_test_split(cancer.data,\n",
        "\t\t\t\t\t\t\t\t\t\t\t\t\tcancer.target,\n",
        "\t\t\t\t\t\t\t\t\t\t\t\t\ttest_size=0.3,\n",
        "\t\t\t\t\t\t\t\t\t\t\t\t\trandom_state=12)"
      ],
      "execution_count": 1,
      "outputs": []
    },
    {
      "cell_type": "code",
      "metadata": {
        "id": "TTuopK5sE6HP"
      },
      "source": [
        "# DecisionTreeClassifier 임포트\n",
        "from sklearn.tree import DecisionTreeClassifier\n",
        "\n",
        "# DecisionTreeClassifier 객체 생성\n",
        "dt = DecisionTreeClassifier(random_state=12)"
      ],
      "execution_count": 2,
      "outputs": []
    },
    {
      "cell_type": "code",
      "metadata": {
        "colab": {
          "base_uri": "https://localhost:8080/"
        },
        "id": "485LB2F6E-wn",
        "outputId": "a17f8181-265c-4fde-bc4e-331dcb26e790"
      },
      "source": [
        "# fit 함수로 Decision Tree 모델 학습\n",
        "dt.fit(x_train,y_train)"
      ],
      "execution_count": 3,
      "outputs": [
        {
          "output_type": "execute_result",
          "data": {
            "text/plain": [
              "DecisionTreeClassifier(ccp_alpha=0.0, class_weight=None, criterion='gini',\n",
              "                       max_depth=None, max_features=None, max_leaf_nodes=None,\n",
              "                       min_impurity_decrease=0.0, min_impurity_split=None,\n",
              "                       min_samples_leaf=1, min_samples_split=2,\n",
              "                       min_weight_fraction_leaf=0.0, presort='deprecated',\n",
              "                       random_state=12, splitter='best')"
            ]
          },
          "metadata": {},
          "execution_count": 3
        }
      ]
    },
    {
      "cell_type": "code",
      "metadata": {
        "colab": {
          "base_uri": "https://localhost:8080/"
        },
        "id": "vE0pMnXBE4vp",
        "outputId": "2c89d042-5ada-47f5-d941-70585a4c8426"
      },
      "source": [
        "# 학습 된 Tree의 Depth 확인 - get_depth() 함수 사용\n",
        "print(\"Depth of tree: \", dt.get_depth())\n",
        "# 학습 된 Tree의 리프 노드 개수 확인 - get_n_leaves() 함수 사용\n",
        "print(\"Number of leaves: \", dt.get_n_leaves())"
      ],
      "execution_count": 4,
      "outputs": [
        {
          "output_type": "stream",
          "name": "stdout",
          "text": [
            "Depth of tree:  6\n",
            "Number of leaves:  13\n"
          ]
        }
      ]
    },
    {
      "cell_type": "code",
      "metadata": {
        "colab": {
          "base_uri": "https://localhost:8080/"
        },
        "id": "wfVpSaiYE9X3",
        "outputId": "7b9b1a5e-e205-4481-d941-8d5b7c8f13da"
      },
      "source": [
        "# predict 함수로 테스트 데이터 세트 예측\n",
        "y_pred = dt.predict(x_test)\n",
        "print(y_pred[0:3])"
      ],
      "execution_count": 5,
      "outputs": [
        {
          "output_type": "stream",
          "name": "stdout",
          "text": [
            "[0 1 1]\n"
          ]
        }
      ]
    },
    {
      "cell_type": "code",
      "metadata": {
        "id": "Q5IS28qiFFiC"
      },
      "source": [
        ""
      ],
      "execution_count": null,
      "outputs": []
    }
  ]
}