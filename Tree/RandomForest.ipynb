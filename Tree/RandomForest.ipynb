{
  "nbformat": 4,
  "nbformat_minor": 0,
  "metadata": {
    "colab": {
      "name": "RandomForest.ipynb",
      "provenance": []
    },
    "kernelspec": {
      "name": "python3",
      "display_name": "Python 3"
    },
    "language_info": {
      "name": "python"
    }
  },
  "cells": [
    {
      "cell_type": "code",
      "metadata": {
        "id": "jrxRDDJaJYaW"
      },
      "source": [
        "from sklearn.datasets import load_breast_cancer\n",
        "from sklearn.model_selection import train_test_split\n",
        "from sklearn.metrics import accuracy_score\n",
        "\n",
        "cancer = load_breast_cancer()\n",
        "x_train, x_test, y_train, y_test = train_test_split(cancer.data,\n",
        "\t\t\t\t\t\t\t\t\t\t\t\t\tcancer.target,\n",
        "\t\t\t\t\t\t\t\t\t\t\t\t\ttest_size=0.3,\n",
        "\t\t\t\t\t\t\t\t\t\t\t\t\trandom_state=12)\n",
        "\n",
        "# RandomForestClassifier 임포트\n",
        "from sklearn.ensemble import RandomForestClassifier"
      ],
      "execution_count": 1,
      "outputs": []
    },
    {
      "cell_type": "code",
      "metadata": {
        "id": "-j7EYMJqJZGS"
      },
      "source": [
        "# RandomForestClassifier 객체 생성\n",
        "rf = RandomForestClassifier(random_state=12)"
      ],
      "execution_count": 2,
      "outputs": []
    },
    {
      "cell_type": "code",
      "metadata": {
        "id": "FCNrXt8hJdjI"
      },
      "source": [
        "# RandomForestClassifier 객체 학습 및 검증\n",
        "rf.fit(x_train, y_train)\n",
        "pred = rf.predict(x_test)"
      ],
      "execution_count": 3,
      "outputs": []
    },
    {
      "cell_type": "code",
      "metadata": {
        "colab": {
          "base_uri": "https://localhost:8080/"
        },
        "id": "QHLZNzPjJUnt",
        "outputId": "a165819e-6e10-40c6-b264-7515db1eb673"
      },
      "source": [
        "print('Accuracy: {0:.3f}'.format(accuracy_score(y_test, pred)))"
      ],
      "execution_count": 4,
      "outputs": [
        {
          "output_type": "stream",
          "name": "stdout",
          "text": [
            "Accuracy: 0.924\n"
          ]
        }
      ]
    }
  ]
}