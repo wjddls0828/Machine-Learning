{
  "nbformat": 4,
  "nbformat_minor": 0,
  "metadata": {
    "colab": {
      "name": "DT_hyperparameter.ipynb",
      "provenance": [],
      "collapsed_sections": []
    },
    "kernelspec": {
      "name": "python3",
      "display_name": "Python 3"
    },
    "language_info": {
      "name": "python"
    }
  },
  "cells": [
    {
      "cell_type": "code",
      "metadata": {
        "id": "Ug10czoPGD3t"
      },
      "source": [
        "from sklearn.datasets import load_breast_cancer\n",
        "from sklearn.model_selection import train_test_split\n",
        "from sklearn.tree import DecisionTreeClassifier\n",
        "cancer = load_breast_cancer()\n",
        "\n",
        "x_train, x_test, y_train, y_test = train_test_split(cancer.data,\n",
        "\t\t\t\t\t\t\t\t\t\t\t\t\tcancer.target,\n",
        "\t\t\t\t\t\t\t\t\t\t\t\t\ttest_size=0.3,\n",
        "\t\t\t\t\t\t\t\t\t\t\t\t\trandom_state=12)"
      ],
      "execution_count": 1,
      "outputs": []
    },
    {
      "cell_type": "code",
      "metadata": {
        "colab": {
          "base_uri": "https://localhost:8080/"
        },
        "id": "ifUfcCnnGEtx",
        "outputId": "fa9c6d24-9713-4df4-b5f4-63f7fe26b582"
      },
      "source": [
        "# Hyperparameter 설정 없이 학습\n",
        "dt = DecisionTreeClassifier(random_state=12)\n",
        "dt.fit(x_train, y_train)"
      ],
      "execution_count": 2,
      "outputs": [
        {
          "output_type": "execute_result",
          "data": {
            "text/plain": [
              "DecisionTreeClassifier(ccp_alpha=0.0, class_weight=None, criterion='gini',\n",
              "                       max_depth=None, max_features=None, max_leaf_nodes=None,\n",
              "                       min_impurity_decrease=0.0, min_impurity_split=None,\n",
              "                       min_samples_leaf=1, min_samples_split=2,\n",
              "                       min_weight_fraction_leaf=0.0, presort='deprecated',\n",
              "                       random_state=12, splitter='best')"
            ]
          },
          "metadata": {},
          "execution_count": 2
        }
      ]
    },
    {
      "cell_type": "code",
      "metadata": {
        "colab": {
          "base_uri": "https://localhost:8080/"
        },
        "id": "mCvcvbBbGEwl",
        "outputId": "2b010103-0d2c-410d-8075-ac8899c2655c"
      },
      "source": [
        "# max depth와 leaf 노드 개수 확인, get_depth(), get_n_leaves() 함수 사용\n",
        "print(\"Max Depth: \", dt.get_depth())\n",
        "print(\"Number of leaves: \", dt.get_n_leaves())"
      ],
      "execution_count": 3,
      "outputs": [
        {
          "output_type": "stream",
          "name": "stdout",
          "text": [
            "Max Depth:  6\n",
            "Number of leaves:  13\n"
          ]
        }
      ]
    },
    {
      "cell_type": "code",
      "metadata": {
        "colab": {
          "base_uri": "https://localhost:8080/"
        },
        "id": "octPDWjoGHgI",
        "outputId": "0f198127-205c-4df6-938e-b67dcc299a33"
      },
      "source": [
        "# max_depth를 3으로 설정 후 학습\n",
        "dt = DecisionTreeClassifier(max_depth = 3, random_state=12)\n",
        "dt.fit(x_train, y_train)"
      ],
      "execution_count": 4,
      "outputs": [
        {
          "output_type": "execute_result",
          "data": {
            "text/plain": [
              "DecisionTreeClassifier(ccp_alpha=0.0, class_weight=None, criterion='gini',\n",
              "                       max_depth=3, max_features=None, max_leaf_nodes=None,\n",
              "                       min_impurity_decrease=0.0, min_impurity_split=None,\n",
              "                       min_samples_leaf=1, min_samples_split=2,\n",
              "                       min_weight_fraction_leaf=0.0, presort='deprecated',\n",
              "                       random_state=12, splitter='best')"
            ]
          },
          "metadata": {},
          "execution_count": 4
        }
      ]
    },
    {
      "cell_type": "code",
      "metadata": {
        "colab": {
          "base_uri": "https://localhost:8080/"
        },
        "id": "9JbuE53FGHio",
        "outputId": "63d23144-99ff-4f75-b060-c50bf967b93a"
      },
      "source": [
        "# max depth와 leaf 노드 개수 확인, get_depth(), get_n_leaves() 함수 사용\n",
        "print(\"Max Depth: \", dt.get_depth())\n",
        "print(\"Number of leaves: \", dt.get_n_leaves())\n"
      ],
      "execution_count": 5,
      "outputs": [
        {
          "output_type": "stream",
          "name": "stdout",
          "text": [
            "Max Depth:  3\n",
            "Number of leaves:  8\n"
          ]
        }
      ]
    },
    {
      "cell_type": "code",
      "metadata": {
        "colab": {
          "base_uri": "https://localhost:8080/"
        },
        "id": "9E5Nriw4F_4v",
        "outputId": "6b50b2f5-442d-4e5a-c535-15cdfc27bade"
      },
      "source": [
        "# max_leaf_nodes를 9으로 설정 후 학습\n",
        "dt = DecisionTreeClassifier(max_leaf_nodes = 9, random_state=12)\n",
        "dt.fit(x_train, y_train)\n",
        "\n",
        "# max depth와 leaf 노드 개수 확인, get_depth(), get_n_leaves() 함수 사용\n",
        "print(\"Max Depth: \", dt.get_depth())\n",
        "print(\"Number of leaves: \", dt.get_n_leaves())"
      ],
      "execution_count": 6,
      "outputs": [
        {
          "output_type": "stream",
          "name": "stdout",
          "text": [
            "Max Depth:  4\n",
            "Number of leaves:  9\n"
          ]
        }
      ]
    }
  ]
}