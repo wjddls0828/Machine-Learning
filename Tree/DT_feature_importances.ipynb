{
  "nbformat": 4,
  "nbformat_minor": 0,
  "metadata": {
    "colab": {
      "name": "DT_feature_importances.ipynb",
      "provenance": [],
      "collapsed_sections": []
    },
    "kernelspec": {
      "name": "python3",
      "display_name": "Python 3"
    },
    "language_info": {
      "name": "python"
    }
  },
  "cells": [
    {
      "cell_type": "code",
      "metadata": {
        "colab": {
          "base_uri": "https://localhost:8080/"
        },
        "id": "jPhrLhzqFrRQ",
        "outputId": "8fbb61e5-6c6b-47e4-a5b4-31fb6f81b8da"
      },
      "source": [
        "from sklearn.datasets import load_breast_cancer\n",
        "from sklearn.model_selection import train_test_split\n",
        "from sklearn.tree import DecisionTreeClassifier\n",
        "cancer = load_breast_cancer()\n",
        "\n",
        "x_train, x_test, y_train, y_test = train_test_split(cancer.data,\n",
        "\t\t\t\t\t\t\t\t\t\t\t\t\tcancer.target,\n",
        "\t\t\t\t\t\t\t\t\t\t\t\t\ttest_size=0.3,\n",
        "\t\t\t\t\t\t\t\t\t\t\t\t\trandom_state=12)\n",
        "\n",
        "dt = DecisionTreeClassifier(random_state=12)\n",
        "dt.fit(x_train, y_train)\n",
        "\n",
        "# 학습 된 모델의 Feature Importance 확인\n",
        "for i in range(0,len(cancer.feature_names)):\n",
        "  print('{0}: {1:.3f}'.format(cancer.feature_names[i], dt.feature_importances_[i]))"
      ],
      "execution_count": 1,
      "outputs": [
        {
          "output_type": "stream",
          "name": "stdout",
          "text": [
            "mean radius: 0.000\n",
            "mean texture: 0.000\n",
            "mean perimeter: 0.000\n",
            "mean area: 0.014\n",
            "mean smoothness: 0.007\n",
            "mean compactness: 0.000\n",
            "mean concavity: 0.000\n",
            "mean concave points: 0.041\n",
            "mean symmetry: 0.000\n",
            "mean fractal dimension: 0.000\n",
            "radius error: 0.000\n",
            "texture error: 0.000\n",
            "perimeter error: 0.000\n",
            "area error: 0.009\n",
            "smoothness error: 0.000\n",
            "compactness error: 0.000\n",
            "concavity error: 0.000\n",
            "concave points error: 0.024\n",
            "symmetry error: 0.000\n",
            "fractal dimension error: 0.000\n",
            "worst radius: 0.011\n",
            "worst texture: 0.024\n",
            "worst perimeter: 0.777\n",
            "worst area: 0.011\n",
            "worst smoothness: 0.011\n",
            "worst compactness: 0.000\n",
            "worst concavity: 0.011\n",
            "worst concave points: 0.061\n",
            "worst symmetry: 0.000\n",
            "worst fractal dimension: 0.000\n"
          ]
        }
      ]
    },
    {
      "cell_type": "code",
      "metadata": {
        "id": "A-oRfe2NFsDz"
      },
      "source": [
        ""
      ],
      "execution_count": null,
      "outputs": []
    }
  ]
}