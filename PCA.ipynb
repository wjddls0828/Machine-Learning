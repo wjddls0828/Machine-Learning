{
  "nbformat": 4,
  "nbformat_minor": 0,
  "metadata": {
    "colab": {
      "name": "PCA.ipynb",
      "provenance": [],
      "collapsed_sections": []
    },
    "kernelspec": {
      "name": "python3",
      "display_name": "Python 3"
    },
    "language_info": {
      "name": "python"
    }
  },
  "cells": [
    {
      "cell_type": "code",
      "metadata": {
        "colab": {
          "base_uri": "https://localhost:8080/"
        },
        "id": "BzxZjYXaJs01",
        "outputId": "e42688a1-b057-4761-ba6d-807d7eacede0"
      },
      "source": [
        "from sklearn.datasets import load_iris\n",
        "import pandas as pd\n",
        "import matplotlib.pyplot as plt\n",
        "import seaborn as sns\n",
        "\n",
        "#iris 데이터셋 로드와 Dict 포맷의 키 확인하기\n",
        "data = load_iris()\n",
        "print(\"iris dataset format and keys\\n\",data.keys())"
      ],
      "execution_count": 1,
      "outputs": [
        {
          "output_type": "stream",
          "name": "stdout",
          "text": [
            "iris dataset format and keys\n",
            " dict_keys(['data', 'target', 'target_names', 'DESCR', 'feature_names', 'filename'])\n"
          ]
        }
      ]
    },
    {
      "cell_type": "code",
      "metadata": {
        "colab": {
          "base_uri": "https://localhost:8080/"
        },
        "id": "mOBx_NQoJtjl",
        "outputId": "79b73c35-2407-4c85-f3ba-ba63271c6292"
      },
      "source": [
        "#feature name과 관측값 가져오기\n",
        "iris_data = data['data']\n",
        "iris_cols = data['feature_names']\n",
        "print(\"iris dataset columns\\n\",iris_cols)"
      ],
      "execution_count": 2,
      "outputs": [
        {
          "output_type": "stream",
          "name": "stdout",
          "text": [
            "iris dataset columns\n",
            " ['sepal length (cm)', 'sepal width (cm)', 'petal length (cm)', 'petal width (cm)']\n"
          ]
        }
      ]
    },
    {
      "cell_type": "code",
      "metadata": {
        "id": "mowzLxckJtmq"
      },
      "source": [
        "#column name을 재설정\n",
        "iris_cols=['sep_len', 'sep_wt', 'pet_len', 'pet_wt']"
      ],
      "execution_count": 3,
      "outputs": []
    },
    {
      "cell_type": "code",
      "metadata": {
        "colab": {
          "base_uri": "https://localhost:8080/"
        },
        "id": "4KHStjV4KDxT",
        "outputId": "08a7c86a-5b18-46db-89d6-d1bfdaf40869"
      },
      "source": [
        "#데이터프레임 생성\n",
        "iris_df = pd.DataFrame(data= iris_data, columns= iris_cols)\n",
        "iris_df['target'] = data['target']\n",
        "print(iris_df.head(5))"
      ],
      "execution_count": 4,
      "outputs": [
        {
          "output_type": "stream",
          "name": "stdout",
          "text": [
            "   sep_len  sep_wt  pet_len  pet_wt  target\n",
            "0      5.1     3.5      1.4     0.2       0\n",
            "1      4.9     3.0      1.4     0.2       0\n",
            "2      4.7     3.2      1.3     0.2       0\n",
            "3      4.6     3.1      1.5     0.2       0\n",
            "4      5.0     3.6      1.4     0.2       0\n"
          ]
        }
      ]
    },
    {
      "cell_type": "code",
      "metadata": {
        "colab": {
          "base_uri": "https://localhost:8080/"
        },
        "id": "-h8kA70CKFSg",
        "outputId": "313b3854-a9a2-41c7-c118-2b0be7cdbd78"
      },
      "source": [
        "#품종별 데이터 카운팅 체크\n",
        "target_cnt_df = iris_df.groupby(by='target').count()\n",
        "print(target_cnt_df)"
      ],
      "execution_count": 5,
      "outputs": [
        {
          "output_type": "stream",
          "name": "stdout",
          "text": [
            "        sep_len  sep_wt  pet_len  pet_wt\n",
            "target                                  \n",
            "0            50      50       50      50\n",
            "1            50      50       50      50\n",
            "2            50      50       50      50\n"
          ]
        }
      ]
    },
    {
      "cell_type": "code",
      "metadata": {
        "colab": {
          "base_uri": "https://localhost:8080/"
        },
        "id": "hNoVC3epKJ1Q",
        "outputId": "2fedd3d5-aa65-43c0-9631-ee7efade0c06"
      },
      "source": [
        "#PCA 수행\n",
        "#표준화(스케일링)\n",
        "from sklearn.preprocessing import StandardScaler\n",
        "\n",
        "X_train = iris_df.iloc[:, :4]\n",
        "iris_z_score = StandardScaler().fit_transform(X_train) \n",
        "\n",
        "iris_z_df = pd.DataFrame(data= iris_z_score, columns= iris_cols)\n",
        "print(iris_z_df.head(5))"
      ],
      "execution_count": 6,
      "outputs": [
        {
          "output_type": "stream",
          "name": "stdout",
          "text": [
            "    sep_len    sep_wt   pet_len    pet_wt\n",
            "0 -0.900681  1.019004 -1.340227 -1.315444\n",
            "1 -1.143017 -0.131979 -1.340227 -1.315444\n",
            "2 -1.385353  0.328414 -1.397064 -1.315444\n",
            "3 -1.506521  0.098217 -1.283389 -1.315444\n",
            "4 -1.021849  1.249201 -1.340227 -1.315444\n"
          ]
        }
      ]
    },
    {
      "cell_type": "code",
      "metadata": {
        "colab": {
          "base_uri": "https://localhost:8080/"
        },
        "id": "xOgXMXIRKJ4U",
        "outputId": "72474770-516b-4a5e-ea5e-7a8d55e8a2ec"
      },
      "source": [
        "#주성분 분석(Feature 4 --> 2 axes)\n",
        "from sklearn.decomposition import PCA\n",
        "pca = PCA(n_components=2)\n",
        "\n",
        "pca.fit(iris_z_df)"
      ],
      "execution_count": 7,
      "outputs": [
        {
          "output_type": "execute_result",
          "data": {
            "text/plain": [
              "PCA(copy=True, iterated_power='auto', n_components=2, random_state=None,\n",
              "    svd_solver='auto', tol=0.0, whiten=False)"
            ]
          },
          "metadata": {},
          "execution_count": 7
        }
      ]
    },
    {
      "cell_type": "code",
      "metadata": {
        "colab": {
          "base_uri": "https://localhost:8080/"
        },
        "id": "r7XalT_EKSbU",
        "outputId": "cd621230-6fbc-43fc-edf3-7008c3ae4524"
      },
      "source": [
        "#주성분 찾기 : 고유벡터\n",
        "print('PCA Shape:\\n', pca.components_.shape)\n",
        "print('PCA eigenvectors:\\n',pca.components_)\n",
        "\n",
        "#고유벡터에 데이터를 투영시키는 과정이 transform이다.\n",
        "X_pca = pca.transform(iris_z_df)\n",
        "print('PCA Projection result(shape)\\n',X_pca.shape)"
      ],
      "execution_count": 8,
      "outputs": [
        {
          "output_type": "stream",
          "name": "stdout",
          "text": [
            "PCA Shape:\n",
            " (2, 4)\n",
            "PCA eigenvectors:\n",
            " [[ 0.52106591 -0.26934744  0.5804131   0.56485654]\n",
            " [ 0.37741762  0.92329566  0.02449161  0.06694199]]\n",
            "PCA Projection result(shape)\n",
            " (150, 2)\n"
          ]
        }
      ]
    },
    {
      "cell_type": "code",
      "metadata": {
        "colab": {
          "base_uri": "https://localhost:8080/"
        },
        "id": "A5NtAM8-KSs3",
        "outputId": "7c7f52ad-9113-4399-9f6a-758fe647ded5"
      },
      "source": [
        "#각 주성분이 분산을 얼마나 잘 설명하는지를 나타냄\n",
        "import numpy as np\n",
        "print('variance :\\n',pca.explained_variance_ratio_)\n",
        "print('total variance :\\n', np.sum(pca.explained_variance_ratio_))\n",
        "print('\\n')"
      ],
      "execution_count": 9,
      "outputs": [
        {
          "output_type": "stream",
          "name": "stdout",
          "text": [
            "variance :\n",
            " [0.72962445 0.22850762]\n",
            "total variance :\n",
            " 0.9581320720000165\n",
            "\n",
            "\n"
          ]
        }
      ]
    },
    {
      "cell_type": "code",
      "metadata": {
        "colab": {
          "base_uri": "https://localhost:8080/",
          "height": 490
        },
        "id": "gr2gSXacJo7R",
        "outputId": "a6162941-10fd-48ca-bee2-81e5316aa857"
      },
      "source": [
        "#projection 된 결과를 데이터프레임으로 구성\n",
        "pca_cols = ['pca_com_1', 'pca_com_2']\n",
        "pca_df = pd.DataFrame(data= X_pca, columns= pca_cols)\n",
        "pca_df['target'] = data['target']\n",
        "print(pca_df.head(5))\n",
        "\n",
        "#주성분 분석 결과 시각화\n",
        "fig, ax = plt.subplots(ncols=2)\n",
        "\n",
        "sns.scatterplot(iris_df['sep_len'], iris_df['sep_wt'], \n",
        "                hue=iris_df['target'], ax=ax[0])\n",
        "sns.scatterplot(pca_df['pca_com_1'], pca_df['pca_com_2'], \n",
        "                hue=pca_df['target'], ax=ax[1])\n",
        "plt.show()\n"
      ],
      "execution_count": 10,
      "outputs": [
        {
          "output_type": "stream",
          "name": "stdout",
          "text": [
            "   pca_com_1  pca_com_2  target\n",
            "0  -2.264703   0.480027       0\n",
            "1  -2.080961  -0.674134       0\n",
            "2  -2.364229  -0.341908       0\n",
            "3  -2.299384  -0.597395       0\n",
            "4  -2.389842   0.646835       0\n"
          ]
        },
        {
          "output_type": "stream",
          "name": "stderr",
          "text": [
            "/usr/local/lib/python3.7/dist-packages/seaborn/_decorators.py:43: FutureWarning: Pass the following variables as keyword args: x, y. From version 0.12, the only valid positional argument will be `data`, and passing other arguments without an explicit keyword will result in an error or misinterpretation.\n",
            "  FutureWarning\n",
            "/usr/local/lib/python3.7/dist-packages/seaborn/_decorators.py:43: FutureWarning: Pass the following variables as keyword args: x, y. From version 0.12, the only valid positional argument will be `data`, and passing other arguments without an explicit keyword will result in an error or misinterpretation.\n",
            "  FutureWarning\n"
          ]
        },
        {
          "output_type": "display_data",
          "data": {
            "image/png": "[encoded data removed]",
            "text/plain": [
              "<Figure size 432x288 with 2 Axes>"
            ]
          },
          "metadata": {
            "needs_background": "light"
          }
        }
      ]
    }
  ]
}