{
  "nbformat": 4,
  "nbformat_minor": 0,
  "metadata": {
    "colab": {
      "name": "preprocess_scaling.ipynb",
      "provenance": [],
      "collapsed_sections": []
    },
    "kernelspec": {
      "name": "python3",
      "display_name": "Python 3"
    },
    "language_info": {
      "name": "python"
    }
  },
  "cells": [
    {
      "cell_type": "code",
      "metadata": {
        "id": "ydea5LmWGuyo"
      },
      "source": [
        "# 필요한 라이브러리 로딩\n",
        "import seaborn as sns\n",
        "import pandas as pd\n",
        "import numpy as np\n",
        "\n",
        "# StandardScaler 로딩\n",
        "from sklearn.preprocessing import StandardScaler\n",
        "\n",
        "# URL 통해서 캐글의 자전거 대여 수요 데이터셋 다운로드\n",
        "url = 'https://codepresso-online-platform-public.s3.ap-northeast-2.amazonaws.com/learning-resourse/python-machine-learning-20210326/bike-demand.csv'\n",
        "df_bike = pd.read_csv(url)"
      ],
      "execution_count": 1,
      "outputs": []
    },
    {
      "cell_type": "code",
      "metadata": {
        "colab": {
          "base_uri": "https://localhost:8080/"
        },
        "id": "z1Y2JtQWG3A6",
        "outputId": "3b289885-5b2a-4d7f-c59c-03017400d25a"
      },
      "source": [
        "print(df_bike.head(5))"
      ],
      "execution_count": 2,
      "outputs": [
        {
          "output_type": "stream",
          "name": "stdout",
          "text": [
            "              datetime  season  holiday  ...  casual  registered  count\n",
            "0  2011-01-01 00:00:00       1        0  ...       3          13     16\n",
            "1  2011-01-01 01:00:00       1        0  ...       8          32     40\n",
            "2  2011-01-01 02:00:00       1        0  ...       5          27     32\n",
            "3  2011-01-01 03:00:00       1        0  ...       3          10     13\n",
            "4  2011-01-01 04:00:00       1        0  ...       0           1      1\n",
            "\n",
            "[5 rows x 12 columns]\n"
          ]
        }
      ]
    },
    {
      "cell_type": "code",
      "metadata": {
        "colab": {
          "base_uri": "https://localhost:8080/"
        },
        "id": "nzZgWGvMHAcS",
        "outputId": "0f5944f4-b2bd-41c5-c6a7-13b48748155b"
      },
      "source": [
        "# temp, atemp, humidity, windspeed\t컬럼 데이터만 저장\n",
        "df_bike_num = df_bike.iloc[:, 5:9]\n",
        "print(df_bike_num.head(5))"
      ],
      "execution_count": 3,
      "outputs": [
        {
          "output_type": "stream",
          "name": "stdout",
          "text": [
            "   temp   atemp  humidity  windspeed\n",
            "0  9.84  14.395        81        0.0\n",
            "1  9.02  13.635        80        0.0\n",
            "2  9.02  13.635        80        0.0\n",
            "3  9.84  14.395        75        0.0\n",
            "4  9.84  14.395        75        0.0\n"
          ]
        }
      ]
    },
    {
      "cell_type": "code",
      "metadata": {
        "colab": {
          "base_uri": "https://localhost:8080/"
        },
        "id": "1hhqv-Z5HItC",
        "outputId": "9b61eb4a-484c-4558-d686-07fa4daf9dbf"
      },
      "source": [
        "# 각 컬럼별 평균, 분산 출력\n",
        "print('Average')\n",
        "print(np.round_(df_bike_num.mean(),3))\n",
        "print('Variance')\n",
        "print(np.round_(df_bike_num.var(),3)) "
      ],
      "execution_count": 4,
      "outputs": [
        {
          "output_type": "stream",
          "name": "stdout",
          "text": [
            "Average\n",
            "temp         20.231\n",
            "atemp        23.655\n",
            "humidity     61.886\n",
            "windspeed    12.799\n",
            "dtype: float64\n",
            "Variance\n",
            "temp          60.709\n",
            "atemp         71.819\n",
            "humidity     370.371\n",
            "windspeed     66.660\n",
            "dtype: float64\n"
          ]
        }
      ]
    },
    {
      "cell_type": "code",
      "metadata": {
        "colab": {
          "base_uri": "https://localhost:8080/"
        },
        "id": "hz6pItj3HL9N",
        "outputId": "89fc1a48-3edf-42e7-87c6-3dfe9bee6b44"
      },
      "source": [
        "# StandardScaler 객체 생성\n",
        "scaler = StandardScaler()\n",
        "\n",
        "# StandardScaler 모델 통해 데이터 분포 분석\n",
        "scaler.fit(df_bike_num)"
      ],
      "execution_count": 5,
      "outputs": [
        {
          "output_type": "execute_result",
          "data": {
            "text/plain": [
              "StandardScaler(copy=True, with_mean=True, with_std=True)"
            ]
          },
          "metadata": {},
          "execution_count": 5
        }
      ]
    },
    {
      "cell_type": "code",
      "metadata": {
        "id": "sHQZgecTHO_c"
      },
      "source": [
        "# 모델 통해서 데이터 스케일링 후 반환\n",
        "result = scaler.transform(df_bike_num)"
      ],
      "execution_count": 6,
      "outputs": []
    },
    {
      "cell_type": "code",
      "metadata": {
        "id": "5_P_to8HHREn"
      },
      "source": [
        "# 스케일된 결과 데이터를 DataFrame 으로 저장\n",
        "scaled_bike = pd.DataFrame(data=result,columns=df_bike_num.columns)"
      ],
      "execution_count": 7,
      "outputs": []
    },
    {
      "cell_type": "code",
      "metadata": {
        "colab": {
          "base_uri": "https://localhost:8080/"
        },
        "id": "yh4VenlqGuHg",
        "outputId": "c6b92aad-dfb2-4c46-dcbc-93ef3ca41553"
      },
      "source": [
        "# 각 컬럼별 평균, 분산 출력\n",
        "print('--------- StandardScaler ---------')\n",
        "print('Average')\n",
        "print(np.round_(scaled_bike.mean(),3))\n",
        "print('Variance')\n",
        "print(np.round_(scaled_bike.var(),3)) \n"
      ],
      "execution_count": 8,
      "outputs": [
        {
          "output_type": "stream",
          "name": "stdout",
          "text": [
            "--------- StandardScaler ---------\n",
            "Average\n",
            "temp         0.0\n",
            "atemp       -0.0\n",
            "humidity    -0.0\n",
            "windspeed   -0.0\n",
            "dtype: float64\n",
            "Variance\n",
            "temp         1.0\n",
            "atemp        1.0\n",
            "humidity     1.0\n",
            "windspeed    1.0\n",
            "dtype: float64\n"
          ]
        }
      ]
    }
  ]
}