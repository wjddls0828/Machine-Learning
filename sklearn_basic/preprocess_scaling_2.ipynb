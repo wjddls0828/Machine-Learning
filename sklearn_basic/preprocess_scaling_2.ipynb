{
  "nbformat": 4,
  "nbformat_minor": 0,
  "metadata": {
    "colab": {
      "name": "preprocess_scaling_2.ipynb",
      "provenance": [],
      "collapsed_sections": []
    },
    "kernelspec": {
      "name": "python3",
      "display_name": "Python 3"
    },
    "language_info": {
      "name": "python"
    }
  },
  "cells": [
    {
      "cell_type": "code",
      "metadata": {
        "id": "mwm0-_UTHihx"
      },
      "source": [
        "# 필요한 라이브러리 로딩\n",
        "import pandas as pd\n",
        "import numpy as np\n",
        "import matplotlib.pyplot as plt\n",
        "\n",
        "# MinMaxScaler 로딩\n",
        "from sklearn.preprocessing import MinMaxScaler\n",
        "\n",
        "# URL 통해서 캐글의 자전거 대여 수요 데이터셋 다운로드\n",
        "url = 'https://codepresso-online-platform-public.s3.ap-northeast-2.amazonaws.com/learning-resourse/python-machine-learning-20210326/bike-demand.csv'\n",
        "df_bike = pd.read_csv(url)"
      ],
      "execution_count": 1,
      "outputs": []
    },
    {
      "cell_type": "code",
      "metadata": {
        "id": "1OG-m1RFHjqg"
      },
      "source": [
        "# temp, atemp, humidity, windspeed\t컬럼 데이터만 저장\n",
        "df_bike_num = df_bike.iloc[:,5:9]"
      ],
      "execution_count": 2,
      "outputs": []
    },
    {
      "cell_type": "code",
      "metadata": {
        "colab": {
          "base_uri": "https://localhost:8080/"
        },
        "id": "U6b0skyJHmg8",
        "outputId": "79ef0ff4-63ba-4610-f637-7e828159aed1"
      },
      "source": [
        "# 각 컬럼별 최대/최소값 출력\n",
        "print('Min Value')\n",
        "print(np.round_(df_bike_num.min(),3))\n",
        "print('Max Value')\n",
        "print(np.round_(df_bike_num.max(),3)) \n"
      ],
      "execution_count": 3,
      "outputs": [
        {
          "output_type": "stream",
          "name": "stdout",
          "text": [
            "Min Value\n",
            "temp         0.82\n",
            "atemp        0.76\n",
            "humidity     0.00\n",
            "windspeed    0.00\n",
            "dtype: float64\n",
            "Max Value\n",
            "temp          41.000\n",
            "atemp         45.455\n",
            "humidity     100.000\n",
            "windspeed     56.997\n",
            "dtype: float64\n"
          ]
        }
      ]
    },
    {
      "cell_type": "code",
      "metadata": {
        "id": "zkRX4S5EHpH2"
      },
      "source": [
        "# MinMaxScaler 객체 생성\n",
        "scaler = MinMaxScaler()\n",
        "\n",
        "# fit 함수 이용하여 데이터 분포 분석 및 스케일링 정보 저장\n",
        "scaler.fit(df_bike_num)\n",
        "\n",
        "# 실제 데이터 스케일링 작업 후 결과 데이터셋 반환\n",
        "result = scaler.transform(df_bike_num)"
      ],
      "execution_count": 4,
      "outputs": []
    },
    {
      "cell_type": "code",
      "metadata": {
        "colab": {
          "base_uri": "https://localhost:8080/"
        },
        "id": "eAkD9UH1HeI1",
        "outputId": "824e29bd-decf-4af8-981f-0c4d5516907d"
      },
      "source": [
        "# 스케일된 결과 데이터를 DataFrame 으로 저장\n",
        "scaled_bike = pd.DataFrame(data = result, columns = df_bike_num.columns)\n",
        "\n",
        "# 각 컬럼별 최대/최소값 출력\n",
        "print('--------- MinMaxScaler ---------')\n",
        "print('Min Value')\n",
        "print(np.round_(scaled_bike.min(),3))\n",
        "print('Max Value')\n",
        "print(np.round_(scaled_bike.max(),3)) \n",
        "\n",
        "\n"
      ],
      "execution_count": 5,
      "outputs": [
        {
          "output_type": "stream",
          "name": "stdout",
          "text": [
            "--------- MinMaxScaler ---------\n",
            "Min Value\n",
            "temp         0.0\n",
            "atemp        0.0\n",
            "humidity     0.0\n",
            "windspeed    0.0\n",
            "dtype: float64\n",
            "Max Value\n",
            "temp         1.0\n",
            "atemp        1.0\n",
            "humidity     1.0\n",
            "windspeed    1.0\n",
            "dtype: float64\n"
          ]
        }
      ]
    },
    {
      "cell_type": "code",
      "metadata": {
        "colab": {
          "base_uri": "https://localhost:8080/",
          "height": 374
        },
        "id": "MNqErd3PHsrm",
        "outputId": "858b4ecd-aaab-48df-9b76-8478ea6855e9"
      },
      "source": [
        "# 박스플롯(boxplot) 으로 시각화\n",
        "plt.figure(figsize=(10,6))\n",
        "scaled_bike.boxplot(column = ['temp', 'atemp', 'humidity', 'windspeed'])\n",
        "plt.show()"
      ],
      "execution_count": 6,
      "outputs": [
        {
          "output_type": "display_data",
          "data": {
            "image/png": "[encoded data removed]",
            "text/plain": [
              "<Figure size 720x432 with 1 Axes>"
            ]
          },
          "metadata": {
            "needs_background": "light"
          }
        }
      ]
    }
  ]
}